{
 "cells": [
  {
   "cell_type": "markdown",
   "metadata": {},
   "source": [
    "## Measuring $b^{\\dagger}b$"
   ]
  },
  {
   "cell_type": "code",
   "execution_count": 1,
   "metadata": {},
   "outputs": [
    {
     "name": "stdout",
     "output_type": "stream",
     "text": [
      "bd*b\n"
     ]
    }
   ],
   "source": [
    "import sys\n",
    "sys.path.append('..')\n",
    "from src.sympy_utilities import *#\n",
    "\n",
    "import sympy as sp\n",
    "import pickle\n",
    "\n",
    "\n",
    "ho_ham = pickle.load(open(\"DATA/ho_hamiltonian.p\", \"rb\"))\n",
    "\n",
    "\n",
    "observable = bdag*b\n",
    "print(observable)\n",
    "\n",
    "fq = max_sympy_exponent(ho_ham)\n",
    "\n",
    "xf = sp.Symbol('X^'+str(fq),commutative=False)\n",
    "yf = sp.Symbol('Y^'+str(fq),commutative=False)\n",
    "zf = sp.Symbol('Z^'+str(fq),commutative=False)\n",
    "idf = sp.Symbol('I^'+str(fq),commutative=False)\n",
    "\n",
    "nq = fq+1\n",
    "b_ps = 0.5*xf+0.5*complex(0,1)*yf\n",
    "bdag_ps = 0.5*xf-0.5*complex(0,1)*yf\n",
    "commutation_lhs = xf*yf-yf*xf\n",
    "commutation_rhs = 2*complex(0,1)*zf\n"
   ]
  },
  {
   "cell_type": "code",
   "execution_count": 2,
   "metadata": {},
   "outputs": [
    {
     "data": {
      "text/latex": [
       "$\\displaystyle 0.5 I^{3} + 0.25 i X^{3} Y^{3} - 0.25 i Y^{3} X^{3}$"
      ],
      "text/plain": [
       "0.5*I^3 + 0.25*I*X^3*Y^3 - 0.25*I*Y^3*X^3"
      ]
     },
     "execution_count": 2,
     "metadata": {},
     "output_type": "execute_result"
    }
   ],
   "source": [
    "obs_ps = sp.simplify(observable.subs({b: b_ps, bdag: bdag_ps})).subs(commutation_lhs, commutation_rhs)\n",
    "obs_ps = sp.expand(obs_ps)\n",
    "obs_ps = sp.simplify(obs_ps.subs({xf*xf: idf, yf*yf: idf}))\n",
    "\n",
    "obs_ps"
   ]
  },
  {
   "cell_type": "markdown",
   "metadata": {},
   "source": [
    "So this tells us that \n",
    "\\begin{equation}\n",
    "    \\langle b^{\\dagger} b \\rangle = \\langle 0.5 I^3 \\rangle + \\langle 0.25iX^3Y^3 \\rangle - \\langle 0.25 i Y^3 X^3 \\rangle.\n",
    "\\end{equation}\n",
    "By substituting in the pauli matrices this is just \n",
    "\\begin{equation}\n",
    "    \\langle b^{\\dagger} b \\rangle = \\begin{pmatrix} 0 & 0 \\\\ 0 & 1 \\end{pmatrix}\n",
    "\\end{equation}\n",
    "\n",
    "which is not unitary?!?!  But I guess observables only need to be Hermitian which this is with eigenvalues 0 and 1.  And three quantum circuits measuring each of the three expectectation values will make three unitary circuits.  "
   ]
  },
  {
   "cell_type": "code",
   "execution_count": 3,
   "metadata": {},
   "outputs": [
    {
     "data": {
      "text/latex": [
       "$\\displaystyle 0.5 I^{0} I^{1} I^{2} I^{3} + 0.25 i I^{0} I^{1} I^{2} X^{3} Y^{3} - 0.25 i I^{0} I^{1} I^{2} Y^{3} X^{3}$"
      ],
      "text/plain": [
       "0.5*I^0*I^1*I^2*I^3 + 0.25*I*I^0*I^1*I^2*X^3*Y^3 - 0.25*I*I^0*I^1*I^2*Y^3*X^3"
      ]
     },
     "execution_count": 3,
     "metadata": {},
     "output_type": "execute_result"
    }
   ],
   "source": [
    "from src.sympy_utilities import identity_qubit_padded_H\n",
    "\n",
    "identity_qubit_padded_H(obs_ps)"
   ]
  },
  {
   "cell_type": "code",
   "execution_count": 4,
   "metadata": {},
   "outputs": [
    {
     "name": "stdout",
     "output_type": "stream",
     "text": [
      "0.5*I^0*I^1*I^2*I^3 + 0.25*I*I^0*I^1*I^2*X^3*Y^3 - 0.25*I*I^0*I^1*I^2*Y^3*X^3\n"
     ]
    }
   ],
   "source": [
    "from qiskit.aqua.operators import I,X,Y,Z \n",
    "\n",
    "str_to_op = {'I': I, 'X': X, 'Y': Y, 'Z': Z}\n",
    "        \n",
    "tst = str(identity_qubit_padded_H(obs_ps))\n",
    "print(tst)"
   ]
  },
  {
   "cell_type": "code",
   "execution_count": 5,
   "metadata": {},
   "outputs": [
    {
     "name": "stdout",
     "output_type": "stream",
     "text": [
      "['0.5*I^0*I^1*I^2*I^3 ', '+', ' 0.25*I*I^0*I^1*I^2*X^3*Y^3 ', '-', ' 0.25*I*I^0*I^1*I^2*Y^3*X^3']\n"
     ]
    },
    {
     "ename": "ValueError",
     "evalue": "could not convert string to float: '+'",
     "output_type": "error",
     "traceback": [
      "\u001b[0;31m---------------------------------------------------------------------------\u001b[0m",
      "\u001b[0;31mValueError\u001b[0m                                Traceback (most recent call last)",
      "\u001b[0;32m<ipython-input-5-284a5d5950f0>\u001b[0m in \u001b[0;36m<module>\u001b[0;34m\u001b[0m\n\u001b[1;32m     13\u001b[0m             \u001b[0mcoef\u001b[0m\u001b[0;34m*=\u001b[0m\u001b[0;36m1.0j\u001b[0m\u001b[0;34m\u001b[0m\u001b[0;34m\u001b[0m\u001b[0m\n\u001b[1;32m     14\u001b[0m         \u001b[0;32melse\u001b[0m\u001b[0;34m:\u001b[0m\u001b[0;34m\u001b[0m\u001b[0;34m\u001b[0m\u001b[0m\n\u001b[0;32m---> 15\u001b[0;31m             \u001b[0mcoef\u001b[0m\u001b[0;34m*=\u001b[0m\u001b[0mfloat\u001b[0m\u001b[0;34m(\u001b[0m\u001b[0mt\u001b[0m\u001b[0;34m)\u001b[0m\u001b[0;34m\u001b[0m\u001b[0;34m\u001b[0m\u001b[0m\n\u001b[0m\u001b[1;32m     16\u001b[0m     \u001b[0;32melse\u001b[0m\u001b[0;34m:\u001b[0m\u001b[0;34m\u001b[0m\u001b[0;34m\u001b[0m\u001b[0m\n\u001b[1;32m     17\u001b[0m         \u001b[0mop\u001b[0m \u001b[0;34m=\u001b[0m \u001b[0mt\u001b[0m\u001b[0;34m.\u001b[0m\u001b[0msplit\u001b[0m\u001b[0;34m(\u001b[0m\u001b[0;34m'^'\u001b[0m\u001b[0;34m)\u001b[0m\u001b[0;34m\u001b[0m\u001b[0;34m\u001b[0m\u001b[0m\n",
      "\u001b[0;31mValueError\u001b[0m: could not convert string to float: '+'"
     ]
    }
   ],
   "source": [
    "import re\n",
    "\n",
    "res = re.split('(\\+|\\-)',tst)\n",
    "print(res)\n",
    "term_lst = res[1].split('*')\n",
    "\n",
    "coef = 1.\n",
    "ops = [I for i in range(nq)]\n",
    "\n",
    "for t in term_lst:\n",
    "    if(len(t.split('^'))==1):\n",
    "        if(t=='I'):\n",
    "            coef*=1.0j\n",
    "        else:\n",
    "            coef*=float(t)\n",
    "    else:\n",
    "        op = t.split('^')\n",
    "     #   print(op)\n",
    "        ops[int(op[1])] = ops[int(op[1])] @ str_to_op[op[0]]\n",
    "    #print(ops[3])\n",
    "\n",
    "res = ops[0]\n",
    "for i in range(1,len(ops)):\n",
    "    res = res^ops[i]\n",
    "res = coef*res\n",
    "\n",
    "print(res)"
   ]
  },
  {
   "cell_type": "code",
   "execution_count": 34,
   "metadata": {},
   "outputs": [],
   "source": [
    "def observable_term_to_qiskit(expr, nq):\n",
    "    print('expr={}'.format(expr))\n",
    "    terms = expr.split('*')\n",
    "    coef = 1.\n",
    "    ops = [I for i in range(nq)]\n",
    "\n",
    "    for t in terms:\n",
    "        if(len(t.split('^'))==1):\n",
    "            if(t=='I'):\n",
    "                coef*=1.0j\n",
    "            else:\n",
    "                coef*=float(t)\n",
    "        else:\n",
    "            op = t.split('^')\n",
    "     #   print(op)\n",
    "            ops[int(op[1])] = ops[int(op[1])] @ str_to_op[op[0]]\n",
    "    #print(ops[3])\n",
    "\n",
    "    res = ops[0]\n",
    "    for i in range(1,len(ops)):\n",
    "        res = res^ops[i]\n",
    "    \n",
    "    res = coef*res\n",
    "    return res"
   ]
  },
  {
   "cell_type": "code",
   "execution_count": 35,
   "metadata": {},
   "outputs": [
    {
     "name": "stdout",
     "output_type": "stream",
     "text": [
      "expr=0.5*I^0*I^1*I^2*I^3 \n",
      "0.5 * IIII\n",
      "expr=0.5*I^0*I^1*I^2*I^3 \n",
      "expr= 0.25*I*I^0*I^1*I^2*X^3*Y^3 \n",
      "(-0.25+0j) * IIIZ\n",
      "expr= 0.25*I*I^0*I^1*I^2*X^3*Y^3 \n",
      "expr= 0.25*I*I^0*I^1*I^2*Y^3*X^3\n",
      "(0.25+0j) * IIIZ\n",
      "expr= 0.25*I*I^0*I^1*I^2*Y^3*X^3\n",
      "SummedOp([\n",
      "  0.5 * IIII,\n",
      "  (-0.25+0j) * IIIZ,\n",
      "  (-0.25+0j) * IIIZ\n",
      "])\n",
      "OperatorMeasurement(SummedOp([\n",
      "  0.5 * IIII,\n",
      "  (-0.25-0j) * IIIZ,\n",
      "  (-0.25-0j) * IIIZ\n",
      "]))\n"
     ]
    }
   ],
   "source": [
    "from qiskit.aqua.operators import StateFn\n",
    "\n",
    "tstSplit=re.split('(\\+|\\-)',tst)\n",
    "circuit = 0\n",
    "sign=1\n",
    "for t in tstSplit:\n",
    "    if(t=='+'):\n",
    "        continue\n",
    "    elif(t=='-'):\n",
    "        sign*=-1\n",
    "        continue\n",
    "    print(observable_term_to_qiskit(t,nq))\n",
    "    circuit+=sign*observable_term_to_qiskit(t,nq)\n",
    "print(circuit)\n",
    "observableCircuit = StateFn(circuit).adjoint()\n",
    "print(observableCircuit)"
   ]
  },
  {
   "cell_type": "code",
   "execution_count": 9,
   "metadata": {},
   "outputs": [
    {
     "name": "stdout",
     "output_type": "stream",
     "text": [
      "global phase: -4\n",
      "      ┌───────┐   ┌───────┐  \n",
      "q_0: ─┤ RZ(1) ├───┤ RZ(1) ├──\n",
      "      ├───────┴┐  ├───────┴┐ \n",
      "q_1: ─┤ RZ(-2) ├──┤ RZ(-2) ├─\n",
      "      ├────────┤  ├────────┤ \n",
      "q_2: ─┤ RZ(-1) ├──┤ RZ(-1) ├─\n",
      "     ┌┴────────┴┐┌┴────────┴┐\n",
      "q_3: ┤ RZ(-0.5) ├┤ RZ(-0.5) ├\n",
      "     └──────────┘└──────────┘\n"
     ]
    }
   ],
   "source": [
    "import pickle\n",
    "\n",
    "ho_ham = pickle.load(open(\"DATA/ho_hamiltonian.p\", \"rb\"))\n",
    "aho_ham = pickle.load(open(\"DATA/aho_hamiltonian.p\", \"rb\"))\n",
    "\n",
    "import sys\n",
    "sys.path.append('..')\n",
    "from src.qiskit_utilities import *\n",
    "\n",
    "trotter_step = pauli_string_to_trotter_step(ho_ham,1)\n",
    "\n",
    "print(trotter_step)"
   ]
  },
  {
   "cell_type": "code",
   "execution_count": 10,
   "metadata": {},
   "outputs": [
    {
     "name": "stderr",
     "output_type": "stream",
     "text": [
      "/home/chrisculver/miniconda3/envs/QuantumComputing/lib/python3.9/site-packages/qiskit/providers/ibmq/ibmqfactory.py:192: UserWarning: Timestamps in IBMQ backend properties, jobs, and job results are all now in local time instead of UTC.\n",
      "  warnings.warn('Timestamps in IBMQ backend properties, jobs, and job results '\n"
     ]
    }
   ],
   "source": [
    "from qiskit import QuantumCircuit, transpile\n",
    "from qiskit import (\n",
    "    execute,\n",
    "    Aer)\n",
    "from qiskit.providers.aer.noise import NoiseModel\n",
    "from qiskit import IBMQ\n",
    "from qiskit.visualization import plot_histogram\n",
    "\n",
    "provider = IBMQ.load_account()"
   ]
  },
  {
   "cell_type": "code",
   "execution_count": 37,
   "metadata": {},
   "outputs": [
    {
     "name": "stdout",
     "output_type": "stream",
     "text": [
      "expr=0.5*I^0*I^1*I^2*I^3\n",
      "expr=0.5*I^0*I^1*I^2*Z^3\n",
      "ComposedOp([\n",
      "  OperatorMeasurement(SummedOp([\n",
      "    0.5 * IIII,\n",
      "    -0.5 * IIIZ\n",
      "  ])),\n",
      "  CircuitStateFn(\n",
      "  global phase: -4\n",
      "        ┌───────┐   ┌───────┐  \n",
      "  q_0: ─┤ RZ(1) ├───┤ RZ(1) ├──\n",
      "        ├───────┴┐  ├───────┴┐ \n",
      "  q_1: ─┤ RZ(-2) ├──┤ RZ(-2) ├─\n",
      "        ├────────┤  ├────────┤ \n",
      "  q_2: ─┤ RZ(-1) ├──┤ RZ(-1) ├─\n",
      "       ┌┴────────┴┐┌┴────────┴┐\n",
      "  q_3: ┤ RZ(-0.5) ├┤ RZ(-0.5) ├\n",
      "       └──────────┘└──────────┘\n",
      "  )\n",
      "])\n"
     ]
    }
   ],
   "source": [
    "observableCircuit = StateFn(observable_term_to_qiskit('0.5*I^0*I^1*I^2*I^3',4)-observable_term_to_qiskit('0.5*I^0*I^1*I^2*Z^3',4)).adjoint()\n",
    "\n",
    "fullCircuit = observableCircuit @ trotter_step @ Zero\n",
    "print(fullCircuit)"
   ]
  },
  {
   "cell_type": "code",
   "execution_count": 38,
   "metadata": {},
   "outputs": [
    {
     "data": {
      "text/plain": [
       "0j"
      ]
     },
     "execution_count": 38,
     "metadata": {},
     "output_type": "execute_result"
    }
   ],
   "source": [
    "fullCircuit.eval()"
   ]
  },
  {
   "cell_type": "code",
   "execution_count": 39,
   "metadata": {},
   "outputs": [
    {
     "ename": "AquaError",
     "evalue": "'Conversion to_circuit supported only for operators, where a single underlying circuit can be produced.'",
     "output_type": "error",
     "traceback": [
      "\u001b[0;31m---------------------------------------------------------------------------\u001b[0m",
      "\u001b[0;31mAquaError\u001b[0m                                 Traceback (most recent call last)",
      "\u001b[0;32m<ipython-input-39-c5230cc24d9a>\u001b[0m in \u001b[0;36m<module>\u001b[0;34m\u001b[0m\n\u001b[0;32m----> 1\u001b[0;31m \u001b[0mfullCircuit\u001b[0m\u001b[0;34m.\u001b[0m\u001b[0mto_circuit\u001b[0m\u001b[0;34m(\u001b[0m\u001b[0;34m)\u001b[0m\u001b[0;34m\u001b[0m\u001b[0;34m\u001b[0m\u001b[0m\n\u001b[0m",
      "\u001b[0;32m~/miniconda3/envs/QuantumComputing/lib/python3.9/site-packages/qiskit/aqua/operators/list_ops/composed_op.py\u001b[0m in \u001b[0;36mto_circuit\u001b[0;34m(self)\u001b[0m\n\u001b[1;32m     77\u001b[0m         \u001b[0;32mif\u001b[0m \u001b[0misinstance\u001b[0m\u001b[0;34m(\u001b[0m\u001b[0mcircuit_op\u001b[0m\u001b[0;34m,\u001b[0m \u001b[0;34m(\u001b[0m\u001b[0mPrimitiveOp\u001b[0m\u001b[0;34m,\u001b[0m \u001b[0mCircuitStateFn\u001b[0m\u001b[0;34m)\u001b[0m\u001b[0;34m)\u001b[0m\u001b[0;34m:\u001b[0m\u001b[0;34m\u001b[0m\u001b[0;34m\u001b[0m\u001b[0m\n\u001b[1;32m     78\u001b[0m             \u001b[0;32mreturn\u001b[0m \u001b[0mcircuit_op\u001b[0m\u001b[0;34m.\u001b[0m\u001b[0mto_circuit\u001b[0m\u001b[0;34m(\u001b[0m\u001b[0;34m)\u001b[0m\u001b[0;34m\u001b[0m\u001b[0;34m\u001b[0m\u001b[0m\n\u001b[0;32m---> 79\u001b[0;31m         raise AquaError('Conversion to_circuit supported only for operators, where a single '\n\u001b[0m\u001b[1;32m     80\u001b[0m                         'underlying circuit can be produced.')\n\u001b[1;32m     81\u001b[0m \u001b[0;34m\u001b[0m\u001b[0m\n",
      "\u001b[0;31mAquaError\u001b[0m: 'Conversion to_circuit supported only for operators, where a single underlying circuit can be produced.'"
     ]
    }
   ],
   "source": [
    "fullCircuit.to_circuit()"
   ]
  },
  {
   "cell_type": "code",
   "execution_count": 19,
   "metadata": {},
   "outputs": [],
   "source": [
    "from qiskit.aqua.operators import CircuitSampler\n",
    "from qiskit import BasicAer\n",
    "import numpy as np"
   ]
  },
  {
   "cell_type": "code",
   "execution_count": 20,
   "metadata": {},
   "outputs": [],
   "source": [
    "sampler = CircuitSampler(backend=BasicAer.get_backend('qasm_simulator'))\n",
    "\n",
    "sampled_circuit = sampler.convert(fullCircuit)"
   ]
  },
  {
   "cell_type": "code",
   "execution_count": 21,
   "metadata": {},
   "outputs": [],
   "source": [
    "sampled_circuit_results = sampled_circuit.eval()"
   ]
  },
  {
   "cell_type": "code",
   "execution_count": 22,
   "metadata": {},
   "outputs": [
    {
     "name": "stdout",
     "output_type": "stream",
     "text": [
      "Sampled results:\n",
      "VectorStateFn(Statevector([0.25+0.j, 0.  +0.j, 0.  +0.j, 0.  +0.j, 0.  +0.j, 0.  +0.j,\n",
      "             0.  +0.j, 0.  +0.j, 0.  +0.j, 0.  +0.j, 0.  +0.j, 0.  +0.j,\n",
      "             0.  +0.j, 0.  +0.j, 0.  +0.j, 0.  +0.j, 0.  +0.j, 0.  +0.j,\n",
      "             0.  +0.j, 0.  +0.j, 0.  +0.j, 0.  +0.j, 0.  +0.j, 0.  +0.j,\n",
      "             0.  +0.j, 0.  +0.j, 0.  +0.j, 0.  +0.j, 0.  +0.j, 0.  +0.j,\n",
      "             0.  +0.j, 0.  +0.j, 0.  +0.j, 0.  +0.j, 0.  +0.j, 0.  +0.j,\n",
      "             0.  +0.j, 0.  +0.j, 0.  +0.j, 0.  +0.j, 0.  +0.j, 0.  +0.j,\n",
      "             0.  +0.j, 0.  +0.j, 0.  +0.j, 0.  +0.j, 0.  +0.j, 0.  +0.j,\n",
      "             0.  +0.j, 0.  +0.j, 0.  +0.j, 0.  +0.j, 0.  +0.j, 0.  +0.j,\n",
      "             0.  +0.j, 0.  +0.j, 0.  +0.j, 0.  +0.j, 0.  +0.j, 0.  +0.j,\n",
      "             0.  +0.j, 0.  +0.j, 0.  +0.j, 0.  +0.j, 0.  +0.j, 0.  +0.j,\n",
      "             0.  +0.j, 0.  +0.j, 0.  +0.j, 0.  +0.j, 0.  +0.j, 0.  +0.j,\n",
      "             0.  +0.j, 0.  +0.j, 0.  +0.j, 0.  +0.j, 0.  +0.j, 0.  +0.j,\n",
      "             0.  +0.j, 0.  +0.j, 0.  +0.j, 0.  +0.j, 0.  +0.j, 0.  +0.j,\n",
      "             0.  +0.j, 0.  +0.j, 0.  +0.j, 0.  +0.j, 0.  +0.j, 0.  +0.j,\n",
      "             0.  +0.j, 0.  +0.j, 0.  +0.j, 0.  +0.j, 0.  +0.j, 0.  +0.j,\n",
      "             0.  +0.j, 0.  +0.j, 0.  +0.j, 0.  +0.j, 0.  +0.j, 0.  +0.j,\n",
      "             0.  +0.j, 0.  +0.j, 0.  +0.j, 0.  +0.j, 0.  +0.j, 0.  +0.j,\n",
      "             0.  +0.j, 0.  +0.j, 0.  +0.j, 0.  +0.j, 0.  +0.j, 0.  +0.j,\n",
      "             0.  +0.j, 0.  +0.j, 0.  +0.j, 0.  +0.j, 0.  +0.j, 0.  +0.j,\n",
      "             0.  +0.j, 0.  +0.j, 0.  +0.j, 0.  +0.j, 0.  +0.j, 0.  +0.j,\n",
      "             0.  +0.j, 0.  +0.j],\n",
      "            dims=(2, 2, 2, 2, 2, 2, 2)))\n"
     ]
    }
   ],
   "source": [
    "print('Sampled results:\\n{}'.format(np.real(sampled_circuit_results)))"
   ]
  },
  {
   "cell_type": "code",
   "execution_count": 23,
   "metadata": {},
   "outputs": [
    {
     "name": "stdout",
     "output_type": "stream",
     "text": [
      "DictStateFn({'0000000': 0.25})\n"
     ]
    }
   ],
   "source": [
    "print(sampled_circuit)"
   ]
  },
  {
   "cell_type": "code",
   "execution_count": null,
   "metadata": {},
   "outputs": [],
   "source": []
  }
 ],
 "metadata": {
  "kernelspec": {
   "display_name": "Python 3",
   "language": "python",
   "name": "python3"
  },
  "language_info": {
   "codemirror_mode": {
    "name": "ipython",
    "version": 3
   },
   "file_extension": ".py",
   "mimetype": "text/x-python",
   "name": "python",
   "nbconvert_exporter": "python",
   "pygments_lexer": "ipython3",
   "version": "3.9.1"
  }
 },
 "nbformat": 4,
 "nbformat_minor": 4
}
