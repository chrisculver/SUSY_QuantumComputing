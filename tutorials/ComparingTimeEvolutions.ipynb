{
 "cells": [
  {
   "cell_type": "code",
   "execution_count": 42,
   "metadata": {},
   "outputs": [],
   "source": [
    "import pickle\n",
    "import math\n",
    "import sys\n",
    "sys.path.append('..')\n",
    "from src.sympy_utilities import *\n",
    "from src.BinaryEncodings import *\n",
    "from src.qiskit_utilities import *\n",
    "\n",
    "from qiskit import QuantumCircuit, transpile\n",
    "\n",
    "from scipy.linalg import expm\n",
    "import matplotlib.pyplot as plt\n",
    "\n",
    "h_b_HO = 0.5*(p*p + m*m*q*q)\n",
    "h_f_HO = 0.5*(m*b*bdag - m*bdag*b)\n",
    "cutoff=2**3\n",
    "hamHO = Hamiltonian(h_b_HO, h_f_HO, {m:1, g:1},\n",
    "                  cutoff, standard_encode)"
   ]
  },
  {
   "cell_type": "code",
   "execution_count": 43,
   "metadata": {},
   "outputs": [
    {
     "name": "stdout",
     "output_type": "stream",
     "text": [
      "1\n"
     ]
    }
   ],
   "source": [
    "eigSys = np.linalg.eig(hamHO.hamMatrix)\n",
    "eVals = eigSys[0]\n",
    "minIdx = np.where(eVals == np.min(eVals))[0][0] # just take the first ground state\n",
    "print(minIdx)"
   ]
  },
  {
   "cell_type": "code",
   "execution_count": 44,
   "metadata": {},
   "outputs": [
    {
     "name": "stdout",
     "output_type": "stream",
     "text": [
      "[0.+0.j 1.+0.j 0.+0.j 0.+0.j 0.+0.j 0.+0.j 0.+0.j 0.+0.j 0.+0.j 0.+0.j\n",
      " 0.+0.j 0.+0.j 0.+0.j 0.+0.j 0.+0.j 0.+0.j]\n"
     ]
    }
   ],
   "source": [
    "print(eigSys[1][minIdx])"
   ]
  },
  {
   "cell_type": "code",
   "execution_count": 45,
   "metadata": {},
   "outputs": [
    {
     "name": "stdout",
     "output_type": "stream",
     "text": [
      "(1+0j)\n",
      "(1+4.440892098500626e-16j)\n",
      "(1+8.881784197001252e-16j)\n",
      "(1+1.3322676295501878e-15j)\n",
      "(1+1.7763568394002505e-15j)\n",
      "(1+2.220446049250313e-15j)\n",
      "(1+2.6645352591003757e-15j)\n",
      "(1+3.1086244689504383e-15j)\n",
      "(1+3.552713678800501e-15j)\n",
      "(1+3.9968028886505635e-15j)\n"
     ]
    }
   ],
   "source": [
    "state=eigSys[1][minIdx]\n",
    "\n",
    "for t in range(0,10):\n",
    "    print(np.vdot(state,np.matmul(expm(-1j*hamHO.hamMatrix*t),state)))\n"
   ]
  },
  {
   "cell_type": "code",
   "execution_count": 46,
   "metadata": {},
   "outputs": [
    {
     "name": "stdout",
     "output_type": "stream",
     "text": [
      "(-0.4161468365471422-0.9092974268256818j)\n",
      "(1+4.440892098500626e-16j)\n",
      "(0.960170286650366+0.27941549819892586j)\n",
      "(-0.6536436208636119+0.7568024953079282j)\n",
      "(-0.6536436208636119+0.7568024953079282j)\n",
      "(-0.4161468365471424-0.9092974268256817j)\n",
      "(-0.14550003380861354-0.9893582466233818j)\n",
      "(0.960170286650366+0.27941549819892586j)\n",
      "(-0.9899924966004454-0.1411200080598672j)\n",
      "(0.5403023058681399-0.8414709848078964j)\n",
      "(0.7539022543433046-0.6569865987187891j)\n",
      "(0.28366218546322625+0.9589242746631385j)\n",
      "(0.28366218546322625+0.9589242746631385j)\n",
      "(-0.9899924966004454-0.1411200080598672j)\n",
      "(-0.9111302618846769-0.4121184852417566j)\n",
      "(0.7539022543433046-0.6569865987187891j)\n"
     ]
    }
   ],
   "source": [
    "for state in eigSys[1]:\n",
    "    print( np.vdot(state,np.matmul(expm(-1j*hamHO.hamMatrix*1),state)) )"
   ]
  },
  {
   "cell_type": "code",
   "execution_count": 47,
   "metadata": {},
   "outputs": [
    {
     "data": {
      "text/plain": [
       "<qiskit.circuit.instructionset.InstructionSet at 0x7f174202bd00>"
      ]
     },
     "execution_count": 47,
     "metadata": {},
     "output_type": "execute_result"
    }
   ],
   "source": [
    "trotterStep = pauli_string_to_trotter_step(hamHO.pauliStrings,1)\n",
    "nq=int(math.ceil(math.log(cutoff,2)))+1\n",
    "qc = QuantumCircuit(nq,nq)\n",
    "qc.append(trotterStep, [i for i in range(nq)])"
   ]
  },
  {
   "cell_type": "code",
   "execution_count": 48,
   "metadata": {},
   "outputs": [
    {
     "name": "stdout",
     "output_type": "stream",
     "text": [
      "{'0000 0000': 1000}\n",
      "{'0000 0000': 1000}\n",
      "{'0000 0000': 1000}\n",
      "{'0000 0000': 1000}\n",
      "{'0000 0000': 1000}\n",
      "{'0000 0000': 1000}\n",
      "{'0000 0000': 1000}\n",
      "{'0000 0000': 1000}\n",
      "{'0000 0000': 1000}\n",
      "{'0000 0000': 1000}\n"
     ]
    }
   ],
   "source": [
    "from qiskit import (execute, Aer)\n",
    "from qiskit import ClassicalRegister\n",
    "from qiskit.visualization import plot_histogram\n",
    "\n",
    "for t in range(0,10):\n",
    "    trotterStep = pauli_string_to_trotter_step(hamHO.pauliStrings,t)\n",
    "    nq=int(math.ceil(math.log(cutoff,2)))+1\n",
    "    qc = QuantumCircuit(nq,nq)\n",
    "    qc.append(trotterStep, [i for i in range(nq)])\n",
    "    simulator = Aer.get_backend('qasm_simulator')\n",
    "    cr = ClassicalRegister(nq,'nc')\n",
    "    qc.add_register(cr)\n",
    "    qc.measure([i for i in range(nq)],[i for i in range(nq)])\n",
    "    job = execute(qc, simulator, shots=1000)\n",
    "    result = job.result()\n",
    "    counts = result.get_counts(qc)\n",
    "    print(counts)"
   ]
  },
  {
   "cell_type": "code",
   "execution_count": null,
   "metadata": {},
   "outputs": [],
   "source": []
  }
 ],
 "metadata": {
  "kernelspec": {
   "display_name": "Python 3",
   "language": "python",
   "name": "python3"
  },
  "language_info": {
   "codemirror_mode": {
    "name": "ipython",
    "version": 3
   },
   "file_extension": ".py",
   "mimetype": "text/x-python",
   "name": "python",
   "nbconvert_exporter": "python",
   "pygments_lexer": "ipython3",
   "version": "3.9.1"
  }
 },
 "nbformat": 4,
 "nbformat_minor": 4
}
