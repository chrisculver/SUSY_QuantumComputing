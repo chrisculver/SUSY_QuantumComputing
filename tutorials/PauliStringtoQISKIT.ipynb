{
 "cells": [
  {
   "cell_type": "code",
   "execution_count": 1,
   "metadata": {},
   "outputs": [],
   "source": [
    "import sys\n",
    "sys.path.append('..')\n",
    "import src.HamiltonianTerms as ham\n",
    "from src.MatrixToPauliString import *\n",
    "from src.BinaryEncodings import *\n",
    "import numpy as np\n",
    "import sympy as sp\n",
    "import math\n",
    "\n",
    "\n",
    "\n",
    "dim = 16\n",
    "nqubits=4\n",
    "hmat = ham.number_op(dim) + 0.5*np.identity(dim)\n",
    "\n",
    "mtoqc = MatrixToPauliString(np.asarray(hmat))\n",
    "mtoqc.convert(standard_encode)"
   ]
  },
  {
   "cell_type": "code",
   "execution_count": 3,
   "metadata": {},
   "outputs": [
    {
     "name": "stdout",
     "output_type": "stream",
     "text": [
      "8.0*I^0*I^1*I^2*I^3 - 4.0*I^0*I^1*I^2*Z^3 - 2.0*I^0*I^1*I^3*Z^2 - 1.0*I^0*I^2*I^3*Z^1 - 0.5*I^1*I^2*I^3*Z^0\n"
     ]
    }
   ],
   "source": [
    "print(sp.expand(mtoqc.pauli_strings))"
   ]
  },
  {
   "cell_type": "code",
   "execution_count": 4,
   "metadata": {},
   "outputs": [
    {
     "name": "stdout",
     "output_type": "stream",
     "text": [
      "defaultdict(<class 'complex'>, {'IIII': (8+0j), 'ZIII': (-0.5+0j), 'IZII': (-1+0j), 'IIZI': (-2+0j), 'IIIZ': (-4+0j)})\n"
     ]
    }
   ],
   "source": [
    "print(mtoqc.pauli_strings_as_list())"
   ]
  },
  {
   "cell_type": "code",
   "execution_count": 5,
   "metadata": {},
   "outputs": [],
   "source": [
    "from qiskit.aqua.operators import I,X,Y,Z,Zero,PauliTrotterEvolution\n",
    "from qiskit.circuit import Parameter\n",
    "\n",
    "char_to_op={'I': I, 'X': X, 'Y': Y, 'Z': Z}"
   ]
  },
  {
   "cell_type": "code",
   "execution_count": 6,
   "metadata": {},
   "outputs": [],
   "source": [
    "expr = 0\n",
    "for pstring, coef in mtoqc.pauli_strings_as_list().items():\n",
    "    term = char_to_op[pstring[0]]\n",
    "    for char in pstring[1:]:\n",
    "        term = term^char_to_op[char]\n",
    "    expr += coef.real*term"
   ]
  },
  {
   "cell_type": "code",
   "execution_count": 7,
   "metadata": {},
   "outputs": [
    {
     "name": "stdout",
     "output_type": "stream",
     "text": [
      "e^(-i*1.0*t * SummedOp([\n",
      "  16.0 * IIII,\n",
      "  -1.0 * ZIII,\n",
      "  -2.0 * IZII,\n",
      "  -4.0 * IIZI,\n",
      "  -8.0 * IIIZ\n",
      "]))\n"
     ]
    }
   ],
   "source": [
    "evo_time = Parameter('t')\n",
    "evolution_op = (evo_time*expr).exp_i()\n",
    "print(evolution_op)"
   ]
  },
  {
   "cell_type": "code",
   "execution_count": 8,
   "metadata": {},
   "outputs": [
    {
     "name": "stdout",
     "output_type": "stream",
     "text": [
      "ComposedOp([\n",
      "  e^(-i*1.0*t * SummedOp([\n",
      "    16.0 * IIII,\n",
      "    -1.0 * ZIII,\n",
      "    -2.0 * IZII,\n",
      "    -4.0 * IIZI,\n",
      "    -8.0 * IIIZ\n",
      "  ])),\n",
      "  DictStateFn({'0000': 1})\n",
      "])\n"
     ]
    }
   ],
   "source": [
    "print(evolution_op @ Zero)"
   ]
  },
  {
   "cell_type": "code",
   "execution_count": 9,
   "metadata": {},
   "outputs": [],
   "source": [
    "fixed_time = evolution_op.bind_parameters({evo_time: 1})"
   ]
  },
  {
   "cell_type": "code",
   "execution_count": 10,
   "metadata": {},
   "outputs": [
    {
     "name": "stdout",
     "output_type": "stream",
     "text": [
      "ComposedOp([\n",
      "  e^(-i*SummedOp([\n",
      "    16.0 * IIII,\n",
      "    -1.0 * ZIII,\n",
      "    -2.0 * IZII,\n",
      "    -4.0 * IIZI,\n",
      "    -8.0 * IIIZ\n",
      "  ])),\n",
      "  DictStateFn({'0000': 1})\n",
      "])\n"
     ]
    }
   ],
   "source": [
    "print(fixed_time @ Zero)"
   ]
  },
  {
   "cell_type": "code",
   "execution_count": 15,
   "metadata": {},
   "outputs": [
    {
     "name": "stdout",
     "output_type": "stream",
     "text": [
      "global phase: -3.4336\n",
      "     ┌────────┐┌────────┐\n",
      "q_0: ┤ RZ(-8) ├┤ RZ(-8) ├\n",
      "     ├────────┤├────────┤\n",
      "q_1: ┤ RZ(-4) ├┤ RZ(-4) ├\n",
      "     ├────────┤├────────┤\n",
      "q_2: ┤ RZ(-2) ├┤ RZ(-2) ├\n",
      "     ├────────┤├────────┤\n",
      "q_3: ┤ RZ(-1) ├┤ RZ(-1) ├\n",
      "     └────────┘└────────┘\n"
     ]
    }
   ],
   "source": [
    "trotterized = PauliTrotterEvolution(trotter_mode='suzuki').convert(fixed_time)\n",
    "print(trotterized)"
   ]
  },
  {
   "cell_type": "code",
   "execution_count": 12,
   "metadata": {},
   "outputs": [],
   "source": [
    "from qiskit import QuantumCircuit, transpile"
   ]
  },
  {
   "cell_type": "code",
   "execution_count": 13,
   "metadata": {},
   "outputs": [],
   "source": [
    "qc = QuantumCircuit(nqubits, nqubits)"
   ]
  },
  {
   "cell_type": "code",
   "execution_count": 14,
   "metadata": {},
   "outputs": [
    {
     "data": {
      "text/plain": [
       "<qiskit.circuit.instructionset.InstructionSet at 0x7f06d9df6b80>"
      ]
     },
     "execution_count": 14,
     "metadata": {},
     "output_type": "execute_result"
    }
   ],
   "source": [
    "qc.append(trotterized, [i for i in range(nqubits)])"
   ]
  },
  {
   "cell_type": "code",
   "execution_count": null,
   "metadata": {},
   "outputs": [],
   "source": [
    "qc.draw('mpl')"
   ]
  },
  {
   "cell_type": "code",
   "execution_count": null,
   "metadata": {},
   "outputs": [],
   "source": [
    "transpile(qc, basis_gates = ['cx', 'u1', 'u2', 'u3', 'H', 'X', 'Y', 'Z']).draw('mpl')"
   ]
  },
  {
   "cell_type": "code",
   "execution_count": null,
   "metadata": {},
   "outputs": [],
   "source": [
    "from qiskit import (\n",
    "    execute,\n",
    "    Aer)\n",
    "from qiskit.providers.aer.noise import NoiseModel\n",
    "from qiskit import IBMQ\n",
    "from qiskit.visualization import plot_histogram\n",
    "\n",
    "provider = IBMQ.load_account()"
   ]
  },
  {
   "cell_type": "code",
   "execution_count": null,
   "metadata": {},
   "outputs": [],
   "source": [
    "noise_backend = provider.get_backend('ibmq_16_melbourne')\n",
    "noise_model = NoiseModel.from_backend(noise_backend)"
   ]
  },
  {
   "cell_type": "code",
   "execution_count": null,
   "metadata": {},
   "outputs": [],
   "source": [
    "simulator = Aer.get_backend('qasm_simulator')\n",
    "\n",
    "qc.measure([0,1,2],[0,1,2])"
   ]
  },
  {
   "cell_type": "code",
   "execution_count": null,
   "metadata": {},
   "outputs": [],
   "source": [
    "job = execute(qc, simulator, shots=1000, noise_model=noise_model)\n",
    "result=job.result()\n",
    "counts = result.get_counts(qc)\n",
    "plot_histogram(counts)"
   ]
  },
  {
   "cell_type": "code",
   "execution_count": null,
   "metadata": {},
   "outputs": [],
   "source": []
  }
 ],
 "metadata": {
  "kernelspec": {
   "display_name": "Python 3",
   "language": "python",
   "name": "python3"
  },
  "language_info": {
   "codemirror_mode": {
    "name": "ipython",
    "version": 3
   },
   "file_extension": ".py",
   "mimetype": "text/x-python",
   "name": "python",
   "nbconvert_exporter": "python",
   "pygments_lexer": "ipython3",
   "version": "3.9.1"
  }
 },
 "nbformat": 4,
 "nbformat_minor": 4
}
