{
 "cells": [
  {
   "cell_type": "code",
   "execution_count": 107,
   "metadata": {},
   "outputs": [],
   "source": [
    "import sys\n",
    "sys.path.append('..')\n",
    "import src.HamiltonianTerms as ham\n",
    "from src.MatrixToQISKITCircuit import *\n",
    "from src.BinaryEncodings import *\n",
    "import numpy as np\n",
    "import sympy as sp\n",
    "import math\n",
    "\n",
    "\n",
    "\n",
    "dim = 16\n",
    "nqubits=4\n",
    "hmat = ham.number_op(dim) + 0.5*np.identity(dim)\n",
    "\n",
    "mtoqc = MatrixToPauliString(np.asarray(hmat))\n",
    "mtoqc.convert(standard_encode)"
   ]
  },
  {
   "cell_type": "code",
   "execution_count": 108,
   "metadata": {},
   "outputs": [
    {
     "name": "stdout",
     "output_type": "stream",
     "text": [
      "8.0*I^0*I^1*I^2*I^3 - 4.0*I^0*I^1*I^2*Z^3 - 2.0*I^0*I^1*I^3*Z^2 - 1.0*I^0*I^2*I^3*Z^1 - 0.5*I^1*I^2*I^3*Z^0\n"
     ]
    }
   ],
   "source": [
    "print(sp.expand(mtoqc.sum_of_paulis))"
   ]
  },
  {
   "cell_type": "code",
   "execution_count": 109,
   "metadata": {},
   "outputs": [
    {
     "name": "stdout",
     "output_type": "stream",
     "text": [
      "defaultdict(<class 'complex'>, {'IIII': (8+0j), 'ZIII': (-0.5+0j), 'IZII': (-1+0j), 'IIZI': (-2+0j), 'IIIZ': (-4+0j)})\n"
     ]
    }
   ],
   "source": [
    "print(mtoqc.pauli_strings_as_list())"
   ]
  },
  {
   "cell_type": "code",
   "execution_count": 110,
   "metadata": {},
   "outputs": [],
   "source": [
    "from qiskit.aqua.operators import I,X,Y,Z,Zero,PauliTrotterEvolution\n",
    "from qiskit.circuit import Parameter\n",
    "\n",
    "char_to_op={'I': I, 'X': X, 'Y': Y, 'Z': Z}"
   ]
  },
  {
   "cell_type": "code",
   "execution_count": 112,
   "metadata": {},
   "outputs": [],
   "source": [
    "expr = 0\n",
    "for pstring, coef in mtoqc.pauli_strings_as_list().items():\n",
    "    term = char_to_op[pstring[0]]\n",
    "    for char in pstring[1:]:\n",
    "        term = term^char_to_op[char]\n",
    "    expr += coef.real*term"
   ]
  },
  {
   "cell_type": "code",
   "execution_count": 113,
   "metadata": {},
   "outputs": [
    {
     "name": "stdout",
     "output_type": "stream",
     "text": [
      "e^(-i*1.0*t * SummedOp([\n",
      "  24.0 * IIII,\n",
      "  -1.5 * ZIII,\n",
      "  -3.0 * IZII,\n",
      "  -6.0 * IIZI,\n",
      "  -12.0 * IIIZ\n",
      "]))\n"
     ]
    }
   ],
   "source": [
    "evo_time = Parameter('t')\n",
    "evolution_op = (evo_time*expr).exp_i()\n",
    "print(evolution_op)"
   ]
  },
  {
   "cell_type": "code",
   "execution_count": 114,
   "metadata": {},
   "outputs": [
    {
     "name": "stdout",
     "output_type": "stream",
     "text": [
      "ComposedOp([\n",
      "  e^(-i*1.0*t * SummedOp([\n",
      "    24.0 * IIII,\n",
      "    -1.5 * ZIII,\n",
      "    -3.0 * IZII,\n",
      "    -6.0 * IIZI,\n",
      "    -12.0 * IIIZ\n",
      "  ])),\n",
      "  DictStateFn({'0000': 1})\n",
      "])\n"
     ]
    }
   ],
   "source": [
    "print(evolution_op @ Zero)"
   ]
  },
  {
   "cell_type": "code",
   "execution_count": 115,
   "metadata": {},
   "outputs": [],
   "source": [
    "fixed_time = evolution_op.bind_parameters({evo_time: 1})"
   ]
  },
  {
   "cell_type": "code",
   "execution_count": 116,
   "metadata": {},
   "outputs": [
    {
     "name": "stdout",
     "output_type": "stream",
     "text": [
      "ComposedOp([\n",
      "  e^(-i*SummedOp([\n",
      "    24.0 * IIII,\n",
      "    -1.5 * ZIII,\n",
      "    -3.0 * IZII,\n",
      "    -6.0 * IIZI,\n",
      "    -12.0 * IIIZ\n",
      "  ])),\n",
      "  DictStateFn({'0000': 1})\n",
      "])\n"
     ]
    }
   ],
   "source": [
    "print(fixed_time @ Zero)"
   ]
  },
  {
   "cell_type": "code",
   "execution_count": 117,
   "metadata": {},
   "outputs": [],
   "source": [
    "trotterized = PauliTrotterEvolution(trotter_mode='suzuki').convert(fixed_time)"
   ]
  },
  {
   "cell_type": "code",
   "execution_count": 118,
   "metadata": {},
   "outputs": [],
   "source": [
    "from qiskit import QuantumCircuit, transpile"
   ]
  },
  {
   "cell_type": "code",
   "execution_count": 119,
   "metadata": {},
   "outputs": [],
   "source": [
    "qc = QuantumCircuit(nqubits, nqubits)"
   ]
  },
  {
   "cell_type": "code",
   "execution_count": 121,
   "metadata": {},
   "outputs": [
    {
     "data": {
      "text/plain": [
       "<qiskit.circuit.instructionset.InstructionSet at 0x7f42912f17c0>"
      ]
     },
     "execution_count": 121,
     "metadata": {},
     "output_type": "execute_result"
    }
   ],
   "source": [
    "qc.append(trotterized, [i for i in range(nqubits)])"
   ]
  },
  {
   "cell_type": "code",
   "execution_count": 122,
   "metadata": {},
   "outputs": [
    {
     "data": {
      "image/png": "[encoded data removed]",
      "text/plain": [
       "<Figure size 206.997x325.08 with 1 Axes>"
      ]
     },
     "execution_count": 122,
     "metadata": {},
     "output_type": "execute_result"
    }
   ],
   "source": [
    "qc.draw('mpl')"
   ]
  },
  {
   "cell_type": "code",
   "execution_count": 123,
   "metadata": {},
   "outputs": [
    {
     "data": {
      "image/png": "[encoded data removed]",
      "text/plain": [
       "<Figure size 146.797x325.08 with 1 Axes>"
      ]
     },
     "execution_count": 123,
     "metadata": {},
     "output_type": "execute_result"
    }
   ],
   "source": [
    "transpile(qc, basis_gates = ['cx', 'u1', 'u2', 'u3', 'H', 'X', 'Y', 'Z']).draw('mpl')"
   ]
  },
  {
   "cell_type": "code",
   "execution_count": 95,
   "metadata": {},
   "outputs": [
    {
     "name": "stderr",
     "output_type": "stream",
     "text": [
      "/home/chrisculver/miniconda3/envs/QuantumComputing/lib/python3.9/site-packages/qiskit/providers/ibmq/ibmqfactory.py:192: UserWarning: Timestamps in IBMQ backend properties, jobs, and job results are all now in local time instead of UTC.\n",
      "  warnings.warn('Timestamps in IBMQ backend properties, jobs, and job results '\n"
     ]
    }
   ],
   "source": [
    "from qiskit import (\n",
    "    execute,\n",
    "    Aer)\n",
    "from qiskit.providers.aer.noise import NoiseModel\n",
    "from qiskit import IBMQ\n",
    "from qiskit.visualization import plot_histogram\n",
    "\n",
    "provider = IBMQ.load_account()"
   ]
  },
  {
   "cell_type": "code",
   "execution_count": 96,
   "metadata": {},
   "outputs": [],
   "source": [
    "noise_backend = provider.get_backend('ibmq_16_melbourne')\n",
    "noise_model = NoiseModel.from_backend(noise_backend)"
   ]
  },
  {
   "cell_type": "code",
   "execution_count": 99,
   "metadata": {},
   "outputs": [
    {
     "data": {
      "text/plain": [
       "<qiskit.circuit.instructionset.InstructionSet at 0x7f42d8770100>"
      ]
     },
     "execution_count": 99,
     "metadata": {},
     "output_type": "execute_result"
    }
   ],
   "source": [
    "simulator = Aer.get_backend('qasm_simulator')\n",
    "\n",
    "qc.measure([0,1,2],[0,1,2])"
   ]
  },
  {
   "cell_type": "code",
   "execution_count": 102,
   "metadata": {},
   "outputs": [
    {
     "data": {
      "image/png": "[encoded data removed]",
      "text/plain": [
       "<Figure size 504x360 with 1 Axes>"
      ]
     },
     "execution_count": 102,
     "metadata": {},
     "output_type": "execute_result"
    }
   ],
   "source": [
    "job = execute(qc, simulator, shots=1000, noise_model=noise_model)\n",
    "result=job.result()\n",
    "counts = result.get_counts(qc)\n",
    "plot_histogram(counts)"
   ]
  },
  {
   "cell_type": "code",
   "execution_count": null,
   "metadata": {},
   "outputs": [],
   "source": []
  }
 ],
 "metadata": {
  "kernelspec": {
   "display_name": "Python 3",
   "language": "python",
   "name": "python3"
  },
  "language_info": {
   "codemirror_mode": {
    "name": "ipython",
    "version": 3
   },
   "file_extension": ".py",
   "mimetype": "text/x-python",
   "name": "python",
   "nbconvert_exporter": "python",
   "pygments_lexer": "ipython3",
   "version": "3.9.1"
  }
 },
 "nbformat": 4,
 "nbformat_minor": 4
}
