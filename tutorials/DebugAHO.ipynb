{
 "cells": [
  {
   "cell_type": "code",
   "execution_count": 1,
   "metadata": {},
   "outputs": [],
   "source": [
    "import sys\n",
    "sys.path.append('..')\n",
    "from src.sympy_utilities import *\n",
    "from src.BinaryEncodings import *\n",
    "from src.qiskit_utilities import *\n",
    "\n",
    "import numpy as np\n",
    "import matplotlib.pyplot as plt"
   ]
  },
  {
   "cell_type": "code",
   "execution_count": 2,
   "metadata": {},
   "outputs": [],
   "source": [
    "h_b_AHO = 0.5*(p*p) + 0.5*(m*q+g*q**3)**2\n",
    "h_f_AHO = 0.5*(m+3*g*q*q)*(b*bdag - bdag*b)"
   ]
  },
  {
   "cell_type": "code",
   "execution_count": 3,
   "metadata": {},
   "outputs": [],
   "source": [
    "hamAHO = Hamiltonian(h_b_AHO, h_f_AHO, {m:1, g:1},\n",
    "                  2**2, standard_encode)"
   ]
  },
  {
   "cell_type": "code",
   "execution_count": 4,
   "metadata": {},
   "outputs": [
    {
     "data": {
      "text/latex": [
       "$\\displaystyle 0.5 a ad + 0.25 a ad a ad + 0.0625 a ad a ad a ad + 0.0625 a ad a ad a^{2} + 0.0625 a ad a ad^{2} a + 0.0625 a ad a ad^{3} + 0.25 a ad a^{2} + 0.0625 a ad a^{2} ad a + 0.0625 a ad a^{2} ad^{2} + 0.0625 a ad a^{3} ad + 0.0625 a ad a^{4} + 0.25 a ad^{2} a + 0.0625 a ad^{2} a ad a + 0.0625 a ad^{2} a ad^{2} + 0.0625 a ad^{2} a^{2} ad + 0.0625 a ad^{2} a^{3} + 0.25 a ad^{3} + 0.0625 a ad^{3} a ad + 0.0625 a ad^{3} a^{2} + 0.0625 a ad^{4} a + 0.0625 a ad^{5} + 0.25 a^{2} ad a + 0.0625 a^{2} ad a ad a + 0.0625 a^{2} ad a ad^{2} + 0.0625 a^{2} ad a^{2} ad + 0.0625 a^{2} ad a^{3} + 0.25 a^{2} ad^{2} + 0.0625 a^{2} ad^{2} a ad + 0.0625 a^{2} ad^{2} a^{2} + 0.0625 a^{2} ad^{3} a + 0.0625 a^{2} ad^{4} + 0.25 a^{3} ad + 0.0625 a^{3} ad a ad + 0.0625 a^{3} ad a^{2} + 0.0625 a^{3} ad^{2} a + 0.0625 a^{3} ad^{3} + 0.25 a^{4} + 0.0625 a^{4} ad a + 0.0625 a^{4} ad^{2} + 0.0625 a^{5} ad + 0.0625 a^{6} + 0.5 ad a + 0.25 ad a ad a + 0.0625 ad a ad a ad a + 0.0625 ad a ad a ad^{2} + 0.0625 ad a ad a^{2} ad + 0.0625 ad a ad a^{3} + 0.25 ad a ad^{2} + 0.0625 ad a ad^{2} a ad + 0.0625 ad a ad^{2} a^{2} + 0.0625 ad a ad^{3} a + 0.0625 ad a ad^{4} + 0.25 ad a^{2} ad + 0.0625 ad a^{2} ad a ad + 0.0625 ad a^{2} ad a^{2} + 0.0625 ad a^{2} ad^{2} a + 0.0625 ad a^{2} ad^{3} + 0.25 ad a^{3} + 0.0625 ad a^{3} ad a + 0.0625 ad a^{3} ad^{2} + 0.0625 ad a^{4} ad + 0.0625 ad a^{5} + 0.25 ad^{2} a ad + 0.0625 ad^{2} a ad a ad + 0.0625 ad^{2} a ad a^{2} + 0.0625 ad^{2} a ad^{2} a + 0.0625 ad^{2} a ad^{3} + 0.25 ad^{2} a^{2} + 0.0625 ad^{2} a^{2} ad a + 0.0625 ad^{2} a^{2} ad^{2} + 0.0625 ad^{2} a^{3} ad + 0.0625 ad^{2} a^{4} + 0.25 ad^{3} a + 0.0625 ad^{3} a ad a + 0.0625 ad^{3} a ad^{2} + 0.0625 ad^{3} a^{2} ad + 0.0625 ad^{3} a^{3} + 0.25 ad^{4} + 0.0625 ad^{4} a ad + 0.0625 ad^{4} a^{2} + 0.0625 ad^{5} a + 0.0625 ad^{6}$"
      ],
      "text/plain": [
       "0.5*a*ad + 0.25*a*ad*a*ad + 0.0625*a*ad*a*ad*a*ad + 0.0625*a*ad*a*ad*a**2 + 0.0625*a*ad*a*ad**2*a + 0.0625*a*ad*a*ad**3 + 0.25*a*ad*a**2 + 0.0625*a*ad*a**2*ad*a + 0.0625*a*ad*a**2*ad**2 + 0.0625*a*ad*a**3*ad + 0.0625*a*ad*a**4 + 0.25*a*ad**2*a + 0.0625*a*ad**2*a*ad*a + 0.0625*a*ad**2*a*ad**2 + 0.0625*a*ad**2*a**2*ad + 0.0625*a*ad**2*a**3 + 0.25*a*ad**3 + 0.0625*a*ad**3*a*ad + 0.0625*a*ad**3*a**2 + 0.0625*a*ad**4*a + 0.0625*a*ad**5 + 0.25*a**2*ad*a + 0.0625*a**2*ad*a*ad*a + 0.0625*a**2*ad*a*ad**2 + 0.0625*a**2*ad*a**2*ad + 0.0625*a**2*ad*a**3 + 0.25*a**2*ad**2 + 0.0625*a**2*ad**2*a*ad + 0.0625*a**2*ad**2*a**2 + 0.0625*a**2*ad**3*a + 0.0625*a**2*ad**4 + 0.25*a**3*ad + 0.0625*a**3*ad*a*ad + 0.0625*a**3*ad*a**2 + 0.0625*a**3*ad**2*a + 0.0625*a**3*ad**3 + 0.25*a**4 + 0.0625*a**4*ad*a + 0.0625*a**4*ad**2 + 0.0625*a**5*ad + 0.0625*a**6 + 0.5*ad*a + 0.25*ad*a*ad*a + 0.0625*ad*a*ad*a*ad*a + 0.0625*ad*a*ad*a*ad**2 + 0.0625*ad*a*ad*a**2*ad + 0.0625*ad*a*ad*a**3 + 0.25*ad*a*ad**2 + 0.0625*ad*a*ad**2*a*ad + 0.0625*ad*a*ad**2*a**2 + 0.0625*ad*a*ad**3*a + 0.0625*ad*a*ad**4 + 0.25*ad*a**2*ad + 0.0625*ad*a**2*ad*a*ad + 0.0625*ad*a**2*ad*a**2 + 0.0625*ad*a**2*ad**2*a + 0.0625*ad*a**2*ad**3 + 0.25*ad*a**3 + 0.0625*ad*a**3*ad*a + 0.0625*ad*a**3*ad**2 + 0.0625*ad*a**4*ad + 0.0625*ad*a**5 + 0.25*ad**2*a*ad + 0.0625*ad**2*a*ad*a*ad + 0.0625*ad**2*a*ad*a**2 + 0.0625*ad**2*a*ad**2*a + 0.0625*ad**2*a*ad**3 + 0.25*ad**2*a**2 + 0.0625*ad**2*a**2*ad*a + 0.0625*ad**2*a**2*ad**2 + 0.0625*ad**2*a**3*ad + 0.0625*ad**2*a**4 + 0.25*ad**3*a + 0.0625*ad**3*a*ad*a + 0.0625*ad**3*a*ad**2 + 0.0625*ad**3*a**2*ad + 0.0625*ad**3*a**3 + 0.25*ad**4 + 0.0625*ad**4*a*ad + 0.0625*ad**4*a**2 + 0.0625*ad**5*a + 0.0625*ad**6"
      ]
     },
     "execution_count": 4,
     "metadata": {},
     "output_type": "execute_result"
    }
   ],
   "source": [
    "hamAHO.harmonic"
   ]
  },
  {
   "cell_type": "code",
   "execution_count": 5,
   "metadata": {},
   "outputs": [],
   "source": [
    "eigs={}\n",
    "for gi in np.arange(0,1,0.1):\n",
    "    hamAHO = Hamiltonian(h_b_AHO, h_f_AHO, {m:1, g:gi},\n",
    "                  2**2, standard_encode)\n",
    "    eigs[gi]=np.sort(np.linalg.eig(np.matrix(hamAHO.bmatrix,float))[0])"
   ]
  },
  {
   "cell_type": "code",
   "execution_count": 6,
   "metadata": {},
   "outputs": [],
   "source": [
    "x=[]\n",
    "y=[]\n",
    "for k,v in eigs.items():\n",
    "    x.append([k + (n*0.005) for n in range(len(v))])\n",
    "    y.append(v)"
   ]
  },
  {
   "cell_type": "code",
   "execution_count": 7,
   "metadata": {},
   "outputs": [
    {
     "data": {
      "image/png": "[encoded data removed]",
      "text/plain": [
       "<Figure size 432x288 with 1 Axes>"
      ]
     },
     "metadata": {
      "needs_background": "light"
     },
     "output_type": "display_data"
    }
   ],
   "source": [
    "for i in range(len(eigs)):\n",
    "    plt.scatter(x[i],y[i])\n",
    "plt.xlabel('$g$')\n",
    "plt.ylabel('$E$')\n",
    "plt.show()"
   ]
  },
  {
   "cell_type": "code",
   "execution_count": 8,
   "metadata": {},
   "outputs": [
    {
     "name": "stderr",
     "output_type": "stream",
     "text": [
      "/home/chrisculver/miniconda3/envs/QuantumComputing/lib/python3.9/site-packages/numpy/matrixlib/defmatrix.py:137: ComplexWarning: Casting complex values to real discards the imaginary part\n",
      "  return new.astype(intype)\n"
     ]
    }
   ],
   "source": [
    "eigs={}\n",
    "for gi in np.arange(0,1.1,0.1):\n",
    "    hamAHO = Hamiltonian(h_b_AHO, h_f_AHO, {m:1, g:gi},\n",
    "                  2**3, standard_encode)\n",
    "    eigs[gi]=np.sort(np.linalg.eig(np.matrix(hamAHO.hamMatrix,float))[0])"
   ]
  },
  {
   "cell_type": "code",
   "execution_count": 9,
   "metadata": {},
   "outputs": [
    {
     "data": {
      "image/png": "[encoded data removed]",
      "text/plain": [
       "<Figure size 432x288 with 1 Axes>"
      ]
     },
     "metadata": {
      "needs_background": "light"
     },
     "output_type": "display_data"
    }
   ],
   "source": [
    "x=[]\n",
    "y=[]\n",
    "for k,v in eigs.items():\n",
    "    x.append([k + (n*0.005) for n in range(len(v))])\n",
    "    y.append(v)\n",
    "for i in range(len(eigs)):\n",
    "    plt.scatter(x[i],y[i])\n",
    "plt.plot([x-2 for x in range(10)],[0 for y in range(10)])\n",
    "plt.xlabel('$g$')\n",
    "plt.ylabel('$E$')\n",
    "plt.xlim(-0.05,1.05)\n",
    "plt.ylim(-1,10)\n",
    "plt.show()"
   ]
  },
  {
   "cell_type": "code",
   "execution_count": 10,
   "metadata": {},
   "outputs": [
    {
     "name": "stdout",
     "output_type": "stream",
     "text": [
      "[ 0.12682403  2.08341082  3.323419    7.31797807 32.24817597 41.29158918\n",
      " 81.301581   94.30702193]\n"
     ]
    }
   ],
   "source": [
    "hamAHO = Hamiltonian(h_b_AHO, h_f_AHO, {m:1, g:1},\n",
    "                  2**2, standard_encode)\n",
    "print(np.sort(np.linalg.eig(np.matrix(hamAHO.hamMatrix,float))[0]))"
   ]
  },
  {
   "cell_type": "code",
   "execution_count": 2,
   "metadata": {},
   "outputs": [
    {
     "name": "stdout",
     "output_type": "stream",
     "text": [
      "[0. 1. 2. 2. 3. 3. 4. 5.]\n"
     ]
    },
    {
     "name": "stderr",
     "output_type": "stream",
     "text": [
      "/home/chrisculver/miniconda3/envs/QuantumComputing/lib/python3.9/site-packages/numpy/matrixlib/defmatrix.py:137: ComplexWarning: Casting complex values to real discards the imaginary part\n",
      "  return new.astype(intype)\n"
     ]
    }
   ],
   "source": [
    "h_b_DW = 0.5*(p*p + (m*q + g*(q*q + mu*mu))**2)\n",
    "h_f_DW = 0.5*(m+2*g*q)*(b*bdag-bdag*b)\n",
    "\n",
    "hamDW = Hamiltonian(h_b_DW, h_f_DW, {m:1, g: 0, mu: 0},\n",
    "                     2**2, standard_encode)\n",
    "print(np.sort(np.linalg.eig(np.matrix(hamDW.hamMatrix,float))[0]))"
   ]
  },
  {
   "cell_type": "code",
   "execution_count": 24,
   "metadata": {},
   "outputs": [
    {
     "name": "stderr",
     "output_type": "stream",
     "text": [
      "/home/chrisculver/miniconda3/envs/QuantumComputing/lib/python3.9/site-packages/numpy/matrixlib/defmatrix.py:137: ComplexWarning: Casting complex values to real discards the imaginary part\n",
      "  return new.astype(intype)\n"
     ]
    }
   ],
   "source": [
    "eigs={}\n",
    "for imu in np.arange(0,1.1,0.1):\n",
    "    hamDW = Hamiltonian(h_b_DW, h_f_DW, {m:1, g: 1, mu: imu},\n",
    "                     2**2, standard_encode)\n",
    "    eigs[imu]=np.sort(np.linalg.eig(np.matrix(hamDW.hamMatrix,float))[0])"
   ]
  },
  {
   "cell_type": "code",
   "execution_count": 27,
   "metadata": {},
   "outputs": [
    {
     "data": {
      "image/png": "[encoded data removed]",
      "text/plain": [
       "<Figure size 432x288 with 1 Axes>"
      ]
     },
     "metadata": {
      "needs_background": "light"
     },
     "output_type": "display_data"
    }
   ],
   "source": [
    "x=[]\n",
    "y=[]\n",
    "for k,v in eigs.items():\n",
    "    x.append([k + (n*0.005) for n in range(len(v))])\n",
    "    y.append(v)\n",
    "for i in range(len(eigs)):\n",
    "    plt.scatter(x[i],y[i])\n",
    "plt.plot([x-2 for x in range(10)],[0 for y in range(10)])\n",
    "plt.xlabel('$\\mu$')\n",
    "plt.ylabel('$E$')\n",
    "plt.xlim(-0.05,1.05)\n",
    "plt.ylim(-0.5,6)\n",
    "plt.savefig('PLOTS/dw_g1.0.pdf')"
   ]
  },
  {
   "cell_type": "code",
   "execution_count": 14,
   "metadata": {},
   "outputs": [
    {
     "data": {
      "text/plain": [
       "array([ 1.4159633 ,  1.74477792,  2.7382935 ,  4.25641082,  5.14441227,\n",
       "        6.25611694, 21.76081164, 25.6832136 ])"
      ]
     },
     "execution_count": 14,
     "metadata": {},
     "output_type": "execute_result"
    }
   ],
   "source": [
    "eigs[1.0]"
   ]
  },
  {
   "cell_type": "code",
   "execution_count": 4,
   "metadata": {},
   "outputs": [],
   "source": [
    "eigs={}\n",
    "for ig in np.arange(-1.1,1.1,0.5):\n",
    "    hamDW = Hamiltonian(h_b_DW, h_f_DW, {m:1, g: ig, mu: 1},\n",
    "                     2**2, standard_encode)\n",
    "    eigs[ig]=np.sort(np.linalg.eig(np.matrix(hamDW.hamMatrix,float))[0])"
   ]
  },
  {
   "cell_type": "code",
   "execution_count": 9,
   "metadata": {},
   "outputs": [
    {
     "data": {
      "image/png": "[encoded data removed]",
      "text/plain": [
       "<Figure size 432x288 with 1 Axes>"
      ]
     },
     "metadata": {
      "needs_background": "light"
     },
     "output_type": "display_data"
    }
   ],
   "source": [
    "x=[]\n",
    "y=[]\n",
    "for k,v in eigs.items():\n",
    "    x.append([k + (n*0.005) for n in range(len(v))])\n",
    "    y.append(v)\n",
    "for i in range(len(eigs)):\n",
    "    plt.scatter(x[i],y[i])\n",
    "plt.plot([x-10 for x in range(20)],[0 for y in range(20)])\n",
    "plt.xlabel('$g$')\n",
    "plt.ylabel('$E$')\n",
    "plt.xlim(-1.15,1.15)\n",
    "plt.ylim(-1,10)\n",
    "plt.savefig('PLOTS/dw_mu1.0.pdf')"
   ]
  },
  {
   "cell_type": "code",
   "execution_count": 10,
   "metadata": {},
   "outputs": [
    {
     "data": {
      "text/plain": [
       "{-1.1: array([-5.97420703e-01,  1.63266007e-03,  4.83728230e+00,  6.45770839e+00,\n",
       "         8.21061428e+00,  9.03237782e+00,  2.41937072e+01,  2.79940980e+01]),\n",
       " -0.6000000000000001: array([-0.48340964, -0.3758694 ,  2.53939043,  2.7400371 ,  2.9287443 ,\n",
       "         4.17584294, 10.44773467, 13.10752959]),\n",
       " -0.10000000000000009: array([-0.11380065,  0.73631995,  1.11814153,  1.9435905 ,  2.19639259,\n",
       "         2.82943824,  3.31706862,  4.50284922]),\n",
       " 0.3999999999999999: array([0.34508073, 0.43621943, 1.0563065 , 1.76081799, 2.00408499,\n",
       "        2.52705435, 7.07779478, 9.27264123]),\n",
       " 0.8999999999999999: array([ 1.12587791,  1.4684715 ,  2.37177908,  3.57989117,  4.48235065,\n",
       "         5.00047533, 18.6242741 , 22.27688027])}"
      ]
     },
     "execution_count": 10,
     "metadata": {},
     "output_type": "execute_result"
    }
   ],
   "source": [
    "eigs"
   ]
  },
  {
   "cell_type": "code",
   "execution_count": 18,
   "metadata": {},
   "outputs": [
    {
     "data": {
      "text/plain": [
       "2.4841649198"
      ]
     },
     "execution_count": 18,
     "metadata": {},
     "output_type": "execute_result"
    }
   ],
   "source": [
    "2.4841649198"
   ]
  },
  {
   "cell_type": "code",
   "execution_count": null,
   "metadata": {},
   "outputs": [],
   "source": []
  }
 ],
 "metadata": {
  "kernelspec": {
   "display_name": "Python 3",
   "language": "python",
   "name": "python3"
  },
  "language_info": {
   "codemirror_mode": {
    "name": "ipython",
    "version": 3
   },
   "file_extension": ".py",
   "mimetype": "text/x-python",
   "name": "python",
   "nbconvert_exporter": "python",
   "pygments_lexer": "ipython3",
   "version": "3.9.1"
  }
 },
 "nbformat": 4,
 "nbformat_minor": 4
}
