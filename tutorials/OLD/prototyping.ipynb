{
 "cells": [
  {
   "cell_type": "code",
   "execution_count": 1,
   "metadata": {},
   "outputs": [],
   "source": [
    "# Set-up matrices to compute circuits of\n",
    "def diagonal_matrix(n):\n",
    "    matrix = []\n",
    "    for i in range(0,n):\n",
    "        col=[]\n",
    "        for j in range(0,n):\n",
    "            if(i==j):\n",
    "                col.append(i)\n",
    "            else:\n",
    "                col.append(0)\n",
    "        matrix.append(col)\n",
    "    return matrix\n",
    "\n",
    "matrices=[]\n",
    "for i in range(2,17):\n",
    "    matrices.append(diagonal_matrix(i))\n"
   ]
  },
  {
   "cell_type": "code",
   "execution_count": 2,
   "metadata": {},
   "outputs": [
    {
     "ename": "ModuleNotFoundError",
     "evalue": "No module named 'src.MatrixToQISKITCircuit'",
     "output_type": "error",
     "traceback": [
      "\u001b[0;31m---------------------------------------------------------------------------\u001b[0m",
      "\u001b[0;31mModuleNotFoundError\u001b[0m                       Traceback (most recent call last)",
      "\u001b[0;32m<ipython-input-2-12f2624c746e>\u001b[0m in \u001b[0;36m<module>\u001b[0;34m\u001b[0m\n\u001b[1;32m      1\u001b[0m \u001b[0;32mimport\u001b[0m \u001b[0msys\u001b[0m\u001b[0;34m\u001b[0m\u001b[0;34m\u001b[0m\u001b[0m\n\u001b[1;32m      2\u001b[0m \u001b[0msys\u001b[0m\u001b[0;34m.\u001b[0m\u001b[0mpath\u001b[0m\u001b[0;34m.\u001b[0m\u001b[0mappend\u001b[0m\u001b[0;34m(\u001b[0m\u001b[0;34m'..'\u001b[0m\u001b[0;34m)\u001b[0m\u001b[0;34m\u001b[0m\u001b[0;34m\u001b[0m\u001b[0m\n\u001b[0;32m----> 3\u001b[0;31m \u001b[0;32mfrom\u001b[0m \u001b[0msrc\u001b[0m\u001b[0;34m.\u001b[0m\u001b[0mMatrixToQISKITCircuit\u001b[0m \u001b[0;32mimport\u001b[0m \u001b[0;34m*\u001b[0m\u001b[0;34m\u001b[0m\u001b[0;34m\u001b[0m\u001b[0m\n\u001b[0m\u001b[1;32m      4\u001b[0m \u001b[0;32mfrom\u001b[0m \u001b[0msrc\u001b[0m\u001b[0;34m.\u001b[0m\u001b[0mBinaryEncodings\u001b[0m \u001b[0;32mimport\u001b[0m \u001b[0;34m*\u001b[0m\u001b[0;34m\u001b[0m\u001b[0;34m\u001b[0m\u001b[0m\n\u001b[1;32m      5\u001b[0m \u001b[0;34m\u001b[0m\u001b[0m\n",
      "\u001b[0;31mModuleNotFoundError\u001b[0m: No module named 'src.MatrixToQISKITCircuit'"
     ]
    }
   ],
   "source": [
    "import sys\n",
    "sys.path.append('..')\n",
    "from src.MatrixToQISKITCircuit import *\n",
    "from src.BinaryEncodings import *\n",
    "\n",
    "def add_cx_count(lst, circuit):\n",
    "    if('cx' in circuit.count_ops()):\n",
    "        lst.append(circuit.count_ops()['cx'])\n",
    "    else:\n",
    "        lst.append(0)\n",
    "\n",
    "n=[]\n",
    "ncxStandard=[]\n",
    "ncxGray=[]\n",
    "evo_time=1\n",
    "# loop through all the matrices, converting to a circuit\n",
    "for m in matrices:\n",
    "    mtoS = MatrixToQISKITCircuit(m,evo_time)\n",
    "    mtoG = mtoS\n",
    "    mtoS.convert(standard_encode)\n",
    "    mtoG.convert(gray_code)\n",
    "\n",
    "    n.append(len(m)) \n",
    "    # is this a situation where we want lambdas?\n",
    "    add_cx_count(ncxStandard, mtoS.circuit)\n",
    "    add_cx_count(ncxGray, mtoG.circuit)\n",
    "    \n",
    "        \n",
    "import matplotlib.pyplot as plt\n",
    "\n",
    "plt.plot(n,ncxStandard,'o')\n",
    "plt.plot([i+0.2 for i in n],ncxGray,'*')\n",
    "plt.xlabel('\\# Oscillator Modes')\n",
    "plt.ylabel('CX Gates')\n",
    "plt.xticks([2,3,4,5,6,7,8,9,10,11,12,13,14,15,16])\n",
    "plt.title('Diagonal Matrix')\n",
    "plt.savefig('first_cost_scaling.pdf')"
   ]
  },
  {
   "cell_type": "code",
   "execution_count": 3,
   "metadata": {},
   "outputs": [
    {
     "name": "stdout",
     "output_type": "stream",
     "text": [
      "0.5*X^0 + 0.5*I*Z^0\n"
     ]
    }
   ],
   "source": [
    "matrix = [[0,1],[0,0]]\n",
    "\n",
    "mtops=MatrixToPauliString(matrix)\n",
    "mtops.convert(standard_encode)\n",
    "from sympy import expand\n",
    "print(expand(mtops.sum_of_paulis))"
   ]
  },
  {
   "cell_type": "code",
   "execution_count": 4,
   "metadata": {},
   "outputs": [
    {
     "name": "stdout",
     "output_type": "stream",
     "text": [
      "1.5*I^0*I^1 - 1.0*I^0*Z^1 - 0.5*I^1*Z^0\n"
     ]
    }
   ],
   "source": [
    "matrix = [[0,0,0,0],[0,1,0,0],[0,0,2,0],[0,0,0,3]]\n",
    "\n",
    "mtops=MatrixToPauliString(matrix)\n",
    "mtops.convert(standard_encode)\n",
    "from sympy import expand\n",
    "print(expand(mtops.sum_of_paulis))"
   ]
  },
  {
   "cell_type": "code",
   "execution_count": null,
   "metadata": {},
   "outputs": [],
   "source": []
  },
  {
   "cell_type": "code",
   "execution_count": null,
   "metadata": {},
   "outputs": [],
   "source": []
  }
 ],
 "metadata": {
  "kernelspec": {
   "display_name": "Python 3",
   "language": "python",
   "name": "python3"
  },
  "language_info": {
   "codemirror_mode": {
    "name": "ipython",
    "version": 3
   },
   "file_extension": ".py",
   "mimetype": "text/x-python",
   "name": "python",
   "nbconvert_exporter": "python",
   "pygments_lexer": "ipython3",
   "version": "3.9.1"
  }
 },
 "nbformat": 4,
 "nbformat_minor": 4
}
