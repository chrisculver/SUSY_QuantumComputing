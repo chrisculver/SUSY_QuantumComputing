{
 "cells": [
  {
   "cell_type": "markdown",
   "id": "9d81505b-91bb-4ac8-8a62-02821a6c5c94",
   "metadata": {},
   "source": [
    "# Witten Index\n",
    "\n",
    "In this notebook we investigate another quantity which informs us about supersymmetry breaking.  The Witten index is defined by \n",
    "\n",
    "\\begin{equation}\n",
    " \\text{Tr}\\left(-1^F\\right)=n_{B}^{E=0} - n_{F}^{E=0}\n",
    "\\end{equation}\n",
    "\n",
    "where $n_B^{E=0}, n_F^{E=0}$ are the number of bosonic(fermionic) states of zero energy, respectively.  If the Witten index is non-zero then supersymmetry **is not** spontaneously broken.  If the Witten index is zero then supersymmetry **may be** spontaneously broken.\n",
    "\n",
    "Let's start with measuring the Witten index classically."
   ]
  },
  {
   "cell_type": "code",
   "execution_count": 1,
   "id": "fb14fbf3-5796-4079-9e87-601864d66d33",
   "metadata": {},
   "outputs": [],
   "source": [
    "import sys\n",
    "sys.path.append('..')\n",
    "from src.sympy_utilities import *\n",
    "from src.BinaryEncodings import *\n",
    "from src.MatrixToPauliString import *\n",
    "from src.qiskit_utilities import *"
   ]
  },
  {
   "cell_type": "code",
   "execution_count": 2,
   "id": "ccc41a44-d209-45b4-abc4-d369988f5ae1",
   "metadata": {},
   "outputs": [],
   "source": [
    "h_b_HO = 0.5*(p*p + m*m*q*q)\n",
    "h_f_HO = -0.5*m#[bdag,b]\n",
    "\n",
    "HOham=Hamiltonian(h_b_HO, h_f_HO, {m:1, g:1},\n",
    "                  2**2, standard_encode)\n",
    "\n"
   ]
  },
  {
   "cell_type": "code",
   "execution_count": 3,
   "id": "6b6b5575-f788-4963-8710-b4455a35a8b9",
   "metadata": {},
   "outputs": [
    {
     "name": "stdout",
     "output_type": "stream",
     "text": [
      "[0. 1. 1. 2. 2. 3. 3. 4.]\n",
      "[[0. 0. 0. 0. 1. 0. 0. 0.]\n",
      " [1. 0. 0. 0. 0. 0. 0. 0.]\n",
      " [0. 0. 0. 0. 0. 1. 0. 0.]\n",
      " [0. 1. 0. 0. 0. 0. 0. 0.]\n",
      " [0. 0. 0. 0. 0. 0. 1. 0.]\n",
      " [0. 0. 1. 0. 0. 0. 0. 0.]\n",
      " [0. 0. 0. 0. 0. 0. 0. 1.]\n",
      " [0. 0. 0. 1. 0. 0. 0. 0.]]\n"
     ]
    }
   ],
   "source": [
    "HOham.solve_exactly()\n",
    "print(HOham.eigenvalues)\n",
    "print(HOham.eigenvectors)"
   ]
  },
  {
   "cell_type": "code",
   "execution_count": 4,
   "id": "2f4a425b-1693-4f65-820e-14ed368a56cd",
   "metadata": {},
   "outputs": [
    {
     "data": {
      "text/plain": [
       "array([0., 0., 0., 0., 1., 0., 0., 0.])"
      ]
     },
     "execution_count": 4,
     "metadata": {},
     "output_type": "execute_result"
    }
   ],
   "source": [
    "HOham.eigenvectors[0]"
   ]
  },
  {
   "cell_type": "code",
   "execution_count": null,
   "id": "3fe21ada-9b87-4b03-856b-bc7aae97cd6a",
   "metadata": {},
   "outputs": [],
   "source": []
  }
 ],
 "metadata": {
  "kernelspec": {
   "display_name": "SUSYQM",
   "language": "python",
   "name": "susyqm"
  },
  "language_info": {
   "codemirror_mode": {
    "name": "ipython",
    "version": 3
   },
   "file_extension": ".py",
   "mimetype": "text/x-python",
   "name": "python",
   "nbconvert_exporter": "python",
   "pygments_lexer": "ipython3",
   "version": "3.9.7"
  }
 },
 "nbformat": 4,
 "nbformat_minor": 5
}
