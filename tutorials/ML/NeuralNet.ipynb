{
 "cells": [
  {
   "cell_type": "code",
   "execution_count": 2,
   "metadata": {},
   "outputs": [],
   "source": [
    "import numpy as np\n",
    "import time\n",
    "import tensorflow as tf\n",
    "from matplotlib import pyplot as plt\n",
    "\n",
    "M=1.0"
   ]
  },
  {
   "cell_type": "code",
   "execution_count": 5,
   "metadata": {},
   "outputs": [],
   "source": [
    "class ExponentialBoundaryCondition(tf.keras.layers.Layer):\n",
    "    \n",
    "    def __init__(self, exp=1.0, trainable=True):\n",
    "        tf.keras.layers.Layer.__init__(self)\n",
    "\n",
    "        # This is the parameter controlling the shape of the exponent:\n",
    "        self.exponent = tf.Variable(exp, trainable=trainable, dtype=tf.float32)\n",
    "\n",
    "\n",
    "    def call(self, inputs):\n",
    "        return tf.exp(- (self.exponent * inputs) **2 / 2.)"
   ]
  },
  {
   "cell_type": "code",
   "execution_count": 10,
   "metadata": {},
   "outputs": [],
   "source": []
  },
  {
   "cell_type": "code",
   "execution_count": null,
   "metadata": {},
   "outputs": [],
   "source": []
  },
  {
   "cell_type": "code",
   "execution_count": null,
   "metadata": {},
   "outputs": [],
   "source": []
  },
  {
   "cell_type": "code",
   "execution_count": null,
   "metadata": {},
   "outputs": [],
   "source": []
  },
  {
   "attachments": {},
   "cell_type": "markdown",
   "metadata": {},
   "source": [
    "$$\n",
    "    H=p^2 + W'(q)^2-W''(q)\\left[b^{\\dagger},b\\right]\n",
    "$$"
   ]
  },
  {
   "cell_type": "code",
   "execution_count": null,
   "metadata": {},
   "outputs": [],
   "source": []
  }
 ],
 "metadata": {
  "kernelspec": {
   "display_name": "MachineLearning",
   "language": "python",
   "name": "python3"
  },
  "language_info": {
   "codemirror_mode": {
    "name": "ipython",
    "version": 3
   },
   "file_extension": ".py",
   "mimetype": "text/x-python",
   "name": "python",
   "nbconvert_exporter": "python",
   "pygments_lexer": "ipython3",
   "version": "3.10.8"
  },
  "orig_nbformat": 4,
  "vscode": {
   "interpreter": {
    "hash": "e47492bb68c945901860c0e5171265739057a66660d70f0177845bcc27013884"
   }
  }
 },
 "nbformat": 4,
 "nbformat_minor": 2
}
