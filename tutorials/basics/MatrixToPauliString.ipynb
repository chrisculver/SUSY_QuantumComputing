{
 "cells": [
  {
   "cell_type": "markdown",
   "metadata": {},
   "source": [
    "## Matrix to pauli string\n",
    "\n",
    "Here we summarize how a $d$-level matrix can be written as a sum of pauli strings. \n",
    "\n",
    "A matrix A with elements $a_{ij}$ can be written as, \n",
    "\\begin{equation}\n",
    "    A=\\sum_{i,j} a_{ij} \\mid i \\rangle \\langle j \\mid\n",
    "\\end{equation}\n",
    "where $i,j$ are integers labelling the basis elements.  To map this to qubits, we first translate the integers from base 10 to binary, using some encoding $\\mathcal{R}$.  which transforms basis elements as\n",
    "\\begin{equation}\n",
    "    \\mid i \\rangle \\rightarrow\\mid\\mathcal{R}(i) \\rangle\n",
    "        =\\mid i_{n-1} \\rangle \\cdots \\mid i_0 \\rangle,\n",
    "\\end{equation}\n",
    "where the $x_i\\in\\{0,1\\}$. Which maps our matrix $A$ to a tensor product over local qubit terms\n",
    "\\begin{equation}\n",
    "    A=\\sum_{i,j}a_{ij}\\otimes_n \\mid i_{n}\\rangle\\langle j_n \\mid.\n",
    "\\end{equation}\n",
    "Each qubit local term can be written as a pauli string using the formulas\n",
    "\\begin{align}\n",
    "    \\mid 0 \\rangle \\langle 1 \\mid &= \\frac{1}{2}\\left( X + i Y \\right) \\\\\n",
    "    \\mid 1 \\rangle \\langle 0 \\mid &= \\frac{1}{2}\\left( X - i Y \\right) \\\\\n",
    "    \\mid 0 \\rangle \\langle 0 \\mid &= \\frac{1}{2}\\left( 1 + Z \\right)   \\\\\n",
    "    \\mid 1 \\rangle \\langle 1 \\mid &= \\frac{1}{2}\\left( 1 - Z \\right).\n",
    "\\end{align}\n",
    "\n",
    "\n",
    "Diagonal matrices with size equal to a power of 2 have efficient implementations.  As a concrete example consider the number operator with a cutoff of 4 possible states.\n",
    "\n",
    "\\begin{equation}\n",
    "    n = \\begin{pmatrix} 0 & 0 & 0 & 0 \\\\\n",
    "                        0 & 1 & 0 & 0 \\\\\n",
    "                        0 & 0 & 2 & 0 \\\\\n",
    "                        0 & 0 & 0 & 3 \\\\\n",
    "        \\end{pmatrix}\n",
    "\\end{equation}\n",
    "This can be written succinctly as \n",
    "\\begin{equation}\n",
    "    n = 1 \\mid 1 \\rangle\\langle 1 \\mid + 2 \\mid 2 \\rangle\\langle 2 \\mid + 3 \\mid 3 \\rangle\\langle 3 \\mid\n",
    "\\end{equation}\n",
    "By using the standard binary encoding this becomes\n",
    "\\begin{equation}\n",
    "    n = 1 \\mid 01 \\rangle\\langle 01 \\mid + 2 \\mid 10 \\rangle\\langle 10 \\mid + 3 \\mid 11 \\rangle\\langle 11 \\mid\n",
    "\\end{equation}\n",
    "With the above definitions for replacing qubit local terms with pauli operators this becomes \n",
    "\\begin{align}\n",
    "    n &= \\frac{1}{4}\\left[(1^1 + Z^1)(1^0 - Z^0)\\right] + \\frac{2}{4}\\left[(1^1-Z^1)(1^0+Z^0)\\right] + \\frac{3}{4}\\left[(1^1-Z^1)(1^0-Z^0)\\right] \\\\\n",
    "      &= \\frac{1}{4}\\left[1^11^0 + Z^11^0 - 1^1Z^0 - Z^1Z^0\\right] \\\\\n",
    "      &+ \\frac{2}{4}\\left[1^11^0 - Z^11^0 + 1^1Z^0 - Z^1Z^0\\right] \\\\\n",
    "      &+ \\frac{3}{4}\\left[1^11^0 - Z^11^0 - 1^1Z^0 + Z^1Z^0\\right] \\\\\n",
    "      &= \\frac{3}{2}1^11^0 - Z^11^0 - \\frac{1}{2}1^1Z^0\n",
    "\\end{align}"
   ]
  },
  {
   "cell_type": "code",
   "execution_count": 1,
   "metadata": {},
   "outputs": [],
   "source": [
    "# the code version requires you to input a matrix and an encoding\n",
    "import sys\n",
    "sys.path.append('../..')\n",
    "from src.MatrixToPauliString import *\n",
    "from src.BinaryEncodings import *\n",
    "\n",
    "import numpy as np\n",
    "import sympy as sp"
   ]
  },
  {
   "cell_type": "code",
   "execution_count": 2,
   "metadata": {},
   "outputs": [],
   "source": [
    "matrix = np.array([[0,0,0,0],[0,1,0,0],[0,0,2,0],[0,0,0,3]])\n",
    "pauli_strings = matrix_to_pauli_strings(matrix, standard_encode)"
   ]
  },
  {
   "cell_type": "code",
   "execution_count": 3,
   "metadata": {},
   "outputs": [
    {
     "data": {
      "text/latex": [
       "$\\displaystyle 1.5 I^{0} I^{1} - 1.0 I^{0} Z^{1} - 0.5 I^{1} Z^{0}$"
      ],
      "text/plain": [
       "1.5*I^0*I^1 - 1.0*I^0*Z^1 - 0.5*I^1*Z^0"
      ]
     },
     "execution_count": 3,
     "metadata": {},
     "output_type": "execute_result"
    }
   ],
   "source": [
    "sp.expand(pauli_strings)"
   ]
  },
  {
   "cell_type": "code",
   "execution_count": null,
   "metadata": {},
   "outputs": [],
   "source": []
  },
  {
   "cell_type": "code",
   "execution_count": 4,
   "metadata": {},
   "outputs": [],
   "source": [
    "#[TODO] I have a handwritten note for the following that should probably get typed up here..."
   ]
  },
  {
   "cell_type": "code",
   "execution_count": 5,
   "metadata": {},
   "outputs": [
    {
     "name": "stdout",
     "output_type": "stream",
     "text": [
      "[[1 0 2]\n",
      " [0 3 0]\n",
      " [4 0 5]]\n"
     ]
    }
   ],
   "source": [
    "matrix = np.array([[1,0,2],[0,3,0],[4,0,5]])\n",
    "print(matrix)\n",
    "ps = matrix_to_pauli_strings(matrix, standard_encode)\n",
    "ps = sp.expand(ps)"
   ]
  },
  {
   "cell_type": "code",
   "execution_count": 6,
   "metadata": {},
   "outputs": [
    {
     "data": {
      "text/latex": [
       "$\\displaystyle 2.25 I^{0} I^{1} + 1.5 I^{0} X^{1} - 0.5 i I^{0} Y^{1} - 0.25 I^{0} Z^{1} + 0.75 I^{1} Z^{0} + 1.5 X^{1} Z^{0} - 0.5 i Y^{1} Z^{0} - 1.75 Z^{0} Z^{1}$"
      ],
      "text/plain": [
       "2.25*I^0*I^1 + 1.5*I^0*X^1 - 0.5*I*I^0*Y^1 - 0.25*I^0*Z^1 + 0.75*I^1*Z^0 + 1.5*X^1*Z^0 - 0.5*I*Y^1*Z^0 - 1.75*Z^0*Z^1"
      ]
     },
     "execution_count": 6,
     "metadata": {},
     "output_type": "execute_result"
    }
   ],
   "source": [
    "ps"
   ]
  },
  {
   "cell_type": "code",
   "execution_count": 7,
   "metadata": {},
   "outputs": [
    {
     "data": {
      "text/plain": [
       "array([[1.+0.j, 0.+0.j, 2.+0.j, 0.+0.j],\n",
       "       [0.+0.j, 3.+0.j, 0.+0.j, 0.+0.j],\n",
       "       [4.+0.j, 0.+0.j, 5.+0.j, 0.+0.j],\n",
       "       [0.+0.j, 0.+0.j, 0.+0.j, 0.+0.j]])"
      ]
     },
     "execution_count": 7,
     "metadata": {},
     "output_type": "execute_result"
    }
   ],
   "source": [
    "getMatrix(ps)"
   ]
  },
  {
   "cell_type": "code",
   "execution_count": 8,
   "metadata": {},
   "outputs": [
    {
     "data": {
      "text/latex": [
       "$\\displaystyle 2.25 I^{0} I^{1} + 1.5 I^{0} X^{1} - 0.5 i I^{0} Y^{1} - 0.25 I^{0} Z^{1} + 0.75 I^{1} Z^{0} + 1.5 X^{1} Z^{0} - 0.5 i Y^{1} Z^{0} - 1.75 Z^{0} Z^{1}$"
      ],
      "text/plain": [
       "2.25*I^0*I^1 + 1.5*I^0*X^1 - 0.5*I*I^0*Y^1 - 0.25*I^0*Z^1 + 0.75*I^1*Z^0 + 1.5*X^1*Z^0 - 0.5*I*Y^1*Z^0 - 1.75*Z^0*Z^1"
      ]
     },
     "execution_count": 8,
     "metadata": {},
     "output_type": "execute_result"
    }
   ],
   "source": [
    "sp.expand(matrix_to_pauli_strings(getMatrix(ps),standard_encode))"
   ]
  },
  {
   "cell_type": "code",
   "execution_count": null,
   "metadata": {},
   "outputs": [],
   "source": []
  }
 ],
 "metadata": {
  "kernelspec": {
   "display_name": "Python 3",
   "language": "python",
   "name": "python3"
  },
  "language_info": {
   "codemirror_mode": {
    "name": "ipython",
    "version": 3
   },
   "file_extension": ".py",
   "mimetype": "text/x-python",
   "name": "python",
   "nbconvert_exporter": "python",
   "pygments_lexer": "ipython3",
   "version": "3.9.1"
  }
 },
 "nbformat": 4,
 "nbformat_minor": 4
}
