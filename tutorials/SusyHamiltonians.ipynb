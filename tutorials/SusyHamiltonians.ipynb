{
 "cells": [
  {
   "cell_type": "markdown",
   "metadata": {},
   "source": [
    "# Supersymmetric harmonic oscillator\n",
    "\n",
    "As a warmup, lets go through the steps to get from the Hamiltonian of this system to a quantum circuit that lets us evolve states according to the time evolution operator.\n",
    "\n",
    "The superpotential is \n",
    "\\begin{equation}\n",
    "    W(\\hat{q}) = \\frac{1}{2}m \\hat{q}^2\n",
    "\\end{equation}\n",
    "which leads to the following Hamiltonian,\n",
    "\\begin{equation}\n",
    "    H = \\frac{1}{2}\\left(H_B+H_F\\right), \\quad \n",
    "        H_B=\\hat{p}^2+m^2\\hat{q}^2, \\quad H_F=m\\left[\\hat{b}^{\\dagger},\\hat{b}\\right].\n",
    "\\end{equation}\n",
    "This contains two terms, a bosonic piece and a fermionic piece.  For the bosonic part, we could work in the position or momentum basis, but this is just the Hamiltonian for a harmonic oscillator, so lets convert to the number basis.  \n"
   ]
  },
  {
   "cell_type": "code",
   "execution_count": 2,
   "metadata": {},
   "outputs": [
    {
     "name": "stdout",
     "output_type": "stream",
     "text": [
      "Original H = 0.5*(m**2*q**2 + p**2)\n",
      "Using creation/annihlation operators\n",
      "H_B = 0.5*m*a*ad + 0.5*m*ad*a\n",
      "H_F = -0.5*m\n"
     ]
    }
   ],
   "source": [
    "import sys\n",
    "sys.path.append('..')\n",
    "from src.sympy_utilities import *\n",
    "from src.BinaryEncodings import *\n",
    "from src.MatrixToPauliString import *\n",
    "\n",
    "import sympy as sp\n",
    "\n",
    "h_b = 0.5*(p*p + m*m*q*q)\n",
    "\n",
    "print('Original H = ' + str(h_b))\n",
    "h_b = sp.expand(h_b.subs(qp_to_ada))\n",
    "h_f = -0.5*m#[bdag,b]\n",
    "print('Using creation/annihlation operators\\nH_B = ' + str(h_b))\n",
    "print('H_F = ' + str(h_f))"
   ]
  },
  {
   "cell_type": "markdown",
   "metadata": {},
   "source": [
    "And we know the matrix elements of $A$ and $A^{\\dagger}$, they are defined in HamiltonianTerms.  We of course must impose a cutoff at this point, truncating the allowed excitations of the harmonic oscillator"
   ]
  },
  {
   "cell_type": "code",
   "execution_count": 3,
   "metadata": {},
   "outputs": [
    {
     "name": "stdout",
     "output_type": "stream",
     "text": [
      "done\n",
      "\n",
      "[[0.500000000000000 0]\n",
      " [0 1.50000000000000]]\n",
      "[[0.500000000000000 0 0 0]\n",
      " [0 1.50000000000000 0 0]\n",
      " [0 0 0.500000000000000 0]\n",
      " [0 0 0 1.50000000000000]]\n",
      "1.0*I^0 - 0.5*Z^0\n",
      "\n",
      "-0.500000000000000\n",
      "[[0.500000000000000 0 0 0]\n",
      " [0 0.500000000000000 0 0]\n",
      " [0 0 -0.500000000000000 0]\n",
      " [0 0 0 -0.500000000000000]]\n",
      "0.5*I^0*Z^1\n",
      "\n",
      "1.0*I^0*I^1 + 0.5*I^0*Z^1 - 0.5*I^1*Z^0\n",
      "[[1.00000000000000 0 0 0]\n",
      " [0 2.00000000000000 0 0]\n",
      " [0 0 0 0]\n",
      " [0 0 0 1.00000000000000]]\n"
     ]
    }
   ],
   "source": [
    "hamHO = Hamiltonian(h_b, h_f, {m:1, g:1},\n",
    "                     2, standard_encode)\n",
    "print('done')\n",
    "print()\n",
    "print(hamHO.bmatrix)\n",
    "print(np.kron(np.eye(2),hamHO.bmatrix))\n",
    "print(hamHO.bosonPauliStrings)\n",
    "print()\n",
    "print(hamHO.fermionic)\n",
    "print(hamHO.fmatrix)\n",
    "print(sp.simplify(hamHO.fermionPauliStrings))\n",
    "print()\n",
    "\n",
    "print(hamHO.pauliStrings)\n",
    "print(hamHO.hamMatrix)"
   ]
  },
  {
   "cell_type": "code",
   "execution_count": 3,
   "metadata": {},
   "outputs": [
    {
     "name": "stdout",
     "output_type": "stream",
     "text": [
      "boson matrix\n",
      "[[0.500000000000000 0 0]\n",
      " [0 1.50000000000000 0]\n",
      " [0 0 2.50000000000000]]\n",
      "boson matrix as pauli strings\n",
      "1.125*I^0*I^1 - 0.125*I^0*Z^1 + 0.375*I^1*Z^0 - 0.875*Z^0*Z^1\n",
      "boson pauli strings as matrix\n",
      "[[ 5.00000000e-01+0.j  0.00000000e+00+0.j  0.00000000e+00+0.j\n",
      "   0.00000000e+00+0.j]\n",
      " [ 0.00000000e+00+0.j  1.50000000e+00+0.j  0.00000000e+00+0.j\n",
      "   0.00000000e+00+0.j]\n",
      " [ 0.00000000e+00+0.j  0.00000000e+00+0.j  2.50000000e+00+0.j\n",
      "   0.00000000e+00+0.j]\n",
      " [ 0.00000000e+00+0.j  0.00000000e+00+0.j  0.00000000e+00+0.j\n",
      "  -5.55111512e-17+0.j]]\n",
      "\n",
      "boson matrix in full hilbert space\n",
      "[[0.500000000000000 0 0 0 0 0]\n",
      " [0 1.50000000000000 0 0 0 0]\n",
      " [0 0 2.50000000000000 0 0 0]\n",
      " [0 0 0 0.500000000000000 0 0]\n",
      " [0 0 0 0 1.50000000000000 0]\n",
      " [0 0 0 0 0 2.50000000000000]]\n",
      "boson pauli strings in full hilbert space\n",
      "1.125*I^0*I^1*I^2 + 0.125*I^0*I^1*Z^2 + 0.375*I^0*I^2*Z^1 - 0.625*I^0*Z^1*Z^2 + 0.25*I^1*Z^0*Z^2 - 0.5*I^2*Z^0*Z^1 - 0.25*Z^0*Z^1*Z^2\n",
      "back to matrix\n",
      "[[ 5.00000000e-01+0.j  0.00000000e+00+0.j  0.00000000e+00+0.j\n",
      "   0.00000000e+00+0.j  0.00000000e+00+0.j  0.00000000e+00+0.j\n",
      "   0.00000000e+00+0.j  0.00000000e+00+0.j]\n",
      " [ 0.00000000e+00+0.j  1.50000000e+00+0.j  0.00000000e+00+0.j\n",
      "   0.00000000e+00+0.j  0.00000000e+00+0.j  0.00000000e+00+0.j\n",
      "   0.00000000e+00+0.j  0.00000000e+00+0.j]\n",
      " [ 0.00000000e+00+0.j  0.00000000e+00+0.j  2.50000000e+00+0.j\n",
      "   0.00000000e+00+0.j  0.00000000e+00+0.j  0.00000000e+00+0.j\n",
      "   0.00000000e+00+0.j  0.00000000e+00+0.j]\n",
      " [ 0.00000000e+00+0.j  0.00000000e+00+0.j  0.00000000e+00+0.j\n",
      "   5.00000000e-01+0.j  0.00000000e+00+0.j  0.00000000e+00+0.j\n",
      "   0.00000000e+00+0.j  0.00000000e+00+0.j]\n",
      " [ 0.00000000e+00+0.j  0.00000000e+00+0.j  0.00000000e+00+0.j\n",
      "   0.00000000e+00+0.j  1.50000000e+00+0.j  0.00000000e+00+0.j\n",
      "   0.00000000e+00+0.j  0.00000000e+00+0.j]\n",
      " [ 0.00000000e+00+0.j  0.00000000e+00+0.j  0.00000000e+00+0.j\n",
      "   0.00000000e+00+0.j  0.00000000e+00+0.j  2.50000000e+00+0.j\n",
      "   0.00000000e+00+0.j  0.00000000e+00+0.j]\n",
      " [ 0.00000000e+00+0.j  0.00000000e+00+0.j  0.00000000e+00+0.j\n",
      "   0.00000000e+00+0.j  0.00000000e+00+0.j  0.00000000e+00+0.j\n",
      "  -5.55111512e-17+0.j  0.00000000e+00+0.j]\n",
      " [ 0.00000000e+00+0.j  0.00000000e+00+0.j  0.00000000e+00+0.j\n",
      "   0.00000000e+00+0.j  0.00000000e+00+0.j  0.00000000e+00+0.j\n",
      "   0.00000000e+00+0.j  5.55111512e-17+0.j]]\n",
      "\n",
      "fermionic coef\n",
      "-0.500000000000000\n",
      "fermionic matrix\n",
      "[[0.500000000000000 0 0 0 0 0]\n",
      " [0 0.500000000000000 0 0 0 0]\n",
      " [0 0 0.500000000000000 0 0 0]\n",
      " [0 0 0 -0.500000000000000 0 0]\n",
      " [0 0 0 0 -0.500000000000000 0]\n",
      " [0 0 0 0 0 -0.500000000000000]]\n",
      "fermionic pauli strings\n",
      "0.25*I^0*I^1*Z^2 + 0.25*I^0*Z^1*Z^2 + 0.125*I^1*I^2*Z^0 + 0.125*I^1*Z^0*Z^2 - 0.125*I^2*Z^0*Z^1 - 0.125*Z^0*Z^1*Z^2\n",
      "\n",
      "fermionic pauli strings as Matrix\n",
      "[[ 0.5+0.j  0. +0.j  0. +0.j  0. +0.j  0. +0.j  0. +0.j  0. +0.j  0. +0.j]\n",
      " [ 0. +0.j  0.5+0.j  0. +0.j  0. +0.j  0. +0.j  0. +0.j  0. +0.j  0. +0.j]\n",
      " [ 0. +0.j  0. +0.j  0.5+0.j  0. +0.j  0. +0.j  0. +0.j  0. +0.j  0. +0.j]\n",
      " [ 0. +0.j  0. +0.j  0. +0.j -0.5+0.j  0. +0.j  0. +0.j  0. +0.j  0. +0.j]\n",
      " [ 0. +0.j  0. +0.j  0. +0.j  0. +0.j -0.5+0.j  0. +0.j  0. +0.j  0. +0.j]\n",
      " [ 0. +0.j  0. +0.j  0. +0.j  0. +0.j  0. +0.j -0.5+0.j  0. +0.j  0. +0.j]\n",
      " [ 0. +0.j  0. +0.j  0. +0.j  0. +0.j  0. +0.j  0. +0.j  0. +0.j  0. +0.j]\n",
      " [ 0. +0.j  0. +0.j  0. +0.j  0. +0.j  0. +0.j  0. +0.j  0. +0.j  0. +0.j]]\n",
      "Hamiltonian pauli strings\n",
      "1.125*I^0*I^1*I^2 + 0.375*I^0*I^1*Z^2 + 0.375*I^0*I^2*Z^1 - 0.375*I^0*Z^1*Z^2 + 0.125*I^1*I^2*Z^0 + 0.375*I^1*Z^0*Z^2 - 0.625*I^2*Z^0*Z^1 - 0.375*Z^0*Z^1*Z^2\n",
      "Expected to get...\n",
      "1.125*I^0*I^1*I^2 + 0.375*I^0*I^1*Z^2 + 0.375*I^0*I^2*Z^1 - 0.375*I^0*Z^1*Z^2 + 0.125*I^1*I^2*Z^0 + 0.375*I^1*Z^0*Z^2 - 0.625*I^2*Z^0*Z^1 - 0.375*Z^0*Z^1*Z^2\n",
      "\n",
      "Ham matrix is\n",
      "[[1.00000000000000 0 0 0 0 0]\n",
      " [0 2.00000000000000 0 0 0 0]\n",
      " [0 0 3.00000000000000 0 0 0]\n",
      " [0 0 0 0 0 0]\n",
      " [0 0 0 0 1.00000000000000 0]\n",
      " [0 0 0 0 0 2.00000000000000]]\n",
      "But I would expect it has the same spectrum as\n",
      "[[1.+0.j 0.+0.j 0.+0.j 0.+0.j 0.+0.j 0.+0.j 0.+0.j 0.+0.j]\n",
      " [0.+0.j 2.+0.j 0.+0.j 0.+0.j 0.+0.j 0.+0.j 0.+0.j 0.+0.j]\n",
      " [0.+0.j 0.+0.j 3.+0.j 0.+0.j 0.+0.j 0.+0.j 0.+0.j 0.+0.j]\n",
      " [0.+0.j 0.+0.j 0.+0.j 0.+0.j 0.+0.j 0.+0.j 0.+0.j 0.+0.j]\n",
      " [0.+0.j 0.+0.j 0.+0.j 0.+0.j 1.+0.j 0.+0.j 0.+0.j 0.+0.j]\n",
      " [0.+0.j 0.+0.j 0.+0.j 0.+0.j 0.+0.j 2.+0.j 0.+0.j 0.+0.j]\n",
      " [0.+0.j 0.+0.j 0.+0.j 0.+0.j 0.+0.j 0.+0.j 0.+0.j 0.+0.j]\n",
      " [0.+0.j 0.+0.j 0.+0.j 0.+0.j 0.+0.j 0.+0.j 0.+0.j 0.+0.j]]\n"
     ]
    }
   ],
   "source": [
    "hamHO = Hamiltonian(h_b, h_f, {m:1, g:1},\n",
    "                     3, standard_encode)\n",
    "\n",
    "print('boson matrix')\n",
    "print(hamHO.bmatrix)\n",
    "print('boson matrix as pauli strings')\n",
    "print(hamHO.bosonPauliStrings)\n",
    "print('boson pauli strings as matrix')\n",
    "print(getMatrix(sp.expand(hamHO.bosonPauliStrings)))\n",
    "print()\n",
    "print('boson matrix in full hilbert space')\n",
    "tmpMat=np.kron(np.eye(2),hamHO.bmatrix)\n",
    "print(tmpMat)\n",
    "print('boson pauli strings in full hilbert space')\n",
    "tmpPS=sp.expand(sp.N(mps.matrix_to_pauli_strings(tmpMat, standard_encode)))\n",
    "print(tmpPS)\n",
    "print('back to matrix')\n",
    "print(getMatrix(sp.expand(tmpPS)))\n",
    "print()\n",
    "print('fermionic coef')\n",
    "print(hamHO.fermionic)\n",
    "print('fermionic matrix')\n",
    "print(hamHO.fmatrix)\n",
    "print('fermionic pauli strings')\n",
    "print(sp.simplify(hamHO.fermionPauliStrings))\n",
    "print()\n",
    "print('fermionic pauli strings as Matrix')\n",
    "print(getMatrix(sp.expand(hamHO.fermionPauliStrings)))\n",
    "\n",
    "print('Hamiltonian pauli strings')\n",
    "print(hamHO.pauliStrings)\n",
    "print('Expected to get...')\n",
    "tstHam=tmpMat+hamHO.fmatrix\n",
    "tstPS=sp.expand(mps.matrix_to_pauli_strings(tstHam,standard_encode))\n",
    "print(tstPS)\n",
    "print()\n",
    "print('Ham matrix is')\n",
    "print(hamHO.hamMatrix)\n",
    "print('But I would expect it has the same spectrum as')\n",
    "print(getMatrix(tstPS))"
   ]
  },
  {
   "cell_type": "markdown",
   "metadata": {},
   "source": [
    "# Supersymmetric Anharmonic Oscillator\n",
    "\n",
    "The superpotential is \n",
    "\\begin{equation}\n",
    "    W(\\hat{q}) = \\frac{1}{2}m\\hat{q}^2 + \\frac{1}{4}g\\hat{q}^4\n",
    "\\end{equation}\n",
    "\n",
    "The full Hamiltonian is\n",
    "\\begin{equation}\n",
    "    H=\\frac{1}{2}\\left[\\hat{p}^2 + m^2\\hat{q}^2 + 2mg\\hat{q}^4 + g^2\\hat{q}^6 - (m+3g\\hat{q}^2)\\left[b^{\\dagger},b\\right]\\right]\n",
    "\\end{equation}"
   ]
  },
  {
   "cell_type": "code",
   "execution_count": 4,
   "metadata": {},
   "outputs": [],
   "source": [
    "import sys\n",
    "sys.path.append('..')\n",
    "from src.sympy_utilities import *\n",
    "from src.BinaryEncodings import *\n",
    "\n",
    "import sympy as sp\n",
    "\n",
    "h_b = 0.5*(p*p + m*m*q*q + 2.*m*g*q*q*q*q + g*g*q*q*q*q*q*q)\n",
    "h_f = -0.5*(m+3*g*q*q)#[bdag,b]\n",
    "\n",
    "\n",
    "n=3\n",
    "hamAHO = Hamiltonian(h_b, h_f, {m:1, g:1},\n",
    "                    n, standard_encode)"
   ]
  },
  {
   "cell_type": "code",
   "execution_count": 5,
   "metadata": {},
   "outputs": [
    {
     "name": "stdout",
     "output_type": "stream",
     "text": [
      "boson matrix\n",
      "[[2.18750000000000 0 6.09879598773397]\n",
      " [0 11.8125000000000 0]\n",
      " [6.09879598773397 0 35.6875000000000]]\n",
      "boson matrix as pauli strings\n",
      "12.421875*I^0*I^1 + 3.04939799386699*I^0*X^1 + 2.22044604925031e-16*I*I^0*Y^1 - 5.421875*I^0*Z^1 + 6.515625*I^1*Z^0 + 3.04939799386699*X^1*Z^0 + 2.22044604925031e-16*I*Y^1*Z^0 - 11.328125*Z^0*Z^1\n",
      "boson pauli strings as matrix\n",
      "[[ 2.1875    +0.j  0.        +0.j  6.09879599+0.j  0.        +0.j]\n",
      " [ 0.        +0.j 11.8125    +0.j  0.        +0.j  0.        +0.j]\n",
      " [ 6.09879599+0.j  0.        +0.j 35.6875    +0.j  0.        +0.j]\n",
      " [ 0.        +0.j  0.        +0.j  0.        +0.j  0.        +0.j]]\n",
      "\n",
      "boson matrix in full hilbert space\n",
      "[[2.18750000000000 0 6.09879598773397 0 0 0]\n",
      " [0 11.8125000000000 0 0 0 0]\n",
      " [6.09879598773397 0 35.6875000000000 0 0 0]\n",
      " [0 0 0 2.18750000000000 0 6.09879598773397]\n",
      " [0 0 0 0 11.8125000000000 0]\n",
      " [0 0 0 6.09879598773397 0 35.6875000000000]]\n",
      "boson pauli strings in full hilbert space\n",
      "12.421875*I^0*I^1*I^2 + 0.546875*I^0*I^1*Z^2 + 1.52469899693349*I^0*I^2*X^1 + 2.953125*I^0*I^2*Z^1 + 1.52469899693349*I^0*X^1*X^2 + 1.52469899693349*I^0*X^1*Z^2 + 1.52469899693349*I^0*Y^1*Y^2 - 8.921875*I^0*Z^1*Z^2 + 5.96875*I^1*Z^0*Z^2 + 1.52469899693349*I^2*X^1*Z^0 - 8.375*I^2*Z^0*Z^1 - 1.52469899693349*X^1*X^2*Z^0 + 1.52469899693349*X^1*Z^0*Z^2 - 1.52469899693349*Y^1*Y^2*Z^0 - 2.40625*Z^0*Z^1*Z^2\n",
      "back to matrix\n",
      "[[ 2.1875    +0.j  0.        +0.j  6.09879599+0.j  0.        +0.j\n",
      "   0.        +0.j  0.        +0.j  0.        +0.j  0.        +0.j]\n",
      " [ 0.        +0.j 11.8125    +0.j  0.        +0.j  0.        +0.j\n",
      "   0.        +0.j  0.        +0.j  0.        +0.j  0.        +0.j]\n",
      " [ 6.09879599+0.j  0.        +0.j 35.6875    +0.j  0.        +0.j\n",
      "   0.        +0.j  0.        +0.j  0.        +0.j  0.        +0.j]\n",
      " [ 0.        +0.j  0.        +0.j  0.        +0.j  2.1875    +0.j\n",
      "   0.        +0.j  6.09879599+0.j  0.        +0.j  0.        +0.j]\n",
      " [ 0.        +0.j  0.        +0.j  0.        +0.j  0.        +0.j\n",
      "  11.8125    +0.j  0.        +0.j  0.        +0.j  0.        +0.j]\n",
      " [ 0.        +0.j  0.        +0.j  0.        +0.j  6.09879599+0.j\n",
      "   0.        +0.j 35.6875    +0.j  0.        +0.j  0.        +0.j]\n",
      " [ 0.        +0.j  0.        +0.j  0.        +0.j  0.        +0.j\n",
      "   0.        +0.j  0.        +0.j  0.        +0.j  0.        +0.j]\n",
      " [ 0.        +0.j  0.        +0.j  0.        +0.j  0.        +0.j\n",
      "   0.        +0.j  0.        +0.j  0.        +0.j  0.        +0.j]]\n",
      "\n",
      "fermionic coef\n",
      "-0.5 - 0.75*a*ad - 0.75*a**2 - 0.75*ad*a - 0.75*ad**2\n",
      "fermionic matrix\n",
      "[[1.25000000000000 0 1.06066017177982 0 0 0]\n",
      " [0 2.75000000000000 0 0 0 0]\n",
      " [1.06066017177982 0 4.25000000000000 0 0 0]\n",
      " [0 0 0 -1.25000000000000 0 -1.06066017177982]\n",
      " [0 0 0 0 -2.75000000000000 0]\n",
      " [0 0 0 -1.06066017177982 0 -4.25000000000000]]\n",
      "fermionic pauli strings\n",
      "1.75*I^0*I^1*Z^2 + 0.265165042944955*I^0*I^2*X^1 - 0.75*I^0*I^2*Z^1 - 0.265165042944955*I^0*X^1*X^2 + 0.265165042944955*I^0*X^1*Z^2 - 0.265165042944955*I^0*Y^1*Y^2 + 1.0*I^0*Z^1*Z^2 + 0.6875*I^1*I^2*Z^0 + 0.3125*I^1*Z^0*Z^2 + 0.265165042944955*I^2*X^1*Z^0 - 0.6875*I^2*Z^0*Z^1 + 0.265165042944955*X^1*X^2*Z^0 + 0.265165042944955*X^1*Z^0*Z^2 + 0.265165042944955*Y^1*Y^2*Z^0 - 1.0625*Z^0*Z^1*Z^2\n",
      "\n",
      "fermionic pauli strings as Matrix\n",
      "[[ 1.25      +0.j  0.        +0.j  1.06066017+0.j  0.        +0.j\n",
      "   0.        +0.j  0.        +0.j  0.        +0.j  0.        +0.j]\n",
      " [ 0.        +0.j  2.75      +0.j  0.        +0.j  0.        +0.j\n",
      "   0.        +0.j  0.        +0.j  0.        +0.j  0.        +0.j]\n",
      " [ 1.06066017+0.j  0.        +0.j  4.25      +0.j  0.        +0.j\n",
      "   0.        +0.j  0.        +0.j  0.        +0.j  0.        +0.j]\n",
      " [ 0.        +0.j  0.        +0.j  0.        +0.j -1.25      +0.j\n",
      "   0.        +0.j -1.06066017+0.j  0.        +0.j  0.        +0.j]\n",
      " [ 0.        +0.j  0.        +0.j  0.        +0.j  0.        +0.j\n",
      "  -2.75      +0.j  0.        +0.j  0.        +0.j  0.        +0.j]\n",
      " [ 0.        +0.j  0.        +0.j  0.        +0.j -1.06066017+0.j\n",
      "   0.        +0.j -4.25      +0.j  0.        +0.j  0.        +0.j]\n",
      " [ 0.        +0.j  0.        +0.j  0.        +0.j  0.        +0.j\n",
      "   0.        +0.j  0.        +0.j  0.        +0.j  0.        +0.j]\n",
      " [ 0.        +0.j  0.        +0.j  0.        +0.j  0.        +0.j\n",
      "   0.        +0.j  0.        +0.j  0.        +0.j  0.        +0.j]]\n",
      "Hamiltonian pauli strings\n",
      "12.421875*I^0*I^1*I^2 + 2.296875*I^0*I^1*Z^2 + 1.78986403987845*I^0*I^2*X^1 + 2.203125*I^0*I^2*Z^1 + 1.25953395398854*I^0*X^1*X^2 + 1.78986403987845*I^0*X^1*Z^2 + 1.25953395398854*I^0*Y^1*Y^2 - 7.921875*I^0*Z^1*Z^2 + 0.6875*I^1*I^2*Z^0 + 6.28125*I^1*Z^0*Z^2 + 1.78986403987845*I^2*X^1*Z^0 - 9.0625*I^2*Z^0*Z^1 - 1.25953395398854*X^1*X^2*Z^0 + 1.78986403987845*X^1*Z^0*Z^2 - 1.25953395398854*Y^1*Y^2*Z^0 - 3.46875*Z^0*Z^1*Z^2\n",
      "Expected to get...\n",
      "12.421875*I^0*I^1*I^2 + 2.296875*I^0*I^1*Z^2 + 1.78986403987845*I^0*I^2*X^1 + 2.203125*I^0*I^2*Z^1 + 1.25953395398854*I^0*X^1*X^2 + 1.78986403987845*I^0*X^1*Z^2 + 1.25953395398854*I^0*Y^1*Y^2 - 7.921875*I^0*Z^1*Z^2 + 0.6875*I^1*I^2*Z^0 + 6.28125*I^1*Z^0*Z^2 + 1.78986403987845*I^2*X^1*Z^0 - 9.0625*I^2*Z^0*Z^1 - 1.25953395398854*X^1*X^2*Z^0 + 1.78986403987845*X^1*Z^0*Z^2 - 1.25953395398854*Y^1*Y^2*Z^0 - 3.46875*Z^0*Z^1*Z^2\n",
      "\n",
      "Ham matrix is\n",
      "[[3.43750000000000 0 7.15945615951379 0 0 0]\n",
      " [0 14.5625000000000 0 0 0 0]\n",
      " [7.15945615951379 0 39.9375000000000 0 0 0]\n",
      " [0 0 0 0.937500000000000 0 5.03813581595415]\n",
      " [0 0 0 0 9.06250000000000 0]\n",
      " [0 0 0 5.03813581595415 0 31.4375000000000]]\n",
      "But I would expect it has the same spectrum as\n",
      "[[ 3.4375    +0.j  0.        +0.j  7.15945616+0.j  0.        +0.j\n",
      "   0.        +0.j  0.        +0.j  0.        +0.j  0.        +0.j]\n",
      " [ 0.        +0.j 14.5625    +0.j  0.        +0.j  0.        +0.j\n",
      "   0.        +0.j  0.        +0.j  0.        +0.j  0.        +0.j]\n",
      " [ 7.15945616+0.j  0.        +0.j 39.9375    +0.j  0.        +0.j\n",
      "   0.        +0.j  0.        +0.j  0.        +0.j  0.        +0.j]\n",
      " [ 0.        +0.j  0.        +0.j  0.        +0.j  0.9375    +0.j\n",
      "   0.        +0.j  5.03813582+0.j  0.        +0.j  0.        +0.j]\n",
      " [ 0.        +0.j  0.        +0.j  0.        +0.j  0.        +0.j\n",
      "   9.0625    +0.j  0.        +0.j  0.        +0.j  0.        +0.j]\n",
      " [ 0.        +0.j  0.        +0.j  0.        +0.j  5.03813582+0.j\n",
      "   0.        +0.j 31.4375    +0.j  0.        +0.j  0.        +0.j]\n",
      " [ 0.        +0.j  0.        +0.j  0.        +0.j  0.        +0.j\n",
      "   0.        +0.j  0.        +0.j  0.        +0.j  0.        +0.j]\n",
      " [ 0.        +0.j  0.        +0.j  0.        +0.j  0.        +0.j\n",
      "   0.        +0.j  0.        +0.j  0.        +0.j  0.        +0.j]]\n"
     ]
    }
   ],
   "source": [
    "print('boson matrix')\n",
    "print(hamAHO.bmatrix)\n",
    "print('boson matrix as pauli strings')\n",
    "print(hamAHO.bosonPauliStrings)\n",
    "print('boson pauli strings as matrix')\n",
    "print(getMatrix(sp.expand(hamAHO.bosonPauliStrings)))\n",
    "print()\n",
    "print('boson matrix in full hilbert space')\n",
    "tmpMat=np.kron(np.eye(2),hamAHO.bmatrix)\n",
    "print(tmpMat)\n",
    "print('boson pauli strings in full hilbert space')\n",
    "tmpPS=sp.expand(sp.N(mps.matrix_to_pauli_strings(tmpMat, standard_encode)))\n",
    "tmpPS=tmpPS.xreplace(dict([(n,0) for n in tmpPS.atoms(sp.Float) if abs(n) < 1e-12]))\n",
    "print(tmpPS)\n",
    "print('back to matrix')\n",
    "print(getMatrix(sp.expand(tmpPS)))\n",
    "print()\n",
    "print('fermionic coef')\n",
    "print(hamAHO.fermionic)\n",
    "print('fermionic matrix')\n",
    "print(hamAHO.fmatrix)\n",
    "print('fermionic pauli strings')\n",
    "print(sp.simplify(hamAHO.fermionPauliStrings))\n",
    "print()\n",
    "print('fermionic pauli strings as Matrix')\n",
    "print(getMatrix(sp.expand(hamAHO.fermionPauliStrings)))\n",
    "\n",
    "print('Hamiltonian pauli strings')\n",
    "print(hamAHO.pauliStrings)\n",
    "print('Expected to get...')\n",
    "tstHam=tmpMat+hamAHO.fmatrix\n",
    "tstPS=sp.expand(mps.matrix_to_pauli_strings(tstHam,standard_encode))\n",
    "tstPS=tstPS.xreplace(dict([(n,0) for n in tstPS.atoms(sp.Float) if abs(n) < 1e-12]))\n",
    "print(tstPS)\n",
    "print()\n",
    "print('Ham matrix is')\n",
    "print(hamAHO.hamMatrix)\n",
    "print('But I would expect it has the same spectrum as')\n",
    "print(getMatrix(tstPS))"
   ]
  },
  {
   "cell_type": "code",
   "execution_count": 6,
   "metadata": {},
   "outputs": [
    {
     "name": "stdout",
     "output_type": "stream",
     "text": [
      "[ 2.08341082 41.29158918 32.24817597  0.12682403 14.5625      9.0625    ]\n",
      "[ 2.08341082+0.j 41.29158918+0.j 32.24817597+0.j  0.12682403+0.j\n",
      " 14.5625    +0.j  9.0625    +0.j  0.        +0.j  0.        +0.j]\n"
     ]
    }
   ],
   "source": [
    "print(np.linalg.eig(np.array(hamAHO.hamMatrix,dtype=float))[0])\n",
    "print(np.linalg.eig(np.array(getMatrix(tstPS),dtype=complex))[0])"
   ]
  },
  {
   "cell_type": "code",
   "execution_count": null,
   "metadata": {},
   "outputs": [],
   "source": []
  },
  {
   "cell_type": "code",
   "execution_count": null,
   "metadata": {},
   "outputs": [],
   "source": []
  },
  {
   "cell_type": "code",
   "execution_count": null,
   "metadata": {},
   "outputs": [],
   "source": []
  },
  {
   "cell_type": "code",
   "execution_count": null,
   "metadata": {},
   "outputs": [],
   "source": []
  },
  {
   "cell_type": "code",
   "execution_count": 7,
   "metadata": {},
   "outputs": [],
   "source": [
    "h_b = 0.5*(p*p + m*m*q*q + 2.*m*g*q*q*q*q + g*g*q*q*q*q*q*q)\n",
    "h_f = -0.5*(m+3*g*q*q)#[bdag,b]\n",
    "\n",
    "\n",
    "n=2\n",
    "hamAHO = Hamiltonian(h_b, h_f, {m:1, g:0},\n",
    "                    n, standard_encode)"
   ]
  },
  {
   "cell_type": "code",
   "execution_count": 8,
   "metadata": {},
   "outputs": [
    {
     "data": {
      "text/latex": [
       "$\\displaystyle 1.0 I^{0} I^{1} + 0.5 I^{0} Z^{1} - 0.5 I^{1} Z^{0}$"
      ],
      "text/plain": [
       "1.0*I^0*I^1 + 0.5*I^0*Z^1 - 0.5*I^1*Z^0"
      ]
     },
     "execution_count": 8,
     "metadata": {},
     "output_type": "execute_result"
    }
   ],
   "source": [
    "hamAHO.pauliStrings"
   ]
  },
  {
   "cell_type": "code",
   "execution_count": 9,
   "metadata": {},
   "outputs": [],
   "source": [
    "h_b = 0.5*(p*p + m*m*q*q + 2.*m*g*q*q*q*q + g*g*q*q*q*q*q*q)\n",
    "h_f = 0.5*(m+3*g*q*q)#[bdag,b]\n",
    "\n",
    "\n",
    "n=4\n",
    "hamAHO = Hamiltonian(h_b, h_f, {m:1, g:1},\n",
    "                    n, standard_encode)"
   ]
  },
  {
   "cell_type": "code",
   "execution_count": 10,
   "metadata": {},
   "outputs": [
    {
     "data": {
      "text/latex": [
       "$\\displaystyle 32.75 I^{0} I^{1} I^{2} - 3.5 I^{0} I^{1} Z^{2} + 14.1486483908533 I^{0} I^{2} X^{1} - 25.75 I^{0} I^{2} Z^{1} - 1.4488887394336 I^{0} X^{1} Z^{2} + 1.5 I^{0} Z^{1} Z^{2} - 13.8125 I^{1} I^{2} Z^{0} + 0.75 I^{1} Z^{0} Z^{2} - 8.04985240311929 I^{2} X^{1} Z^{0} + 9.0 I^{2} Z^{0} Z^{1} + 0.388228567653781 X^{1} Z^{0} Z^{2}$"
      ],
      "text/plain": [
       "32.75*I^0*I^1*I^2 - 3.5*I^0*I^1*Z^2 + 14.1486483908533*I^0*I^2*X^1 - 25.75*I^0*I^2*Z^1 - 1.4488887394336*I^0*X^1*Z^2 + 1.5*I^0*Z^1*Z^2 - 13.8125*I^1*I^2*Z^0 + 0.75*I^1*Z^0*Z^2 - 8.04985240311929*I^2*X^1*Z^0 + 9.0*I^2*Z^0*Z^1 + 0.388228567653781*X^1*Z^0*Z^2"
      ]
     },
     "execution_count": 10,
     "metadata": {},
     "output_type": "execute_result"
    }
   ],
   "source": [
    "hamAHO.pauliStrings"
   ]
  },
  {
   "cell_type": "code",
   "execution_count": 11,
   "metadata": {},
   "outputs": [
    {
     "data": {
      "text/plain": [
       "array([[0.937500000000000, 0, 5.03813581595415, 0, 0, 0, 0, 0],\n",
       "       [0, 9.06250000000000, 0, 20.3613834868852, 0, 0, 0, 0],\n",
       "       [5.03813581595415, 0, 31.4375000000000, 0, 0, 0, 0, 0],\n",
       "       [0, 20.3613834868852, 0, 75.5625000000000, 0, 0, 0, 0],\n",
       "       [0, 0, 0, 0, 3.43750000000000, 0, 7.15945615951379, 0],\n",
       "       [0, 0, 0, 0, 0, 14.5625000000000, 0, 24.0356181010599],\n",
       "       [0, 0, 0, 0, 7.15945615951379, 0, 39.9375000000000, 0],\n",
       "       [0, 0, 0, 0, 0, 24.0356181010599, 0, 87.0625000000000]],\n",
       "      dtype=object)"
      ]
     },
     "execution_count": 11,
     "metadata": {},
     "output_type": "execute_result"
    }
   ],
   "source": [
    "hamAHO.hamMatrix"
   ]
  },
  {
   "cell_type": "code",
   "execution_count": null,
   "metadata": {},
   "outputs": [],
   "source": []
  },
  {
   "cell_type": "code",
   "execution_count": null,
   "metadata": {},
   "outputs": [],
   "source": []
  },
  {
   "cell_type": "code",
   "execution_count": null,
   "metadata": {},
   "outputs": [],
   "source": []
  },
  {
   "cell_type": "code",
   "execution_count": 12,
   "metadata": {},
   "outputs": [],
   "source": [
    "h_b = 0.5*(p*p + m*m*q*q + 2.*m*g*q*q*q*q + g*g*q*q*q*q*q*q)\n",
    "h_f = 0.5*(m+3*g*q*q)#[bdag,b]\n",
    "\n",
    "\n",
    "n=16\n",
    "hamAHO = Hamiltonian(h_b, h_f, {m:1, g:1},\n",
    "                    n, standard_encode)"
   ]
  },
  {
   "cell_type": "code",
   "execution_count": 13,
   "metadata": {},
   "outputs": [
    {
     "data": {
      "text/plain": [
       "array([[0.937500000000000, 0, 5.03813581595415, ..., 0, 0, 0],\n",
       "       [0, 9.06250000000000, 0, ..., 0, 0, 0],\n",
       "       [5.03813581595415, 0, 31.4375000000000, ..., 0, 0, 0],\n",
       "       ...,\n",
       "       [0, 0, 0, ..., 3404.56250000000, 0, 3087.56895798499],\n",
       "       [0, 0, 0, ..., 0, 4185.93750000000, 0],\n",
       "       [0, 0, 0, ..., 3087.56895798499, 0, 5079.06250000000]],\n",
       "      dtype=object)"
      ]
     },
     "execution_count": 13,
     "metadata": {},
     "output_type": "execute_result"
    }
   ],
   "source": [
    "hamAHO.hamMatrix"
   ]
  },
  {
   "cell_type": "code",
   "execution_count": 14,
   "metadata": {},
   "outputs": [
    {
     "data": {
      "text/plain": [
       "(array([6.57894977e+03, 2.25639928e+03, 8.15513246e+03, 7.72064707e+02,\n",
       "        2.94732376e+03, 1.07392833e+03, 2.41232814e+02, 3.63855960e+02,\n",
       "        6.48981985e+01, 1.08552639e+02, 1.55392089e+01, 1.83029849e-03,\n",
       "        4.41418952e+00, 2.80518338e+01, 1.70732190e+00, 7.94769938e+00,\n",
       "        6.64516415e+03, 8.22656441e+03, 2.30194206e+03, 2.99741317e+03,\n",
       "        8.03262342e+02, 1.10905748e+03, 2.61810455e+02, 3.87766690e+02,\n",
       "        7.75413666e+01, 1.23939075e+02, 2.23264623e+01, 1.68720122e+00,\n",
       "        7.76596507e+00, 3.70114181e+01, 4.37401524e+00, 1.23737466e+01]),\n",
       " array([[-1.03525103e-05,  3.13339444e-04,  2.13081460e-16, ...,\n",
       "          0.00000000e+00,  0.00000000e+00,  0.00000000e+00],\n",
       "        [ 7.88134159e-17,  1.52831849e-16,  3.02380308e-05, ...,\n",
       "          0.00000000e+00,  0.00000000e+00,  0.00000000e+00],\n",
       "        [-3.29898140e-04,  6.84387248e-03,  4.73645581e-18, ...,\n",
       "          0.00000000e+00,  0.00000000e+00,  0.00000000e+00],\n",
       "        ...,\n",
       "        [ 0.00000000e+00,  0.00000000e+00,  0.00000000e+00, ...,\n",
       "          2.53206548e-01, -9.34079889e-03,  1.11411834e-01],\n",
       "        [ 0.00000000e+00,  0.00000000e+00,  0.00000000e+00, ...,\n",
       "          2.75243001e-16,  9.80045085e-16,  2.44284724e-16],\n",
       "        [ 0.00000000e+00,  0.00000000e+00,  0.00000000e+00, ...,\n",
       "         -8.53149825e-02,  1.85663814e-03, -3.19499322e-02]]))"
      ]
     },
     "execution_count": 14,
     "metadata": {},
     "output_type": "execute_result"
    }
   ],
   "source": [
    "np.linalg.eig(np.array(hamAHO.hamMatrix,dtype=float))"
   ]
  },
  {
   "cell_type": "code",
   "execution_count": null,
   "metadata": {},
   "outputs": [],
   "source": []
  },
  {
   "cell_type": "code",
   "execution_count": null,
   "metadata": {},
   "outputs": [],
   "source": []
  },
  {
   "cell_type": "markdown",
   "metadata": {},
   "source": [
    "# Double Well Potential"
   ]
  },
  {
   "cell_type": "code",
   "execution_count": 15,
   "metadata": {},
   "outputs": [],
   "source": [
    "h_b_DW = 0.5*(p*p + (m*q + g*(q*q + mu*mu))**2)\n",
    "h_f_DW = -0.5*(m+2*g*q)#[bdag,b]"
   ]
  },
  {
   "cell_type": "code",
   "execution_count": 16,
   "metadata": {},
   "outputs": [
    {
     "name": "stdout",
     "output_type": "stream",
     "text": [
      "boson matrix\n",
      "[[1.87500000000000 1.25*sqrt(2)]\n",
      " [1.25*sqrt(2) 5.37500000000000]]\n",
      "boson matrix as pauli strings\n",
      "3.625*I^0 + 1.76776695296637*X^0 - 1.75*Z^0\n",
      "boson pauli strings as matrix\n",
      "[[1.875     +0.j 1.76776695+0.j]\n",
      " [1.76776695+0.j 5.375     +0.j]]\n",
      "\n",
      "boson matrix in full hilbert space\n",
      "[[1.87500000000000 1.25*sqrt(2) 0 0]\n",
      " [1.25*sqrt(2) 5.37500000000000 0 0]\n",
      " [0 0 1.87500000000000 1.25*sqrt(2)]\n",
      " [0 0 1.25*sqrt(2) 5.37500000000000]]\n",
      "boson pauli strings in full hilbert space\n",
      "3.625*I^0*I^1 + 1.76776695296637*I^1*X^0 - 1.75*I^1*Z^0\n",
      "back to matrix\n",
      "[[1.875     +0.j 1.76776695+0.j 0.        +0.j 0.        +0.j]\n",
      " [1.76776695+0.j 5.375     +0.j 0.        +0.j 0.        +0.j]\n",
      " [0.        +0.j 0.        +0.j 1.875     +0.j 1.76776695+0.j]\n",
      " [0.        +0.j 0.        +0.j 1.76776695+0.j 5.375     +0.j]]\n",
      "\n",
      "fermionic coef\n",
      "-0.5 - 0.5*sqrt(2)*a - 0.5*sqrt(2)*ad\n",
      "fermionic matrix\n",
      "[[0.500000000000000 0.5*sqrt(2) 0 0]\n",
      " [0.5*sqrt(2) 0.500000000000000 0 0]\n",
      " [0 0 -0.500000000000000 -0.5*sqrt(2)]\n",
      " [0 0 -0.5*sqrt(2) -0.500000000000000]]\n",
      "fermionic pauli strings\n",
      "Z^1*(0.5*I^0 + 0.707106781186548*X^0)\n",
      "\n",
      "fermionic pauli strings as Matrix\n",
      "[[ 0.5       +0.j  0.70710678+0.j  0.        +0.j  0.        +0.j]\n",
      " [ 0.70710678+0.j  0.5       +0.j  0.        +0.j  0.        +0.j]\n",
      " [ 0.        +0.j  0.        +0.j -0.5       +0.j -0.70710678+0.j]\n",
      " [ 0.        +0.j  0.        +0.j -0.70710678+0.j -0.5       +0.j]]\n",
      "Hamiltonian pauli strings\n",
      "3.625*I^0*I^1 + 0.5*I^0*Z^1 + 1.76776695296637*I^1*X^0 - 1.75*I^1*Z^0 + 0.707106781186548*X^0*Z^1\n",
      "Expected to get...\n",
      "3.625*I^0*I^1 + 0.5*I^0*Z^1 + 1.76776695296637*I^1*X^0 - 1.75*I^1*Z^0 + 0.707106781186548*X^0*Z^1\n",
      "\n",
      "Ham matrix is\n",
      "[[2.37500000000000 1.75*sqrt(2) 0 0]\n",
      " [1.75*sqrt(2) 5.87500000000000 0 0]\n",
      " [0 0 1.37500000000000 0.75*sqrt(2)]\n",
      " [0 0 0.75*sqrt(2) 4.87500000000000]]\n",
      "But I would expect it has the same spectrum as\n",
      "[[2.375     +0.j 2.47487373+0.j 0.        +0.j 0.        +0.j]\n",
      " [2.47487373+0.j 5.875     +0.j 0.        +0.j 0.        +0.j]\n",
      " [0.        +0.j 0.        +0.j 1.375     +0.j 1.06066017+0.j]\n",
      " [0.        +0.j 0.        +0.j 1.06066017+0.j 4.875     +0.j]]\n"
     ]
    }
   ],
   "source": [
    "from src.BinaryEncodings import *\n",
    "\n",
    "hamDW = Hamiltonian(h_b_DW, h_f_DW, {m:1, g:1, mu:1},\n",
    "                     2, standard_encode)\n",
    "print('boson matrix')\n",
    "print(hamDW.bmatrix)\n",
    "print('boson matrix as pauli strings')\n",
    "print(hamDW.bosonPauliStrings)\n",
    "print('boson pauli strings as matrix')\n",
    "print(getMatrix(sp.expand(hamDW.bosonPauliStrings)))\n",
    "print()\n",
    "print('boson matrix in full hilbert space')\n",
    "tmpMat=np.kron(np.eye(2),hamDW.bmatrix)\n",
    "print(tmpMat)\n",
    "print('boson pauli strings in full hilbert space')\n",
    "tmpPS=sp.expand(sp.N(mps.matrix_to_pauli_strings(tmpMat, standard_encode)))\n",
    "tmpPS=tmpPS.xreplace(dict([(n,0) for n in tmpPS.atoms(sp.Float) if abs(n) < 1e-12]))\n",
    "print(tmpPS)\n",
    "print('back to matrix')\n",
    "print(getMatrix(sp.expand(tmpPS)))\n",
    "print()\n",
    "print('fermionic coef')\n",
    "print(hamDW.fermionic)\n",
    "print('fermionic matrix')\n",
    "print(hamDW.fmatrix)\n",
    "print('fermionic pauli strings')\n",
    "print(sp.simplify(hamDW.fermionPauliStrings))\n",
    "print()\n",
    "print('fermionic pauli strings as Matrix')\n",
    "print(getMatrix(sp.expand(hamDW.fermionPauliStrings)))\n",
    "\n",
    "print('Hamiltonian pauli strings')\n",
    "print(hamDW.pauliStrings)\n",
    "print('Expected to get...')\n",
    "tstHam=tmpMat+hamDW.fmatrix\n",
    "tstPS=sp.expand(mps.matrix_to_pauli_strings(tstHam,standard_encode))\n",
    "tstPS=sp.N(tstPS.xreplace(dict([(n,0) for n in tstPS.atoms(sp.Float) if abs(n) < 1e-12])))\n",
    "print(tstPS)\n",
    "print()\n",
    "print('Ham matrix is')\n",
    "print(hamDW.hamMatrix)\n",
    "print('But I would expect it has the same spectrum as')\n",
    "print(getMatrix(tstPS))"
   ]
  },
  {
   "cell_type": "code",
   "execution_count": 17,
   "metadata": {},
   "outputs": [
    {
     "data": {
      "text/plain": [
       "2.4748737341529163"
      ]
     },
     "execution_count": 17,
     "metadata": {},
     "output_type": "execute_result"
    }
   ],
   "source": [
    "import math\n",
    "1.75*math.sqrt(2)"
   ]
  },
  {
   "cell_type": "code",
   "execution_count": 18,
   "metadata": {},
   "outputs": [
    {
     "data": {
      "text/plain": [
       "1.0606601717798214"
      ]
     },
     "execution_count": 18,
     "metadata": {},
     "output_type": "execute_result"
    }
   ],
   "source": [
    "0.75*math.sqrt(2)"
   ]
  },
  {
   "cell_type": "code",
   "execution_count": null,
   "metadata": {},
   "outputs": [],
   "source": []
  },
  {
   "cell_type": "code",
   "execution_count": null,
   "metadata": {},
   "outputs": [],
   "source": []
  },
  {
   "cell_type": "code",
   "execution_count": null,
   "metadata": {},
   "outputs": [],
   "source": []
  },
  {
   "cell_type": "markdown",
   "metadata": {},
   "source": [
    "## Compare to QISKIT MatrixOp??"
   ]
  },
  {
   "cell_type": "code",
   "execution_count": 1,
   "metadata": {},
   "outputs": [],
   "source": [
    "import qiskit\n",
    "from qiskit.opflow import MatrixOp"
   ]
  },
  {
   "cell_type": "code",
   "execution_count": 5,
   "metadata": {},
   "outputs": [
    {
     "data": {
      "text/latex": [
       "$\\displaystyle 1.0 I^{0} I^{1} + 0.5 I^{0} Z^{1} - 0.5 I^{1} Z^{0}$"
      ],
      "text/plain": [
       "1.0*I^0*I^1 + 0.5*I^0*Z^1 - 0.5*I^1*Z^0"
      ]
     },
     "execution_count": 5,
     "metadata": {},
     "output_type": "execute_result"
    }
   ],
   "source": [
    "hamHO.pauliStrings"
   ]
  },
  {
   "cell_type": "code",
   "execution_count": 7,
   "metadata": {},
   "outputs": [
    {
     "data": {
      "text/plain": [
       "array([[1.+0.j, 0.+0.j, 0.+0.j, 0.+0.j],\n",
       "       [0.+0.j, 2.+0.j, 0.+0.j, 0.+0.j],\n",
       "       [0.+0.j, 0.+0.j, 0.+0.j, 0.+0.j],\n",
       "       [0.+0.j, 0.+0.j, 0.+0.j, 1.+0.j]])"
      ]
     },
     "execution_count": 7,
     "metadata": {},
     "output_type": "execute_result"
    }
   ],
   "source": [
    "getMatrix(hamHO.pauliStrings)"
   ]
  },
  {
   "cell_type": "code",
   "execution_count": 6,
   "metadata": {},
   "outputs": [
    {
     "data": {
      "text/plain": [
       "array([[1.00000000000000, 0, 0, 0],\n",
       "       [0, 2.00000000000000, 0, 0],\n",
       "       [0, 0, 0, 0],\n",
       "       [0, 0, 0, 1.00000000000000]], dtype=object)"
      ]
     },
     "execution_count": 6,
     "metadata": {},
     "output_type": "execute_result"
    }
   ],
   "source": [
    "hamHO.hamMatrix"
   ]
  },
  {
   "cell_type": "code",
   "execution_count": 8,
   "metadata": {},
   "outputs": [
    {
     "data": {
      "text/plain": [
       "MatrixOp(Operator([[1.+0.j, 0.+0.j, 0.+0.j, 0.+0.j],\n",
       "          [0.+0.j, 2.+0.j, 0.+0.j, 0.+0.j],\n",
       "          [0.+0.j, 0.+0.j, 0.+0.j, 0.+0.j],\n",
       "          [0.+0.j, 0.+0.j, 0.+0.j, 1.+0.j]],\n",
       "         input_dims=(2, 2), output_dims=(2, 2)), coeff=1.0)"
      ]
     },
     "execution_count": 8,
     "metadata": {},
     "output_type": "execute_result"
    }
   ],
   "source": [
    "MatrixOp(hamHO.hamMatrix)"
   ]
  },
  {
   "cell_type": "code",
   "execution_count": null,
   "metadata": {},
   "outputs": [],
   "source": []
  }
 ],
 "metadata": {
  "kernelspec": {
   "display_name": "Python 3",
   "language": "python",
   "name": "python3"
  },
  "language_info": {
   "codemirror_mode": {
    "name": "ipython",
    "version": 3
   },
   "file_extension": ".py",
   "mimetype": "text/x-python",
   "name": "python",
   "nbconvert_exporter": "python",
   "pygments_lexer": "ipython3",
   "version": "3.9.1"
  }
 },
 "nbformat": 4,
 "nbformat_minor": 4
}
