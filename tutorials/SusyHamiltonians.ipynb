{
 "cells": [
  {
   "cell_type": "markdown",
   "metadata": {},
   "source": [
    "# Supersymmetric harmonic oscillator\n",
    "\n",
    "As a warmup, lets go through the steps to get from the Hamiltonian of this system to a quantum circuit that lets us evolve states according to the time evolution operator.\n",
    "\n",
    "The superpotential is \n",
    "\\begin{equation}\n",
    "    W(\\hat{q}) = \\frac{1}{2}m \\hat{q}^2\n",
    "\\end{equation}\n",
    "which leads to the following Hamiltonian,\n",
    "\\begin{equation}\n",
    "    H = \\frac{1}{2}\\left(H_B+H_F\\right), \\quad \n",
    "        H_B=\\hat{p}^2+m^2\\hat{q}^2, \\quad H_F=m\\left[\\hat{b}^{\\dagger},\\hat{b}\\right].\n",
    "\\end{equation}\n",
    "This contains two terms, a bosonic piece and a fermionic piece.  For the bosonic part, we could work in the position or momentum basis, but this is just the Hamiltonian for a harmonic oscillator, so lets convert to the number basis.  \n"
   ]
  },
  {
   "cell_type": "code",
   "execution_count": 1,
   "metadata": {},
   "outputs": [
    {
     "name": "stdout",
     "output_type": "stream",
     "text": [
      "Original H = 0.5*(m**2*q**2 + p**2)\n",
      "Using creation/annihlation operators\n",
      "H_B = 0.5*m*a*ad + 0.5*m*ad*a\n",
      "H_F = -0.5*m\n"
     ]
    }
   ],
   "source": [
    "import sys\n",
    "sys.path.append('..')\n",
    "from src.sympy_utilities import *\n",
    "from src.BinaryEncodings import *\n",
    "\n",
    "import sympy as sp\n",
    "\n",
    "h_b = 0.5*(p*p + m*m*q*q)\n",
    "\n",
    "print('Original H = ' + str(h_b))\n",
    "h_b = sp.expand(h_b.subs(qp_to_ada))\n",
    "h_f = -0.5*m#[bdag,b]\n",
    "print('Using creation/annihlation operators\\nH_B = ' + str(h_b))\n",
    "print('H_F = ' + str(h_f))"
   ]
  },
  {
   "cell_type": "markdown",
   "metadata": {},
   "source": [
    "And we know the matrix elements of $A$ and $A^{\\dagger}$, they are defined in HamiltonianTerms.  We of course must impose a cutoff at this point, truncating the allowed excitations of the harmonic oscillator"
   ]
  },
  {
   "cell_type": "code",
   "execution_count": 2,
   "metadata": {},
   "outputs": [
    {
     "name": "stdout",
     "output_type": "stream",
     "text": [
      "done\n",
      "\n",
      "[[0.500000000000000 0]\n",
      " [0 1.50000000000000]]\n",
      "[[0.500000000000000 0 0 0]\n",
      " [0 1.50000000000000 0 0]\n",
      " [0 0 0.500000000000000 0]\n",
      " [0 0 0 1.50000000000000]]\n",
      "1.0*I^0 - 0.5*Z^0\n",
      "\n",
      "-0.500000000000000\n",
      "[[0.500000000000000 0 0 0]\n",
      " [0 0.500000000000000 0 0]\n",
      " [0 0 -0.500000000000000 0]\n",
      " [0 0 0 -0.500000000000000]]\n",
      "0.5*I^0*Z^1\n",
      "\n",
      "1.0*I^0*I^1 + 0.5*I^0*Z^1 - 0.5*I^1*Z^0\n",
      "[[1.00000000000000 0 0 0]\n",
      " [0 2.00000000000000 0 0]\n",
      " [0 0 0 0]\n",
      " [0 0 0 1.00000000000000]]\n"
     ]
    }
   ],
   "source": [
    "from src.BinaryEncodings import *\n",
    "\n",
    "hamHO = Hamiltonian(h_b, h_f, {m:1, g:1},\n",
    "                     2, standard_encode)\n",
    "print('done')\n",
    "print()\n",
    "print(hamHO.bmatrix)\n",
    "print(np.kron(np.eye(2),hamHO.bmatrix))\n",
    "print(hamHO.bosonPauliStrings)\n",
    "print()\n",
    "print(hamHO.fermionic)\n",
    "print(hamHO.fmatrix)\n",
    "print(sp.simplify(hamHO.fermionPauliStrings))\n",
    "print()\n",
    "\n",
    "print(hamHO.pauliStrings)\n",
    "print(hamHO.hamMatrix)"
   ]
  },
  {
   "cell_type": "code",
   "execution_count": 3,
   "metadata": {},
   "outputs": [
    {
     "name": "stdout",
     "output_type": "stream",
     "text": [
      "boson matrix\n",
      "[[0.500000000000000 0 0]\n",
      " [0 1.50000000000000 0]\n",
      " [0 0 2.50000000000000]]\n",
      "boson matrix as pauli strings\n",
      "1.125*I^0*I^1 - 0.125*I^0*Z^1 + 0.375*I^1*Z^0 - 0.875*Z^0*Z^1\n",
      "boson pauli strings as matrix\n",
      "[[ 5.00000000e-01+0.j  0.00000000e+00+0.j  0.00000000e+00+0.j\n",
      "   0.00000000e+00+0.j]\n",
      " [ 0.00000000e+00+0.j  2.50000000e+00+0.j  0.00000000e+00+0.j\n",
      "   0.00000000e+00+0.j]\n",
      " [ 0.00000000e+00+0.j  0.00000000e+00+0.j  1.50000000e+00+0.j\n",
      "   0.00000000e+00+0.j]\n",
      " [ 0.00000000e+00+0.j  0.00000000e+00+0.j  0.00000000e+00+0.j\n",
      "  -5.55111512e-17+0.j]]\n",
      "\n",
      "boson matrix in full hilbert space\n",
      "[[0.500000000000000 0 0 0 0 0]\n",
      " [0 1.50000000000000 0 0 0 0]\n",
      " [0 0 2.50000000000000 0 0 0]\n",
      " [0 0 0 0.500000000000000 0 0]\n",
      " [0 0 0 0 1.50000000000000 0]\n",
      " [0 0 0 0 0 2.50000000000000]]\n",
      "boson pauli strings in full hilbert space\n",
      "1.125*I^0*I^1*I^2 + 0.125*I^0*I^1*Z^2 + 0.375*I^0*I^2*Z^1 - 0.625*I^0*Z^1*Z^2 + 0.25*I^1*Z^0*Z^2 - 0.5*I^2*Z^0*Z^1 - 0.25*Z^0*Z^1*Z^2\n",
      "back to matrix\n",
      "[[ 5.00000000e-01+0.j  0.00000000e+00+0.j  0.00000000e+00+0.j\n",
      "   0.00000000e+00+0.j  0.00000000e+00+0.j  0.00000000e+00+0.j\n",
      "   0.00000000e+00+0.j  0.00000000e+00+0.j]\n",
      " [ 0.00000000e+00+0.j  1.50000000e+00+0.j  0.00000000e+00+0.j\n",
      "   0.00000000e+00+0.j  0.00000000e+00+0.j  0.00000000e+00+0.j\n",
      "   0.00000000e+00+0.j  0.00000000e+00+0.j]\n",
      " [ 0.00000000e+00+0.j  0.00000000e+00+0.j  2.50000000e+00+0.j\n",
      "   0.00000000e+00+0.j  0.00000000e+00+0.j  0.00000000e+00+0.j\n",
      "   0.00000000e+00+0.j  0.00000000e+00+0.j]\n",
      " [ 0.00000000e+00+0.j  0.00000000e+00+0.j  0.00000000e+00+0.j\n",
      "  -5.55111512e-17+0.j  0.00000000e+00+0.j  0.00000000e+00+0.j\n",
      "   0.00000000e+00+0.j  0.00000000e+00+0.j]\n",
      " [ 0.00000000e+00+0.j  0.00000000e+00+0.j  0.00000000e+00+0.j\n",
      "   0.00000000e+00+0.j  1.50000000e+00+0.j  0.00000000e+00+0.j\n",
      "   0.00000000e+00+0.j  0.00000000e+00+0.j]\n",
      " [ 0.00000000e+00+0.j  0.00000000e+00+0.j  0.00000000e+00+0.j\n",
      "   0.00000000e+00+0.j  0.00000000e+00+0.j  2.50000000e+00+0.j\n",
      "   0.00000000e+00+0.j  0.00000000e+00+0.j]\n",
      " [ 0.00000000e+00+0.j  0.00000000e+00+0.j  0.00000000e+00+0.j\n",
      "   0.00000000e+00+0.j  0.00000000e+00+0.j  0.00000000e+00+0.j\n",
      "   5.00000000e-01+0.j  0.00000000e+00+0.j]\n",
      " [ 0.00000000e+00+0.j  0.00000000e+00+0.j  0.00000000e+00+0.j\n",
      "   0.00000000e+00+0.j  0.00000000e+00+0.j  0.00000000e+00+0.j\n",
      "   0.00000000e+00+0.j  5.55111512e-17+0.j]]\n",
      "\n",
      "fermionic coef\n",
      "-0.500000000000000\n",
      "fermionic matrix\n",
      "[[0.500000000000000 0 0 0 0 0]\n",
      " [0 0.500000000000000 0 0 0 0]\n",
      " [0 0 0.500000000000000 0 0 0]\n",
      " [0 0 0 -0.500000000000000 0 0]\n",
      " [0 0 0 0 -0.500000000000000 0]\n",
      " [0 0 0 0 0 -0.500000000000000]]\n",
      "fermionic pauli strings\n",
      "0.25*I^0*I^1*Z^2 + 0.25*I^0*Z^1*Z^2 + 0.125*I^1*I^2*Z^0 + 0.125*I^1*Z^0*Z^2 - 0.125*I^2*Z^0*Z^1 - 0.125*Z^0*Z^1*Z^2\n",
      "\n",
      "fermionic pauli strings as Matrix\n",
      "[[ 0.5+0.j  0. +0.j  0. +0.j  0. +0.j  0. +0.j  0. +0.j  0. +0.j  0. +0.j]\n",
      " [ 0. +0.j -0.5+0.j  0. +0.j  0. +0.j  0. +0.j  0. +0.j  0. +0.j  0. +0.j]\n",
      " [ 0. +0.j  0. +0.j  0.5+0.j  0. +0.j  0. +0.j  0. +0.j  0. +0.j  0. +0.j]\n",
      " [ 0. +0.j  0. +0.j  0. +0.j  0. +0.j  0. +0.j  0. +0.j  0. +0.j  0. +0.j]\n",
      " [ 0. +0.j  0. +0.j  0. +0.j  0. +0.j  0.5+0.j  0. +0.j  0. +0.j  0. +0.j]\n",
      " [ 0. +0.j  0. +0.j  0. +0.j  0. +0.j  0. +0.j -0.5+0.j  0. +0.j  0. +0.j]\n",
      " [ 0. +0.j  0. +0.j  0. +0.j  0. +0.j  0. +0.j  0. +0.j -0.5+0.j  0. +0.j]\n",
      " [ 0. +0.j  0. +0.j  0. +0.j  0. +0.j  0. +0.j  0. +0.j  0. +0.j  0. +0.j]]\n",
      "Hamiltonian pauli strings\n",
      "1.125*I^0*I^1*I^2 + 0.375*I^0*I^1*Z^2 + 0.375*I^0*I^2*Z^1 - 0.375*I^0*Z^1*Z^2 + 0.125*I^1*I^2*Z^0 + 0.375*I^1*Z^0*Z^2 - 0.625*I^2*Z^0*Z^1 - 0.375*Z^0*Z^1*Z^2\n",
      "Expected to get...\n",
      "1.125*I^0*I^1*I^2 + 0.375*I^0*I^1*Z^2 + 0.375*I^0*I^2*Z^1 - 0.375*I^0*Z^1*Z^2 + 0.125*I^1*I^2*Z^0 + 0.375*I^1*Z^0*Z^2 - 0.625*I^2*Z^0*Z^1 - 0.375*Z^0*Z^1*Z^2\n",
      "\n",
      "Ham matrix is\n",
      "[[1.00000000000000 0 0 0 0 0]\n",
      " [0 2.00000000000000 0 0 0 0]\n",
      " [0 0 3.00000000000000 0 0 0]\n",
      " [0 0 0 0 0 0]\n",
      " [0 0 0 0 1.00000000000000 0]\n",
      " [0 0 0 0 0 2.00000000000000]]\n",
      "But I would expect it has the same spectrum as\n",
      "[[1.+0.j 0.+0.j 0.+0.j 0.+0.j 0.+0.j 0.+0.j 0.+0.j 0.+0.j]\n",
      " [0.+0.j 1.+0.j 0.+0.j 0.+0.j 0.+0.j 0.+0.j 0.+0.j 0.+0.j]\n",
      " [0.+0.j 0.+0.j 3.+0.j 0.+0.j 0.+0.j 0.+0.j 0.+0.j 0.+0.j]\n",
      " [0.+0.j 0.+0.j 0.+0.j 0.+0.j 0.+0.j 0.+0.j 0.+0.j 0.+0.j]\n",
      " [0.+0.j 0.+0.j 0.+0.j 0.+0.j 2.+0.j 0.+0.j 0.+0.j 0.+0.j]\n",
      " [0.+0.j 0.+0.j 0.+0.j 0.+0.j 0.+0.j 2.+0.j 0.+0.j 0.+0.j]\n",
      " [0.+0.j 0.+0.j 0.+0.j 0.+0.j 0.+0.j 0.+0.j 0.+0.j 0.+0.j]\n",
      " [0.+0.j 0.+0.j 0.+0.j 0.+0.j 0.+0.j 0.+0.j 0.+0.j 0.+0.j]]\n"
     ]
    }
   ],
   "source": [
    "from src.BinaryEncodings import *\n",
    "\n",
    "hamHO = Hamiltonian(h_b, h_f, {m:1, g:1},\n",
    "                     3, standard_encode)\n",
    "\n",
    "print('boson matrix')\n",
    "print(hamHO.bmatrix)\n",
    "print('boson matrix as pauli strings')\n",
    "print(hamHO.bosonPauliStrings)\n",
    "print('boson pauli strings as matrix')\n",
    "print(getHamMat(sp.expand(hamHO.bosonPauliStrings)))\n",
    "print()\n",
    "print('boson matrix in full hilbert space')\n",
    "tmpMat=np.kron(np.eye(2),hamHO.bmatrix)\n",
    "print(tmpMat)\n",
    "print('boson pauli strings in full hilbert space')\n",
    "tmpPS=sp.expand(sp.N(mps.matrix_to_pauli_strings(tmpMat, standard_encode)))\n",
    "print(tmpPS)\n",
    "print('back to matrix')\n",
    "print(getHamMat(sp.expand(tmpPS)))\n",
    "print()\n",
    "print('fermionic coef')\n",
    "print(hamHO.fermionic)\n",
    "print('fermionic matrix')\n",
    "print(hamHO.fmatrix)\n",
    "print('fermionic pauli strings')\n",
    "print(sp.simplify(hamHO.fermionPauliStrings))\n",
    "print()\n",
    "print('fermionic pauli strings as Matrix')\n",
    "print(getHamMat(sp.expand(hamHO.fermionPauliStrings)))\n",
    "\n",
    "print('Hamiltonian pauli strings')\n",
    "print(hamHO.pauliStrings)\n",
    "print('Expected to get...')\n",
    "tstHam=tmpMat+hamHO.fmatrix\n",
    "tstPS=sp.expand(mps.matrix_to_pauli_strings(tstHam,standard_encode))\n",
    "print(tstPS)\n",
    "print()\n",
    "print('Ham matrix is')\n",
    "print(hamHO.hamMatrix)\n",
    "print('But I would expect it has the same spectrum as')\n",
    "print(getHamMat(tstPS))"
   ]
  },
  {
   "cell_type": "markdown",
   "metadata": {},
   "source": [
    "# Supersymmetric Anharmonic Oscillator\n",
    "\n",
    "The superpotential is \n",
    "\\begin{equation}\n",
    "    W(\\hat{q}) = \\frac{1}{2}m\\hat{q}^2 + \\frac{1}{4}g\\hat{q}^4\n",
    "\\end{equation}\n",
    "\n",
    "The full Hamiltonian is\n",
    "\\begin{equation}\n",
    "    H=\\frac{1}{2}\\left[\\hat{p}^2 + m^2\\hat{q}^2 + 2mg\\hat{q}^4 + g^2\\hat{q}^6 - (m+3g\\hat{q}^2)\\left[b^{\\dagger},b\\right]\\right]\n",
    "\\end{equation}"
   ]
  },
  {
   "cell_type": "code",
   "execution_count": 4,
   "metadata": {},
   "outputs": [],
   "source": [
    "import sys\n",
    "sys.path.append('..')\n",
    "from src.sympy_utilities import *\n",
    "from src.BinaryEncodings import *\n",
    "\n",
    "import sympy as sp\n",
    "\n",
    "h_b = 0.5*(p*p + m*m*q*q + 2.*m*g*q*q*q*q + g*g*q*q*q*q*q*q)\n",
    "h_f = -0.5*(m+3*g*q*q)#[bdag,b]\n",
    "\n",
    "\n",
    "n=3\n",
    "hamAHO = Hamiltonian(h_b, h_f, {m:1, g:1},\n",
    "                    n, standard_encode)"
   ]
  },
  {
   "cell_type": "code",
   "execution_count": 5,
   "metadata": {},
   "outputs": [
    {
     "name": "stdout",
     "output_type": "stream",
     "text": [
      "boson matrix\n",
      "[[2.18750000000000 0 6.09879598773397]\n",
      " [0 11.8125000000000 0]\n",
      " [6.09879598773397 0 35.6875000000000]]\n",
      "boson matrix as pauli strings\n",
      "12.421875*I^0*I^1 + 3.04939799386699*I^0*X^1 + 2.22044604925031e-16*I*I^0*Y^1 - 5.421875*I^0*Z^1 + 6.515625*I^1*Z^0 + 3.04939799386699*X^1*Z^0 + 2.22044604925031e-16*I*Y^1*Z^0 - 11.328125*Z^0*Z^1\n",
      "boson pauli strings as matrix\n",
      "[[ 2.1875    +0.j  6.09879599+0.j  0.        +0.j  0.        +0.j]\n",
      " [ 6.09879599+0.j 35.6875    +0.j  0.        +0.j  0.        +0.j]\n",
      " [ 0.        +0.j  0.        +0.j 11.8125    +0.j  0.        +0.j]\n",
      " [ 0.        +0.j  0.        +0.j  0.        +0.j  0.        +0.j]]\n",
      "\n",
      "boson matrix in full hilbert space\n",
      "[[2.18750000000000 0 6.09879598773397 0 0 0]\n",
      " [0 11.8125000000000 0 0 0 0]\n",
      " [6.09879598773397 0 35.6875000000000 0 0 0]\n",
      " [0 0 0 2.18750000000000 0 6.09879598773397]\n",
      " [0 0 0 0 11.8125000000000 0]\n",
      " [0 0 0 6.09879598773397 0 35.6875000000000]]\n",
      "boson pauli strings in full hilbert space\n",
      "12.421875*I^0*I^1*I^2 + 0.546875*I^0*I^1*Z^2 + 1.52469899693349*I^0*I^2*X^1 + 2.953125*I^0*I^2*Z^1 + 1.52469899693349*I^0*X^1*X^2 + 1.52469899693349*I^0*X^1*Z^2 + 1.52469899693349*I^0*Y^1*Y^2 - 8.921875*I^0*Z^1*Z^2 + 5.96875*I^1*Z^0*Z^2 + 1.52469899693349*I^2*X^1*Z^0 - 8.375*I^2*Z^0*Z^1 - 1.52469899693349*X^1*X^2*Z^0 + 1.52469899693349*X^1*Z^0*Z^2 - 1.52469899693349*Y^1*Y^2*Z^0 - 2.40625*Z^0*Z^1*Z^2\n",
      "back to matrix\n",
      "[[ 2.1875    +0.j  0.        +0.j  6.09879599+0.j  0.        +0.j\n",
      "   0.        +0.j  0.        +0.j  0.        +0.j  0.        +0.j]\n",
      " [ 0.        +0.j 11.8125    +0.j  0.        +0.j  0.        +0.j\n",
      "   0.        +0.j  0.        +0.j  0.        +0.j  0.        +0.j]\n",
      " [ 6.09879599+0.j  0.        +0.j 35.6875    +0.j  0.        +0.j\n",
      "   0.        +0.j  0.        +0.j  0.        +0.j  0.        +0.j]\n",
      " [ 0.        +0.j  0.        +0.j  0.        +0.j  0.        +0.j\n",
      "   0.        +0.j  0.        +0.j  0.        +0.j  0.        +0.j]\n",
      " [ 0.        +0.j  0.        +0.j  0.        +0.j  0.        +0.j\n",
      "  11.8125    +0.j  0.        +0.j  0.        +0.j  0.        +0.j]\n",
      " [ 0.        +0.j  0.        +0.j  0.        +0.j  0.        +0.j\n",
      "   0.        +0.j 35.6875    +0.j  6.09879599+0.j  0.        +0.j]\n",
      " [ 0.        +0.j  0.        +0.j  0.        +0.j  0.        +0.j\n",
      "   0.        +0.j  6.09879599+0.j  2.1875    +0.j  0.        +0.j]\n",
      " [ 0.        +0.j  0.        +0.j  0.        +0.j  0.        +0.j\n",
      "   0.        +0.j  0.        +0.j  0.        +0.j  0.        +0.j]]\n",
      "\n",
      "fermionic coef\n",
      "-0.5 - 0.75*a*ad - 0.75*a**2 - 0.75*ad*a - 0.75*ad**2\n",
      "fermionic matrix\n",
      "[[1.25000000000000 0 1.06066017177982 0 0 0]\n",
      " [0 2.75000000000000 0 0 0 0]\n",
      " [1.06066017177982 0 4.25000000000000 0 0 0]\n",
      " [0 0 0 -1.25000000000000 0 -1.06066017177982]\n",
      " [0 0 0 0 -2.75000000000000 0]\n",
      " [0 0 0 -1.06066017177982 0 -4.25000000000000]]\n",
      "fermionic pauli strings\n",
      "1.75*I^0*I^1*Z^2 + 0.265165042944955*I^0*I^2*X^1 - 0.75*I^0*I^2*Z^1 - 0.265165042944955*I^0*X^1*X^2 + 0.265165042944955*I^0*X^1*Z^2 - 0.265165042944955*I^0*Y^1*Y^2 + 1.0*I^0*Z^1*Z^2 + 0.6875*I^1*I^2*Z^0 + 0.3125*I^1*Z^0*Z^2 + 0.265165042944955*I^2*X^1*Z^0 - 0.6875*I^2*Z^0*Z^1 + 0.265165042944955*X^1*X^2*Z^0 + 0.265165042944955*X^1*Z^0*Z^2 + 0.265165042944955*Y^1*Y^2*Z^0 - 1.0625*Z^0*Z^1*Z^2\n",
      "\n",
      "fermionic pauli strings as Matrix\n",
      "[[ 1.25      +0.j  0.        +0.j  1.06066017+0.j  0.        +0.j\n",
      "   0.        +0.j  0.        +0.j  0.        +0.j  0.        +0.j]\n",
      " [ 0.        +0.j -2.75      +0.j  0.        +0.j  0.        +0.j\n",
      "   0.        +0.j  0.        +0.j  0.        +0.j  0.        +0.j]\n",
      " [ 1.06066017+0.j  0.        +0.j  4.25      +0.j  0.        +0.j\n",
      "   0.        +0.j  0.        +0.j  0.        +0.j  0.        +0.j]\n",
      " [ 0.        +0.j  0.        +0.j  0.        +0.j  0.        +0.j\n",
      "   0.        +0.j  0.        +0.j  0.        +0.j  0.        +0.j]\n",
      " [ 0.        +0.j  0.        +0.j  0.        +0.j  0.        +0.j\n",
      "   2.75      +0.j  0.        +0.j  0.        +0.j  0.        +0.j]\n",
      " [ 0.        +0.j  0.        +0.j  0.        +0.j  0.        +0.j\n",
      "   0.        +0.j -4.25      +0.j -1.06066017+0.j  0.        +0.j]\n",
      " [ 0.        +0.j  0.        +0.j  0.        +0.j  0.        +0.j\n",
      "   0.        +0.j -1.06066017+0.j -1.25      +0.j  0.        +0.j]\n",
      " [ 0.        +0.j  0.        +0.j  0.        +0.j  0.        +0.j\n",
      "   0.        +0.j  0.        +0.j  0.        +0.j  0.        +0.j]]\n",
      "Hamiltonian pauli strings\n",
      "12.421875*I^0*I^1*I^2 + 2.296875*I^0*I^1*Z^2 + 1.78986403987845*I^0*I^2*X^1 + 2.203125*I^0*I^2*Z^1 + 1.25953395398854*I^0*X^1*X^2 + 1.78986403987845*I^0*X^1*Z^2 + 1.25953395398854*I^0*Y^1*Y^2 - 7.921875*I^0*Z^1*Z^2 + 0.6875*I^1*I^2*Z^0 + 6.28125*I^1*Z^0*Z^2 + 1.78986403987845*I^2*X^1*Z^0 - 9.0625*I^2*Z^0*Z^1 - 1.25953395398854*X^1*X^2*Z^0 + 1.78986403987845*X^1*Z^0*Z^2 - 1.25953395398854*Y^1*Y^2*Z^0 - 3.46875*Z^0*Z^1*Z^2\n",
      "Expected to get...\n",
      "12.421875*I^0*I^1*I^2 + 2.296875*I^0*I^1*Z^2 + 1.78986403987845*I^0*I^2*X^1 + 2.203125*I^0*I^2*Z^1 + 1.25953395398854*I^0*X^1*X^2 + 1.78986403987845*I^0*X^1*Z^2 + 1.25953395398854*I^0*Y^1*Y^2 - 7.921875*I^0*Z^1*Z^2 + 0.6875*I^1*I^2*Z^0 + 6.28125*I^1*Z^0*Z^2 + 1.78986403987845*I^2*X^1*Z^0 - 9.0625*I^2*Z^0*Z^1 - 1.25953395398854*X^1*X^2*Z^0 + 1.78986403987845*X^1*Z^0*Z^2 - 1.25953395398854*Y^1*Y^2*Z^0 - 3.46875*Z^0*Z^1*Z^2\n",
      "\n",
      "Ham matrix is\n",
      "[[3.43750000000000 0 7.15945615951379 0 0 0]\n",
      " [0 14.5625000000000 0 0 0 0]\n",
      " [7.15945615951379 0 39.9375000000000 0 0 0]\n",
      " [0 0 0 0.937500000000000 0 5.03813581595415]\n",
      " [0 0 0 0 9.06250000000000 0]\n",
      " [0 0 0 5.03813581595415 0 31.4375000000000]]\n",
      "But I would expect it has the same spectrum as\n",
      "[[ 3.4375    +0.j  0.        +0.j  7.15945616+0.j  0.        +0.j\n",
      "   0.        +0.j  0.        +0.j  0.        +0.j  0.        +0.j]\n",
      " [ 0.        +0.j  9.0625    +0.j  0.        +0.j  0.        +0.j\n",
      "   0.        +0.j  0.        +0.j  0.        +0.j  0.        +0.j]\n",
      " [ 7.15945616+0.j  0.        +0.j 39.9375    +0.j  0.        +0.j\n",
      "   0.        +0.j  0.        +0.j  0.        +0.j  0.        +0.j]\n",
      " [ 0.        +0.j  0.        +0.j  0.        +0.j  0.        +0.j\n",
      "   0.        +0.j  0.        +0.j  0.        +0.j  0.        +0.j]\n",
      " [ 0.        +0.j  0.        +0.j  0.        +0.j  0.        +0.j\n",
      "  14.5625    +0.j  0.        +0.j  0.        +0.j  0.        +0.j]\n",
      " [ 0.        +0.j  0.        +0.j  0.        +0.j  0.        +0.j\n",
      "   0.        +0.j 31.4375    +0.j  5.03813582+0.j  0.        +0.j]\n",
      " [ 0.        +0.j  0.        +0.j  0.        +0.j  0.        +0.j\n",
      "   0.        +0.j  5.03813582+0.j  0.9375    +0.j  0.        +0.j]\n",
      " [ 0.        +0.j  0.        +0.j  0.        +0.j  0.        +0.j\n",
      "   0.        +0.j  0.        +0.j  0.        +0.j  0.        +0.j]]\n"
     ]
    }
   ],
   "source": [
    "print('boson matrix')\n",
    "print(hamAHO.bmatrix)\n",
    "print('boson matrix as pauli strings')\n",
    "print(hamAHO.bosonPauliStrings)\n",
    "print('boson pauli strings as matrix')\n",
    "print(getHamMat(sp.expand(hamAHO.bosonPauliStrings)))\n",
    "print()\n",
    "print('boson matrix in full hilbert space')\n",
    "tmpMat=np.kron(np.eye(2),hamAHO.bmatrix)\n",
    "print(tmpMat)\n",
    "print('boson pauli strings in full hilbert space')\n",
    "tmpPS=sp.expand(sp.N(mps.matrix_to_pauli_strings(tmpMat, standard_encode)))\n",
    "tmpPS=tmpPS.xreplace(dict([(n,0) for n in tmpPS.atoms(sp.Float) if abs(n) < 1e-12]))\n",
    "print(tmpPS)\n",
    "print('back to matrix')\n",
    "print(getHamMat(sp.expand(tmpPS)))\n",
    "print()\n",
    "print('fermionic coef')\n",
    "print(hamAHO.fermionic)\n",
    "print('fermionic matrix')\n",
    "print(hamAHO.fmatrix)\n",
    "print('fermionic pauli strings')\n",
    "print(sp.simplify(hamAHO.fermionPauliStrings))\n",
    "print()\n",
    "print('fermionic pauli strings as Matrix')\n",
    "print(getHamMat(sp.expand(hamAHO.fermionPauliStrings)))\n",
    "\n",
    "print('Hamiltonian pauli strings')\n",
    "print(hamAHO.pauliStrings)\n",
    "print('Expected to get...')\n",
    "tstHam=tmpMat+hamAHO.fmatrix\n",
    "tstPS=sp.expand(mps.matrix_to_pauli_strings(tstHam,standard_encode))\n",
    "tstPS=tstPS.xreplace(dict([(n,0) for n in tstPS.atoms(sp.Float) if abs(n) < 1e-12]))\n",
    "print(tstPS)\n",
    "print()\n",
    "print('Ham matrix is')\n",
    "print(hamAHO.hamMatrix)\n",
    "print('But I would expect it has the same spectrum as')\n",
    "print(getHamMat(tstPS))"
   ]
  },
  {
   "cell_type": "code",
   "execution_count": 6,
   "metadata": {},
   "outputs": [
    {
     "name": "stdout",
     "output_type": "stream",
     "text": [
      "[ 2.08341082 41.29158918 32.24817597  0.12682403 14.5625      9.0625    ]\n",
      "[ 2.08341082+0.j 41.29158918+0.j  0.12682403+0.j 32.24817597+0.j\n",
      "  9.0625    +0.j  0.        +0.j 14.5625    +0.j  0.        +0.j]\n"
     ]
    }
   ],
   "source": [
    "print(np.linalg.eig(np.array(hamAHO.hamMatrix,dtype=float))[0])\n",
    "print(np.linalg.eig(np.array(getHamMat(tstPS),dtype=complex))[0])"
   ]
  },
  {
   "cell_type": "code",
   "execution_count": null,
   "metadata": {},
   "outputs": [],
   "source": []
  },
  {
   "cell_type": "code",
   "execution_count": null,
   "metadata": {},
   "outputs": [],
   "source": []
  },
  {
   "cell_type": "code",
   "execution_count": null,
   "metadata": {},
   "outputs": [],
   "source": []
  },
  {
   "cell_type": "code",
   "execution_count": null,
   "metadata": {},
   "outputs": [],
   "source": []
  },
  {
   "cell_type": "code",
   "execution_count": 7,
   "metadata": {},
   "outputs": [],
   "source": [
    "h_b = 0.5*(p*p + m*m*q*q + 2.*m*g*q*q*q*q + g*g*q*q*q*q*q*q)\n",
    "h_f = -0.5*(m+3*g*q*q)#[bdag,b]\n",
    "\n",
    "\n",
    "n=2\n",
    "hamAHO = Hamiltonian(h_b, h_f, {m:1, g:0},\n",
    "                    n, standard_encode)"
   ]
  },
  {
   "cell_type": "code",
   "execution_count": 8,
   "metadata": {},
   "outputs": [
    {
     "data": {
      "text/latex": [
       "$\\displaystyle 1.0 I^{0} I^{1} + 0.5 I^{0} Z^{1} - 0.5 I^{1} Z^{0}$"
      ],
      "text/plain": [
       "1.0*I^0*I^1 + 0.5*I^0*Z^1 - 0.5*I^1*Z^0"
      ]
     },
     "execution_count": 8,
     "metadata": {},
     "output_type": "execute_result"
    }
   ],
   "source": [
    "hamAHO.pauliStrings"
   ]
  },
  {
   "cell_type": "code",
   "execution_count": 9,
   "metadata": {},
   "outputs": [],
   "source": [
    "h_b = 0.5*(p*p + m*m*q*q + 2.*m*g*q*q*q*q + g*g*q*q*q*q*q*q)\n",
    "h_f = 0.5*(m+3*g*q*q)#[bdag,b]\n",
    "\n",
    "\n",
    "n=4\n",
    "hamAHO = Hamiltonian(h_b, h_f, {m:1, g:1},\n",
    "                    n, standard_encode)"
   ]
  },
  {
   "cell_type": "code",
   "execution_count": 10,
   "metadata": {},
   "outputs": [
    {
     "data": {
      "text/latex": [
       "$\\displaystyle 32.75 I^{0} I^{1} I^{2} - 3.5 I^{0} I^{1} Z^{2} + 14.1486483908533 I^{0} I^{2} X^{1} - 25.75 I^{0} I^{2} Z^{1} - 1.4488887394336 I^{0} X^{1} Z^{2} + 1.5 I^{0} Z^{1} Z^{2} - 13.8125 I^{1} I^{2} Z^{0} + 0.75 I^{1} Z^{0} Z^{2} - 8.04985240311929 I^{2} X^{1} Z^{0} + 9.0 I^{2} Z^{0} Z^{1} + 0.388228567653781 X^{1} Z^{0} Z^{2}$"
      ],
      "text/plain": [
       "32.75*I^0*I^1*I^2 - 3.5*I^0*I^1*Z^2 + 14.1486483908533*I^0*I^2*X^1 - 25.75*I^0*I^2*Z^1 - 1.4488887394336*I^0*X^1*Z^2 + 1.5*I^0*Z^1*Z^2 - 13.8125*I^1*I^2*Z^0 + 0.75*I^1*Z^0*Z^2 - 8.04985240311929*I^2*X^1*Z^0 + 9.0*I^2*Z^0*Z^1 + 0.388228567653781*X^1*Z^0*Z^2"
      ]
     },
     "execution_count": 10,
     "metadata": {},
     "output_type": "execute_result"
    }
   ],
   "source": [
    "hamAHO.pauliStrings"
   ]
  },
  {
   "cell_type": "code",
   "execution_count": 11,
   "metadata": {},
   "outputs": [
    {
     "data": {
      "text/plain": [
       "array([[0.937500000000000, 0, 5.03813581595415, 0, 0, 0, 0, 0],\n",
       "       [0, 9.06250000000000, 0, 20.3613834868852, 0, 0, 0, 0],\n",
       "       [5.03813581595415, 0, 31.4375000000000, 0, 0, 0, 0, 0],\n",
       "       [0, 20.3613834868852, 0, 75.5625000000000, 0, 0, 0, 0],\n",
       "       [0, 0, 0, 0, 3.43750000000000, 0, 7.15945615951379, 0],\n",
       "       [0, 0, 0, 0, 0, 14.5625000000000, 0, 24.0356181010599],\n",
       "       [0, 0, 0, 0, 7.15945615951379, 0, 39.9375000000000, 0],\n",
       "       [0, 0, 0, 0, 0, 24.0356181010599, 0, 87.0625000000000]],\n",
       "      dtype=object)"
      ]
     },
     "execution_count": 11,
     "metadata": {},
     "output_type": "execute_result"
    }
   ],
   "source": [
    "hamAHO.hamMatrix"
   ]
  },
  {
   "cell_type": "code",
   "execution_count": null,
   "metadata": {},
   "outputs": [],
   "source": []
  },
  {
   "cell_type": "code",
   "execution_count": null,
   "metadata": {},
   "outputs": [],
   "source": []
  },
  {
   "cell_type": "code",
   "execution_count": null,
   "metadata": {},
   "outputs": [],
   "source": []
  },
  {
   "cell_type": "code",
   "execution_count": 12,
   "metadata": {},
   "outputs": [
    {
     "ename": "KeyboardInterrupt",
     "evalue": "",
     "output_type": "error",
     "traceback": [
      "\u001b[0;31m---------------------------------------------------------------------------\u001b[0m",
      "\u001b[0;31mKeyboardInterrupt\u001b[0m                         Traceback (most recent call last)",
      "\u001b[0;32m<ipython-input-12-729559648dd9>\u001b[0m in \u001b[0;36m<module>\u001b[0;34m\u001b[0m\n\u001b[1;32m      4\u001b[0m \u001b[0;34m\u001b[0m\u001b[0m\n\u001b[1;32m      5\u001b[0m \u001b[0mn\u001b[0m\u001b[0;34m=\u001b[0m\u001b[0;36m16\u001b[0m\u001b[0;34m\u001b[0m\u001b[0;34m\u001b[0m\u001b[0m\n\u001b[0;32m----> 6\u001b[0;31m hamAHO = Hamiltonian(h_b, h_f, {m:1, g:1},\n\u001b[0m\u001b[1;32m      7\u001b[0m                     n, standard_encode)\n",
      "\u001b[0;32m~/Code/SUSY_QuantumComputing/src/sympy_utilities.py\u001b[0m in \u001b[0;36m__init__\u001b[0;34m(self, bosonic, fermionic, params, cutoff, encoding)\u001b[0m\n\u001b[1;32m    104\u001b[0m         \u001b[0;31m#let's just store the bosonic hamiltonian in all interesting forms\u001b[0m\u001b[0;34m\u001b[0m\u001b[0;34m\u001b[0m\u001b[0;34m\u001b[0m\u001b[0m\n\u001b[1;32m    105\u001b[0m         \u001b[0mself\u001b[0m\u001b[0;34m.\u001b[0m\u001b[0mharmonic\u001b[0m \u001b[0;34m=\u001b[0m \u001b[0msp\u001b[0m\u001b[0;34m.\u001b[0m\u001b[0mexpand\u001b[0m\u001b[0;34m(\u001b[0m\u001b[0mself\u001b[0m\u001b[0;34m.\u001b[0m\u001b[0mbosonic\u001b[0m\u001b[0;34m.\u001b[0m\u001b[0msubs\u001b[0m\u001b[0;34m(\u001b[0m\u001b[0mqp_to_ada\u001b[0m\u001b[0;34m)\u001b[0m\u001b[0;34m)\u001b[0m\u001b[0;34m.\u001b[0m\u001b[0msubs\u001b[0m\u001b[0;34m(\u001b[0m\u001b[0mparams\u001b[0m\u001b[0;34m)\u001b[0m\u001b[0;34m\u001b[0m\u001b[0;34m\u001b[0m\u001b[0m\n\u001b[0;32m--> 106\u001b[0;31m         \u001b[0mself\u001b[0m\u001b[0;34m.\u001b[0m\u001b[0mbmatrix\u001b[0m \u001b[0;34m=\u001b[0m \u001b[0mconvert_to_matrix\u001b[0m\u001b[0;34m(\u001b[0m\u001b[0mself\u001b[0m\u001b[0;34m.\u001b[0m\u001b[0mharmonic\u001b[0m\u001b[0;34m,\u001b[0m \u001b[0mcutoff\u001b[0m\u001b[0;34m,\u001b[0m \u001b[0mself\u001b[0m\u001b[0;34m.\u001b[0m\u001b[0mbuffer\u001b[0m\u001b[0;34m)\u001b[0m\u001b[0;34m\u001b[0m\u001b[0;34m\u001b[0m\u001b[0m\n\u001b[0m\u001b[1;32m    107\u001b[0m         \u001b[0mself\u001b[0m\u001b[0;34m.\u001b[0m\u001b[0mbosonPauliStrings\u001b[0m \u001b[0;34m=\u001b[0m \u001b[0msp\u001b[0m\u001b[0;34m.\u001b[0m\u001b[0mexpand\u001b[0m\u001b[0;34m(\u001b[0m\u001b[0msp\u001b[0m\u001b[0;34m.\u001b[0m\u001b[0mN\u001b[0m\u001b[0;34m(\u001b[0m\u001b[0mmps\u001b[0m\u001b[0;34m.\u001b[0m\u001b[0mmatrix_to_pauli_strings\u001b[0m\u001b[0;34m(\u001b[0m\u001b[0mself\u001b[0m\u001b[0;34m.\u001b[0m\u001b[0mbmatrix\u001b[0m\u001b[0;34m,\u001b[0m \u001b[0mencoding\u001b[0m\u001b[0;34m)\u001b[0m\u001b[0;34m)\u001b[0m\u001b[0;34m)\u001b[0m\u001b[0;34m\u001b[0m\u001b[0;34m\u001b[0m\u001b[0m\n\u001b[1;32m    108\u001b[0m \u001b[0;34m\u001b[0m\u001b[0m\n",
      "\u001b[0;32m~/Code/SUSY_QuantumComputing/src/sympy_utilities.py\u001b[0m in \u001b[0;36mconvert_to_matrix\u001b[0;34m(expr, cutoff, buffer)\u001b[0m\n\u001b[1;32m     33\u001b[0m     \u001b[0;32mif\u001b[0m \u001b[0mtype\u001b[0m\u001b[0;34m(\u001b[0m\u001b[0mexpr\u001b[0m\u001b[0;34m)\u001b[0m\u001b[0;34m==\u001b[0m\u001b[0msp\u001b[0m\u001b[0;34m.\u001b[0m\u001b[0mcore\u001b[0m\u001b[0;34m.\u001b[0m\u001b[0madd\u001b[0m\u001b[0;34m.\u001b[0m\u001b[0mAdd\u001b[0m\u001b[0;34m:\u001b[0m\u001b[0;34m\u001b[0m\u001b[0;34m\u001b[0m\u001b[0m\n\u001b[1;32m     34\u001b[0m         \u001b[0;32mfor\u001b[0m \u001b[0melem\u001b[0m \u001b[0;32min\u001b[0m \u001b[0mexpr\u001b[0m\u001b[0;34m.\u001b[0m\u001b[0margs\u001b[0m\u001b[0;34m:\u001b[0m\u001b[0;34m\u001b[0m\u001b[0;34m\u001b[0m\u001b[0m\n\u001b[0;32m---> 35\u001b[0;31m             \u001b[0mnew_expr\u001b[0m \u001b[0;34m=\u001b[0m \u001b[0mnew_expr\u001b[0m \u001b[0;34m+\u001b[0m \u001b[0mconvert_term_to_matrix\u001b[0m\u001b[0;34m(\u001b[0m\u001b[0melem\u001b[0m\u001b[0;34m,\u001b[0m\u001b[0mcutoff\u001b[0m\u001b[0;34m+\u001b[0m\u001b[0mbuffer\u001b[0m\u001b[0;34m)\u001b[0m\u001b[0;34m\u001b[0m\u001b[0;34m\u001b[0m\u001b[0m\n\u001b[0m\u001b[1;32m     36\u001b[0m \u001b[0;34m\u001b[0m\u001b[0m\n\u001b[1;32m     37\u001b[0m     \u001b[0;32melif\u001b[0m \u001b[0mtype\u001b[0m\u001b[0;34m(\u001b[0m\u001b[0mexpr\u001b[0m\u001b[0;34m)\u001b[0m\u001b[0;34m==\u001b[0m\u001b[0msp\u001b[0m\u001b[0;34m.\u001b[0m\u001b[0mcore\u001b[0m\u001b[0;34m.\u001b[0m\u001b[0mmul\u001b[0m\u001b[0;34m.\u001b[0m\u001b[0mMul\u001b[0m\u001b[0;34m:\u001b[0m\u001b[0;34m\u001b[0m\u001b[0;34m\u001b[0m\u001b[0m\n",
      "\u001b[0;32m~/Code/SUSY_QuantumComputing/src/sympy_utilities.py\u001b[0m in \u001b[0;36mconvert_term_to_matrix\u001b[0;34m(term, cutoff)\u001b[0m\n\u001b[1;32m     69\u001b[0m                 \u001b[0;32mif\u001b[0m\u001b[0;34m(\u001b[0m\u001b[0mlen\u001b[0m\u001b[0;34m(\u001b[0m\u001b[0mlst\u001b[0m\u001b[0;34m)\u001b[0m\u001b[0;34m>\u001b[0m\u001b[0;36m1\u001b[0m\u001b[0;34m)\u001b[0m\u001b[0;34m:\u001b[0m \u001b[0;31m# this should handle pow?\u001b[0m\u001b[0;34m\u001b[0m\u001b[0;34m\u001b[0m\u001b[0m\n\u001b[1;32m     70\u001b[0m                     \u001b[0;32mfor\u001b[0m \u001b[0mi\u001b[0m \u001b[0;32min\u001b[0m \u001b[0mrange\u001b[0m\u001b[0;34m(\u001b[0m\u001b[0mlst\u001b[0m\u001b[0;34m[\u001b[0m\u001b[0;36m1\u001b[0m\u001b[0;34m]\u001b[0m\u001b[0;34m)\u001b[0m\u001b[0;34m:\u001b[0m\u001b[0;34m\u001b[0m\u001b[0;34m\u001b[0m\u001b[0m\n\u001b[0;32m---> 71\u001b[0;31m                         \u001b[0mnew_elem\u001b[0m\u001b[0;34m=\u001b[0m\u001b[0mnp\u001b[0m\u001b[0;34m.\u001b[0m\u001b[0mmatmul\u001b[0m\u001b[0;34m(\u001b[0m\u001b[0mnew_elem\u001b[0m\u001b[0;34m,\u001b[0m\u001b[0mlst\u001b[0m\u001b[0;34m[\u001b[0m\u001b[0;36m0\u001b[0m\u001b[0;34m]\u001b[0m\u001b[0;34m.\u001b[0m\u001b[0msubs\u001b[0m\u001b[0;34m(\u001b[0m\u001b[0madaga_sub\u001b[0m\u001b[0;34m(\u001b[0m\u001b[0mcutoff\u001b[0m\u001b[0;34m)\u001b[0m\u001b[0;34m)\u001b[0m\u001b[0;34m)\u001b[0m\u001b[0;34m\u001b[0m\u001b[0;34m\u001b[0m\u001b[0m\n\u001b[0m\u001b[1;32m     72\u001b[0m                 \u001b[0;32melse\u001b[0m\u001b[0;34m:\u001b[0m\u001b[0;34m\u001b[0m\u001b[0;34m\u001b[0m\u001b[0m\n\u001b[1;32m     73\u001b[0m \u001b[0;34m\u001b[0m\u001b[0m\n",
      "\u001b[0;32m~/Code/SUSY_QuantumComputing/src/sympy_utilities.py\u001b[0m in \u001b[0;36madaga_sub\u001b[0;34m(cutoff)\u001b[0m\n\u001b[1;32m     23\u001b[0m \u001b[0;34m\u001b[0m\u001b[0m\n\u001b[1;32m     24\u001b[0m \u001b[0;32mdef\u001b[0m \u001b[0madaga_sub\u001b[0m\u001b[0;34m(\u001b[0m\u001b[0mcutoff\u001b[0m\u001b[0;34m)\u001b[0m\u001b[0;34m:\u001b[0m\u001b[0;34m\u001b[0m\u001b[0;34m\u001b[0m\u001b[0m\n\u001b[0;32m---> 25\u001b[0;31m     \u001b[0;32mreturn\u001b[0m \u001b[0;34m{\u001b[0m\u001b[0ma\u001b[0m\u001b[0;34m:\u001b[0m \u001b[0msp\u001b[0m\u001b[0;34m.\u001b[0m\u001b[0mMatrix\u001b[0m\u001b[0;34m(\u001b[0m\u001b[0mhmats\u001b[0m\u001b[0;34m.\u001b[0m\u001b[0ma\u001b[0m\u001b[0;34m(\u001b[0m\u001b[0mcutoff\u001b[0m\u001b[0;34m)\u001b[0m\u001b[0;34m)\u001b[0m\u001b[0;34m,\u001b[0m \u001b[0madag\u001b[0m\u001b[0;34m:\u001b[0m \u001b[0msp\u001b[0m\u001b[0;34m.\u001b[0m\u001b[0mMatrix\u001b[0m\u001b[0;34m(\u001b[0m\u001b[0mhmats\u001b[0m\u001b[0;34m.\u001b[0m\u001b[0madag\u001b[0m\u001b[0;34m(\u001b[0m\u001b[0mcutoff\u001b[0m\u001b[0;34m)\u001b[0m\u001b[0;34m)\u001b[0m\u001b[0;34m}\u001b[0m\u001b[0;34m\u001b[0m\u001b[0;34m\u001b[0m\u001b[0m\n\u001b[0m\u001b[1;32m     26\u001b[0m \u001b[0;34m\u001b[0m\u001b[0m\n\u001b[1;32m     27\u001b[0m \u001b[0;34m\u001b[0m\u001b[0m\n",
      "\u001b[0;32m~/miniconda3/envs/QuantumComputing/lib/python3.9/site-packages/sympy/matrices/dense.py\u001b[0m in \u001b[0;36m__new__\u001b[0;34m(cls, *args, **kwargs)\u001b[0m\n\u001b[1;32m    293\u001b[0m \u001b[0;34m\u001b[0m\u001b[0m\n\u001b[1;32m    294\u001b[0m     \u001b[0;32mdef\u001b[0m \u001b[0m__new__\u001b[0m\u001b[0;34m(\u001b[0m\u001b[0mcls\u001b[0m\u001b[0;34m,\u001b[0m \u001b[0;34m*\u001b[0m\u001b[0margs\u001b[0m\u001b[0;34m,\u001b[0m \u001b[0;34m**\u001b[0m\u001b[0mkwargs\u001b[0m\u001b[0;34m)\u001b[0m\u001b[0;34m:\u001b[0m\u001b[0;34m\u001b[0m\u001b[0;34m\u001b[0m\u001b[0m\n\u001b[0;32m--> 295\u001b[0;31m         \u001b[0;32mreturn\u001b[0m \u001b[0mcls\u001b[0m\u001b[0;34m.\u001b[0m\u001b[0m_new\u001b[0m\u001b[0;34m(\u001b[0m\u001b[0;34m*\u001b[0m\u001b[0margs\u001b[0m\u001b[0;34m,\u001b[0m \u001b[0;34m**\u001b[0m\u001b[0mkwargs\u001b[0m\u001b[0;34m)\u001b[0m\u001b[0;34m\u001b[0m\u001b[0;34m\u001b[0m\u001b[0m\n\u001b[0m\u001b[1;32m    296\u001b[0m \u001b[0;34m\u001b[0m\u001b[0m\n\u001b[1;32m    297\u001b[0m     \u001b[0;34m@\u001b[0m\u001b[0mclassmethod\u001b[0m\u001b[0;34m\u001b[0m\u001b[0;34m\u001b[0m\u001b[0m\n",
      "\u001b[0;32m~/miniconda3/envs/QuantumComputing/lib/python3.9/site-packages/sympy/matrices/dense.py\u001b[0m in \u001b[0;36m_new\u001b[0;34m(cls, copy, *args, **kwargs)\u001b[0m\n\u001b[1;32m    304\u001b[0m             \u001b[0mrows\u001b[0m\u001b[0;34m,\u001b[0m \u001b[0mcols\u001b[0m\u001b[0;34m,\u001b[0m \u001b[0mflat_list\u001b[0m \u001b[0;34m=\u001b[0m \u001b[0margs\u001b[0m\u001b[0;34m\u001b[0m\u001b[0;34m\u001b[0m\u001b[0m\n\u001b[1;32m    305\u001b[0m         \u001b[0;32melse\u001b[0m\u001b[0;34m:\u001b[0m\u001b[0;34m\u001b[0m\u001b[0;34m\u001b[0m\u001b[0m\n\u001b[0;32m--> 306\u001b[0;31m             \u001b[0mrows\u001b[0m\u001b[0;34m,\u001b[0m \u001b[0mcols\u001b[0m\u001b[0;34m,\u001b[0m \u001b[0mflat_list\u001b[0m \u001b[0;34m=\u001b[0m \u001b[0mcls\u001b[0m\u001b[0;34m.\u001b[0m\u001b[0m_handle_creation_inputs\u001b[0m\u001b[0;34m(\u001b[0m\u001b[0;34m*\u001b[0m\u001b[0margs\u001b[0m\u001b[0;34m,\u001b[0m \u001b[0;34m**\u001b[0m\u001b[0mkwargs\u001b[0m\u001b[0;34m)\u001b[0m\u001b[0;34m\u001b[0m\u001b[0;34m\u001b[0m\u001b[0m\n\u001b[0m\u001b[1;32m    307\u001b[0m             \u001b[0mflat_list\u001b[0m \u001b[0;34m=\u001b[0m \u001b[0mlist\u001b[0m\u001b[0;34m(\u001b[0m\u001b[0mflat_list\u001b[0m\u001b[0;34m)\u001b[0m \u001b[0;31m# create a shallow copy\u001b[0m\u001b[0;34m\u001b[0m\u001b[0;34m\u001b[0m\u001b[0m\n\u001b[1;32m    308\u001b[0m         \u001b[0mself\u001b[0m \u001b[0;34m=\u001b[0m \u001b[0mobject\u001b[0m\u001b[0;34m.\u001b[0m\u001b[0m__new__\u001b[0m\u001b[0;34m(\u001b[0m\u001b[0mcls\u001b[0m\u001b[0;34m)\u001b[0m\u001b[0;34m\u001b[0m\u001b[0;34m\u001b[0m\u001b[0m\n",
      "\u001b[0;32m~/miniconda3/envs/QuantumComputing/lib/python3.9/site-packages/sympy/matrices/matrices.py\u001b[0m in \u001b[0;36m_handle_creation_inputs\u001b[0;34m(cls, *args, **kwargs)\u001b[0m\n\u001b[1;32m    948\u001b[0m             \u001b[0;31m# Matrix(numpy.ones((2, 2)))\u001b[0m\u001b[0;34m\u001b[0m\u001b[0;34m\u001b[0m\u001b[0;34m\u001b[0m\u001b[0m\n\u001b[1;32m    949\u001b[0m             \u001b[0;32melif\u001b[0m \u001b[0mhasattr\u001b[0m\u001b[0;34m(\u001b[0m\u001b[0margs\u001b[0m\u001b[0;34m[\u001b[0m\u001b[0;36m0\u001b[0m\u001b[0;34m]\u001b[0m\u001b[0;34m,\u001b[0m \u001b[0;34m\"__array__\"\u001b[0m\u001b[0;34m)\u001b[0m\u001b[0;34m:\u001b[0m\u001b[0;34m\u001b[0m\u001b[0;34m\u001b[0m\u001b[0m\n\u001b[0;32m--> 950\u001b[0;31m                 \u001b[0;32mreturn\u001b[0m \u001b[0mcls\u001b[0m\u001b[0;34m.\u001b[0m\u001b[0m_handle_ndarray\u001b[0m\u001b[0;34m(\u001b[0m\u001b[0margs\u001b[0m\u001b[0;34m[\u001b[0m\u001b[0;36m0\u001b[0m\u001b[0;34m]\u001b[0m\u001b[0;34m)\u001b[0m\u001b[0;34m\u001b[0m\u001b[0;34m\u001b[0m\u001b[0m\n\u001b[0m\u001b[1;32m    951\u001b[0m \u001b[0;34m\u001b[0m\u001b[0m\n\u001b[1;32m    952\u001b[0m             \u001b[0;31m# Matrix([1, 2, 3]) or Matrix([[1, 2], [3, 4]])\u001b[0m\u001b[0;34m\u001b[0m\u001b[0;34m\u001b[0m\u001b[0;34m\u001b[0m\u001b[0m\n",
      "\u001b[0;32m~/miniconda3/envs/QuantumComputing/lib/python3.9/site-packages/sympy/matrices/matrices.py\u001b[0m in \u001b[0;36m_handle_ndarray\u001b[0;34m(cls, arg)\u001b[0m\n\u001b[1;32m    866\u001b[0m         \u001b[0;32mif\u001b[0m \u001b[0mlen\u001b[0m\u001b[0;34m(\u001b[0m\u001b[0marr\u001b[0m\u001b[0;34m.\u001b[0m\u001b[0mshape\u001b[0m\u001b[0;34m)\u001b[0m \u001b[0;34m==\u001b[0m \u001b[0;36m2\u001b[0m\u001b[0;34m:\u001b[0m\u001b[0;34m\u001b[0m\u001b[0;34m\u001b[0m\u001b[0m\n\u001b[1;32m    867\u001b[0m             \u001b[0mrows\u001b[0m\u001b[0;34m,\u001b[0m \u001b[0mcols\u001b[0m \u001b[0;34m=\u001b[0m \u001b[0marr\u001b[0m\u001b[0;34m.\u001b[0m\u001b[0mshape\u001b[0m\u001b[0;34m[\u001b[0m\u001b[0;36m0\u001b[0m\u001b[0;34m]\u001b[0m\u001b[0;34m,\u001b[0m \u001b[0marr\u001b[0m\u001b[0;34m.\u001b[0m\u001b[0mshape\u001b[0m\u001b[0;34m[\u001b[0m\u001b[0;36m1\u001b[0m\u001b[0;34m]\u001b[0m\u001b[0;34m\u001b[0m\u001b[0;34m\u001b[0m\u001b[0m\n\u001b[0;32m--> 868\u001b[0;31m             \u001b[0mflat_list\u001b[0m \u001b[0;34m=\u001b[0m \u001b[0;34m[\u001b[0m\u001b[0mcls\u001b[0m\u001b[0;34m.\u001b[0m\u001b[0m_sympify\u001b[0m\u001b[0;34m(\u001b[0m\u001b[0mi\u001b[0m\u001b[0;34m)\u001b[0m \u001b[0;32mfor\u001b[0m \u001b[0mi\u001b[0m \u001b[0;32min\u001b[0m \u001b[0marr\u001b[0m\u001b[0;34m.\u001b[0m\u001b[0mravel\u001b[0m\u001b[0;34m(\u001b[0m\u001b[0;34m)\u001b[0m\u001b[0;34m]\u001b[0m\u001b[0;34m\u001b[0m\u001b[0;34m\u001b[0m\u001b[0m\n\u001b[0m\u001b[1;32m    869\u001b[0m             \u001b[0;32mreturn\u001b[0m \u001b[0mrows\u001b[0m\u001b[0;34m,\u001b[0m \u001b[0mcols\u001b[0m\u001b[0;34m,\u001b[0m \u001b[0mflat_list\u001b[0m\u001b[0;34m\u001b[0m\u001b[0;34m\u001b[0m\u001b[0m\n\u001b[1;32m    870\u001b[0m         \u001b[0;32melif\u001b[0m \u001b[0mlen\u001b[0m\u001b[0;34m(\u001b[0m\u001b[0marr\u001b[0m\u001b[0;34m.\u001b[0m\u001b[0mshape\u001b[0m\u001b[0;34m)\u001b[0m \u001b[0;34m==\u001b[0m \u001b[0;36m1\u001b[0m\u001b[0;34m:\u001b[0m\u001b[0;34m\u001b[0m\u001b[0;34m\u001b[0m\u001b[0m\n",
      "\u001b[0;32m~/miniconda3/envs/QuantumComputing/lib/python3.9/site-packages/sympy/matrices/matrices.py\u001b[0m in \u001b[0;36m<listcomp>\u001b[0;34m(.0)\u001b[0m\n\u001b[1;32m    866\u001b[0m         \u001b[0;32mif\u001b[0m \u001b[0mlen\u001b[0m\u001b[0;34m(\u001b[0m\u001b[0marr\u001b[0m\u001b[0;34m.\u001b[0m\u001b[0mshape\u001b[0m\u001b[0;34m)\u001b[0m \u001b[0;34m==\u001b[0m \u001b[0;36m2\u001b[0m\u001b[0;34m:\u001b[0m\u001b[0;34m\u001b[0m\u001b[0;34m\u001b[0m\u001b[0m\n\u001b[1;32m    867\u001b[0m             \u001b[0mrows\u001b[0m\u001b[0;34m,\u001b[0m \u001b[0mcols\u001b[0m \u001b[0;34m=\u001b[0m \u001b[0marr\u001b[0m\u001b[0;34m.\u001b[0m\u001b[0mshape\u001b[0m\u001b[0;34m[\u001b[0m\u001b[0;36m0\u001b[0m\u001b[0;34m]\u001b[0m\u001b[0;34m,\u001b[0m \u001b[0marr\u001b[0m\u001b[0;34m.\u001b[0m\u001b[0mshape\u001b[0m\u001b[0;34m[\u001b[0m\u001b[0;36m1\u001b[0m\u001b[0;34m]\u001b[0m\u001b[0;34m\u001b[0m\u001b[0;34m\u001b[0m\u001b[0m\n\u001b[0;32m--> 868\u001b[0;31m             \u001b[0mflat_list\u001b[0m \u001b[0;34m=\u001b[0m \u001b[0;34m[\u001b[0m\u001b[0mcls\u001b[0m\u001b[0;34m.\u001b[0m\u001b[0m_sympify\u001b[0m\u001b[0;34m(\u001b[0m\u001b[0mi\u001b[0m\u001b[0;34m)\u001b[0m \u001b[0;32mfor\u001b[0m \u001b[0mi\u001b[0m \u001b[0;32min\u001b[0m \u001b[0marr\u001b[0m\u001b[0;34m.\u001b[0m\u001b[0mravel\u001b[0m\u001b[0;34m(\u001b[0m\u001b[0;34m)\u001b[0m\u001b[0;34m]\u001b[0m\u001b[0;34m\u001b[0m\u001b[0;34m\u001b[0m\u001b[0m\n\u001b[0m\u001b[1;32m    869\u001b[0m             \u001b[0;32mreturn\u001b[0m \u001b[0mrows\u001b[0m\u001b[0;34m,\u001b[0m \u001b[0mcols\u001b[0m\u001b[0;34m,\u001b[0m \u001b[0mflat_list\u001b[0m\u001b[0;34m\u001b[0m\u001b[0;34m\u001b[0m\u001b[0m\n\u001b[1;32m    870\u001b[0m         \u001b[0;32melif\u001b[0m \u001b[0mlen\u001b[0m\u001b[0;34m(\u001b[0m\u001b[0marr\u001b[0m\u001b[0;34m.\u001b[0m\u001b[0mshape\u001b[0m\u001b[0;34m)\u001b[0m \u001b[0;34m==\u001b[0m \u001b[0;36m1\u001b[0m\u001b[0;34m:\u001b[0m\u001b[0;34m\u001b[0m\u001b[0;34m\u001b[0m\u001b[0m\n",
      "\u001b[0;32m~/miniconda3/envs/QuantumComputing/lib/python3.9/site-packages/sympy/core/sympify.py\u001b[0m in \u001b[0;36msympify\u001b[0;34m(a, locals, convert_xor, strict, rational, evaluate)\u001b[0m\n\u001b[1;32m    364\u001b[0m     \u001b[0;32mfor\u001b[0m \u001b[0msuperclass\u001b[0m \u001b[0;32min\u001b[0m \u001b[0mgetmro\u001b[0m\u001b[0;34m(\u001b[0m\u001b[0mcls\u001b[0m\u001b[0;34m)\u001b[0m\u001b[0;34m:\u001b[0m\u001b[0;34m\u001b[0m\u001b[0;34m\u001b[0m\u001b[0m\n\u001b[1;32m    365\u001b[0m         \u001b[0;32mtry\u001b[0m\u001b[0;34m:\u001b[0m\u001b[0;34m\u001b[0m\u001b[0;34m\u001b[0m\u001b[0m\n\u001b[0;32m--> 366\u001b[0;31m             \u001b[0;32mreturn\u001b[0m \u001b[0mconverter\u001b[0m\u001b[0;34m[\u001b[0m\u001b[0msuperclass\u001b[0m\u001b[0;34m]\u001b[0m\u001b[0;34m(\u001b[0m\u001b[0ma\u001b[0m\u001b[0;34m)\u001b[0m\u001b[0;34m\u001b[0m\u001b[0;34m\u001b[0m\u001b[0m\n\u001b[0m\u001b[1;32m    367\u001b[0m         \u001b[0;32mexcept\u001b[0m \u001b[0mKeyError\u001b[0m\u001b[0;34m:\u001b[0m\u001b[0;34m\u001b[0m\u001b[0;34m\u001b[0m\u001b[0m\n\u001b[1;32m    368\u001b[0m             \u001b[0;32mcontinue\u001b[0m\u001b[0;34m\u001b[0m\u001b[0;34m\u001b[0m\u001b[0m\n",
      "\u001b[0;32m~/miniconda3/envs/QuantumComputing/lib/python3.9/site-packages/sympy/core/numbers.py\u001b[0m in \u001b[0;36m__new__\u001b[0;34m(***failed resolving arguments***)\u001b[0m\n\u001b[1;32m   1116\u001b[0m                     \u001b[0mnum\u001b[0m\u001b[0;34m,\u001b[0m \u001b[0mdps\u001b[0m \u001b[0;34m=\u001b[0m \u001b[0m_decimal_to_Rational_prec\u001b[0m\u001b[0;34m(\u001b[0m\u001b[0mNum\u001b[0m\u001b[0;34m)\u001b[0m\u001b[0;34m\u001b[0m\u001b[0;34m\u001b[0m\u001b[0m\n\u001b[1;32m   1117\u001b[0m                     \u001b[0;32mif\u001b[0m \u001b[0mnum\u001b[0m\u001b[0;34m.\u001b[0m\u001b[0mis_Integer\u001b[0m \u001b[0;32mand\u001b[0m \u001b[0misint\u001b[0m\u001b[0;34m:\u001b[0m\u001b[0;34m\u001b[0m\u001b[0;34m\u001b[0m\u001b[0m\n\u001b[0;32m-> 1118\u001b[0;31m                         \u001b[0mdps\u001b[0m \u001b[0;34m=\u001b[0m \u001b[0mmax\u001b[0m\u001b[0;34m(\u001b[0m\u001b[0mdps\u001b[0m\u001b[0;34m,\u001b[0m \u001b[0mlen\u001b[0m\u001b[0;34m(\u001b[0m\u001b[0mstr\u001b[0m\u001b[0;34m(\u001b[0m\u001b[0mnum\u001b[0m\u001b[0;34m)\u001b[0m\u001b[0;34m.\u001b[0m\u001b[0mlstrip\u001b[0m\u001b[0;34m(\u001b[0m\u001b[0;34m'-'\u001b[0m\u001b[0;34m)\u001b[0m\u001b[0;34m)\u001b[0m\u001b[0;34m)\u001b[0m\u001b[0;34m\u001b[0m\u001b[0;34m\u001b[0m\u001b[0m\n\u001b[0m\u001b[1;32m   1119\u001b[0m                     \u001b[0mdps\u001b[0m \u001b[0;34m=\u001b[0m \u001b[0mmax\u001b[0m\u001b[0;34m(\u001b[0m\u001b[0;36m15\u001b[0m\u001b[0;34m,\u001b[0m \u001b[0mdps\u001b[0m\u001b[0;34m)\u001b[0m\u001b[0;34m\u001b[0m\u001b[0;34m\u001b[0m\u001b[0m\n\u001b[1;32m   1120\u001b[0m                     \u001b[0mprecision\u001b[0m \u001b[0;34m=\u001b[0m \u001b[0mmlib\u001b[0m\u001b[0;34m.\u001b[0m\u001b[0mlibmpf\u001b[0m\u001b[0;34m.\u001b[0m\u001b[0mdps_to_prec\u001b[0m\u001b[0;34m(\u001b[0m\u001b[0mdps\u001b[0m\u001b[0;34m)\u001b[0m\u001b[0;34m\u001b[0m\u001b[0;34m\u001b[0m\u001b[0m\n",
      "\u001b[0;32m~/miniconda3/envs/QuantumComputing/lib/python3.9/site-packages/sympy/core/_print_helpers.py\u001b[0m in \u001b[0;36m__str__\u001b[0;34m(self)\u001b[0m\n\u001b[1;32m     27\u001b[0m     \u001b[0;32mdef\u001b[0m \u001b[0m__str__\u001b[0m\u001b[0;34m(\u001b[0m\u001b[0mself\u001b[0m\u001b[0;34m)\u001b[0m\u001b[0;34m:\u001b[0m\u001b[0;34m\u001b[0m\u001b[0;34m\u001b[0m\u001b[0m\n\u001b[1;32m     28\u001b[0m         \u001b[0;32mfrom\u001b[0m \u001b[0msympy\u001b[0m\u001b[0;34m.\u001b[0m\u001b[0mprinting\u001b[0m\u001b[0;34m.\u001b[0m\u001b[0mstr\u001b[0m \u001b[0;32mimport\u001b[0m \u001b[0msstr\u001b[0m\u001b[0;34m\u001b[0m\u001b[0;34m\u001b[0m\u001b[0m\n\u001b[0;32m---> 29\u001b[0;31m         \u001b[0;32mreturn\u001b[0m \u001b[0msstr\u001b[0m\u001b[0;34m(\u001b[0m\u001b[0mself\u001b[0m\u001b[0;34m,\u001b[0m \u001b[0morder\u001b[0m\u001b[0;34m=\u001b[0m\u001b[0;32mNone\u001b[0m\u001b[0;34m)\u001b[0m\u001b[0;34m\u001b[0m\u001b[0;34m\u001b[0m\u001b[0m\n\u001b[0m\u001b[1;32m     30\u001b[0m \u001b[0;34m\u001b[0m\u001b[0m\n\u001b[1;32m     31\u001b[0m     \u001b[0m__repr__\u001b[0m \u001b[0;34m=\u001b[0m \u001b[0m__str__\u001b[0m\u001b[0;34m\u001b[0m\u001b[0;34m\u001b[0m\u001b[0m\n",
      "\u001b[0;32m~/miniconda3/envs/QuantumComputing/lib/python3.9/site-packages/sympy/printing/printer.py\u001b[0m in \u001b[0;36m__call__\u001b[0;34m(self, *args, **kwargs)\u001b[0m\n\u001b[1;32m    371\u001b[0m \u001b[0;34m\u001b[0m\u001b[0m\n\u001b[1;32m    372\u001b[0m     \u001b[0;32mdef\u001b[0m \u001b[0m__call__\u001b[0m\u001b[0;34m(\u001b[0m\u001b[0mself\u001b[0m\u001b[0;34m,\u001b[0m \u001b[0;34m*\u001b[0m\u001b[0margs\u001b[0m\u001b[0;34m,\u001b[0m \u001b[0;34m**\u001b[0m\u001b[0mkwargs\u001b[0m\u001b[0;34m)\u001b[0m\u001b[0;34m:\u001b[0m\u001b[0;34m\u001b[0m\u001b[0;34m\u001b[0m\u001b[0m\n\u001b[0;32m--> 373\u001b[0;31m         \u001b[0;32mreturn\u001b[0m \u001b[0mself\u001b[0m\u001b[0;34m.\u001b[0m\u001b[0m__wrapped__\u001b[0m\u001b[0;34m(\u001b[0m\u001b[0;34m*\u001b[0m\u001b[0margs\u001b[0m\u001b[0;34m,\u001b[0m \u001b[0;34m**\u001b[0m\u001b[0mkwargs\u001b[0m\u001b[0;34m)\u001b[0m\u001b[0;34m\u001b[0m\u001b[0;34m\u001b[0m\u001b[0m\n\u001b[0m\u001b[1;32m    374\u001b[0m \u001b[0;34m\u001b[0m\u001b[0m\n\u001b[1;32m    375\u001b[0m     \u001b[0;34m@\u001b[0m\u001b[0mproperty\u001b[0m\u001b[0;34m\u001b[0m\u001b[0;34m\u001b[0m\u001b[0m\n",
      "\u001b[0;32m~/miniconda3/envs/QuantumComputing/lib/python3.9/site-packages/sympy/printing/str.py\u001b[0m in \u001b[0;36msstr\u001b[0;34m(expr, **settings)\u001b[0m\n\u001b[1;32m    890\u001b[0m \u001b[0;34m\u001b[0m\u001b[0m\n\u001b[1;32m    891\u001b[0m     \u001b[0mp\u001b[0m \u001b[0;34m=\u001b[0m \u001b[0mStrPrinter\u001b[0m\u001b[0;34m(\u001b[0m\u001b[0msettings\u001b[0m\u001b[0;34m)\u001b[0m\u001b[0;34m\u001b[0m\u001b[0;34m\u001b[0m\u001b[0m\n\u001b[0;32m--> 892\u001b[0;31m     \u001b[0ms\u001b[0m \u001b[0;34m=\u001b[0m \u001b[0mp\u001b[0m\u001b[0;34m.\u001b[0m\u001b[0mdoprint\u001b[0m\u001b[0;34m(\u001b[0m\u001b[0mexpr\u001b[0m\u001b[0;34m)\u001b[0m\u001b[0;34m\u001b[0m\u001b[0;34m\u001b[0m\u001b[0m\n\u001b[0m\u001b[1;32m    893\u001b[0m \u001b[0;34m\u001b[0m\u001b[0m\n\u001b[1;32m    894\u001b[0m     \u001b[0;32mreturn\u001b[0m \u001b[0ms\u001b[0m\u001b[0;34m\u001b[0m\u001b[0;34m\u001b[0m\u001b[0m\n",
      "\u001b[0;32m~/miniconda3/envs/QuantumComputing/lib/python3.9/site-packages/sympy/printing/printer.py\u001b[0m in \u001b[0;36mdoprint\u001b[0;34m(self, expr)\u001b[0m\n\u001b[1;32m    289\u001b[0m     \u001b[0;32mdef\u001b[0m \u001b[0mdoprint\u001b[0m\u001b[0;34m(\u001b[0m\u001b[0mself\u001b[0m\u001b[0;34m,\u001b[0m \u001b[0mexpr\u001b[0m\u001b[0;34m)\u001b[0m\u001b[0;34m:\u001b[0m\u001b[0;34m\u001b[0m\u001b[0;34m\u001b[0m\u001b[0m\n\u001b[1;32m    290\u001b[0m         \u001b[0;34m\"\"\"Returns printer's representation for expr (as a string)\"\"\"\u001b[0m\u001b[0;34m\u001b[0m\u001b[0;34m\u001b[0m\u001b[0m\n\u001b[0;32m--> 291\u001b[0;31m         \u001b[0;32mreturn\u001b[0m \u001b[0mself\u001b[0m\u001b[0;34m.\u001b[0m\u001b[0m_str\u001b[0m\u001b[0;34m(\u001b[0m\u001b[0mself\u001b[0m\u001b[0;34m.\u001b[0m\u001b[0m_print\u001b[0m\u001b[0;34m(\u001b[0m\u001b[0mexpr\u001b[0m\u001b[0;34m)\u001b[0m\u001b[0;34m)\u001b[0m\u001b[0;34m\u001b[0m\u001b[0;34m\u001b[0m\u001b[0m\n\u001b[0m\u001b[1;32m    292\u001b[0m \u001b[0;34m\u001b[0m\u001b[0m\n\u001b[1;32m    293\u001b[0m     \u001b[0;32mdef\u001b[0m \u001b[0m_print\u001b[0m\u001b[0;34m(\u001b[0m\u001b[0mself\u001b[0m\u001b[0;34m,\u001b[0m \u001b[0mexpr\u001b[0m\u001b[0;34m,\u001b[0m \u001b[0;34m**\u001b[0m\u001b[0mkwargs\u001b[0m\u001b[0;34m)\u001b[0m\u001b[0;34m:\u001b[0m\u001b[0;34m\u001b[0m\u001b[0;34m\u001b[0m\u001b[0m\n",
      "\u001b[0;32m~/miniconda3/envs/QuantumComputing/lib/python3.9/site-packages/sympy/printing/printer.py\u001b[0m in \u001b[0;36m_print\u001b[0;34m(self, expr, **kwargs)\u001b[0m\n\u001b[1;32m    326\u001b[0m             \u001b[0;32mfor\u001b[0m \u001b[0mcls\u001b[0m \u001b[0;32min\u001b[0m \u001b[0mclasses\u001b[0m\u001b[0;34m:\u001b[0m\u001b[0;34m\u001b[0m\u001b[0;34m\u001b[0m\u001b[0m\n\u001b[1;32m    327\u001b[0m                 \u001b[0mprintmethod\u001b[0m \u001b[0;34m=\u001b[0m \u001b[0;34m'_print_'\u001b[0m \u001b[0;34m+\u001b[0m \u001b[0mcls\u001b[0m\u001b[0;34m.\u001b[0m\u001b[0m__name__\u001b[0m\u001b[0;34m\u001b[0m\u001b[0;34m\u001b[0m\u001b[0m\n\u001b[0;32m--> 328\u001b[0;31m                 \u001b[0;32mif\u001b[0m \u001b[0mhasattr\u001b[0m\u001b[0;34m(\u001b[0m\u001b[0mself\u001b[0m\u001b[0;34m,\u001b[0m \u001b[0mprintmethod\u001b[0m\u001b[0;34m)\u001b[0m\u001b[0;34m:\u001b[0m\u001b[0;34m\u001b[0m\u001b[0;34m\u001b[0m\u001b[0m\n\u001b[0m\u001b[1;32m    329\u001b[0m                     \u001b[0;32mreturn\u001b[0m \u001b[0mgetattr\u001b[0m\u001b[0;34m(\u001b[0m\u001b[0mself\u001b[0m\u001b[0;34m,\u001b[0m \u001b[0mprintmethod\u001b[0m\u001b[0;34m)\u001b[0m\u001b[0;34m(\u001b[0m\u001b[0mexpr\u001b[0m\u001b[0;34m,\u001b[0m \u001b[0;34m**\u001b[0m\u001b[0mkwargs\u001b[0m\u001b[0;34m)\u001b[0m\u001b[0;34m\u001b[0m\u001b[0;34m\u001b[0m\u001b[0m\n\u001b[1;32m    330\u001b[0m             \u001b[0;31m# Unknown object, fall back to the emptyPrinter.\u001b[0m\u001b[0;34m\u001b[0m\u001b[0;34m\u001b[0m\u001b[0;34m\u001b[0m\u001b[0m\n",
      "\u001b[0;31mKeyboardInterrupt\u001b[0m: "
     ]
    }
   ],
   "source": [
    "h_b = 0.5*(p*p + m*m*q*q + 2.*m*g*q*q*q*q + g*g*q*q*q*q*q*q)\n",
    "h_f = 0.5*(m+3*g*q*q)#[bdag,b]\n",
    "\n",
    "\n",
    "n=16\n",
    "hamAHO = Hamiltonian(h_b, h_f, {m:1, g:1},\n",
    "                    n, standard_encode)"
   ]
  },
  {
   "cell_type": "code",
   "execution_count": null,
   "metadata": {},
   "outputs": [],
   "source": [
    "hamAHO.hamMatrix"
   ]
  },
  {
   "cell_type": "code",
   "execution_count": null,
   "metadata": {},
   "outputs": [],
   "source": [
    "np.linalg.eig(np.array(hamAHO.hamMatrix,dtype=float))"
   ]
  },
  {
   "cell_type": "code",
   "execution_count": null,
   "metadata": {},
   "outputs": [],
   "source": []
  }
 ],
 "metadata": {
  "kernelspec": {
   "display_name": "Python 3",
   "language": "python",
   "name": "python3"
  },
  "language_info": {
   "codemirror_mode": {
    "name": "ipython",
    "version": 3
   },
   "file_extension": ".py",
   "mimetype": "text/x-python",
   "name": "python",
   "nbconvert_exporter": "python",
   "pygments_lexer": "ipython3",
   "version": "3.9.1"
  }
 },
 "nbformat": 4,
 "nbformat_minor": 4
}
