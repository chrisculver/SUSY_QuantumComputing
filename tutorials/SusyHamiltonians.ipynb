{
 "cells": [
  {
   "cell_type": "markdown",
   "metadata": {},
   "source": [
    "# Supersymmetric harmonic oscillator\n",
    "\n",
    "As a warmup, lets go through the steps to get from the Hamiltonian of this system to a quantum circuit that lets us evolve states according to the time evolution operator.\n",
    "\n",
    "The superpotential is \n",
    "\\begin{equation}\n",
    "    W(\\hat{q}) = \\frac{1}{2}m \\hat{q}^2\n",
    "\\end{equation}\n",
    "which leads to the following Hamiltonian,\n",
    "\\begin{equation}\n",
    "    H = \\frac{1}{2}\\left(H_B+H_F\\right), \\quad \n",
    "        H_B=\\hat{p}^2+m^2\\hat{q}^2, \\quad H_F=m\\left[\\hat{b}^{\\dagger},\\hat{b}\\right].\n",
    "\\end{equation}\n",
    "This contains two terms, a bosonic piece and a fermionic piece.  For the bosonic part, we could work in the position or momentum basis, but this is just the Hamiltonian for a harmonic oscillator, so lets convert to the number basis.  \n"
   ]
  },
  {
   "cell_type": "code",
   "execution_count": 22,
   "metadata": {},
   "outputs": [
    {
     "name": "stdout",
     "output_type": "stream",
     "text": [
      "Original H = 0.5*(m**2*q**2 + p**2)\n",
      "Using creation/annihlation operators\n",
      "H_B = 0.5*m*a*ad + 0.5*m*ad*a\n",
      "H_F = -0.5*m\n"
     ]
    }
   ],
   "source": [
    "import sys\n",
    "sys.path.append('..')\n",
    "from src.sympy_utilities import *\n",
    "from src.BinaryEncodings import *\n",
    "\n",
    "import sympy as sp\n",
    "\n",
    "h_b = 0.5*(p*p + m*m*q*q)\n",
    "\n",
    "print('Original H = ' + str(h_b))\n",
    "h_b = sp.expand(h_b.subs(qp_to_ada))\n",
    "h_f = -0.5*m#[bdag,b]\n",
    "print('Using creation/annihlation operators\\nH_B = ' + str(h_b))\n",
    "print('H_F = ' + str(h_f))"
   ]
  },
  {
   "cell_type": "markdown",
   "metadata": {},
   "source": [
    "And we know the matrix elements of $A$ and $A^{\\dagger}$, they are defined in HamiltonianTerms.  We of course must impose a cutoff at this point, truncating the allowed excitations of the harmonic oscillator"
   ]
  },
  {
   "cell_type": "code",
   "execution_count": 23,
   "metadata": {},
   "outputs": [
    {
     "name": "stdout",
     "output_type": "stream",
     "text": [
      "done\n",
      "\n",
      "[[0.500000000000000 0]\n",
      " [0 1.50000000000000]]\n",
      "[[0.500000000000000 0 0 0]\n",
      " [0 1.50000000000000 0 0]\n",
      " [0 0 0.500000000000000 0]\n",
      " [0 0 0 1.50000000000000]]\n",
      "1.0*I^0 - 0.5*Z^0\n",
      "\n",
      "-0.500000000000000\n",
      "[[0.500000000000000 0 0 0]\n",
      " [0 0.500000000000000 0 0]\n",
      " [0 0 -0.500000000000000 0]\n",
      " [0 0 0 -0.500000000000000]]\n",
      "0.5*I^0*Z^1\n",
      "\n",
      "1.0*I^0*I^1 + 0.5*I^0*Z^1 - 0.5*I^1*Z^0\n",
      "[[ 1.00000000e+00+0.j  0.00000000e+00+0.j  0.00000000e+00+0.j\n",
      "   0.00000000e+00+0.j]\n",
      " [ 0.00000000e+00+0.j -1.11022302e-16+0.j  0.00000000e+00+0.j\n",
      "   0.00000000e+00+0.j]\n",
      " [ 0.00000000e+00+0.j  0.00000000e+00+0.j  2.00000000e+00+0.j\n",
      "   0.00000000e+00+0.j]\n",
      " [ 0.00000000e+00+0.j  0.00000000e+00+0.j  0.00000000e+00+0.j\n",
      "   1.00000000e+00+0.j]]\n"
     ]
    }
   ],
   "source": [
    "from src.BinaryEncodings import *\n",
    "\n",
    "hamHO = Hamiltonian(h_b, h_f, {m:1, g:1},\n",
    "                     2, standard_encode)\n",
    "print('done')\n",
    "print()\n",
    "print(hamHO.bmatrix)\n",
    "print(np.kron(np.eye(2),hamHO.bmatrix))\n",
    "print(hamHO.bosonPauliStrings)\n",
    "print()\n",
    "print(hamHO.fermionic)\n",
    "print(hamHO.fmatrix)\n",
    "print(sp.simplify(hamHO.fermionPauliStrings))\n",
    "print()\n",
    "\n",
    "print(hamHO.pauliStrings)\n",
    "print(hamHO.hamMatrix)"
   ]
  },
  {
   "cell_type": "code",
   "execution_count": 26,
   "metadata": {},
   "outputs": [
    {
     "name": "stdout",
     "output_type": "stream",
     "text": [
      "done\n",
      "\n",
      "[[0.500000000000000 0 0]\n",
      " [0 1.50000000000000 0]\n",
      " [0 0 2.50000000000000]]\n",
      "[[0.500000000000000 0 0 0 0 0]\n",
      " [0 1.50000000000000 0 0 0 0]\n",
      " [0 0 2.50000000000000 0 0 0]\n",
      " [0 0 0 0.500000000000000 0 0]\n",
      " [0 0 0 0 1.50000000000000 0]\n",
      " [0 0 0 0 0 2.50000000000000]]\n",
      "1.125*I^0*I^1 - 0.125*I^0*Z^1 + 0.375*I^1*Z^0 - 0.875*Z^0*Z^1\n",
      "\n",
      "-0.500000000000000\n",
      "[[0.500000000000000 0 0 0 0 0]\n",
      " [0 0.500000000000000 0 0 0 0]\n",
      " [0 0 0.500000000000000 0 0 0]\n",
      " [0 0 0 -0.500000000000000 0 0]\n",
      " [0 0 0 0 -0.500000000000000 0]\n",
      " [0 0 0 0 0 -0.500000000000000]]\n",
      "0.25*I^0*I^1*Z^2 + 0.25*I^0*Z^1*Z^2 + 0.125*I^1*I^2*Z^0 + 0.125*I^1*Z^0*Z^2 - 0.125*I^2*Z^0*Z^1 - 0.125*Z^0*Z^1*Z^2\n",
      "\n",
      "1.125*I^0*I^1*I^2 + 0.25*I^0*I^1*Z^2 - 0.125*I^0*I^2*Z^1 + 0.25*I^0*Z^1*Z^2 + 0.5*I^1*I^2*Z^0 + 0.125*I^1*Z^0*Z^2 - 1.0*I^2*Z^0*Z^1 - 0.125*Z^0*Z^1*Z^2\n",
      "[[ 1.00000000e+00+0.j  0.00000000e+00+0.j  0.00000000e+00+0.j\n",
      "   0.00000000e+00+0.j  0.00000000e+00+0.j  0.00000000e+00+0.j\n",
      "   0.00000000e+00+0.j  0.00000000e+00+0.j]\n",
      " [ 0.00000000e+00+0.j  5.55111512e-17+0.j  0.00000000e+00+0.j\n",
      "   0.00000000e+00+0.j  0.00000000e+00+0.j  0.00000000e+00+0.j\n",
      "   0.00000000e+00+0.j  0.00000000e+00+0.j]\n",
      " [ 0.00000000e+00+0.j  0.00000000e+00+0.j  3.00000000e+00+0.j\n",
      "   0.00000000e+00+0.j  0.00000000e+00+0.j  0.00000000e+00+0.j\n",
      "   0.00000000e+00+0.j  0.00000000e+00+0.j]\n",
      " [ 0.00000000e+00+0.j  0.00000000e+00+0.j  0.00000000e+00+0.j\n",
      "   2.50000000e+00+0.j  0.00000000e+00+0.j  0.00000000e+00+0.j\n",
      "   0.00000000e+00+0.j  0.00000000e+00+0.j]\n",
      " [ 0.00000000e+00+0.j  0.00000000e+00+0.j  0.00000000e+00+0.j\n",
      "   0.00000000e+00+0.j  2.00000000e+00+0.j  0.00000000e+00+0.j\n",
      "   0.00000000e+00+0.j  0.00000000e+00+0.j]\n",
      " [ 0.00000000e+00+0.j  0.00000000e+00+0.j  0.00000000e+00+0.j\n",
      "   0.00000000e+00+0.j  0.00000000e+00+0.j  1.00000000e+00+0.j\n",
      "   0.00000000e+00+0.j  0.00000000e+00+0.j]\n",
      " [ 0.00000000e+00+0.j  0.00000000e+00+0.j  0.00000000e+00+0.j\n",
      "   0.00000000e+00+0.j  0.00000000e+00+0.j  0.00000000e+00+0.j\n",
      "  -5.00000000e-01+0.j  0.00000000e+00+0.j]\n",
      " [ 0.00000000e+00+0.j  0.00000000e+00+0.j  0.00000000e+00+0.j\n",
      "   0.00000000e+00+0.j  0.00000000e+00+0.j  0.00000000e+00+0.j\n",
      "   0.00000000e+00+0.j -5.55111512e-17+0.j]]\n"
     ]
    }
   ],
   "source": [
    "from src.BinaryEncodings import *\n",
    "\n",
    "hamHO = Hamiltonian(h_b, h_f, {m:1, g:1},\n",
    "                     3, standard_encode)\n",
    "print('done')\n",
    "print()\n",
    "print(hamHO.bmatrix)\n",
    "print(np.kron(np.eye(2),hamHO.bmatrix))\n",
    "print(hamHO.bosonPauliStrings)\n",
    "print()\n",
    "print(hamHO.fermionic)\n",
    "print(hamHO.fmatrix)\n",
    "print(sp.simplify(hamHO.fermionPauliStrings))\n",
    "print()\n",
    "\n",
    "print(hamHO.pauliStrings)\n",
    "print(hamHO.hamMatrix)"
   ]
  },
  {
   "cell_type": "markdown",
   "metadata": {},
   "source": [
    "# Supersymmetric Anharmonic Oscillator\n",
    "\n",
    "The superpotential is \n",
    "\\begin{equation}\n",
    "    W(\\hat{q}) = \\frac{1}{2}m\\hat{q}^2 + \\frac{1}{4}g\\hat{q}^4\n",
    "\\end{equation}\n",
    "\n",
    "The full Hamiltonian is\n",
    "\\begin{equation}\n",
    "    H=\\frac{1}{2}\\left[\\hat{p}^2 + m^2\\hat{q}^2 + 2mg\\hat{q}^4 + g^2\\hat{q}^6 - (m+3g\\hat{q}^2)\\left[b^{\\dagger},b\\right]\\right]\n",
    "\\end{equation}"
   ]
  },
  {
   "cell_type": "code",
   "execution_count": 3,
   "metadata": {},
   "outputs": [],
   "source": [
    "import sys\n",
    "sys.path.append('..')\n",
    "from src.sympy_utilities import *\n",
    "from src.BinaryEncodings import *\n",
    "\n",
    "import sympy as sp\n",
    "\n",
    "h_b = 0.5*(p*p + m*m*q*q + 2.*m*g*q*q*q*q + g*g*q*q*q*q*q*q)\n",
    "h_f = -0.5*(m+3*g*q*q)#[bdag,b]\n",
    "\n",
    "\n",
    "n=2\n",
    "hamAHO = Hamiltonian(h_b, h_f, {m:1, g:1},\n",
    "                    n, standard_encode)"
   ]
  },
  {
   "cell_type": "code",
   "execution_count": 4,
   "metadata": {},
   "outputs": [
    {
     "name": "stdout",
     "output_type": "stream",
     "text": [
      "Using creation/annihlation operators\n",
      "H_B = 0.5*a*ad + 0.25*a*ad*a*ad + 0.0625*a*ad*a*ad*a*ad + 0.0625*a*ad*a*ad*a**2 + 0.0625*a*ad*a*ad**2*a + 0.0625*a*ad*a*ad**3 + 0.25*a*ad*a**2 + 0.0625*a*ad*a**2*ad*a + 0.0625*a*ad*a**2*ad**2 + 0.0625*a*ad*a**3*ad + 0.0625*a*ad*a**4 + 0.25*a*ad**2*a + 0.0625*a*ad**2*a*ad*a + 0.0625*a*ad**2*a*ad**2 + 0.0625*a*ad**2*a**2*ad + 0.0625*a*ad**2*a**3 + 0.25*a*ad**3 + 0.0625*a*ad**3*a*ad + 0.0625*a*ad**3*a**2 + 0.0625*a*ad**4*a + 0.0625*a*ad**5 + 0.25*a**2*ad*a + 0.0625*a**2*ad*a*ad*a + 0.0625*a**2*ad*a*ad**2 + 0.0625*a**2*ad*a**2*ad + 0.0625*a**2*ad*a**3 + 0.25*a**2*ad**2 + 0.0625*a**2*ad**2*a*ad + 0.0625*a**2*ad**2*a**2 + 0.0625*a**2*ad**3*a + 0.0625*a**2*ad**4 + 0.25*a**3*ad + 0.0625*a**3*ad*a*ad + 0.0625*a**3*ad*a**2 + 0.0625*a**3*ad**2*a + 0.0625*a**3*ad**3 + 0.25*a**4 + 0.0625*a**4*ad*a + 0.0625*a**4*ad**2 + 0.0625*a**5*ad + 0.0625*a**6 + 0.5*ad*a + 0.25*ad*a*ad*a + 0.0625*ad*a*ad*a*ad*a + 0.0625*ad*a*ad*a*ad**2 + 0.0625*ad*a*ad*a**2*ad + 0.0625*ad*a*ad*a**3 + 0.25*ad*a*ad**2 + 0.0625*ad*a*ad**2*a*ad + 0.0625*ad*a*ad**2*a**2 + 0.0625*ad*a*ad**3*a + 0.0625*ad*a*ad**4 + 0.25*ad*a**2*ad + 0.0625*ad*a**2*ad*a*ad + 0.0625*ad*a**2*ad*a**2 + 0.0625*ad*a**2*ad**2*a + 0.0625*ad*a**2*ad**3 + 0.25*ad*a**3 + 0.0625*ad*a**3*ad*a + 0.0625*ad*a**3*ad**2 + 0.0625*ad*a**4*ad + 0.0625*ad*a**5 + 0.25*ad**2*a*ad + 0.0625*ad**2*a*ad*a*ad + 0.0625*ad**2*a*ad*a**2 + 0.0625*ad**2*a*ad**2*a + 0.0625*ad**2*a*ad**3 + 0.25*ad**2*a**2 + 0.0625*ad**2*a**2*ad*a + 0.0625*ad**2*a**2*ad**2 + 0.0625*ad**2*a**3*ad + 0.0625*ad**2*a**4 + 0.25*ad**3*a + 0.0625*ad**3*a*ad*a + 0.0625*ad**3*a*ad**2 + 0.0625*ad**3*a**2*ad + 0.0625*ad**3*a**3 + 0.25*ad**4 + 0.0625*ad**4*a*ad + 0.0625*ad**4*a**2 + 0.0625*ad**5*a + 0.0625*ad**6\n",
      "\n",
      "H_F = -0.5 - 0.75*a*ad - 0.75*a**2 - 0.75*ad*a - 0.75*ad**2\n"
     ]
    }
   ],
   "source": [
    "print('Using creation/annihlation operators\\nH_B = ' + str(hamAHO.harmonic))\n",
    "print()\n",
    "print('H_F = ' + str(hamAHO.fermionic))"
   ]
  },
  {
   "cell_type": "code",
   "execution_count": 5,
   "metadata": {},
   "outputs": [
    {
     "name": "stdout",
     "output_type": "stream",
     "text": [
      "2.0*I^0*Z^1 - 0.75*Z^0*Z^1\n"
     ]
    }
   ],
   "source": [
    "print(hamAHO.fermionPauliStrings)"
   ]
  },
  {
   "cell_type": "code",
   "execution_count": 6,
   "metadata": {},
   "outputs": [
    {
     "name": "stdout",
     "output_type": "stream",
     "text": [
      "[[2.18750000000000 0 0 0]\n",
      " [0 11.8125000000000 0 0]\n",
      " [0 0 2.18750000000000 0]\n",
      " [0 0 0 11.8125000000000]]\n",
      "[[1.25000000000000 0 0 0]\n",
      " [0 2.75000000000000 0 0]\n",
      " [0 0 -1.25000000000000 0]\n",
      " [0 0 0 -2.75000000000000]]\n"
     ]
    }
   ],
   "source": [
    "print(np.kron(np.eye(2),hamAHO.bmatrix))\n",
    "print(hamAHO.fmatrix)"
   ]
  },
  {
   "cell_type": "code",
   "execution_count": null,
   "metadata": {},
   "outputs": [],
   "source": []
  },
  {
   "cell_type": "code",
   "execution_count": null,
   "metadata": {},
   "outputs": [],
   "source": []
  },
  {
   "cell_type": "code",
   "execution_count": null,
   "metadata": {},
   "outputs": [],
   "source": []
  },
  {
   "cell_type": "code",
   "execution_count": null,
   "metadata": {},
   "outputs": [],
   "source": []
  },
  {
   "cell_type": "code",
   "execution_count": 7,
   "metadata": {},
   "outputs": [],
   "source": [
    "h_b = 0.5*(p*p + m*m*q*q + 2.*m*g*q*q*q*q + g*g*q*q*q*q*q*q)\n",
    "h_f = -0.5*(m+3*g*q*q)#[bdag,b]\n",
    "\n",
    "\n",
    "n=2\n",
    "hamAHO = Hamiltonian(h_b, h_f, {m:1, g:0},\n",
    "                    n, standard_encode)"
   ]
  },
  {
   "cell_type": "code",
   "execution_count": 8,
   "metadata": {},
   "outputs": [
    {
     "data": {
      "text/latex": [
       "$\\displaystyle 1.0 I^{0} I^{1} + 0.5 I^{0} Z^{1} - 0.5 I^{1} Z^{0}$"
      ],
      "text/plain": [
       "1.0*I^0*I^1 + 0.5*I^0*Z^1 - 0.5*I^1*Z^0"
      ]
     },
     "execution_count": 8,
     "metadata": {},
     "output_type": "execute_result"
    }
   ],
   "source": [
    "hamAHO.pauliStrings"
   ]
  },
  {
   "cell_type": "code",
   "execution_count": 9,
   "metadata": {},
   "outputs": [],
   "source": [
    "h_b = 0.5*(p*p + m*m*q*q + 2.*m*g*q*q*q*q + g*g*q*q*q*q*q*q)\n",
    "h_f = 0.5*(m+3*g*q*q)#[bdag,b]\n",
    "\n",
    "\n",
    "n=4\n",
    "hamAHO = Hamiltonian(h_b, h_f, {m:1, g:1},\n",
    "                    n, standard_encode)"
   ]
  },
  {
   "cell_type": "code",
   "execution_count": 10,
   "metadata": {},
   "outputs": [
    {
     "data": {
      "text/latex": [
       "$\\displaystyle 32.75 I^{0} I^{1} I^{2} - 3.5 I^{0} I^{1} Z^{2} + 14.1486483908533 I^{0} I^{2} X^{1} - 25.75 I^{0} I^{2} Z^{1} - 1.4488887394336 I^{0} X^{1} Z^{2} + 1.5 I^{0} Z^{1} Z^{2} - 13.8125 I^{1} I^{2} Z^{0} + 0.75 I^{1} Z^{0} Z^{2} - 8.04985240311929 I^{2} X^{1} Z^{0} + 9.0 I^{2} Z^{0} Z^{1} + 0.388228567653781 X^{1} Z^{0} Z^{2}$"
      ],
      "text/plain": [
       "32.75*I^0*I^1*I^2 - 3.5*I^0*I^1*Z^2 + 14.1486483908533*I^0*I^2*X^1 - 25.75*I^0*I^2*Z^1 - 1.4488887394336*I^0*X^1*Z^2 + 1.5*I^0*Z^1*Z^2 - 13.8125*I^1*I^2*Z^0 + 0.75*I^1*Z^0*Z^2 - 8.04985240311929*I^2*X^1*Z^0 + 9.0*I^2*Z^0*Z^1 + 0.388228567653781*X^1*Z^0*Z^2"
      ]
     },
     "execution_count": 10,
     "metadata": {},
     "output_type": "execute_result"
    }
   ],
   "source": [
    "hamAHO.pauliStrings"
   ]
  },
  {
   "cell_type": "code",
   "execution_count": 11,
   "metadata": {},
   "outputs": [
    {
     "data": {
      "text/plain": [
       "array([[ 0.9375    +0.j,  0.        +0.j,  5.03813582+0.j,\n",
       "         0.        +0.j,  0.        +0.j,  0.        +0.j,\n",
       "         0.        +0.j,  0.        +0.j],\n",
       "       [ 0.        +0.j,  3.4375    +0.j,  0.        +0.j,\n",
       "         7.15945616+0.j,  0.        +0.j,  0.        +0.j,\n",
       "         0.        +0.j,  0.        +0.j],\n",
       "       [ 5.03813582+0.j,  0.        +0.j, 31.4375    +0.j,\n",
       "         0.        +0.j,  0.        +0.j,  0.        +0.j,\n",
       "         0.        +0.j,  0.        +0.j],\n",
       "       [ 0.        +0.j,  7.15945616+0.j,  0.        +0.j,\n",
       "        39.9375    +0.j,  0.        +0.j,  0.        +0.j,\n",
       "         0.        +0.j,  0.        +0.j],\n",
       "       [ 0.        +0.j,  0.        +0.j,  0.        +0.j,\n",
       "         0.        +0.j,  9.0625    +0.j,  0.        +0.j,\n",
       "        20.36138349+0.j,  0.        +0.j],\n",
       "       [ 0.        +0.j,  0.        +0.j,  0.        +0.j,\n",
       "         0.        +0.j,  0.        +0.j, 14.5625    +0.j,\n",
       "         0.        +0.j, 24.0356181 +0.j],\n",
       "       [ 0.        +0.j,  0.        +0.j,  0.        +0.j,\n",
       "         0.        +0.j, 20.36138349+0.j,  0.        +0.j,\n",
       "        75.5625    +0.j,  0.        +0.j],\n",
       "       [ 0.        +0.j,  0.        +0.j,  0.        +0.j,\n",
       "         0.        +0.j,  0.        +0.j, 24.0356181 +0.j,\n",
       "         0.        +0.j, 87.0625    +0.j]])"
      ]
     },
     "execution_count": 11,
     "metadata": {},
     "output_type": "execute_result"
    }
   ],
   "source": [
    "hamAHO.hamMatrix"
   ]
  },
  {
   "cell_type": "code",
   "execution_count": null,
   "metadata": {},
   "outputs": [],
   "source": []
  },
  {
   "cell_type": "code",
   "execution_count": null,
   "metadata": {},
   "outputs": [],
   "source": []
  },
  {
   "cell_type": "code",
   "execution_count": 12,
   "metadata": {},
   "outputs": [
    {
     "data": {
      "text/plain": [
       "array([[0, 0, 1.06066017177982, 0],\n",
       "       [0, 0, 0, 1.83711730708738],\n",
       "       [0, 0, 0, 0],\n",
       "       [0, 0, 0, 0]], dtype=object)"
      ]
     },
     "execution_count": 12,
     "metadata": {},
     "output_type": "execute_result"
    }
   ],
   "source": [
    "import sys\n",
    "sys.path.append('..')\n",
    "from src.sympy_utilities import *\n",
    "convert_to_matrix(0.75*a*a,4,8)"
   ]
  },
  {
   "cell_type": "code",
   "execution_count": 13,
   "metadata": {},
   "outputs": [
    {
     "data": {
      "text/plain": [
       "array([[0.750000000000000, 0, 0, 0],\n",
       "       [0, 1.50000000000000, 0, 0],\n",
       "       [0, 0, 2.25000000000000, 0],\n",
       "       [0, 0, 0, 3.00000000000000]], dtype=object)"
      ]
     },
     "execution_count": 13,
     "metadata": {},
     "output_type": "execute_result"
    }
   ],
   "source": [
    "convert_to_matrix(0.75*a*adag,4,8)"
   ]
  },
  {
   "cell_type": "code",
   "execution_count": 14,
   "metadata": {},
   "outputs": [],
   "source": [
    "expr = a*adag\n",
    "expr2 = adag*a"
   ]
  },
  {
   "cell_type": "code",
   "execution_count": 15,
   "metadata": {},
   "outputs": [
    {
     "data": {
      "text/latex": [
       "$\\displaystyle a ad$"
      ],
      "text/plain": [
       "a*ad"
      ]
     },
     "execution_count": 15,
     "metadata": {},
     "output_type": "execute_result"
    }
   ],
   "source": [
    "expr"
   ]
  },
  {
   "cell_type": "code",
   "execution_count": 16,
   "metadata": {},
   "outputs": [
    {
     "data": {
      "text/plain": [
       "array([[1.00000000000000, 0],\n",
       "       [0, 2.00000000000000]], dtype=object)"
      ]
     },
     "execution_count": 16,
     "metadata": {},
     "output_type": "execute_result"
    }
   ],
   "source": [
    "convert_to_matrix(expr,2,2)"
   ]
  },
  {
   "cell_type": "code",
   "execution_count": 17,
   "metadata": {},
   "outputs": [
    {
     "data": {
      "text/plain": [
       "array([[0, 0],\n",
       "       [0, 1.00000000000000]], dtype=object)"
      ]
     },
     "execution_count": 17,
     "metadata": {},
     "output_type": "execute_result"
    }
   ],
   "source": [
    "convert_to_matrix(expr2,2,2)"
   ]
  },
  {
   "cell_type": "code",
   "execution_count": 18,
   "metadata": {},
   "outputs": [
    {
     "data": {
      "text/plain": [
       "array([[1.00000000000000, 0, 0, 0],\n",
       "       [0, 2.00000000000000, 0, 0],\n",
       "       [0, 0, 3.00000000000000, 0],\n",
       "       [0, 0, 0, 0]], dtype=object)"
      ]
     },
     "execution_count": 18,
     "metadata": {},
     "output_type": "execute_result"
    }
   ],
   "source": [
    "convert_term_to_matrix(expr,4)"
   ]
  },
  {
   "cell_type": "code",
   "execution_count": 19,
   "metadata": {},
   "outputs": [
    {
     "data": {
      "text/plain": [
       "array([[0, 0, 0, 0],\n",
       "       [0, 1.00000000000000, 0, 0],\n",
       "       [0, 0, 2.00000000000000, 0],\n",
       "       [0, 0, 0, 3.00000000000000]], dtype=object)"
      ]
     },
     "execution_count": 19,
     "metadata": {},
     "output_type": "execute_result"
    }
   ],
   "source": [
    "convert_term_to_matrix(expr2,4)"
   ]
  },
  {
   "cell_type": "code",
   "execution_count": null,
   "metadata": {},
   "outputs": [],
   "source": []
  }
 ],
 "metadata": {
  "kernelspec": {
   "display_name": "Python 3",
   "language": "python",
   "name": "python3"
  },
  "language_info": {
   "codemirror_mode": {
    "name": "ipython",
    "version": 3
   },
   "file_extension": ".py",
   "mimetype": "text/x-python",
   "name": "python",
   "nbconvert_exporter": "python",
   "pygments_lexer": "ipython3",
   "version": "3.9.1"
  }
 },
 "nbformat": 4,
 "nbformat_minor": 4
}
