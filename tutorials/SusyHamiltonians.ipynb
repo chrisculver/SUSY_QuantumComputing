{
 "cells": [
  {
   "cell_type": "markdown",
   "metadata": {},
   "source": [
    "# Supersymmetric harmonic oscillator\n",
    "\n",
    "As a warmup, lets go through the steps to get from the Hamiltonian of this system to a quantum circuit that lets us evolve states according to the time evolution operator.\n",
    "\n",
    "The superpotential is \n",
    "\\begin{equation}\n",
    "    W(\\hat{q}) = \\frac{1}{2}m \\hat{q}^2\n",
    "\\end{equation}\n",
    "which leads to the following Hamiltonian,\n",
    "\\begin{equation}\n",
    "    H = \\frac{1}{2}\\left(H_B+H_F\\right), \\quad \n",
    "        H_B=\\hat{p}^2+m^2\\hat{q}^2, \\quad H_F=m\\left[\\hat{b}^{\\dagger},\\hat{b}\\right].\n",
    "\\end{equation}\n",
    "This contains two terms, a bosonic piece and a fermionic piece.  For the bosonic part, we could work in the position or momentum basis, but this is just the Hamiltonian for a harmonic oscillator, so lets convert to the number basis.  \n"
   ]
  },
  {
   "cell_type": "code",
   "execution_count": 38,
   "metadata": {},
   "outputs": [
    {
     "name": "stdout",
     "output_type": "stream",
     "text": [
      "Original H = 0.5*(m**2*q**2 + p**2)\n",
      "Using creation/annihlation operators H = 0.5*m*a*ad + 0.5*m*ad*a\n"
     ]
    }
   ],
   "source": [
    "import sympy as sp\n",
    "\n",
    "p, q = sp.symbols('p, q', commutative=False)\n",
    "m = sp.Symbol('m')\n",
    "\n",
    "h_b = 0.5*(p*p + m*m*q*q)\n",
    "\n",
    "a, adag = sp.symbols('a, ad', commutative=False)\n",
    "q_also = 0.5*sp.sqrt(2/m)*(a + adag)\n",
    "p_also = complex(0,1)*sp.sqrt(2*m)*(adag - a)/2\n",
    "\n",
    "print('Original H = ' + str(h_b))\n",
    "h_harmonic = sp.expand(h_b.subs({q: q_also, p: p_also}))\n",
    "print('Using creation/annihlation operators H = ' + str(h_harmonic))"
   ]
  },
  {
   "cell_type": "markdown",
   "metadata": {},
   "source": [
    "And we know the matrix elements of $A$ and $A^{\\dagger}$, they are defined in HamiltonianTerms.  We of course must impose a cutoff at this point, truncating the allowed excitations of the harmonic oscillator"
   ]
  },
  {
   "cell_type": "code",
   "execution_count": 42,
   "metadata": {},
   "outputs": [],
   "source": [
    "import sys\n",
    "sys.path.append('..')\n",
    "import src.HamiltonianTerms as hmats\n",
    "\n",
    "import numpy as np"
   ]
  },
  {
   "cell_type": "code",
   "execution_count": 54,
   "metadata": {},
   "outputs": [
    {
     "name": "stdout",
     "output_type": "stream",
     "text": [
      "[[0.500000000000000 0 0 0]\n",
      " [0 1.50000000000000 0 0]\n",
      " [0 0 2.50000000000000 0]\n",
      " [0 0 0 3.50000000000000]]\n"
     ]
    }
   ],
   "source": [
    "h_matrix = h_harmonic.subs({\n",
    "                           a*adag: sp.Matrix(hmats.a(5)*hmats.adag(5)),\n",
    "                           adag*a: sp.Matrix(hmats.adag(5)*hmats.a(5))\n",
    "                           })\n",
    "\n",
    "matrix = np.array(h_matrix.subs({m: 1}).tolist())[:-1,:-1]\n",
    "print(matrix)"
   ]
  },
  {
   "cell_type": "markdown",
   "metadata": {},
   "source": [
    "Now that we have the expression as a matrix, we can convert it to pauli strings, see \\textbf{MatrixToPauliStrings} for the details.  "
   ]
  },
  {
   "cell_type": "code",
   "execution_count": 56,
   "metadata": {},
   "outputs": [
    {
     "name": "stdout",
     "output_type": "stream",
     "text": [
      "2.0*I^0*I^1 - 1.0*I^0*Z^1 - 0.5*I^1*Z^0 - 5.55111512312578e-17*Z^0*Z^1\n"
     ]
    }
   ],
   "source": [
    "from src.MatrixToPauliString import *\n",
    "from src.BinaryEncodings import *\n",
    "\n",
    "pauli_strings = matrix_to_pauli_strings(matrix, standard_encode)\n",
    "print(sp.expand(pauli_strings))"
   ]
  },
  {
   "cell_type": "markdown",
   "metadata": {},
   "source": [
    "But we can't forget about the fermionic piece!  We will always add the fermion onto the qubit after the highest numbered qubit for the boson.  "
   ]
  },
  {
   "cell_type": "code",
   "execution_count": 59,
   "metadata": {},
   "outputs": [],
   "source": [
    "from src.sympy_utilities import *\n",
    "\n",
    "fermion_qubit = max_sympy_exponent(pauli_strings) + 1"
   ]
  },
  {
   "cell_type": "code",
   "execution_count": null,
   "metadata": {},
   "outputs": [],
   "source": []
  },
  {
   "cell_type": "code",
   "execution_count": null,
   "metadata": {},
   "outputs": [],
   "source": [
    "# TODO FINISH THIS SECTION"
   ]
  },
  {
   "cell_type": "code",
   "execution_count": null,
   "metadata": {},
   "outputs": [],
   "source": []
  },
  {
   "cell_type": "code",
   "execution_count": null,
   "metadata": {},
   "outputs": [],
   "source": []
  },
  {
   "cell_type": "code",
   "execution_count": 8,
   "metadata": {},
   "outputs": [],
   "source": [
    "zfermion=sp.symbols('Z^'+str(max_sympy_exponent(expr)+1))\n",
    "idfermion=sp.symbols('I^'+str(max_sympy_exponent(expr)+1))\n",
    "xfermion=sp.symbols('X^'+str(max_sympy_exponent(expr)+1))\n",
    "yfermion=sp.symbols('Y^'+str(max_sympy_exponent(expr)+1))"
   ]
  },
  {
   "cell_type": "code",
   "execution_count": 9,
   "metadata": {},
   "outputs": [],
   "source": [
    "new_physics = sp.expand(expr*zfermion)"
   ]
  },
  {
   "cell_type": "code",
   "execution_count": 10,
   "metadata": {},
   "outputs": [
    {
     "name": "stdout",
     "output_type": "stream",
     "text": [
      "4.0*I^0*I^1*I^2*Z^3 - 2.0*I^0*I^1*Z^2*Z^3 - 1.0*I^0*I^2*Z^1*Z^3 - 0.5*I^1*I^2*Z^0*Z^3\n"
     ]
    }
   ],
   "source": [
    "qc=PauliStringsToQISKITCircuit(new_physics)\n",
    "qc.string_to_terms()\n",
    "print(qc.pauli_strings)"
   ]
  },
  {
   "cell_type": "code",
   "execution_count": 11,
   "metadata": {},
   "outputs": [
    {
     "name": "stdout",
     "output_type": "stream",
     "text": [
      "4\n"
     ]
    }
   ],
   "source": [
    "qc.make_qiskit_circuit(1)"
   ]
  },
  {
   "cell_type": "code",
   "execution_count": 12,
   "metadata": {},
   "outputs": [
    {
     "data": {
      "image/png": "[encoded data removed]",
      "text/plain": [
       "<Figure size 688.597x264.88 with 1 Axes>"
      ]
     },
     "execution_count": 12,
     "metadata": {},
     "output_type": "execute_result"
    }
   ],
   "source": [
    "qc.circuit.draw(output=\"mpl\")"
   ]
  },
  {
   "cell_type": "code",
   "execution_count": null,
   "metadata": {},
   "outputs": [],
   "source": []
  },
  {
   "cell_type": "code",
   "execution_count": null,
   "metadata": {},
   "outputs": [],
   "source": []
  }
 ],
 "metadata": {
  "kernelspec": {
   "display_name": "Python 3",
   "language": "python",
   "name": "python3"
  },
  "language_info": {
   "codemirror_mode": {
    "name": "ipython",
    "version": 3
   },
   "file_extension": ".py",
   "mimetype": "text/x-python",
   "name": "python",
   "nbconvert_exporter": "python",
   "pygments_lexer": "ipython3",
   "version": "3.9.1"
  }
 },
 "nbformat": 4,
 "nbformat_minor": 4
}
