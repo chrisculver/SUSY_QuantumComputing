{
 "cells": [
  {
   "cell_type": "markdown",
   "metadata": {},
   "source": [
    "## Quantum circuit for an exponential of pauli strings\n",
    "\n",
    "For SUSY QM, the Hamiltonian, $H$ can be qubitized, which results in the Hamiltonian being written as a sum of terms, with each term containing a produce of pauli matrices acting on the qubits.  Given some initial state, we can apply the time evolution operator, \n",
    "\\begin{equation}\n",
    "    e^{iHt}.\n",
    "\\end{equation}\n",
    "To realize this on a quantum computer, we use the Suzuki-Trotter formula\n",
    "\\begin{equation}\n",
    "    e^{i\\sum_j H_j t}=\\prod_j e^{i H_j \\delta t} + \\mathcal{O}()\n",
    "\\end{equation}\n",
    "Since qubitizing the Hamiltonian results in an expression for $H$ in terms of pauli operators, we need to be able to write down the quantum circuit for an exponential of pauli matrices.  This is accomplished with the so-called \"ladder\" circuit, which we now detail."
   ]
  },
  {
   "cell_type": "markdown",
   "metadata": {},
   "source": [
    "First we go through some example cases showing that the exponential of the Hamiltonian is a quantum circuit."
   ]
  },
  {
   "cell_type": "code",
   "execution_count": 1,
   "metadata": {},
   "outputs": [],
   "source": [
    "import numpy as np #we will use numpy's kron function for tensor products, and its matmul for matrix multiplication.\n",
    "\n",
    "#definition of the identity, pauli X and Z matrices, and the two-qubit CNOT matrix.\n",
    "ID=np.array([[1,0],[0,1]])\n",
    "X=np.array([[0,1],[1,0]])\n",
    "Z=np.array([[1,0],[0,-1]])\n",
    "CNOT=np.array([[1,0,0,0],[0,1,0,0],[0,0,0,1],[0,0,1,0]])"
   ]
  },
  {
   "cell_type": "code",
   "execution_count": 2,
   "metadata": {},
   "outputs": [],
   "source": [
    "#A quick check that we are doing kronecker products correctly\n",
    "#The CNOT gate is the identity, if the control qubit is zero, and a NOT(X) gate otherwise\n",
    "assert(CNOT.all() == (np.kron([[1,0],[0,0]],ID) + np.kron([[0,0],[0,1]],X)).all())"
   ]
  },
  {
   "cell_type": "code",
   "execution_count": 3,
   "metadata": {},
   "outputs": [],
   "source": [
    "#To avoid using an algebraic library, like sci-py, I pick specific values for cos(t) and i sin(t)...\n",
    "#cos(t) = A \n",
    "#i sin(t) = B\n",
    "A=0.2\n",
    "B=0.3\n",
    "RZ=A*ID + B*Z #a rotation around the z-axis with given values for t (that don't make sense)"
   ]
  },
  {
   "cell_type": "markdown",
   "metadata": {},
   "source": [
    "Now we can check that the circuit for \n",
    "\\begin{equation}\n",
    "    e^{-i(Z \\otimes Z)t} = \\text{CNOT}\\times(\\mathcal{1}\\otimes R_z)\\times \\text{CNOT}\n",
    "\\end{equation}"
   ]
  },
  {
   "cell_type": "code",
   "execution_count": 4,
   "metadata": {},
   "outputs": [],
   "source": [
    "LHS=A*np.kron(ID,ID) + B*np.kron(Z,Z)\n",
    "RHS=np.matmul(CNOT,np.matmul(np.kron(ID,RZ),CNOT))\n",
    "\n",
    "#print(LHS)\n",
    "#print(RHS)\n",
    "assert(LHS.all()==RHS.all())"
   ]
  },
  {
   "cell_type": "code",
   "execution_count": 5,
   "metadata": {},
   "outputs": [],
   "source": [
    "#We now repeat this for a pauli Z applied to 3 qubits.\n",
    "LHS = A*np.kron(ID,np.kron(ID,ID)) + B*np.kron(Z,np.kron(Z,Z))\n",
    "\n",
    "CNOT1=np.kron(CNOT,ID)\n",
    "CNOT2=np.kron(ID,CNOT)\n",
    "RZ3=np.kron(ID,np.kron(ID,RZ))\n",
    "\n",
    "RHS=np.matmul(CNOT1,np.matmul(CNOT2,np.matmul(RZ3,np.matmul(CNOT2,CNOT1))))\n",
    "\n",
    "assert(LHS.all()==RHS.all())"
   ]
  },
  {
   "cell_type": "markdown",
   "metadata": {},
   "source": [
    "QISKIT already contains a method for implementing Trotterization to a exponential written as a sum of pauli matrices."
   ]
  },
  {
   "cell_type": "code",
   "execution_count": 6,
   "metadata": {},
   "outputs": [],
   "source": [
    "from qiskit.aqua.operators import I,X,Y,Z, PauliTrotterEvolution\n",
    "from qiskit import QuantumCircuit, transpile"
   ]
  },
  {
   "cell_type": "code",
   "execution_count": 10,
   "metadata": {},
   "outputs": [
    {
     "name": "stdout",
     "output_type": "stream",
     "text": [
      "e^(-i*ZZ)\n",
      "     ┌───┐┌───┐┌───┐┌───────┐┌───┐┌───┐┌───┐\n",
      "q_0: ┤ I ├┤ X ├┤ I ├┤ RZ(2) ├┤ I ├┤ X ├┤ I ├\n",
      "     ├───┤└─┬─┘├───┤└───────┘└───┘└─┬─┘├───┤\n",
      "q_1: ┤ I ├──■──┤ I ├────────────────■──┤ I ├\n",
      "     └───┘     └───┘                   └───┘\n"
     ]
    },
    {
     "data": {
      "image/png": "[encoded data removed]",
      "text/plain": [
       "<Figure size 507.852x204.68 with 1 Axes>"
      ]
     },
     "execution_count": 10,
     "metadata": {},
     "output_type": "execute_result"
    }
   ],
   "source": [
    "operator = ((Z^Z).exp_i())\n",
    "trotter_op = PauliTrotterEvolution(trotter_mode='suzuki').convert(operator)\n",
    "print(operator)\n",
    "print(trotter_op)\n",
    "qc = QuantumCircuit(2,2)\n",
    "qc.append(trotter_op, [0,1])\n",
    "transpile(qc, basis_gates = ['cx', 'u1', 'u2', 'u3', 'H', 'X', 'Y', 'Z','id']).draw('mpl')"
   ]
  },
  {
   "cell_type": "code",
   "execution_count": 8,
   "metadata": {},
   "outputs": [
    {
     "data": {
      "image/png": "[encoded data removed]",
      "text/plain": [
       "<Figure size 387.452x204.68 with 1 Axes>"
      ]
     },
     "execution_count": 8,
     "metadata": {},
     "output_type": "execute_result"
    }
   ],
   "source": [
    "transpile(qc, basis_gates = ['cx', 'u1', 'u2', 'u3', 'H', 'X', 'Y', 'Z', 'id'],optimization_level=3).draw('mpl')"
   ]
  },
  {
   "cell_type": "code",
   "execution_count": 9,
   "metadata": {},
   "outputs": [
    {
     "name": "stdout",
     "output_type": "stream",
     "text": [
      "e^(-i*XZ)\n",
      "     ┌───┐┌───┐┌───┐┌───┐┌───────┐┌───┐┌───┐┌───┐┌───┐\n",
      "q_0: ┤ I ├┤ I ├┤ X ├┤ I ├┤ RZ(2) ├┤ I ├┤ X ├┤ I ├┤ I ├\n",
      "     ├───┤├───┤└─┬─┘├───┤└───────┘└───┘└─┬─┘├───┤├───┤\n",
      "q_1: ┤ I ├┤ H ├──■──┤ I ├────────────────■──┤ H ├┤ I ├\n",
      "     └───┘└───┘     └───┘                   └───┘└───┘\n"
     ]
    },
    {
     "data": {
      "image/png": "[encoded data removed]",
      "text/plain": [
       "<Figure size 628.252x204.68 with 1 Axes>"
      ]
     },
     "execution_count": 9,
     "metadata": {},
     "output_type": "execute_result"
    }
   ],
   "source": [
    "operator = ((X^Z).exp_i())\n",
    "trotter_op = PauliTrotterEvolution(trotter_mode='suzuki').convert(operator)\n",
    "print(operator)\n",
    "print(trotter_op)\n",
    "qc = QuantumCircuit(2,2)\n",
    "qc.append(trotter_op, [0,1])\n",
    "transpile(qc, basis_gates = ['cx', 'u1', 'u2', 'u3', 'H', 'X', 'Y', 'Z', 'id']).draw('mpl')"
   ]
  },
  {
   "cell_type": "code",
   "execution_count": 16,
   "metadata": {},
   "outputs": [
    {
     "name": "stdout",
     "output_type": "stream",
     "text": [
      "e^(-i*XYZ)\n",
      "      ┌───┐ ┌───┐┌───┐┌───┐┌───┐┌───────┐┌───┐┌───┐┌───┐┌───┐┌───┐\n",
      "q_0: ─┤ I ├─┤ I ├┤ X ├┤ X ├┤ I ├┤ RZ(2) ├┤ I ├┤ X ├┤ X ├┤ I ├┤ I ├\n",
      "     ┌┴───┴┐├───┤└─┬─┘└─┬─┘├───┤└───────┘└───┘└─┬─┘└─┬─┘├───┤├───┤\n",
      "q_1: ┤ SDG ├┤ H ├──■────┼──┤ I ├────────────────┼────■──┤ H ├┤ S ├\n",
      "     └┬───┬┘├───┤       │  ├───┤                │  ┌───┐├───┤└───┘\n",
      "q_2: ─┤ I ├─┤ H ├───────■──┤ I ├────────────────■──┤ H ├┤ I ├─────\n",
      "      └───┘ └───┘          └───┘                   └───┘└───┘     \n"
     ]
    },
    {
     "data": {
      "image/png": "[encoded data removed]",
      "text/plain": [
       "<Figure size 808.997x264.88 with 1 Axes>"
      ]
     },
     "execution_count": 16,
     "metadata": {},
     "output_type": "execute_result"
    }
   ],
   "source": [
    "operator = ((X^Y^Z).exp_i())\n",
    "trotter_op = PauliTrotterEvolution(trotter_mode='suzuki').convert(operator)\n",
    "print(operator)\n",
    "print(trotter_op)\n",
    "qc = QuantumCircuit(3,3)\n",
    "qc.append(trotter_op, [0,1,2])#\n",
    "#qc.draw('mpl')\n",
    "transpile(qc, basis_gates = ['cx', 'u1', 'u2', 'u3', 'H', 'X', 'Y', 'Z', 'id']).draw('mpl')"
   ]
  },
  {
   "cell_type": "code",
   "execution_count": 26,
   "metadata": {},
   "outputs": [
    {
     "data": {
      "image/png": "[encoded data removed]",
      "text/plain": [
       "<Figure size 387.597x264.88 with 1 Axes>"
      ]
     },
     "execution_count": 26,
     "metadata": {},
     "output_type": "execute_result"
    }
   ],
   "source": [
    "qc2=QuantumCircuit(3,3)\n",
    "qc2.cx(1,0)\n",
    "qc2.cx(2,0)\n",
    "qc2.rz(1,0)\n",
    "qc2.cx(2,0)\n",
    "qc2.cx(1,0)\n",
    "qc2.draw('mpl',filename='PLOTS/ladder_circuit.png')"
   ]
  },
  {
   "cell_type": "code",
   "execution_count": null,
   "metadata": {},
   "outputs": [],
   "source": []
  }
 ],
 "metadata": {
  "kernelspec": {
   "display_name": "Python 3",
   "language": "python",
   "name": "python3"
  },
  "language_info": {
   "codemirror_mode": {
    "name": "ipython",
    "version": 3
   },
   "file_extension": ".py",
   "mimetype": "text/x-python",
   "name": "python",
   "nbconvert_exporter": "python",
   "pygments_lexer": "ipython3",
   "version": "3.9.1"
  }
 },
 "nbformat": 4,
 "nbformat_minor": 4
}
