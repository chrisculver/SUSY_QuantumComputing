{
 "cells": [
  {
   "cell_type": "code",
   "execution_count": 1,
   "metadata": {},
   "outputs": [],
   "source": [
    "import pickle\n",
    "import sys\n",
    "sys.path.append('..')\n",
    "from src.sympy_utilities import *\n",
    "from src.BinaryEncodings import *\n",
    "from src.qiskit_utilities import *\n",
    "from src.MatrixToPauliString import *\n",
    "\n",
    "import matplotlib.pyplot as plt"
   ]
  },
  {
   "cell_type": "code",
   "execution_count": null,
   "metadata": {},
   "outputs": [],
   "source": []
  },
  {
   "cell_type": "code",
   "execution_count": 2,
   "metadata": {},
   "outputs": [],
   "source": [
    "h_b_HO = 0.5*(p*p + m*m*q*q)\n",
    "h_f_HO = -0.5*m#[bdag,b]\n",
    "\n",
    "hamHO = Hamiltonian(h_b_HO, h_f_HO, {m:1, g:1},\n",
    "                  2**1, standard_encode)"
   ]
  },
  {
   "cell_type": "code",
   "execution_count": 3,
   "metadata": {},
   "outputs": [
    {
     "data": {
      "text/latex": [
       "$\\displaystyle 1.0 I^{0} I^{1} + 0.5 I^{0} Z^{1} - 0.5 I^{1} Z^{0}$"
      ],
      "text/plain": [
       "1.0*I^0*I^1 + 0.5*I^0*Z^1 - 0.5*I^1*Z^0"
      ]
     },
     "execution_count": 3,
     "metadata": {},
     "output_type": "execute_result"
    }
   ],
   "source": [
    "hamHO.pauliStrings"
   ]
  },
  {
   "cell_type": "code",
   "execution_count": 4,
   "metadata": {},
   "outputs": [
    {
     "name": "stderr",
     "output_type": "stream",
     "text": [
      "/home/chrisculver/miniconda3/envs/QuantumComputing/lib/python3.9/site-packages/qiskit/aqua/__init__.py:86: DeprecationWarning: The package qiskit.aqua is deprecated. It was moved/refactored to qiskit-terra For more information see <https://github.com/Qiskit/qiskit-aqua/blob/main/README.md#migration-guide>\n",
      "  warn_package('aqua', 'qiskit-terra')\n"
     ]
    }
   ],
   "source": [
    "from qiskit.aqua.operators import I,X,Y,Z, PauliTrotterEvolution\n",
    "from qiskit import QuantumCircuit, transpile"
   ]
  },
  {
   "cell_type": "code",
   "execution_count": null,
   "metadata": {},
   "outputs": [],
   "source": []
  },
  {
   "cell_type": "code",
   "execution_count": 5,
   "metadata": {},
   "outputs": [
    {
     "name": "stderr",
     "output_type": "stream",
     "text": [
      "/home/chrisculver/miniconda3/envs/QuantumComputing/lib/python3.9/site-packages/qiskit/aqua/operators/operator_base.py:46: DeprecationWarning: The package qiskit.aqua.operators is deprecated. It was moved/refactored to qiskit.opflow (pip install qiskit-terra). For more information see <https://github.com/Qiskit/qiskit-aqua/blob/main/README.md#migration-guide>\n",
      "  warn_package('aqua.operators', 'qiskit.opflow', 'qiskit-terra')\n"
     ]
    }
   ],
   "source": [
    "operator1 = ((1.5*I^I).exp_i())\n",
    "operator2 = ((-0.5*I^Z).exp_i())\n",
    "operator3 = ((0.5*Z^I).exp_i())"
   ]
  },
  {
   "cell_type": "code",
   "execution_count": 6,
   "metadata": {},
   "outputs": [
    {
     "name": "stdout",
     "output_type": "stream",
     "text": [
      "II\n"
     ]
    },
    {
     "data": {
      "image/png": "[encoded data removed]",
      "text/plain": [
       "<Figure size 146.652x204.68 with 1 Axes>"
      ]
     },
     "execution_count": 6,
     "metadata": {},
     "output_type": "execute_result"
    }
   ],
   "source": [
    "\n",
    "trotter_op1 = PauliTrotterEvolution(trotter_mode='suzuki').convert(operator1)\n",
    "trotter_op2 = PauliTrotterEvolution(trotter_mode='suzuki').convert(operator2)\n",
    "trotter_op3 = PauliTrotterEvolution(trotter_mode='suzuki').convert(operator3)\n",
    "print(operator1)\n",
    "qc = QuantumCircuit(2,2)\n",
    "qc.append(trotter_op1, [0,1])\n",
    "qc.append(trotter_op2, [0,1])\n",
    "qc.append(trotter_op3, [0,1])\n",
    "transpile(qc, basis_gates = ['cx', 'u1', 'u2', 'u3', 'H', 'X', 'Y', 'Z','id']).draw('mpl')"
   ]
  },
  {
   "cell_type": "code",
   "execution_count": null,
   "metadata": {},
   "outputs": [],
   "source": []
  },
  {
   "cell_type": "code",
   "execution_count": 7,
   "metadata": {},
   "outputs": [
    {
     "data": {
      "text/plain": [
       "0.0625"
      ]
     },
     "execution_count": 7,
     "metadata": {},
     "output_type": "execute_result"
    }
   ],
   "source": [
    "1/16"
   ]
  },
  {
   "cell_type": "code",
   "execution_count": 9,
   "metadata": {},
   "outputs": [
    {
     "name": "stdout",
     "output_type": "stream",
     "text": [
      "0.5*a*ad + 0.25*a*ad*a*ad + 0.0625*a*ad*a*ad*a*ad + 0.0625*a*ad*a*ad*a**2 + 0.0625*a*ad*a*ad**2*a + 0.0625*a*ad*a*ad**3 + 0.25*a*ad*a**2 + 0.0625*a*ad*a**2*ad*a + 0.0625*a*ad*a**2*ad**2 + 0.0625*a*ad*a**3*ad + 0.0625*a*ad*a**4 + 0.25*a*ad**2*a + 0.0625*a*ad**2*a*ad*a + 0.0625*a*ad**2*a*ad**2 + 0.0625*a*ad**2*a**2*ad + 0.0625*a*ad**2*a**3 + 0.25*a*ad**3 + 0.0625*a*ad**3*a*ad + 0.0625*a*ad**3*a**2 + 0.0625*a*ad**4*a + 0.0625*a*ad**5 + 0.25*a**2*ad*a + 0.0625*a**2*ad*a*ad*a + 0.0625*a**2*ad*a*ad**2 + 0.0625*a**2*ad*a**2*ad + 0.0625*a**2*ad*a**3 + 0.25*a**2*ad**2 + 0.0625*a**2*ad**2*a*ad + 0.0625*a**2*ad**2*a**2 + 0.0625*a**2*ad**3*a + 0.0625*a**2*ad**4 + 0.25*a**3*ad + 0.0625*a**3*ad*a*ad + 0.0625*a**3*ad*a**2 + 0.0625*a**3*ad**2*a + 0.0625*a**3*ad**3 + 0.25*a**4 + 0.0625*a**4*ad*a + 0.0625*a**4*ad**2 + 0.0625*a**5*ad + 0.0625*a**6 + 0.5*ad*a + 0.25*ad*a*ad*a + 0.0625*ad*a*ad*a*ad*a + 0.0625*ad*a*ad*a*ad**2 + 0.0625*ad*a*ad*a**2*ad + 0.0625*ad*a*ad*a**3 + 0.25*ad*a*ad**2 + 0.0625*ad*a*ad**2*a*ad + 0.0625*ad*a*ad**2*a**2 + 0.0625*ad*a*ad**3*a + 0.0625*ad*a*ad**4 + 0.25*ad*a**2*ad + 0.0625*ad*a**2*ad*a*ad + 0.0625*ad*a**2*ad*a**2 + 0.0625*ad*a**2*ad**2*a + 0.0625*ad*a**2*ad**3 + 0.25*ad*a**3 + 0.0625*ad*a**3*ad*a + 0.0625*ad*a**3*ad**2 + 0.0625*ad*a**4*ad + 0.0625*ad*a**5 + 0.25*ad**2*a*ad + 0.0625*ad**2*a*ad*a*ad + 0.0625*ad**2*a*ad*a**2 + 0.0625*ad**2*a*ad**2*a + 0.0625*ad**2*a*ad**3 + 0.25*ad**2*a**2 + 0.0625*ad**2*a**2*ad*a + 0.0625*ad**2*a**2*ad**2 + 0.0625*ad**2*a**3*ad + 0.0625*ad**2*a**4 + 0.25*ad**3*a + 0.0625*ad**3*a*ad*a + 0.0625*ad**3*a*ad**2 + 0.0625*ad**3*a**2*ad + 0.0625*ad**3*a**3 + 0.25*ad**4 + 0.0625*ad**4*a*ad + 0.0625*ad**4*a**2 + 0.0625*ad**5*a + 0.0625*ad**6\n",
      "\n",
      "-0.5 - 0.75*a*ad - 0.75*a**2 - 0.75*ad*a - 0.75*ad**2\n",
      "\n",
      "32.75*I^0*I^1*I^2 + 3.5*I^0*I^1*Z^2 + 14.1486483908533*I^0*I^2*X^1 - 25.75*I^0*I^2*Z^1 + 1.4488887394336*I^0*X^1*Z^2 - 1.5*I^0*Z^1*Z^2 - 13.8125*I^1*I^2*Z^0 - 0.75*I^1*Z^0*Z^2 - 8.04985240311929*I^2*X^1*Z^0 + 9.0*I^2*Z^0*Z^1 - 0.388228567653781*X^1*Z^0*Z^2\n"
     ]
    }
   ],
   "source": [
    "h_b_AHO = 0.5*(p*p) + 0.5*(m*q+g*q**3)**2\n",
    "h_f_AHO = -0.5*(m+3*g*q*q)#[bdag,b]\n",
    "\n",
    "hamAHO = Hamiltonian(h_b_AHO, h_f_AHO, {m:1, g:1},\n",
    "                  2**2, standard_encode)\n",
    "print(hamAHO.harmonic)\n",
    "print()\n",
    "print(hamAHO.fermionic)\n",
    "print()\n",
    "print(hamAHO.pauliStrings)\n",
    "#print()\n",
    "#print(np.linalg.eig(hamAHO.hamMatrix))"
   ]
  },
  {
   "cell_type": "code",
   "execution_count": 10,
   "metadata": {},
   "outputs": [
    {
     "data": {
      "text/plain": [
       "1.4142135623730951"
      ]
     },
     "execution_count": 10,
     "metadata": {},
     "output_type": "execute_result"
    }
   ],
   "source": [
    "import math\n",
    "math.sqrt(2)"
   ]
  },
  {
   "cell_type": "code",
   "execution_count": 11,
   "metadata": {},
   "outputs": [
    {
     "data": {
      "text/plain": [
       "array([[0.500000000000000, 0],\n",
       "       [0, 1.50000000000000]], dtype=object)"
      ]
     },
     "execution_count": 11,
     "metadata": {},
     "output_type": "execute_result"
    }
   ],
   "source": [
    "hamHO.bmatrix"
   ]
  },
  {
   "cell_type": "code",
   "execution_count": 12,
   "metadata": {},
   "outputs": [
    {
     "data": {
      "text/plain": [
       "(array([0.5, 1.5]),\n",
       " matrix([[1., 0.],\n",
       "         [0., 1.]]))"
      ]
     },
     "execution_count": 12,
     "metadata": {},
     "output_type": "execute_result"
    }
   ],
   "source": [
    "np.linalg.eig(np.matrix(hamHO.bmatrix,dtype=float))"
   ]
  },
  {
   "cell_type": "code",
   "execution_count": 13,
   "metadata": {},
   "outputs": [
    {
     "data": {
      "text/plain": [
       "(array([1.+0.j, 2.+0.j, 0.+0.j, 1.+0.j]),\n",
       " array([[1.+0.j, 0.+0.j, 0.+0.j, 0.+0.j],\n",
       "        [0.+0.j, 1.+0.j, 0.+0.j, 0.+0.j],\n",
       "        [0.+0.j, 0.+0.j, 1.+0.j, 0.+0.j],\n",
       "        [0.+0.j, 0.+0.j, 0.+0.j, 1.+0.j]]))"
      ]
     },
     "execution_count": 13,
     "metadata": {},
     "output_type": "execute_result"
    }
   ],
   "source": [
    "np.linalg.eig(getMatrix(hamHO.pauliStrings))"
   ]
  },
  {
   "cell_type": "code",
   "execution_count": 27,
   "metadata": {},
   "outputs": [],
   "source": [
    "h_b_HO = 0.5*(p*p + m*m*q*q)\n",
    "h_f_HO = -0.5*m#[bdag,b]\n",
    "    \n",
    "HOcuts = [n for n in range(2**2,2**4+1)]\n",
    "HOhamEigs = []\n",
    "HOqubitEigs = []\n",
    "\n",
    "for n in HOcuts:\n",
    "    hamHO = Hamiltonian(h_b_HO, h_f_HO, {m:1, g:1},\n",
    "                  n, standard_encode)\n",
    "\n",
    "    eigSys = np.linalg.eig(getMatrix(hamHO.pauliStrings))\n",
    "    eigVals = [en.real for en in eigSys[0]]\n",
    "    HOqubitEigs.append(np.sort(eigVals))\n",
    "    eigSys = np.linalg.eig(np.array(hamHO.hamMatrix,dtype=float))\n",
    "    eigVals = [en.real for en in eigSys[0]]\n",
    "    HOhamEigs.append(np.sort(eigVals))\n"
   ]
  },
  {
   "cell_type": "code",
   "execution_count": 79,
   "metadata": {},
   "outputs": [],
   "source": [
    "def plot_data(eigs,offset=0):\n",
    "    x=[[j+4+n*offset for n in range(len(eigs[j]))] for j in range(len(eigs))]\n",
    "    y=[[d for d in eig] for eig in eigs]\n",
    "    return (x,y)"
   ]
  },
  {
   "cell_type": "code",
   "execution_count": 80,
   "metadata": {},
   "outputs": [],
   "source": [
    "import matplotlib \n",
    "matplotlib.use(\"Agg\")\n",
    "plt.style.use(\"paper.mplstyle\")"
   ]
  },
  {
   "cell_type": "code",
   "execution_count": 81,
   "metadata": {},
   "outputs": [
    {
     "data": {
      "image/png": "[encoded data removed]",
      "text/plain": [
       "<Figure size 720x576 with 1 Axes>"
      ]
     },
     "metadata": {
      "needs_background": "light"
     },
     "output_type": "display_data"
    }
   ],
   "source": [
    "x, y = plot_data(HOhamEigs)\n",
    "\n",
    "for i in range(len(x)):\n",
    "    plt.scatter(x[i],y[i], c='black')\n",
    "\n",
    "\n",
    "plt.xlabel('$\\\\Lambda$')\n",
    "plt.ylabel('$E$')\n",
    "\n",
    "plt.xlim(3.5,16.5)\n",
    "plt.ylim(-0.1,2.1)\n",
    "\n",
    "plt.savefig('PLOTS/HO_spectra.pdf',bbox_inches='tight')"
   ]
  },
  {
   "cell_type": "code",
   "execution_count": 82,
   "metadata": {},
   "outputs": [],
   "source": [
    "#eigs[0]"
   ]
  },
  {
   "cell_type": "code",
   "execution_count": 83,
   "metadata": {},
   "outputs": [],
   "source": [
    "#AHOcutsg0 = [n for n in range(2**2,2**5+1)]\n",
    "#AHOeigsg0 = []\n",
    "\n",
    "#h_b_AHO = 0.5*(p*p) + 0.5*(m*q+g*q**3)**2\n",
    "#h_f_AHO = -0.5*(m+3*g*q*q)#[bdag,b]\n",
    "\n",
    "#for n in cuts:\n",
    "#    ham = Hamiltonian(h_b_AHO, h_f_AHO, {m:1, g:0},\n",
    "#                  n, standard_encode)\n",
    "\n",
    "#    eigSys = np.linalg.eig(getMatrix(ham.pauliStrings))\n",
    "#    eigVals = [en.real for en in eigSys[0]]\n",
    "#    AHOeigsg0.append(np.sort(eigVals))"
   ]
  },
  {
   "cell_type": "code",
   "execution_count": 84,
   "metadata": {},
   "outputs": [],
   "source": [
    "#x,y=plot_data(AHOeigsg0)\n",
    "\n",
    "#for i in range(len(AHOeigsg0)):\n",
    "#    plt.scatter(x[i],y[i])\n",
    "#plt.plot([x-2 for x in range(2**5)],[0 for y in range(2**5)])\n",
    "#plt.xlabel('$\\\\Lambda$')\n",
    "#plt.ylabel('$E$')\n",
    "#plt.xlim(3,17)\n",
    "#plt.ylim(-5,10)\n",
    "#plt.title('AHO with $g=0$')\n",
    "#plt.show()\n",
    "#plt.savefig('PLOTS/.pdf')"
   ]
  },
  {
   "cell_type": "code",
   "execution_count": 85,
   "metadata": {},
   "outputs": [
    {
     "ename": "KeyboardInterrupt",
     "evalue": "",
     "output_type": "error",
     "traceback": [
      "\u001b[0;31m---------------------------------------------------------------------------\u001b[0m",
      "\u001b[0;31mKeyboardInterrupt\u001b[0m                         Traceback (most recent call last)",
      "\u001b[0;32m<ipython-input-85-5a447699bceb>\u001b[0m in \u001b[0;36m<module>\u001b[0;34m\u001b[0m\n\u001b[1;32m      4\u001b[0m \u001b[0;34m\u001b[0m\u001b[0m\n\u001b[1;32m      5\u001b[0m \u001b[0;32mfor\u001b[0m \u001b[0mn\u001b[0m \u001b[0;32min\u001b[0m \u001b[0mAHOcuts\u001b[0m\u001b[0;34m:\u001b[0m\u001b[0;34m\u001b[0m\u001b[0;34m\u001b[0m\u001b[0m\n\u001b[0;32m----> 6\u001b[0;31m     ham = Hamiltonian(h_b_AHO, h_f_AHO, {m:1, g:1},\n\u001b[0m\u001b[1;32m      7\u001b[0m                   n, standard_encode)\n\u001b[1;32m      8\u001b[0m \u001b[0;34m\u001b[0m\u001b[0m\n",
      "\u001b[0;32m~/Code/SUSY_QuantumComputing/src/sympy_utilities.py\u001b[0m in \u001b[0;36m__init__\u001b[0;34m(self, bosonic, fermionic, params, cutoff, encoding)\u001b[0m\n\u001b[1;32m    105\u001b[0m         \u001b[0;31m#let's just store the bosonic hamiltonian in all interesting forms\u001b[0m\u001b[0;34m\u001b[0m\u001b[0;34m\u001b[0m\u001b[0;34m\u001b[0m\u001b[0m\n\u001b[1;32m    106\u001b[0m         \u001b[0mself\u001b[0m\u001b[0;34m.\u001b[0m\u001b[0mharmonic\u001b[0m \u001b[0;34m=\u001b[0m \u001b[0msp\u001b[0m\u001b[0;34m.\u001b[0m\u001b[0mexpand\u001b[0m\u001b[0;34m(\u001b[0m\u001b[0mself\u001b[0m\u001b[0;34m.\u001b[0m\u001b[0mbosonic\u001b[0m\u001b[0;34m.\u001b[0m\u001b[0msubs\u001b[0m\u001b[0;34m(\u001b[0m\u001b[0mqp_to_ada\u001b[0m\u001b[0;34m)\u001b[0m\u001b[0;34m)\u001b[0m\u001b[0;34m.\u001b[0m\u001b[0msubs\u001b[0m\u001b[0;34m(\u001b[0m\u001b[0mparams\u001b[0m\u001b[0;34m)\u001b[0m\u001b[0;34m\u001b[0m\u001b[0;34m\u001b[0m\u001b[0m\n\u001b[0;32m--> 107\u001b[0;31m         \u001b[0mself\u001b[0m\u001b[0;34m.\u001b[0m\u001b[0mbmatrix\u001b[0m \u001b[0;34m=\u001b[0m \u001b[0mconvert_to_matrix\u001b[0m\u001b[0;34m(\u001b[0m\u001b[0mself\u001b[0m\u001b[0;34m.\u001b[0m\u001b[0mharmonic\u001b[0m\u001b[0;34m,\u001b[0m \u001b[0mcutoff\u001b[0m\u001b[0;34m,\u001b[0m \u001b[0mself\u001b[0m\u001b[0;34m.\u001b[0m\u001b[0mbuffer\u001b[0m\u001b[0;34m)\u001b[0m\u001b[0;34m\u001b[0m\u001b[0;34m\u001b[0m\u001b[0m\n\u001b[0m\u001b[1;32m    108\u001b[0m         \u001b[0mself\u001b[0m\u001b[0;34m.\u001b[0m\u001b[0mbosonPauliStrings\u001b[0m \u001b[0;34m=\u001b[0m \u001b[0msp\u001b[0m\u001b[0;34m.\u001b[0m\u001b[0mexpand\u001b[0m\u001b[0;34m(\u001b[0m\u001b[0msp\u001b[0m\u001b[0;34m.\u001b[0m\u001b[0mN\u001b[0m\u001b[0;34m(\u001b[0m\u001b[0mmps\u001b[0m\u001b[0;34m.\u001b[0m\u001b[0mmatrix_to_pauli_strings\u001b[0m\u001b[0;34m(\u001b[0m\u001b[0mself\u001b[0m\u001b[0;34m.\u001b[0m\u001b[0mbmatrix\u001b[0m\u001b[0;34m,\u001b[0m \u001b[0mencoding\u001b[0m\u001b[0;34m)\u001b[0m\u001b[0;34m)\u001b[0m\u001b[0;34m)\u001b[0m\u001b[0;34m\u001b[0m\u001b[0;34m\u001b[0m\u001b[0m\n\u001b[1;32m    109\u001b[0m \u001b[0;34m\u001b[0m\u001b[0m\n",
      "\u001b[0;32m~/Code/SUSY_QuantumComputing/src/sympy_utilities.py\u001b[0m in \u001b[0;36mconvert_to_matrix\u001b[0;34m(expr, cutoff, buffer)\u001b[0m\n\u001b[1;32m     34\u001b[0m     \u001b[0;32mif\u001b[0m \u001b[0mtype\u001b[0m\u001b[0;34m(\u001b[0m\u001b[0mexpr\u001b[0m\u001b[0;34m)\u001b[0m\u001b[0;34m==\u001b[0m\u001b[0msp\u001b[0m\u001b[0;34m.\u001b[0m\u001b[0mcore\u001b[0m\u001b[0;34m.\u001b[0m\u001b[0madd\u001b[0m\u001b[0;34m.\u001b[0m\u001b[0mAdd\u001b[0m\u001b[0;34m:\u001b[0m\u001b[0;34m\u001b[0m\u001b[0;34m\u001b[0m\u001b[0m\n\u001b[1;32m     35\u001b[0m         \u001b[0;32mfor\u001b[0m \u001b[0melem\u001b[0m \u001b[0;32min\u001b[0m \u001b[0mexpr\u001b[0m\u001b[0;34m.\u001b[0m\u001b[0margs\u001b[0m\u001b[0;34m:\u001b[0m\u001b[0;34m\u001b[0m\u001b[0;34m\u001b[0m\u001b[0m\n\u001b[0;32m---> 36\u001b[0;31m             \u001b[0mnew_expr\u001b[0m \u001b[0;34m=\u001b[0m \u001b[0mnew_expr\u001b[0m \u001b[0;34m+\u001b[0m \u001b[0mconvert_term_to_matrix\u001b[0m\u001b[0;34m(\u001b[0m\u001b[0melem\u001b[0m\u001b[0;34m,\u001b[0m\u001b[0mcutoff\u001b[0m\u001b[0;34m+\u001b[0m\u001b[0mbuffer\u001b[0m\u001b[0;34m)\u001b[0m\u001b[0;34m\u001b[0m\u001b[0;34m\u001b[0m\u001b[0m\n\u001b[0m\u001b[1;32m     37\u001b[0m \u001b[0;34m\u001b[0m\u001b[0m\n\u001b[1;32m     38\u001b[0m     \u001b[0;32melif\u001b[0m \u001b[0mtype\u001b[0m\u001b[0;34m(\u001b[0m\u001b[0mexpr\u001b[0m\u001b[0;34m)\u001b[0m\u001b[0;34m==\u001b[0m\u001b[0msp\u001b[0m\u001b[0;34m.\u001b[0m\u001b[0mcore\u001b[0m\u001b[0;34m.\u001b[0m\u001b[0mmul\u001b[0m\u001b[0;34m.\u001b[0m\u001b[0mMul\u001b[0m\u001b[0;34m:\u001b[0m\u001b[0;34m\u001b[0m\u001b[0;34m\u001b[0m\u001b[0m\n",
      "\u001b[0;32m~/Code/SUSY_QuantumComputing/src/sympy_utilities.py\u001b[0m in \u001b[0;36mconvert_term_to_matrix\u001b[0;34m(term, cutoff)\u001b[0m\n\u001b[1;32m     70\u001b[0m                 \u001b[0;32mif\u001b[0m\u001b[0;34m(\u001b[0m\u001b[0mlen\u001b[0m\u001b[0;34m(\u001b[0m\u001b[0mlst\u001b[0m\u001b[0;34m)\u001b[0m\u001b[0;34m>\u001b[0m\u001b[0;36m1\u001b[0m\u001b[0;34m)\u001b[0m\u001b[0;34m:\u001b[0m \u001b[0;31m# this should handle pow?\u001b[0m\u001b[0;34m\u001b[0m\u001b[0;34m\u001b[0m\u001b[0m\n\u001b[1;32m     71\u001b[0m                     \u001b[0;32mfor\u001b[0m \u001b[0mi\u001b[0m \u001b[0;32min\u001b[0m \u001b[0mrange\u001b[0m\u001b[0;34m(\u001b[0m\u001b[0mlst\u001b[0m\u001b[0;34m[\u001b[0m\u001b[0;36m1\u001b[0m\u001b[0;34m]\u001b[0m\u001b[0;34m)\u001b[0m\u001b[0;34m:\u001b[0m\u001b[0;34m\u001b[0m\u001b[0;34m\u001b[0m\u001b[0m\n\u001b[0;32m---> 72\u001b[0;31m                         \u001b[0mnew_elem\u001b[0m\u001b[0;34m=\u001b[0m\u001b[0mnp\u001b[0m\u001b[0;34m.\u001b[0m\u001b[0mmatmul\u001b[0m\u001b[0;34m(\u001b[0m\u001b[0mnew_elem\u001b[0m\u001b[0;34m,\u001b[0m\u001b[0mlst\u001b[0m\u001b[0;34m[\u001b[0m\u001b[0;36m0\u001b[0m\u001b[0;34m]\u001b[0m\u001b[0;34m.\u001b[0m\u001b[0msubs\u001b[0m\u001b[0;34m(\u001b[0m\u001b[0madaga_sub\u001b[0m\u001b[0;34m(\u001b[0m\u001b[0mcutoff\u001b[0m\u001b[0;34m)\u001b[0m\u001b[0;34m)\u001b[0m\u001b[0;34m)\u001b[0m\u001b[0;34m\u001b[0m\u001b[0;34m\u001b[0m\u001b[0m\n\u001b[0m\u001b[1;32m     73\u001b[0m                 \u001b[0;32melse\u001b[0m\u001b[0;34m:\u001b[0m\u001b[0;34m\u001b[0m\u001b[0;34m\u001b[0m\u001b[0m\n\u001b[1;32m     74\u001b[0m \u001b[0;34m\u001b[0m\u001b[0m\n",
      "\u001b[0;32m~/miniconda3/envs/QuantumComputing/lib/python3.9/site-packages/sympy/core/numbers.py\u001b[0m in \u001b[0;36m__mul__\u001b[0;34m(self, other)\u001b[0m\n\u001b[1;32m   2208\u001b[0m \u001b[0;34m\u001b[0m\u001b[0m\n\u001b[1;32m   2209\u001b[0m     \u001b[0;32mdef\u001b[0m \u001b[0m__mul__\u001b[0m\u001b[0;34m(\u001b[0m\u001b[0mself\u001b[0m\u001b[0;34m,\u001b[0m \u001b[0mother\u001b[0m\u001b[0;34m)\u001b[0m\u001b[0;34m:\u001b[0m\u001b[0;34m\u001b[0m\u001b[0;34m\u001b[0m\u001b[0m\n\u001b[0;32m-> 2210\u001b[0;31m         \u001b[0;32mif\u001b[0m \u001b[0mglobal_parameters\u001b[0m\u001b[0;34m.\u001b[0m\u001b[0mevaluate\u001b[0m\u001b[0;34m:\u001b[0m\u001b[0;34m\u001b[0m\u001b[0;34m\u001b[0m\u001b[0m\n\u001b[0m\u001b[1;32m   2211\u001b[0m             \u001b[0;32mif\u001b[0m \u001b[0misinstance\u001b[0m\u001b[0;34m(\u001b[0m\u001b[0mother\u001b[0m\u001b[0;34m,\u001b[0m \u001b[0mint\u001b[0m\u001b[0;34m)\u001b[0m\u001b[0;34m:\u001b[0m\u001b[0;34m\u001b[0m\u001b[0;34m\u001b[0m\u001b[0m\n\u001b[1;32m   2212\u001b[0m                 \u001b[0;32mreturn\u001b[0m \u001b[0mInteger\u001b[0m\u001b[0;34m(\u001b[0m\u001b[0mself\u001b[0m\u001b[0;34m.\u001b[0m\u001b[0mp\u001b[0m\u001b[0;34m*\u001b[0m\u001b[0mother\u001b[0m\u001b[0;34m)\u001b[0m\u001b[0;34m\u001b[0m\u001b[0;34m\u001b[0m\u001b[0m\n",
      "\u001b[0;31mKeyboardInterrupt\u001b[0m: "
     ]
    }
   ],
   "source": [
    "AHOcuts = [n for n in range(2**2,2**4+1)]\n",
    "AHOqubitEigs = []\n",
    "AHOhamEigs = []\n",
    "\n",
    "for n in AHOcuts:\n",
    "    ham = Hamiltonian(h_b_AHO, h_f_AHO, {m:1, g:1},\n",
    "                  n, standard_encode)\n",
    "\n",
    "    eigSys = np.linalg.eig(getMatrix(ham.pauliStrings))\n",
    "    eigVals = [en.real for en in eigSys[0]]\n",
    "    AHOqubitEigs.append(np.sort(eigVals))\n",
    "    eigSys = np.linalg.eig(np.array(ham.hamMatrix,dtype=float))\n",
    "    eigVals = [en.real for en in eigSys[0]]\n",
    "    AHOhamEigs.append(np.sort(eigVals))"
   ]
  },
  {
   "cell_type": "code",
   "execution_count": null,
   "metadata": {},
   "outputs": [],
   "source": [
    "x, y = plot_data(AHOhamEigs)\n",
    "\n",
    "for i in range(len(x)):\n",
    "    plt.scatter(x[i],y[i], c='black')\n",
    "\n",
    "\n",
    "plt.xlabel('$\\\\Lambda$')\n",
    "plt.ylabel('$E$')\n",
    "\n",
    "plt.xlim(3.5,16.5)\n",
    "plt.ylim(-0.1,10.1)\n",
    "\n",
    "plt.savefig('PLOTS/AHO_spectra.pdf',bbox_inches='tight')"
   ]
  },
  {
   "cell_type": "code",
   "execution_count": null,
   "metadata": {},
   "outputs": [],
   "source": [
    "x, y = plot_data(AHOhamEigs)\n",
    "\n",
    "for i in range(len(x)):\n",
    "    plt.scatter(x[i],y[i], c='black')\n",
    "\n",
    "\n",
    "plt.xlabel('$\\\\Lambda$')\n",
    "plt.ylabel('$E$')\n",
    "\n",
    "plt.xlim(3.5,16.5)\n",
    "plt.ylim(1e-4,1e0)\n",
    "plt.yscale('log')\n",
    "plt.savefig('PLOTS/AHO_spectra.pdf',bbox_inches='tight')"
   ]
  },
  {
   "cell_type": "code",
   "execution_count": null,
   "metadata": {},
   "outputs": [],
   "source": [
    "#x,y=plot_data(AHOhamEigs)\n",
    "#fig, ax1 = plt.subplots()#\n",
    "\n",
    "# These are in unitless percentages of the figure size. (0,0 is bottom left)\n",
    "#left, bottom, width, height = [0.2, 0.65, 0.2, 0.2]\n",
    "#ax2 = fig.add_axes([left, bottom, width, height])\n",
    "\n",
    "#for ax in [ax1,ax2]:\n",
    "#    for i in range(len(AHOhamEigs)):\n",
    "#        ax.scatter(x[i],y[i])\n",
    "\n",
    "#ax2.set_ylim([1e-10,1e-1])\n",
    "#ax2.set_xlabel('$\\\\Lambda$',fontsize=12)\n",
    "#ax2.set_ylabel('$E$',fontsize=12)\n",
    "#ax2.set_yscale('log')\n",
    "\n",
    "#ax1.set_ylim([0,50])\n",
    "#ax1.set_xlabel('$\\\\Lambda$')\n",
    "#ax1.set_ylabel('$E$')\n",
    "\n",
    "#fig.savefig('PLOTS/AHO_spectra.pdf',bbox_inches='tight')"
   ]
  },
  {
   "cell_type": "code",
   "execution_count": null,
   "metadata": {},
   "outputs": [],
   "source": []
  },
  {
   "cell_type": "markdown",
   "metadata": {},
   "source": [
    "# Double well spectrum"
   ]
  },
  {
   "cell_type": "code",
   "execution_count": null,
   "metadata": {},
   "outputs": [],
   "source": [
    "h_b_DW = 0.5*(p*p + (m*q + g*(q*q + mu*mu))**2)\n",
    "h_f_DW = -0.5*(m+2*g*q)#[bdag,b]\n",
    "\n",
    "DWcuts = [n for n in range(2**2,2**4+1)]\n",
    "DWqubitEigs = []\n",
    "DWhamEigs = []\n",
    "\n",
    "for n in DWcuts:\n",
    "    ham = Hamiltonian(h_b_DW, h_f_DW, {m:1, g:1, mu:1},\n",
    "                  n, standard_encode)\n",
    "\n",
    "    eigSys = np.linalg.eig(getMatrix(ham.pauliStrings))\n",
    "    eigVals = [en.real for en in eigSys[0]]\n",
    "    DWqubitEigs.append(np.sort(eigVals))\n",
    "    eigSys = np.linalg.eig(np.array(ham.hamMatrix,dtype=float))\n",
    "    eigVals = [en.real for en in eigSys[0]]\n",
    "    DWhamEigs.append(np.sort(eigVals))"
   ]
  },
  {
   "cell_type": "code",
   "execution_count": 52,
   "metadata": {},
   "outputs": [],
   "source": [
    "#x,y=plot_data(DWhamEigs)\n",
    "#fig, ax1 = plt.subplots()\n",
    "\n",
    "# These are in unitless percentages of the figure size. (0,0 is bottom left)\n",
    "#left, bottom, width, height = [0.2, 0.65, 0.2, 0.2]\n",
    "#ax2 = fig.add_axes([left, bottom, width, height])\n",
    "\n",
    "#for ax in [ax1,ax2]:\n",
    "#    for i in range(len(DWhamEigs)):\n",
    "#        ax.scatter(x[i],y[i])\n",
    "\n",
    "#ax2.set_ylim([1e-1,1.1])\n",
    "#ax2.set_xlabel('$\\\\Lambda$',fontsize=12)\n",
    "#ax2.set_ylabel('$E$',fontsize=12)\n",
    "\n",
    "\n",
    "#ax1.set_xlabel('$\\\\Lambda$')\n",
    "#ax1.set_ylabel('$E$')\n",
    "\n",
    "#fig.savefig('PLOTS/DW_spectra.pdf',bbox_inches='tight')"
   ]
  },
  {
   "cell_type": "code",
   "execution_count": 86,
   "metadata": {},
   "outputs": [
    {
     "data": {
      "image/png": "[encoded data removed]",
      "text/plain": [
       "<Figure size 720x576 with 1 Axes>"
      ]
     },
     "metadata": {
      "needs_background": "light"
     },
     "output_type": "display_data"
    }
   ],
   "source": [
    "x, y = plot_data(DWhamEigs)\n",
    "\n",
    "for i in range(len(x)):\n",
    "    plt.scatter(x[i],y[i], c='black')\n",
    "\n",
    "\n",
    "plt.xlabel('$\\\\Lambda$')\n",
    "plt.ylabel('$E$')\n",
    "\n",
    "plt.xlim(3.5,16.5)\n",
    "plt.ylim(-0.1,400.1)\n",
    "\n",
    "plt.savefig('PLOTS/DW_spectra.pdf',bbox_inches='tight')"
   ]
  },
  {
   "cell_type": "code",
   "execution_count": 88,
   "metadata": {},
   "outputs": [
    {
     "data": {
      "image/png": "[encoded data removed]",
      "text/plain": [
       "<Figure size 720x576 with 1 Axes>"
      ]
     },
     "metadata": {
      "needs_background": "light"
     },
     "output_type": "display_data"
    }
   ],
   "source": [
    "x, y = plot_data(DWhamEigs)\n",
    "\n",
    "for i in range(len(x)):\n",
    "    plt.scatter(x[i],y[i], c='black')\n",
    "\n",
    "\n",
    "plt.xlabel('$\\\\Lambda$')\n",
    "plt.ylabel('$E$')\n",
    "\n",
    "plt.xlim(3.5,16.5)\n",
    "plt.ylim(-0.1,10.1)\n",
    "\n",
    "plt.savefig('PLOTS/DW_spectra.pdf',bbox_inches='tight')\n",
    "\n",
    "# ground state is near or not to zero, and can see convergence of some excited states"
   ]
  },
  {
   "cell_type": "code",
   "execution_count": 67,
   "metadata": {},
   "outputs": [
    {
     "data": {
      "image/png": "[encoded data removed]",
      "text/plain": [
       "<Figure size 720x576 with 1 Axes>"
      ]
     },
     "metadata": {
      "needs_background": "light"
     },
     "output_type": "display_data"
    }
   ],
   "source": [
    "x, y = plot_data(DWhamEigs)\n",
    "\n",
    "for i in range(len(x)):\n",
    "    plt.scatter(x[i],y[i], c='black')\n",
    "\n",
    "\n",
    "plt.xlabel('$\\\\Lambda$')\n",
    "plt.ylabel('$E$')\n",
    "\n",
    "plt.xlim(3.5,16.5)\n",
    "plt.ylim(0.8858,0.899)\n",
    "plt.yscale('log')\n",
    "\n",
    "plt.savefig('PLOTS/DW_spectra.pdf',bbox_inches='tight')"
   ]
  },
  {
   "cell_type": "code",
   "execution_count": 74,
   "metadata": {},
   "outputs": [],
   "source": [
    "#x, y = plot_data(DWhamEigs)#\n",
    "\n",
    "#for i in range(len(x)):\n",
    "#    plt.scatter(x[i],np.array(y[i])-np.array([0.891 for i in range(len(y[i]))]), c='black')\n",
    "\n",
    "\n",
    "#plt.xlabel('$\\\\Lambda$')\n",
    "#plt.ylabel('$\\\\Delta E$')\n",
    "\n",
    "#plt.xlim(3.5,16.5)\n",
    "#plt.ylim(1e-6,1e-1)\n",
    "#plt.yscale('log')\n",
    "\n",
    "#plt.savefig('PLOTS/DW_spectra.pdf',bbox_inches='tight')"
   ]
  },
  {
   "cell_type": "code",
   "execution_count": null,
   "metadata": {},
   "outputs": [],
   "source": []
  }
 ],
 "metadata": {
  "kernelspec": {
   "display_name": "Python 3",
   "language": "python",
   "name": "python3"
  },
  "language_info": {
   "codemirror_mode": {
    "name": "ipython",
    "version": 3
   },
   "file_extension": ".py",
   "mimetype": "text/x-python",
   "name": "python",
   "nbconvert_exporter": "python",
   "pygments_lexer": "ipython3",
   "version": "3.9.1"
  }
 },
 "nbformat": 4,
 "nbformat_minor": 4
}
