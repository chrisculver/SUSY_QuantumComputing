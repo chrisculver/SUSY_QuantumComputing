{
 "cells": [
  {
   "cell_type": "code",
   "execution_count": 6,
   "metadata": {},
   "outputs": [],
   "source": [
    "import pickle\n",
    "import sys\n",
    "\n",
    "sys.path.append('..')\n",
    "from src.sympy_utilities import *\n",
    "from src.BinaryEncodings import *\n",
    "from src.qiskit_utilities import *\n",
    "from src.MatrixToPauliString import *\n",
    "\n",
    "import matplotlib.pyplot as plt\n",
    "\n",
    "def plot_data(eigs,offset=0):\n",
    "    x=[[j+4+n*offset for n in range(len(eigs[j]))] for j in range(len(eigs))]\n",
    "    y=[[d for d in eig] for eig in eigs]\n",
    "    return (x,y)"
   ]
  },
  {
   "cell_type": "code",
   "execution_count": 2,
   "metadata": {},
   "outputs": [],
   "source": [
    "import pickle"
   ]
  },
  {
   "cell_type": "code",
   "execution_count": 3,
   "metadata": {},
   "outputs": [],
   "source": [
    "h_b_HO = 0.5*(p*p + m*m*q*q)\n",
    "h_f_HO = -0.5*m#[bdag,b]\n",
    "    \n",
    "HOcuts = [n for n in range(2**2,2**5+1)]\n",
    "HOhamEigs = []\n",
    "#HOqubitEigs = []\n",
    "\n",
    "#REMEMBER QUBIT EIGS HAVE EXTRA ZERO EIGENVALUES\n",
    "\n",
    "#for n in HOcuts:\n",
    "#    hamHO = Hamiltonian(h_b_HO, h_f_HO, {m:1, g:1},\n",
    "#                  n, standard_encode)\n",
    "\n",
    "    #eigSys = np.linalg.eig(getMatrix(hamHO.pauliStrings))\n",
    "    #eigVals = [en.real for en in eigSys[0]]\n",
    "    #HOqubitEigs.append(np.sort(eigVals))\n",
    "#    eigSys = np.linalg.eig(np.array(hamHO.hamMatrix,dtype=float))\n",
    "#    eigVals = [en.real for en in eigSys[0]]\n",
    "#    HOhamEigs.append(np.sort(eigVals))\n",
    "    \n",
    "#    pickle.dump(HOhamEigs,open(\"DATA/ho_eigs_vs_cutoff.p\",\"wb\"))"
   ]
  },
  {
   "cell_type": "code",
   "execution_count": 4,
   "metadata": {},
   "outputs": [],
   "source": [
    "HOcuts = [n for n in range(2**5,2**6+1)]\n",
    "#for n in HOcuts:\n",
    "#    hamHO = Hamiltonian(h_b_HO, h_f_HO, {m:1, g:1},\n",
    "#                  n, standard_encode)\n",
    "\n",
    "#    eigSys = np.linalg.eig(np.array(hamHO.hamMatrix,dtype=float))\n",
    "#    eigVals = [en.real for en in eigSys[0]]\n",
    "#    HOhamEigs.append(np.sort(eigVals))\n",
    "    \n",
    "#    pickle.dump(HOhamEigs,open(\"DATA/ho_eigs_vs_cutoff.p\",\"wb\"))"
   ]
  },
  {
   "cell_type": "code",
   "execution_count": 5,
   "metadata": {},
   "outputs": [],
   "source": [
    "HOhamEigsLoad=pickle.load(open(\"DATA/ho_eigs_vs_cutoff.p\",\"rb\"))"
   ]
  },
  {
   "cell_type": "code",
   "execution_count": 6,
   "metadata": {},
   "outputs": [],
   "source": []
  },
  {
   "cell_type": "code",
   "execution_count": 7,
   "metadata": {},
   "outputs": [],
   "source": [
    "import matplotlib \n",
    "#matplotlib.use(\"Agg\")\n",
    "plt.style.use(\"paper.mplstyle\")"
   ]
  },
  {
   "cell_type": "code",
   "execution_count": 14,
   "metadata": {},
   "outputs": [
    {
     "data": {
      "image/png": "[encoded data removed]",
      "text/plain": [
       "<Figure size 720x576 with 1 Axes>"
      ]
     },
     "metadata": {
      "needs_background": "light"
     },
     "output_type": "display_data"
    }
   ],
   "source": [
    "x, y = plot_data(HOhamEigsLoad)\n",
    "\n",
    "for i in range(len(x)):\n",
    "    plt.scatter(x[i],y[i], c='black')\n",
    "\n",
    "\n",
    "plt.xlabel('$\\\\Lambda$')\n",
    "plt.ylabel('$E$')\n",
    "\n",
    "plt.xlim(3.5,64.5)\n",
    "plt.ylim(-0.1,2.1)\n",
    "plt.savefig('PLOTS/HO_spectra.pdf',bbox_inches='tight')"
   ]
  },
  {
   "cell_type": "code",
   "execution_count": 10,
   "metadata": {},
   "outputs": [],
   "source": [
    "#eigs[0]"
   ]
  },
  {
   "cell_type": "code",
   "execution_count": 12,
   "metadata": {},
   "outputs": [],
   "source": [
    "#x,y=plot_data(AHOeigsg0)\n",
    "\n",
    "#for i in range(len(AHOeigsg0)):\n",
    "#    plt.scatter(x[i],y[i])\n",
    "#plt.plot([x-2 for x in range(2**5)],[0 for y in range(2**5)])\n",
    "#plt.xlabel('$\\\\Lambda$')\n",
    "#plt.ylabel('$E$')\n",
    "#plt.xlim(3,17)\n",
    "#plt.ylim(-5,10)\n",
    "#plt.title('AHO with $g=0$')\n",
    "#plt.show()\n",
    "#plt.savefig('PLOTS/.pdf')"
   ]
  },
  {
   "cell_type": "code",
   "execution_count": 2,
   "metadata": {},
   "outputs": [],
   "source": [
    "AHOcuts = [n for n in range(2**2,2**5+1)]\n",
    "#AHOqubitEigs = []\n",
    "AHOhamEigs = []\n",
    "\n",
    "h_b_AHO = 0.5*(p*p) + 0.5*(m*q+g*q**3)**2\n",
    "h_f_AHO = -0.5*(m+3*g*q*q)#[bdag,b]\n",
    "\n",
    "for n in AHOcuts:\n",
    "    ham = Hamiltonian(h_b_AHO, h_f_AHO, {m:1, g:1},\n",
    "                  n, standard_encode)\n",
    "\n",
    "    #eigSys = np.linalg.eig(getMatrix(ham.pauliStrings))\n",
    "    #eigVals = [en.real for en in eigSys[0]]\n",
    "    #AHOqubitEigs.append(np.sort(eigVals))\n",
    "    eigSys = np.linalg.eig(np.array(ham.hamMatrix,dtype=float))\n",
    "    eigVals = [en.real for en in eigSys[0]]\n",
    "    AHOhamEigs.append(np.sort(eigVals))\n",
    "    \n",
    "    pickle.dump(AHOhamEigs,open(\"DATA/aho_eigs_vs_cutoff.p\",\"wb\"))"
   ]
  },
  {
   "cell_type": "code",
   "execution_count": 37,
   "metadata": {},
   "outputs": [],
   "source": [
    "AHOcuts = [n for n in range(2**5,2**6+1)]\n",
    "\n",
    "for n in AHOcuts:\n",
    "    ham = Hamiltonian(h_b_AHO, h_f_AHO, {m:1, g:1},\n",
    "                  n, standard_encode)\n",
    "\n",
    "    eigSys = np.linalg.eig(np.array(ham.hamMatrix,dtype=float))\n",
    "    eigVals = [en.real for en in eigSys[0]]\n",
    "    AHOhamEigs.append(np.sort(eigVals))\n",
    "    \n",
    "    pickle.dump(AHOhamEigs,open(\"DATA/aho_eigs_vs_cutoff.p\",\"wb\"))"
   ]
  },
  {
   "cell_type": "code",
   "execution_count": null,
   "metadata": {},
   "outputs": [],
   "source": []
  },
  {
   "cell_type": "code",
   "execution_count": 4,
   "metadata": {},
   "outputs": [],
   "source": [
    "AHOhamEigsLoad=pickle.load(open(\"DATA/aho_eigs_vs_cutoff.p\",\"rb\"))"
   ]
  },
  {
   "cell_type": "code",
   "execution_count": 7,
   "metadata": {},
   "outputs": [
    {
     "data": {
      "image/png": "[encoded data removed]",
      "text/plain": [
       "<Figure size 432x288 with 1 Axes>"
      ]
     },
     "metadata": {
      "needs_background": "light"
     },
     "output_type": "display_data"
    }
   ],
   "source": [
    "x, y = plot_data(AHOhamEigsLoad)\n",
    "\n",
    "for i in range(len(x)):\n",
    "    plt.scatter(x[i],y[i], c='black')\n",
    "\n",
    "\n",
    "plt.xlabel('$\\\\Lambda$')\n",
    "plt.ylabel('$E$')\n",
    "\n",
    "plt.xlim(3.5,64.5)\n",
    "plt.ylim(-0.1,10.1)\n",
    "\n",
    "plt.savefig('PLOTS/AHO_spectra.pdf',bbox_inches='tight')"
   ]
  },
  {
   "cell_type": "raw",
   "metadata": {},
   "source": [
    "### "
   ]
  },
  {
   "cell_type": "code",
   "execution_count": 10,
   "metadata": {},
   "outputs": [
    {
     "data": {
      "image/png": "[encoded data removed]",
      "text/plain": [
       "<Figure size 432x288 with 1 Axes>"
      ]
     },
     "metadata": {
      "needs_background": "light"
     },
     "output_type": "display_data"
    }
   ],
   "source": [
    "x, y = plot_data(AHOhamEigsLoad)\n",
    "\n",
    "for i in range(len(x)):\n",
    "    plt.scatter(x[i],y[i], c='black')\n",
    "\n",
    "\n",
    "plt.xlabel('$\\\\Lambda$')\n",
    "plt.ylabel('$E$')\n",
    "\n",
    "plt.xlim(3.5,32.5)\n",
    "plt.ylim(1e-6,1e0)\n",
    "plt.yscale('log')\n",
    "plt.savefig('PLOTS/AHO_spectra.pdf',bbox_inches='tight')"
   ]
  },
  {
   "cell_type": "code",
   "execution_count": null,
   "metadata": {},
   "outputs": [],
   "source": [
    "#x,y=plot_data(AHOhamEigs)\n",
    "#fig, ax1 = plt.subplots()#\n",
    "\n",
    "# These are in unitless percentages of the figure size. (0,0 is bottom left)\n",
    "#left, bottom, width, height = [0.2, 0.65, 0.2, 0.2]\n",
    "#ax2 = fig.add_axes([left, bottom, width, height])\n",
    "\n",
    "#for ax in [ax1,ax2]:\n",
    "#    for i in range(len(AHOhamEigs)):\n",
    "#        ax.scatter(x[i],y[i])\n",
    "\n",
    "#ax2.set_ylim([1e-10,1e-1])\n",
    "#ax2.set_xlabel('$\\\\Lambda$',fontsize=12)\n",
    "#ax2.set_ylabel('$E$',fontsize=12)\n",
    "#ax2.set_yscale('log')\n",
    "\n",
    "#ax1.set_ylim([0,50])\n",
    "#ax1.set_xlabel('$\\\\Lambda$')\n",
    "#ax1.set_ylabel('$E$')\n",
    "\n",
    "#fig.savefig('PLOTS/AHO_spectra.pdf',bbox_inches='tight')"
   ]
  },
  {
   "cell_type": "code",
   "execution_count": null,
   "metadata": {},
   "outputs": [],
   "source": []
  },
  {
   "cell_type": "markdown",
   "metadata": {},
   "source": [
    "# Double well spectrum"
   ]
  },
  {
   "cell_type": "code",
   "execution_count": 3,
   "metadata": {},
   "outputs": [],
   "source": [
    "h_b_DW = 0.5*(p*p + (m*q + g*(q*q + mu*mu))**2)\n",
    "h_f_DW = -0.5*(m+2*g*q)#[bdag,b]\n",
    "\n",
    "DWcuts = [n for n in range(2**2,2**5+1)]\n",
    "#DWqubitEigs = []\n",
    "DWhamEigs = []\n",
    "\n",
    "for n in DWcuts:\n",
    "    ham = Hamiltonian(h_b_DW, h_f_DW, {m:1, g:1, mu:1},\n",
    "                  n, standard_encode)\n",
    "\n",
    "    #eigSys = np.linalg.eig(getMatrix(ham.pauliStrings))\n",
    "    #eigVals = [en.real for en in eigSys[0]]\n",
    "    #DWqubitEigs.append(np.sort(eigVals))\n",
    "    eigSys = np.linalg.eig(np.array(ham.hamMatrix,dtype=float))\n",
    "    eigVals = [en.real for en in eigSys[0]]\n",
    "    DWhamEigs.append(np.sort(eigVals))\n",
    "    \n",
    "    pickle.dump(DWhamEigs,open(\"DATA/dw_eigs_vs_cutoff.p\",\"wb\"))"
   ]
  },
  {
   "cell_type": "code",
   "execution_count": 35,
   "metadata": {},
   "outputs": [],
   "source": [
    "DWcuts = [n for n in range(2**5,2**6+1)]\n",
    "\n",
    "\n",
    "for n in DWcuts:\n",
    "    ham = Hamiltonian(h_b_DW, h_f_DW, {m:1, g:1, mu:1},\n",
    "                  n, standard_encode)\n",
    "\n",
    "    eigSys = np.linalg.eig(np.array(ham.hamMatrix,dtype=float))\n",
    "    eigVals = [en.real for en in eigSys[0]]\n",
    "    DWhamEigs.append(np.sort(eigVals))\n",
    "    \n",
    "    pickle.dump(DWhamEigs,open(\"DATA/dw_eigs_vs_cutoff.p\",\"wb\"))"
   ]
  },
  {
   "cell_type": "code",
   "execution_count": 11,
   "metadata": {},
   "outputs": [],
   "source": [
    "DWhamEigsLoad=pickle.load(open(\"DATA/dw_eigs_vs_cutoff.p\",\"rb\"))"
   ]
  },
  {
   "cell_type": "code",
   "execution_count": 52,
   "metadata": {},
   "outputs": [],
   "source": [
    "#x,y=plot_data(DWhamEigs)\n",
    "#fig, ax1 = plt.subplots()\n",
    "\n",
    "# These are in unitless percentages of the figure size. (0,0 is bottom left)\n",
    "#left, bottom, width, height = [0.2, 0.65, 0.2, 0.2]\n",
    "#ax2 = fig.add_axes([left, bottom, width, height])\n",
    "\n",
    "#for ax in [ax1,ax2]:\n",
    "#    for i in range(len(DWhamEigs)):\n",
    "#        ax.scatter(x[i],y[i])\n",
    "\n",
    "#ax2.set_ylim([1e-1,1.1])\n",
    "#ax2.set_xlabel('$\\\\Lambda$',fontsize=12)\n",
    "#ax2.set_ylabel('$E$',fontsize=12)\n",
    "\n",
    "\n",
    "#ax1.set_xlabel('$\\\\Lambda$')\n",
    "#ax1.set_ylabel('$E$')\n",
    "\n",
    "#fig.savefig('PLOTS/DW_spectra.pdf',bbox_inches='tight')"
   ]
  },
  {
   "cell_type": "code",
   "execution_count": 12,
   "metadata": {},
   "outputs": [
    {
     "data": {
      "image/png": "[encoded data removed]",
      "text/plain": [
       "<Figure size 432x288 with 1 Axes>"
      ]
     },
     "metadata": {
      "needs_background": "light"
     },
     "output_type": "display_data"
    }
   ],
   "source": [
    "x, y = plot_data(DWhamEigs)\n",
    "\n",
    "for i in range(len(x)):\n",
    "    plt.scatter(x[i],y[i], c='black')\n",
    "\n",
    "\n",
    "plt.xlabel('$\\\\Lambda$')\n",
    "plt.ylabel('$E$')\n",
    "\n",
    "plt.xlim(3.5,16.5)\n",
    "plt.ylim(-0.1,400.1)\n",
    "\n",
    "plt.savefig('PLOTS/DW_spectra.pdf',bbox_inches='tight')"
   ]
  },
  {
   "cell_type": "code",
   "execution_count": 13,
   "metadata": {},
   "outputs": [
    {
     "data": {
      "image/png": "[encoded data removed]",
      "text/plain": [
       "<Figure size 432x288 with 1 Axes>"
      ]
     },
     "metadata": {
      "needs_background": "light"
     },
     "output_type": "display_data"
    }
   ],
   "source": [
    "x, y = plot_data(DWhamEigs)\n",
    "\n",
    "for i in range(len(x)):\n",
    "    plt.scatter(x[i],y[i], c='black')\n",
    "\n",
    "\n",
    "plt.xlabel('$\\\\Lambda$')\n",
    "plt.ylabel('$E$')\n",
    "\n",
    "plt.xlim(3.5,16.5)\n",
    "plt.ylim(-0.1,10.1)\n",
    "\n",
    "plt.savefig('PLOTS/DW_spectra.pdf',bbox_inches='tight')\n",
    "\n",
    "# ground state is near or not to zero, and can see convergence of some excited states"
   ]
  },
  {
   "cell_type": "code",
   "execution_count": 14,
   "metadata": {},
   "outputs": [
    {
     "data": {
      "image/png": "[encoded data removed]",
      "text/plain": [
       "<Figure size 432x288 with 1 Axes>"
      ]
     },
     "metadata": {
      "needs_background": "light"
     },
     "output_type": "display_data"
    }
   ],
   "source": [
    "x, y = plot_data(DWhamEigs)\n",
    "\n",
    "for i in range(len(x)):\n",
    "    plt.scatter(x[i],y[i], c='black')\n",
    "\n",
    "\n",
    "plt.xlabel('$\\\\Lambda$')\n",
    "plt.ylabel('$E$')\n",
    "\n",
    "plt.xlim(3.5,16.5)\n",
    "plt.ylim(0.8858,0.899)\n",
    "plt.yscale('log')\n",
    "\n",
    "plt.savefig('PLOTS/DW_spectra.pdf',bbox_inches='tight')"
   ]
  },
  {
   "cell_type": "code",
   "execution_count": 74,
   "metadata": {},
   "outputs": [],
   "source": [
    "#x, y = plot_data(DWhamEigs)#\n",
    "\n",
    "#for i in range(len(x)):\n",
    "#    plt.scatter(x[i],np.array(y[i])-np.array([0.891 for i in range(len(y[i]))]), c='black')\n",
    "\n",
    "\n",
    "#plt.xlabel('$\\\\Lambda$')\n",
    "#plt.ylabel('$\\\\Delta E$')\n",
    "\n",
    "#plt.xlim(3.5,16.5)\n",
    "#plt.ylim(1e-6,1e-1)\n",
    "#plt.yscale('log')\n",
    "\n",
    "#plt.savefig('PLOTS/DW_spectra.pdf',bbox_inches='tight')"
   ]
  },
  {
   "cell_type": "code",
   "execution_count": null,
   "metadata": {},
   "outputs": [],
   "source": []
  }
 ],
 "metadata": {
  "kernelspec": {
   "display_name": "Python 3",
   "language": "python",
   "name": "python3"
  },
  "language_info": {
   "codemirror_mode": {
    "name": "ipython",
    "version": 3
   },
   "file_extension": ".py",
   "mimetype": "text/x-python",
   "name": "python",
   "nbconvert_exporter": "python",
   "pygments_lexer": "ipython3",
   "version": "3.8.8"
  }
 },
 "nbformat": 4,
 "nbformat_minor": 4
}
