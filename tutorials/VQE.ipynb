{
 "cells": [
  {
   "cell_type": "code",
<<<<<<< HEAD
   "execution_count": 1,
=======
   "execution_count": 10,
>>>>>>> 04238ee6f9289a17ee85e26661030eb31c1656a0
   "metadata": {},
   "outputs": [],
   "source": [
    "# first we define the simulator and setup a quantum instance\n",
    "import qiskit\n",
    "import numpy as np\n",
    "from qiskit import Aer\n",
    "from qiskit.utils import QuantumInstance\n",
    "\n",
    "backend = Aer.get_backend('statevector_simulator')\n",
    "qinstance = QuantumInstance(backend, seed_simulator=2, seed_transpiler=2)"
   ]
  },
  {
   "cell_type": "code",
   "execution_count": 2,
   "metadata": {},
   "outputs": [
    {
     "name": "stdout",
     "output_type": "stream",
     "text": [
      "<class 'qiskit.circuit.library.n_local.real_amplitudes.RealAmplitudes'>\n",
      "     ┌──────────────────────────────────────┐\n",
      "q_0: ┤0                                     ├\n",
      "     │  RealAmplitudes(θ[0],θ[1],θ[2],θ[3]) │\n",
      "q_1: ┤1                                     ├\n",
      "     └──────────────────────────────────────┘\n"
     ]
    },
    {
     "data": {
      "text/html": [
       "<pre style=\"word-wrap: normal;white-space: pre;background: #fff0;line-height: 1.1;font-family: &quot;Courier New&quot;,Courier,monospace\">     ┌──────────────────────────────────────┐\n",
       "q_0: ┤0                                     ├\n",
       "     │  RealAmplitudes(θ[0],θ[1],θ[2],θ[3]) │\n",
       "q_1: ┤1                                     ├\n",
       "     └──────────────────────────────────────┘</pre>"
      ],
      "text/plain": [
       "     ┌──────────────────────────────────────┐\n",
       "q_0: ┤0                                     ├\n",
       "     │  RealAmplitudes(θ[0],θ[1],θ[2],θ[3]) │\n",
       "q_1: ┤1                                     ├\n",
       "     └──────────────────────────────────────┘"
      ]
     },
     "execution_count": 2,
     "metadata": {},
     "output_type": "execute_result"
    }
   ],
   "source": [
    "# then we setup our ansatz for the wavefunction\n",
    "\n",
    "from qiskit.circuit.library import RealAmplitudes\n",
    "\n",
    "ansatz = RealAmplitudes(2, reps=1)\n",
    "print(type(ansatz))\n",
    "print(ansatz)\n",
    "ansatz.draw(style='mpl')"
   ]
  },
  {
   "cell_type": "code",
   "execution_count": 3,
   "metadata": {},
   "outputs": [
    {
     "name": "stdout",
     "output_type": "stream",
     "text": [
      "     ┌────────────────────────────────────────────────┐\n",
      "q_0: ┤0                                               ├\n",
      "     │                                                │\n",
      "q_1: ┤1 RealAmplitudes(θ[0],θ[1],θ[2],θ[3],θ[4],θ[5]) ├\n",
      "     │                                                │\n",
      "q_2: ┤2                                               ├\n",
      "     └────────────────────────────────────────────────┘\n"
     ]
    }
   ],
   "source": [
    "ansatz = RealAmplitudes(3, reps=1)\n",
    "from qiskit import QuantumCircuit\n",
    "qc=QuantumCircuit(3)\n",
    "qc.compose(ansatz,inplace=True)\n",
    "print(ansatz)\n"
   ]
  },
  {
   "cell_type": "code",
   "execution_count": 4,
   "metadata": {},
   "outputs": [],
   "source": [
    "# now we have to define the observable we want the minimum eigenvalue of\n",
    "from qiskit.opflow import X,Y,Z,I\n",
    "\n",
    "observable = Z^I"
   ]
  },
  {
   "cell_type": "code",
   "execution_count": 5,
   "metadata": {},
   "outputs": [
    {
     "data": {
      "text/plain": [
       "qiskit.algorithms.minimum_eigen_solvers.vqe.VQE"
      ]
     },
     "execution_count": 5,
     "metadata": {},
     "output_type": "execute_result"
    }
   ],
   "source": [
    "# set-up the vqe algorithm, with an optimizer and wave function\n",
    "from qiskit.algorithms import VQE\n",
    "from qiskit.algorithms.optimizers import COBYLA\n",
    "\n",
    "vqe = VQE(ansatz=ansatz, optimizer=COBYLA(), quantum_instance=qinstance)\n",
    "type(vqe)"
   ]
  },
  {
   "cell_type": "code",
   "execution_count": 6,
   "metadata": {},
   "outputs": [
    {
     "name": "stdout",
     "output_type": "stream",
     "text": [
      "<class 'qiskit.algorithms.minimum_eigen_solvers.vqe.VQEResult'>\n",
<<<<<<< HEAD
      "(-0.9999999788801595+0j)\n"
=======
      "(-0.9999999943605626+0j)\n"
>>>>>>> 04238ee6f9289a17ee85e26661030eb31c1656a0
     ]
    }
   ],
   "source": [
    "# we could run this for many observables\n",
    "result = vqe.compute_minimum_eigenvalue(observable)\n",
    "print(type(result))\n",
    "print(result.eigenvalue)"
   ]
  },
  {
   "cell_type": "code",
   "execution_count": 7,
   "metadata": {},
   "outputs": [
    {
     "name": "stdout",
     "output_type": "stream",
     "text": [
      "0j\n"
     ]
    }
   ],
   "source": [
    "# now we have to define the observable we want the minimum eigenvalue of\n",
    "from qiskit.opflow import X,Y,Z,I,H\n",
    "\n",
    "observable = Y^I\n",
    "\n",
    "result = vqe.compute_minimum_eigenvalue(observable)\n",
    "print(result.eigenvalue)"
   ]
  },
  {
   "cell_type": "code",
   "execution_count": null,
   "metadata": {},
   "outputs": [],
   "source": []
  },
  {
   "cell_type": "code",
<<<<<<< HEAD
   "execution_count": 8,
=======
   "execution_count": 11,
>>>>>>> 04238ee6f9289a17ee85e26661030eb31c1656a0
   "metadata": {},
   "outputs": [
    {
     "name": "stderr",
     "output_type": "stream",
     "text": [
<<<<<<< HEAD
      "/tmp/ipykernel_64388/1052005042.py:2: DeprecationWarning: \n",
=======
      "C:\\Users\\chris\\AppData\\Local\\Temp/ipykernel_16436/1052005042.py:2: DeprecationWarning: \n",
>>>>>>> 04238ee6f9289a17ee85e26661030eb31c1656a0
      "The VQE.get_optimal_vector method is deprecated as of Qiskit Terra 0.18.0\n",
      "and will be removed no sooner than 3 months after the releasedate.\n",
      "This information is part of the returned result object and can be\n",
      "queried as VQEResult.eigenvector.\n",
      "  vqe.get_optimal_vector()\n"
     ]
    },
    {
     "data": {
      "text/plain": [
<<<<<<< HEAD
       "array([ 0.53494358+0.j,  0.33177639+0.j,  0.7448755 +0.j, -0.22117931+0.j])"
      ]
     },
     "execution_count": 8,
=======
       "array([0.3597154 +0.j, 0.28824724+0.j, 0.71316889+0.j, 0.52811788+0.j])"
      ]
     },
     "execution_count": 11,
>>>>>>> 04238ee6f9289a17ee85e26661030eb31c1656a0
     "metadata": {},
     "output_type": "execute_result"
    }
   ],
   "source": [
    "#result.eigenvector\n",
    "vqe.get_optimal_vector()"
   ]
  },
  {
   "cell_type": "code",
<<<<<<< HEAD
   "execution_count": 9,
=======
   "execution_count": 12,
>>>>>>> 04238ee6f9289a17ee85e26661030eb31c1656a0
   "metadata": {},
   "outputs": [
    {
     "data": {
      "text/plain": [
       "(array([ 1.+0.j, -1.+0.j,  1.+0.j, -1.+0.j]),\n",
       " array([[-0.        -0.70710678j,  0.70710678+0.j        ,\n",
       "          0.        +0.j        ,  0.        -0.j        ],\n",
       "        [-0.        +0.j        ,  0.        +0.j        ,\n",
       "          0.        -0.70710678j,  0.70710678+0.j        ],\n",
       "        [ 0.70710678+0.j        ,  0.        -0.70710678j,\n",
       "          0.        +0.j        ,  0.        -0.j        ],\n",
       "        [-0.        +0.j        ,  0.        +0.j        ,\n",
       "          0.70710678+0.j        ,  0.        -0.70710678j]]))"
      ]
     },
<<<<<<< HEAD
     "execution_count": 9,
=======
     "execution_count": 12,
>>>>>>> 04238ee6f9289a17ee85e26661030eb31c1656a0
     "metadata": {},
     "output_type": "execute_result"
    }
   ],
   "source": [
    "import numpy as np\n",
    "np.linalg.eig(observable.to_matrix())"
   ]
  },
  {
   "cell_type": "code",
   "execution_count": null,
   "metadata": {},
   "outputs": [],
   "source": []
  },
  {
   "cell_type": "markdown",
   "metadata": {},
   "source": [
    "## Lets try it for the HO, should get eigenvalue 0"
   ]
  },
  {
   "cell_type": "code",
   "execution_count": 10,
   "metadata": {},
   "outputs": [],
   "source": [
    "import sys\n",
    "sys.path.append('..')\n",
    "from src.sympy_utilities import *\n",
    "from src.BinaryEncodings import *\n",
    "from src.MatrixToPauliString import *\n",
    "from src.qiskit_utilities import *"
   ]
  },
  {
   "cell_type": "code",
   "execution_count": 11,
   "metadata": {},
   "outputs": [],
   "source": [
    "h_b_HO = 0.5*(p*p + m*m*q*q)\n",
    "h_f_HO = -0.5*m#[bdag,b]\n",
    "\n",
    "powersof2=[2**n for n in range(1,3)]\n",
    "\n",
    "HOhams = []\n",
    "for n in powersof2:\n",
    "    HOhams.append({'n': n, 'ham': Hamiltonian(h_b_HO, h_f_HO, {m:1, g:1},\n",
    "                  n, standard_encode)})"
   ]
  },
  {
   "cell_type": "code",
   "execution_count": 12,
   "metadata": {},
   "outputs": [],
   "source": [
    "for sys in HOhams:\n",
    "    obsHOHAM = pauli_string_to_op(sys['ham'].pauliStrings)\n",
    "    result = vqe.compute_minimum_eigenvalue(obsHOHAM)\n",
    "    #print(result.eigenvalue)\n",
    "    sys['vqe']=result.eigenvalue\n",
    "    \n",
    "    eigSys = np.linalg.eig(np.array(sys['ham'].hamMatrix,dtype=float))\n",
    "    eigVals = [en.real for en in eigSys[0]]    \n",
    "    sys['exact']=np.min(np.sort(eigVals))"
   ]
  },
  {
   "cell_type": "code",
   "execution_count": 13,
   "metadata": {},
   "outputs": [],
   "source": [
    "#ovec=vqe.get_optimal_vector()\n",
    "#svec=qiskit.quantum_info.Statevector(ovec)\n",
    "#svec.probabilities_dict()\n",
    "\n",
    "# this will be deprecated soon"
   ]
  },
  {
   "cell_type": "code",
   "execution_count": 14,
   "metadata": {},
   "outputs": [],
   "source": [
    "def fill_vqe_dict(h_b,h_f,params,sizes):\n",
    "    res = []\n",
    "    for n in sizes:\n",
    "        res.append({'n': n, 'ham': Hamiltonian(h_b, h_f, params, n, standard_encode)})\n",
    "        \n",
    "    for sys in res:\n",
    "        ham = pauli_string_to_op(sys['ham'].pauliStrings)\n",
    "        results=[]\n",
    "        for i in range(100):\n",
    "            results.append(vqe.compute_minimum_eigenvalue(ham).eigenvalue)\n",
    "        #print(results)\n",
    "        sys['vqe']=np.array(results).min()\n",
    "    \n",
    "        eigSys = np.linalg.eig(np.array(sys['ham'].hamMatrix,dtype=float))\n",
    "        eigVals = [en.real for en in eigSys[0]]    \n",
    "        sys['exact']=np.min(np.sort(eigVals))\n",
    "        \n",
    "    return res"
   ]
  },
  {
   "cell_type": "code",
   "execution_count": 15,
   "metadata": {},
   "outputs": [],
   "source": [
    "def latex_vqe_table(data):\n",
    "    s=''\n",
    "    for d in data:\n",
    "        s+=\"{} & {:.2e} & {:.2e} \\\\\\\\ \\n\".format(d['n'],d['exact'],d['vqe'].real)\n",
    "    return s"
   ]
  },
  {
   "cell_type": "code",
   "execution_count": 16,
   "metadata": {},
   "outputs": [
    {
     "name": "stderr",
     "output_type": "stream",
     "text": [
      "capi_return is NULL\n",
      "Call-back cb_calcfc_in__cobyla__user__routines failed.\n"
     ]
    },
    {
     "ename": "KeyboardInterrupt",
     "evalue": "",
     "output_type": "error",
     "traceback": [
      "\u001b[0;31m---------------------------------------------------------------------------\u001b[0m",
      "\u001b[0;31mKeyboardInterrupt\u001b[0m                         Traceback (most recent call last)",
      "Input \u001b[0;32mIn [16]\u001b[0m, in \u001b[0;36m<cell line: 1>\u001b[0;34m()\u001b[0m\n\u001b[0;32m----> 1\u001b[0m ho_data\u001b[38;5;241m=\u001b[39m\u001b[43mfill_vqe_dict\u001b[49m\u001b[43m(\u001b[49m\u001b[43mh_b_HO\u001b[49m\u001b[43m,\u001b[49m\u001b[43mh_f_HO\u001b[49m\u001b[43m,\u001b[49m\u001b[43m{\u001b[49m\u001b[43mm\u001b[49m\u001b[43m:\u001b[49m\u001b[38;5;241;43m1\u001b[39;49m\u001b[43m,\u001b[49m\u001b[43m \u001b[49m\u001b[43mg\u001b[49m\u001b[43m:\u001b[49m\u001b[38;5;241;43m1\u001b[39;49m\u001b[43m}\u001b[49m\u001b[43m,\u001b[49m\u001b[43m[\u001b[49m\u001b[38;5;241;43m2\u001b[39;49m\u001b[38;5;241;43m*\u001b[39;49m\u001b[38;5;241;43m*\u001b[39;49m\u001b[43mi\u001b[49m\u001b[43m \u001b[49m\u001b[38;5;28;43;01mfor\u001b[39;49;00m\u001b[43m \u001b[49m\u001b[43mi\u001b[49m\u001b[43m \u001b[49m\u001b[38;5;129;43;01min\u001b[39;49;00m\u001b[43m \u001b[49m\u001b[38;5;28;43mrange\u001b[39;49m\u001b[43m(\u001b[49m\u001b[38;5;241;43m1\u001b[39;49m\u001b[43m,\u001b[49m\u001b[38;5;241;43m4\u001b[39;49m\u001b[43m)\u001b[49m\u001b[43m]\u001b[49m\u001b[43m)\u001b[49m\n\u001b[1;32m      2\u001b[0m \u001b[38;5;28mprint\u001b[39m(latex_vqe_table(ho_data))\n",
      "Input \u001b[0;32mIn [14]\u001b[0m, in \u001b[0;36mfill_vqe_dict\u001b[0;34m(h_b, h_f, params, sizes)\u001b[0m\n\u001b[1;32m      8\u001b[0m results\u001b[38;5;241m=\u001b[39m[]\n\u001b[1;32m      9\u001b[0m \u001b[38;5;28;01mfor\u001b[39;00m i \u001b[38;5;129;01min\u001b[39;00m \u001b[38;5;28mrange\u001b[39m(\u001b[38;5;241m100\u001b[39m):\n\u001b[0;32m---> 10\u001b[0m     results\u001b[38;5;241m.\u001b[39mappend(\u001b[43mvqe\u001b[49m\u001b[38;5;241;43m.\u001b[39;49m\u001b[43mcompute_minimum_eigenvalue\u001b[49m\u001b[43m(\u001b[49m\u001b[43mham\u001b[49m\u001b[43m)\u001b[49m\u001b[38;5;241m.\u001b[39meigenvalue)\n\u001b[1;32m     11\u001b[0m \u001b[38;5;66;03m#print(results)\u001b[39;00m\n\u001b[1;32m     12\u001b[0m sys[\u001b[38;5;124m'\u001b[39m\u001b[38;5;124mvqe\u001b[39m\u001b[38;5;124m'\u001b[39m]\u001b[38;5;241m=\u001b[39mnp\u001b[38;5;241m.\u001b[39marray(results)\u001b[38;5;241m.\u001b[39mmin()\n",
      "File \u001b[0;32m~/miniconda3/envs/QuantumComputing/lib/python3.9/site-packages/qiskit/algorithms/minimum_eigen_solvers/vqe.py:539\u001b[0m, in \u001b[0;36mVQE.compute_minimum_eigenvalue\u001b[0;34m(self, operator, aux_operators)\u001b[0m\n\u001b[1;32m    537\u001b[0m \u001b[38;5;66;03m# keep this until Optimizer.optimize is removed\u001b[39;00m\n\u001b[1;32m    538\u001b[0m \u001b[38;5;28;01mtry\u001b[39;00m:\n\u001b[0;32m--> 539\u001b[0m     opt_result \u001b[38;5;241m=\u001b[39m \u001b[38;5;28;43mself\u001b[39;49m\u001b[38;5;241;43m.\u001b[39;49m\u001b[43moptimizer\u001b[49m\u001b[38;5;241;43m.\u001b[39;49m\u001b[43mminimize\u001b[49m\u001b[43m(\u001b[49m\n\u001b[1;32m    540\u001b[0m \u001b[43m        \u001b[49m\u001b[43mfun\u001b[49m\u001b[38;5;241;43m=\u001b[39;49m\u001b[43menergy_evaluation\u001b[49m\u001b[43m,\u001b[49m\u001b[43m \u001b[49m\u001b[43mx0\u001b[49m\u001b[38;5;241;43m=\u001b[39;49m\u001b[43minitial_point\u001b[49m\u001b[43m,\u001b[49m\u001b[43m \u001b[49m\u001b[43mjac\u001b[49m\u001b[38;5;241;43m=\u001b[39;49m\u001b[43mgradient\u001b[49m\u001b[43m,\u001b[49m\u001b[43m \u001b[49m\u001b[43mbounds\u001b[49m\u001b[38;5;241;43m=\u001b[39;49m\u001b[43mbounds\u001b[49m\n\u001b[1;32m    541\u001b[0m \u001b[43m    \u001b[49m\u001b[43m)\u001b[49m\n\u001b[1;32m    542\u001b[0m \u001b[38;5;28;01mexcept\u001b[39;00m \u001b[38;5;167;01mAttributeError\u001b[39;00m:\n\u001b[1;32m    543\u001b[0m     \u001b[38;5;66;03m# self.optimizer is an optimizer with the deprecated interface that uses\u001b[39;00m\n\u001b[1;32m    544\u001b[0m     \u001b[38;5;66;03m# ``optimize`` instead of ``minimize```\u001b[39;00m\n\u001b[1;32m    545\u001b[0m     warnings\u001b[38;5;241m.\u001b[39mwarn(\n\u001b[1;32m    546\u001b[0m         \u001b[38;5;124m\"\u001b[39m\u001b[38;5;124mUsing an optimizer that is run with the ``optimize`` method is \u001b[39m\u001b[38;5;124m\"\u001b[39m\n\u001b[1;32m    547\u001b[0m         \u001b[38;5;124m\"\u001b[39m\u001b[38;5;124mdeprecated as of Qiskit Terra 0.19.0 and will be unsupported no \u001b[39m\u001b[38;5;124m\"\u001b[39m\n\u001b[0;32m   (...)\u001b[0m\n\u001b[1;32m    551\u001b[0m         stacklevel\u001b[38;5;241m=\u001b[39m\u001b[38;5;241m2\u001b[39m,\n\u001b[1;32m    552\u001b[0m     )\n",
      "File \u001b[0;32m~/miniconda3/envs/QuantumComputing/lib/python3.9/site-packages/qiskit/algorithms/optimizers/scipy_optimizer.py:129\u001b[0m, in \u001b[0;36mSciPyOptimizer.minimize\u001b[0;34m(self, fun, x0, jac, bounds)\u001b[0m\n\u001b[1;32m    126\u001b[0m \u001b[38;5;28;01mif\u001b[39;00m jac \u001b[38;5;129;01mis\u001b[39;00m \u001b[38;5;129;01mnot\u001b[39;00m \u001b[38;5;28;01mNone\u001b[39;00m \u001b[38;5;129;01mand\u001b[39;00m \u001b[38;5;28mself\u001b[39m\u001b[38;5;241m.\u001b[39m_method \u001b[38;5;241m==\u001b[39m \u001b[38;5;124m\"\u001b[39m\u001b[38;5;124ml-bfgs-b\u001b[39m\u001b[38;5;124m\"\u001b[39m:\n\u001b[1;32m    127\u001b[0m     jac \u001b[38;5;241m=\u001b[39m \u001b[38;5;28mself\u001b[39m\u001b[38;5;241m.\u001b[39m_wrap_gradient(jac)\n\u001b[0;32m--> 129\u001b[0m raw_result \u001b[38;5;241m=\u001b[39m \u001b[43mminimize\u001b[49m\u001b[43m(\u001b[49m\n\u001b[1;32m    130\u001b[0m \u001b[43m    \u001b[49m\u001b[43mfun\u001b[49m\u001b[38;5;241;43m=\u001b[39;49m\u001b[43mfun\u001b[49m\u001b[43m,\u001b[49m\n\u001b[1;32m    131\u001b[0m \u001b[43m    \u001b[49m\u001b[43mx0\u001b[49m\u001b[38;5;241;43m=\u001b[39;49m\u001b[43mx0\u001b[49m\u001b[43m,\u001b[49m\n\u001b[1;32m    132\u001b[0m \u001b[43m    \u001b[49m\u001b[43mmethod\u001b[49m\u001b[38;5;241;43m=\u001b[39;49m\u001b[38;5;28;43mself\u001b[39;49m\u001b[38;5;241;43m.\u001b[39;49m\u001b[43m_method\u001b[49m\u001b[43m,\u001b[49m\n\u001b[1;32m    133\u001b[0m \u001b[43m    \u001b[49m\u001b[43mjac\u001b[49m\u001b[38;5;241;43m=\u001b[39;49m\u001b[43mjac\u001b[49m\u001b[43m,\u001b[49m\n\u001b[1;32m    134\u001b[0m \u001b[43m    \u001b[49m\u001b[43mbounds\u001b[49m\u001b[38;5;241;43m=\u001b[39;49m\u001b[43mbounds\u001b[49m\u001b[43m,\u001b[49m\n\u001b[1;32m    135\u001b[0m \u001b[43m    \u001b[49m\u001b[43moptions\u001b[49m\u001b[38;5;241;43m=\u001b[39;49m\u001b[38;5;28;43mself\u001b[39;49m\u001b[38;5;241;43m.\u001b[39;49m\u001b[43m_options\u001b[49m\u001b[43m,\u001b[49m\n\u001b[1;32m    136\u001b[0m \u001b[43m    \u001b[49m\u001b[38;5;241;43m*\u001b[39;49m\u001b[38;5;241;43m*\u001b[39;49m\u001b[38;5;28;43mself\u001b[39;49m\u001b[38;5;241;43m.\u001b[39;49m\u001b[43m_kwargs\u001b[49m\u001b[43m,\u001b[49m\n\u001b[1;32m    137\u001b[0m \u001b[43m\u001b[49m\u001b[43m)\u001b[49m\n\u001b[1;32m    138\u001b[0m result \u001b[38;5;241m=\u001b[39m OptimizerResult()\n\u001b[1;32m    139\u001b[0m result\u001b[38;5;241m.\u001b[39mx \u001b[38;5;241m=\u001b[39m raw_result\u001b[38;5;241m.\u001b[39mx\n",
      "File \u001b[0;32m~/miniconda3/envs/QuantumComputing/lib/python3.9/site-packages/scipy/optimize/_minimize.py:687\u001b[0m, in \u001b[0;36mminimize\u001b[0;34m(fun, x0, args, method, jac, hess, hessp, bounds, constraints, tol, callback, options)\u001b[0m\n\u001b[1;32m    684\u001b[0m     res \u001b[38;5;241m=\u001b[39m _minimize_tnc(fun, x0, args, jac, bounds, callback\u001b[38;5;241m=\u001b[39mcallback,\n\u001b[1;32m    685\u001b[0m                         \u001b[38;5;241m*\u001b[39m\u001b[38;5;241m*\u001b[39moptions)\n\u001b[1;32m    686\u001b[0m \u001b[38;5;28;01melif\u001b[39;00m meth \u001b[38;5;241m==\u001b[39m \u001b[38;5;124m'\u001b[39m\u001b[38;5;124mcobyla\u001b[39m\u001b[38;5;124m'\u001b[39m:\n\u001b[0;32m--> 687\u001b[0m     res \u001b[38;5;241m=\u001b[39m \u001b[43m_minimize_cobyla\u001b[49m\u001b[43m(\u001b[49m\u001b[43mfun\u001b[49m\u001b[43m,\u001b[49m\u001b[43m \u001b[49m\u001b[43mx0\u001b[49m\u001b[43m,\u001b[49m\u001b[43m \u001b[49m\u001b[43margs\u001b[49m\u001b[43m,\u001b[49m\u001b[43m \u001b[49m\u001b[43mconstraints\u001b[49m\u001b[43m,\u001b[49m\u001b[43m \u001b[49m\u001b[43mcallback\u001b[49m\u001b[38;5;241;43m=\u001b[39;49m\u001b[43mcallback\u001b[49m\u001b[43m,\u001b[49m\n\u001b[1;32m    688\u001b[0m \u001b[43m                            \u001b[49m\u001b[38;5;241;43m*\u001b[39;49m\u001b[38;5;241;43m*\u001b[39;49m\u001b[43moptions\u001b[49m\u001b[43m)\u001b[49m\n\u001b[1;32m    689\u001b[0m \u001b[38;5;28;01melif\u001b[39;00m meth \u001b[38;5;241m==\u001b[39m \u001b[38;5;124m'\u001b[39m\u001b[38;5;124mslsqp\u001b[39m\u001b[38;5;124m'\u001b[39m:\n\u001b[1;32m    690\u001b[0m     res \u001b[38;5;241m=\u001b[39m _minimize_slsqp(fun, x0, args, jac, bounds,\n\u001b[1;32m    691\u001b[0m                           constraints, callback\u001b[38;5;241m=\u001b[39mcallback, \u001b[38;5;241m*\u001b[39m\u001b[38;5;241m*\u001b[39moptions)\n",
      "File \u001b[0;32m~/miniconda3/envs/QuantumComputing/lib/python3.9/site-packages/scipy/optimize/_cobyla_py.py:34\u001b[0m, in \u001b[0;36msynchronized.<locals>.wrapper\u001b[0;34m(*args, **kwargs)\u001b[0m\n\u001b[1;32m     31\u001b[0m \u001b[38;5;129m@functools\u001b[39m\u001b[38;5;241m.\u001b[39mwraps(func)\n\u001b[1;32m     32\u001b[0m \u001b[38;5;28;01mdef\u001b[39;00m \u001b[38;5;21mwrapper\u001b[39m(\u001b[38;5;241m*\u001b[39margs, \u001b[38;5;241m*\u001b[39m\u001b[38;5;241m*\u001b[39mkwargs):\n\u001b[1;32m     33\u001b[0m     \u001b[38;5;28;01mwith\u001b[39;00m _module_lock:\n\u001b[0;32m---> 34\u001b[0m         \u001b[38;5;28;01mreturn\u001b[39;00m \u001b[43mfunc\u001b[49m\u001b[43m(\u001b[49m\u001b[38;5;241;43m*\u001b[39;49m\u001b[43margs\u001b[49m\u001b[43m,\u001b[49m\u001b[43m \u001b[49m\u001b[38;5;241;43m*\u001b[39;49m\u001b[38;5;241;43m*\u001b[39;49m\u001b[43mkwargs\u001b[49m\u001b[43m)\u001b[49m\n",
      "File \u001b[0;32m~/miniconda3/envs/QuantumComputing/lib/python3.9/site-packages/scipy/optimize/_cobyla_py.py:273\u001b[0m, in \u001b[0;36m_minimize_cobyla\u001b[0;34m(fun, x0, args, constraints, rhobeg, tol, maxiter, disp, catol, callback, **unknown_options)\u001b[0m\n\u001b[1;32m    270\u001b[0m         callback(np\u001b[38;5;241m.\u001b[39mcopy(x))\n\u001b[1;32m    272\u001b[0m info \u001b[38;5;241m=\u001b[39m np\u001b[38;5;241m.\u001b[39mzeros(\u001b[38;5;241m4\u001b[39m, np\u001b[38;5;241m.\u001b[39mfloat64)\n\u001b[0;32m--> 273\u001b[0m xopt, info \u001b[38;5;241m=\u001b[39m \u001b[43mcobyla\u001b[49m\u001b[38;5;241;43m.\u001b[39;49m\u001b[43mminimize\u001b[49m\u001b[43m(\u001b[49m\u001b[43mcalcfc\u001b[49m\u001b[43m,\u001b[49m\u001b[43m \u001b[49m\u001b[43mm\u001b[49m\u001b[38;5;241;43m=\u001b[39;49m\u001b[43mm\u001b[49m\u001b[43m,\u001b[49m\u001b[43m \u001b[49m\u001b[43mx\u001b[49m\u001b[38;5;241;43m=\u001b[39;49m\u001b[43mnp\u001b[49m\u001b[38;5;241;43m.\u001b[39;49m\u001b[43mcopy\u001b[49m\u001b[43m(\u001b[49m\u001b[43mx0\u001b[49m\u001b[43m)\u001b[49m\u001b[43m,\u001b[49m\u001b[43m \u001b[49m\u001b[43mrhobeg\u001b[49m\u001b[38;5;241;43m=\u001b[39;49m\u001b[43mrhobeg\u001b[49m\u001b[43m,\u001b[49m\n\u001b[1;32m    274\u001b[0m \u001b[43m                              \u001b[49m\u001b[43mrhoend\u001b[49m\u001b[38;5;241;43m=\u001b[39;49m\u001b[43mrhoend\u001b[49m\u001b[43m,\u001b[49m\u001b[43m \u001b[49m\u001b[43miprint\u001b[49m\u001b[38;5;241;43m=\u001b[39;49m\u001b[43miprint\u001b[49m\u001b[43m,\u001b[49m\u001b[43m \u001b[49m\u001b[43mmaxfun\u001b[49m\u001b[38;5;241;43m=\u001b[39;49m\u001b[43mmaxfun\u001b[49m\u001b[43m,\u001b[49m\n\u001b[1;32m    275\u001b[0m \u001b[43m                              \u001b[49m\u001b[43mdinfo\u001b[49m\u001b[38;5;241;43m=\u001b[39;49m\u001b[43minfo\u001b[49m\u001b[43m,\u001b[49m\u001b[43m \u001b[49m\u001b[43mcallback\u001b[49m\u001b[38;5;241;43m=\u001b[39;49m\u001b[43mwrapped_callback\u001b[49m\u001b[43m)\u001b[49m\n\u001b[1;32m    277\u001b[0m \u001b[38;5;28;01mif\u001b[39;00m info[\u001b[38;5;241m3\u001b[39m] \u001b[38;5;241m>\u001b[39m catol:\n\u001b[1;32m    278\u001b[0m     \u001b[38;5;66;03m# Check constraint violation\u001b[39;00m\n\u001b[1;32m    279\u001b[0m     info[\u001b[38;5;241m0\u001b[39m] \u001b[38;5;241m=\u001b[39m \u001b[38;5;241m4\u001b[39m\n",
      "File \u001b[0;32m~/miniconda3/envs/QuantumComputing/lib/python3.9/site-packages/scipy/optimize/_cobyla_py.py:261\u001b[0m, in \u001b[0;36m_minimize_cobyla.<locals>.calcfc\u001b[0;34m(x, con)\u001b[0m\n\u001b[1;32m    260\u001b[0m \u001b[38;5;28;01mdef\u001b[39;00m \u001b[38;5;21mcalcfc\u001b[39m(x, con):\n\u001b[0;32m--> 261\u001b[0m     f \u001b[38;5;241m=\u001b[39m \u001b[43mfun\u001b[49m\u001b[43m(\u001b[49m\u001b[43mnp\u001b[49m\u001b[38;5;241;43m.\u001b[39;49m\u001b[43mcopy\u001b[49m\u001b[43m(\u001b[49m\u001b[43mx\u001b[49m\u001b[43m)\u001b[49m\u001b[43m,\u001b[49m\u001b[43m \u001b[49m\u001b[38;5;241;43m*\u001b[39;49m\u001b[43margs\u001b[49m\u001b[43m)\u001b[49m\n\u001b[1;32m    262\u001b[0m     i \u001b[38;5;241m=\u001b[39m \u001b[38;5;241m0\u001b[39m\n\u001b[1;32m    263\u001b[0m     \u001b[38;5;28;01mfor\u001b[39;00m size, c \u001b[38;5;129;01min\u001b[39;00m izip(cons_lengths, constraints):\n",
      "File \u001b[0;32m~/miniconda3/envs/QuantumComputing/lib/python3.9/site-packages/qiskit/algorithms/minimum_eigen_solvers/vqe.py:624\u001b[0m, in \u001b[0;36mVQE.get_energy_evaluation.<locals>.energy_evaluation\u001b[0;34m(parameters)\u001b[0m\n\u001b[1;32m    621\u001b[0m param_bindings \u001b[38;5;241m=\u001b[39m \u001b[38;5;28mdict\u001b[39m(\u001b[38;5;28mzip\u001b[39m(ansatz_params, parameter_sets\u001b[38;5;241m.\u001b[39mtranspose()\u001b[38;5;241m.\u001b[39mtolist()))\n\u001b[1;32m    623\u001b[0m start_time \u001b[38;5;241m=\u001b[39m time()\n\u001b[0;32m--> 624\u001b[0m sampled_expect_op \u001b[38;5;241m=\u001b[39m \u001b[38;5;28;43mself\u001b[39;49m\u001b[38;5;241;43m.\u001b[39;49m\u001b[43m_circuit_sampler\u001b[49m\u001b[38;5;241;43m.\u001b[39;49m\u001b[43mconvert\u001b[49m\u001b[43m(\u001b[49m\u001b[43mexpect_op\u001b[49m\u001b[43m,\u001b[49m\u001b[43m \u001b[49m\u001b[43mparams\u001b[49m\u001b[38;5;241;43m=\u001b[39;49m\u001b[43mparam_bindings\u001b[49m\u001b[43m)\u001b[49m\n\u001b[1;32m    625\u001b[0m means \u001b[38;5;241m=\u001b[39m np\u001b[38;5;241m.\u001b[39mreal(sampled_expect_op\u001b[38;5;241m.\u001b[39meval())\n\u001b[1;32m    627\u001b[0m \u001b[38;5;28;01mif\u001b[39;00m \u001b[38;5;28mself\u001b[39m\u001b[38;5;241m.\u001b[39m_callback \u001b[38;5;129;01mis\u001b[39;00m \u001b[38;5;129;01mnot\u001b[39;00m \u001b[38;5;28;01mNone\u001b[39;00m:\n",
      "File \u001b[0;32m~/miniconda3/envs/QuantumComputing/lib/python3.9/site-packages/qiskit/opflow/converters/circuit_sampler.py:218\u001b[0m, in \u001b[0;36mCircuitSampler.convert\u001b[0;34m(self, operator, params)\u001b[0m\n\u001b[1;32m    216\u001b[0m circs \u001b[38;5;241m=\u001b[39m \u001b[38;5;28mlist\u001b[39m(\u001b[38;5;28mself\u001b[39m\u001b[38;5;241m.\u001b[39m_circuit_ops_cache\u001b[38;5;241m.\u001b[39mvalues()) \u001b[38;5;28;01mif\u001b[39;00m \u001b[38;5;129;01mnot\u001b[39;00m \u001b[38;5;28mself\u001b[39m\u001b[38;5;241m.\u001b[39m_transpiled_circ_cache \u001b[38;5;28;01melse\u001b[39;00m \u001b[38;5;28;01mNone\u001b[39;00m\n\u001b[1;32m    217\u001b[0m p_b \u001b[38;5;241m=\u001b[39m cast(List[Dict[Parameter, \u001b[38;5;28mfloat\u001b[39m]], param_bindings)\n\u001b[0;32m--> 218\u001b[0m sampled_statefn_dicts \u001b[38;5;241m=\u001b[39m \u001b[38;5;28;43mself\u001b[39;49m\u001b[38;5;241;43m.\u001b[39;49m\u001b[43msample_circuits\u001b[49m\u001b[43m(\u001b[49m\u001b[43mcircuit_sfns\u001b[49m\u001b[38;5;241;43m=\u001b[39;49m\u001b[43mcircs\u001b[49m\u001b[43m,\u001b[49m\u001b[43m \u001b[49m\u001b[43mparam_bindings\u001b[49m\u001b[38;5;241;43m=\u001b[39;49m\u001b[43mp_b\u001b[49m\u001b[43m)\u001b[49m\n\u001b[1;32m    220\u001b[0m \u001b[38;5;28;01mdef\u001b[39;00m \u001b[38;5;21mreplace_circuits_with_dicts\u001b[39m(operator, param_index\u001b[38;5;241m=\u001b[39m\u001b[38;5;241m0\u001b[39m):\n\u001b[1;32m    221\u001b[0m     \u001b[38;5;28;01mif\u001b[39;00m \u001b[38;5;28misinstance\u001b[39m(operator, CircuitStateFn):\n",
      "File \u001b[0;32m~/miniconda3/envs/QuantumComputing/lib/python3.9/site-packages/qiskit/opflow/converters/circuit_sampler.py:337\u001b[0m, in \u001b[0;36mCircuitSampler.sample_circuits\u001b[0;34m(self, circuit_sfns, param_bindings)\u001b[0m\n\u001b[1;32m    332\u001b[0m \u001b[38;5;28;01mif\u001b[39;00m \u001b[38;5;28mself\u001b[39m\u001b[38;5;241m.\u001b[39m_transpile_before_bind \u001b[38;5;129;01mand\u001b[39;00m \u001b[38;5;28mself\u001b[39m\u001b[38;5;241m.\u001b[39mquantum_instance\u001b[38;5;241m.\u001b[39mbound_pass_manager \u001b[38;5;129;01mis\u001b[39;00m \u001b[38;5;129;01mnot\u001b[39;00m \u001b[38;5;28;01mNone\u001b[39;00m:\n\u001b[1;32m    333\u001b[0m     ready_circs \u001b[38;5;241m=\u001b[39m \u001b[38;5;28mself\u001b[39m\u001b[38;5;241m.\u001b[39mquantum_instance\u001b[38;5;241m.\u001b[39mtranspile(\n\u001b[1;32m    334\u001b[0m         ready_circs, pass_manager\u001b[38;5;241m=\u001b[39m\u001b[38;5;28mself\u001b[39m\u001b[38;5;241m.\u001b[39mquantum_instance\u001b[38;5;241m.\u001b[39mbound_pass_manager\n\u001b[1;32m    335\u001b[0m     )\n\u001b[0;32m--> 337\u001b[0m results \u001b[38;5;241m=\u001b[39m \u001b[38;5;28;43mself\u001b[39;49m\u001b[38;5;241;43m.\u001b[39;49m\u001b[43mquantum_instance\u001b[49m\u001b[38;5;241;43m.\u001b[39;49m\u001b[43mexecute\u001b[49m\u001b[43m(\u001b[49m\n\u001b[1;32m    338\u001b[0m \u001b[43m    \u001b[49m\u001b[43mready_circs\u001b[49m\u001b[43m,\u001b[49m\u001b[43m \u001b[49m\u001b[43mhad_transpiled\u001b[49m\u001b[38;5;241;43m=\u001b[39;49m\u001b[38;5;28;43mself\u001b[39;49m\u001b[38;5;241;43m.\u001b[39;49m\u001b[43m_transpile_before_bind\u001b[49m\n\u001b[1;32m    339\u001b[0m \u001b[43m\u001b[49m\u001b[43m)\u001b[49m\n\u001b[1;32m    341\u001b[0m \u001b[38;5;28;01mif\u001b[39;00m param_bindings \u001b[38;5;129;01mis\u001b[39;00m \u001b[38;5;129;01mnot\u001b[39;00m \u001b[38;5;28;01mNone\u001b[39;00m \u001b[38;5;129;01mand\u001b[39;00m \u001b[38;5;28mself\u001b[39m\u001b[38;5;241m.\u001b[39m_param_qobj:\n\u001b[1;32m    342\u001b[0m     \u001b[38;5;28mself\u001b[39m\u001b[38;5;241m.\u001b[39m_clean_parameterized_run_config()\n",
      "File \u001b[0;32m~/miniconda3/envs/QuantumComputing/lib/python3.9/site-packages/qiskit/utils/quantum_instance.py:790\u001b[0m, in \u001b[0;36mQuantumInstance.execute\u001b[0;34m(self, circuits, had_transpiled)\u001b[0m\n\u001b[1;32m    786\u001b[0m                 result\u001b[38;5;241m.\u001b[39mresults[n] \u001b[38;5;241m=\u001b[39m tmp_result\u001b[38;5;241m.\u001b[39mresults[i]\n\u001b[1;32m    788\u001b[0m \u001b[38;5;28;01melse\u001b[39;00m:\n\u001b[1;32m    789\u001b[0m     result \u001b[38;5;241m=\u001b[39m (\n\u001b[0;32m--> 790\u001b[0m         \u001b[43mrun_circuits\u001b[49m\u001b[43m(\u001b[49m\n\u001b[1;32m    791\u001b[0m \u001b[43m            \u001b[49m\u001b[43mcircuits\u001b[49m\u001b[43m,\u001b[49m\n\u001b[1;32m    792\u001b[0m \u001b[43m            \u001b[49m\u001b[38;5;28;43mself\u001b[39;49m\u001b[38;5;241;43m.\u001b[39;49m\u001b[43m_backend\u001b[49m\u001b[43m,\u001b[49m\n\u001b[1;32m    793\u001b[0m \u001b[43m            \u001b[49m\u001b[43mqjob_config\u001b[49m\u001b[38;5;241;43m=\u001b[39;49m\u001b[38;5;28;43mself\u001b[39;49m\u001b[38;5;241;43m.\u001b[39;49m\u001b[43mqjob_config\u001b[49m\u001b[43m,\u001b[49m\n\u001b[1;32m    794\u001b[0m \u001b[43m            \u001b[49m\u001b[43mbackend_options\u001b[49m\u001b[38;5;241;43m=\u001b[39;49m\u001b[38;5;28;43mself\u001b[39;49m\u001b[38;5;241;43m.\u001b[39;49m\u001b[43mbackend_options\u001b[49m\u001b[43m,\u001b[49m\n\u001b[1;32m    795\u001b[0m \u001b[43m            \u001b[49m\u001b[43mnoise_config\u001b[49m\u001b[38;5;241;43m=\u001b[39;49m\u001b[38;5;28;43mself\u001b[39;49m\u001b[38;5;241;43m.\u001b[39;49m\u001b[43m_noise_config\u001b[49m\u001b[43m,\u001b[49m\n\u001b[1;32m    796\u001b[0m \u001b[43m            \u001b[49m\u001b[43mrun_config\u001b[49m\u001b[38;5;241;43m=\u001b[39;49m\u001b[38;5;28;43mself\u001b[39;49m\u001b[38;5;241;43m.\u001b[39;49m\u001b[43m_run_config\u001b[49m\u001b[38;5;241;43m.\u001b[39;49m\u001b[43mto_dict\u001b[49m\u001b[43m(\u001b[49m\u001b[43m)\u001b[49m\u001b[43m,\u001b[49m\n\u001b[1;32m    797\u001b[0m \u001b[43m            \u001b[49m\u001b[43mjob_callback\u001b[49m\u001b[38;5;241;43m=\u001b[39;49m\u001b[38;5;28;43mself\u001b[39;49m\u001b[38;5;241;43m.\u001b[39;49m\u001b[43m_job_callback\u001b[49m\u001b[43m,\u001b[49m\n\u001b[1;32m    798\u001b[0m \u001b[43m            \u001b[49m\u001b[43mmax_job_retries\u001b[49m\u001b[38;5;241;43m=\u001b[39;49m\u001b[38;5;28;43mself\u001b[39;49m\u001b[38;5;241;43m.\u001b[39;49m\u001b[43m_max_job_retries\u001b[49m\u001b[43m,\u001b[49m\n\u001b[1;32m    799\u001b[0m \u001b[43m        \u001b[49m\u001b[43m)\u001b[49m\n\u001b[1;32m    800\u001b[0m         \u001b[38;5;28;01mif\u001b[39;00m circuit_job\n\u001b[1;32m    801\u001b[0m         \u001b[38;5;28;01melse\u001b[39;00m run_qobj(\n\u001b[1;32m    802\u001b[0m             qobj,\n\u001b[1;32m    803\u001b[0m             \u001b[38;5;28mself\u001b[39m\u001b[38;5;241m.\u001b[39m_backend,\n\u001b[1;32m    804\u001b[0m             \u001b[38;5;28mself\u001b[39m\u001b[38;5;241m.\u001b[39m_qjob_config,\n\u001b[1;32m    805\u001b[0m             \u001b[38;5;28mself\u001b[39m\u001b[38;5;241m.\u001b[39m_backend_options,\n\u001b[1;32m    806\u001b[0m             \u001b[38;5;28mself\u001b[39m\u001b[38;5;241m.\u001b[39m_noise_config,\n\u001b[1;32m    807\u001b[0m             \u001b[38;5;28mself\u001b[39m\u001b[38;5;241m.\u001b[39m_skip_qobj_validation,\n\u001b[1;32m    808\u001b[0m             \u001b[38;5;28mself\u001b[39m\u001b[38;5;241m.\u001b[39m_job_callback,\n\u001b[1;32m    809\u001b[0m             \u001b[38;5;28mself\u001b[39m\u001b[38;5;241m.\u001b[39m_max_job_retries,\n\u001b[1;32m    810\u001b[0m         )\n\u001b[1;32m    811\u001b[0m     )\n\u001b[1;32m    812\u001b[0m     \u001b[38;5;28mself\u001b[39m\u001b[38;5;241m.\u001b[39m_time_taken \u001b[38;5;241m+\u001b[39m\u001b[38;5;241m=\u001b[39m result\u001b[38;5;241m.\u001b[39mtime_taken\n\u001b[1;32m    814\u001b[0m \u001b[38;5;28;01mif\u001b[39;00m \u001b[38;5;28mself\u001b[39m\u001b[38;5;241m.\u001b[39m_circuit_summary:\n",
      "File \u001b[0;32m~/miniconda3/envs/QuantumComputing/lib/python3.9/site-packages/qiskit/utils/run_circuits.py:623\u001b[0m, in \u001b[0;36mrun_circuits\u001b[0;34m(circuits, backend, qjob_config, backend_options, noise_config, run_config, job_callback, max_job_retries)\u001b[0m\n\u001b[1;32m    621\u001b[0m     results \u001b[38;5;241m=\u001b[39m []\n\u001b[1;32m    622\u001b[0m     \u001b[38;5;28;01mfor\u001b[39;00m job \u001b[38;5;129;01min\u001b[39;00m jobs:\n\u001b[0;32m--> 623\u001b[0m         results\u001b[38;5;241m.\u001b[39mappend(\u001b[43mjob\u001b[49m\u001b[38;5;241;43m.\u001b[39;49m\u001b[43mresult\u001b[49m\u001b[43m(\u001b[49m\u001b[43m)\u001b[49m)\n\u001b[1;32m    625\u001b[0m result \u001b[38;5;241m=\u001b[39m _combine_result_objects(results) \u001b[38;5;28;01mif\u001b[39;00m results \u001b[38;5;28;01melse\u001b[39;00m \u001b[38;5;28;01mNone\u001b[39;00m\n\u001b[1;32m    626\u001b[0m \u001b[38;5;66;03m# If result was not successful then raise an exception with either the status msg or\u001b[39;00m\n\u001b[1;32m    627\u001b[0m \u001b[38;5;66;03m# extra information if this was an Aer partial result return\u001b[39;00m\n",
      "File \u001b[0;32m~/miniconda3/envs/QuantumComputing/lib/python3.9/site-packages/qiskit/providers/aer/jobs/utils.py:41\u001b[0m, in \u001b[0;36mrequires_submit.<locals>._wrapper\u001b[0;34m(self, *args, **kwargs)\u001b[0m\n\u001b[1;32m     39\u001b[0m \u001b[38;5;28;01mif\u001b[39;00m \u001b[38;5;28mself\u001b[39m\u001b[38;5;241m.\u001b[39m_future \u001b[38;5;129;01mis\u001b[39;00m \u001b[38;5;28;01mNone\u001b[39;00m:\n\u001b[1;32m     40\u001b[0m     \u001b[38;5;28;01mraise\u001b[39;00m JobError(\u001b[38;5;124m\"\u001b[39m\u001b[38;5;124mJob not submitted yet!. You have to .submit() first!\u001b[39m\u001b[38;5;124m\"\u001b[39m)\n\u001b[0;32m---> 41\u001b[0m \u001b[38;5;28;01mreturn\u001b[39;00m \u001b[43mfunc\u001b[49m\u001b[43m(\u001b[49m\u001b[38;5;28;43mself\u001b[39;49m\u001b[43m,\u001b[49m\u001b[43m \u001b[49m\u001b[38;5;241;43m*\u001b[39;49m\u001b[43margs\u001b[49m\u001b[43m,\u001b[49m\u001b[43m \u001b[49m\u001b[38;5;241;43m*\u001b[39;49m\u001b[38;5;241;43m*\u001b[39;49m\u001b[43mkwargs\u001b[49m\u001b[43m)\u001b[49m\n",
      "File \u001b[0;32m~/miniconda3/envs/QuantumComputing/lib/python3.9/site-packages/qiskit/providers/aer/jobs/aerjob.py:78\u001b[0m, in \u001b[0;36mAerJob.result\u001b[0;34m(self, timeout)\u001b[0m\n\u001b[1;32m     60\u001b[0m \u001b[38;5;129m@requires_submit\u001b[39m\n\u001b[1;32m     61\u001b[0m \u001b[38;5;28;01mdef\u001b[39;00m \u001b[38;5;21mresult\u001b[39m(\u001b[38;5;28mself\u001b[39m, timeout\u001b[38;5;241m=\u001b[39m\u001b[38;5;28;01mNone\u001b[39;00m):\n\u001b[1;32m     62\u001b[0m     \u001b[38;5;66;03m# pylint: disable=arguments-differ\u001b[39;00m\n\u001b[1;32m     63\u001b[0m     \u001b[38;5;124;03m\"\"\"Get job result. The behavior is the same as the underlying\u001b[39;00m\n\u001b[1;32m     64\u001b[0m \u001b[38;5;124;03m    concurrent Future objects,\u001b[39;00m\n\u001b[1;32m     65\u001b[0m \n\u001b[0;32m   (...)\u001b[0m\n\u001b[1;32m     76\u001b[0m \u001b[38;5;124;03m        concurrent.futures.CancelledError: if job cancelled before completed.\u001b[39;00m\n\u001b[1;32m     77\u001b[0m \u001b[38;5;124;03m    \"\"\"\u001b[39;00m\n\u001b[0;32m---> 78\u001b[0m     \u001b[38;5;28;01mreturn\u001b[39;00m \u001b[38;5;28;43mself\u001b[39;49m\u001b[38;5;241;43m.\u001b[39;49m\u001b[43m_future\u001b[49m\u001b[38;5;241;43m.\u001b[39;49m\u001b[43mresult\u001b[49m\u001b[43m(\u001b[49m\u001b[43mtimeout\u001b[49m\u001b[38;5;241;43m=\u001b[39;49m\u001b[43mtimeout\u001b[49m\u001b[43m)\u001b[49m\n",
      "File \u001b[0;32m~/miniconda3/envs/QuantumComputing/lib/python3.9/concurrent/futures/_base.py:435\u001b[0m, in \u001b[0;36mFuture.result\u001b[0;34m(self, timeout)\u001b[0m\n\u001b[1;32m    432\u001b[0m \u001b[38;5;28;01melif\u001b[39;00m \u001b[38;5;28mself\u001b[39m\u001b[38;5;241m.\u001b[39m_state \u001b[38;5;241m==\u001b[39m FINISHED:\n\u001b[1;32m    433\u001b[0m     \u001b[38;5;28;01mreturn\u001b[39;00m \u001b[38;5;28mself\u001b[39m\u001b[38;5;241m.\u001b[39m__get_result()\n\u001b[0;32m--> 435\u001b[0m \u001b[38;5;28;43mself\u001b[39;49m\u001b[38;5;241;43m.\u001b[39;49m\u001b[43m_condition\u001b[49m\u001b[38;5;241;43m.\u001b[39;49m\u001b[43mwait\u001b[49m\u001b[43m(\u001b[49m\u001b[43mtimeout\u001b[49m\u001b[43m)\u001b[49m\n\u001b[1;32m    437\u001b[0m \u001b[38;5;28;01mif\u001b[39;00m \u001b[38;5;28mself\u001b[39m\u001b[38;5;241m.\u001b[39m_state \u001b[38;5;129;01min\u001b[39;00m [CANCELLED, CANCELLED_AND_NOTIFIED]:\n\u001b[1;32m    438\u001b[0m     \u001b[38;5;28;01mraise\u001b[39;00m CancelledError()\n",
      "File \u001b[0;32m~/miniconda3/envs/QuantumComputing/lib/python3.9/threading.py:312\u001b[0m, in \u001b[0;36mCondition.wait\u001b[0;34m(self, timeout)\u001b[0m\n\u001b[1;32m    310\u001b[0m \u001b[38;5;28;01mtry\u001b[39;00m:    \u001b[38;5;66;03m# restore state no matter what (e.g., KeyboardInterrupt)\u001b[39;00m\n\u001b[1;32m    311\u001b[0m     \u001b[38;5;28;01mif\u001b[39;00m timeout \u001b[38;5;129;01mis\u001b[39;00m \u001b[38;5;28;01mNone\u001b[39;00m:\n\u001b[0;32m--> 312\u001b[0m         \u001b[43mwaiter\u001b[49m\u001b[38;5;241;43m.\u001b[39;49m\u001b[43macquire\u001b[49m\u001b[43m(\u001b[49m\u001b[43m)\u001b[49m\n\u001b[1;32m    313\u001b[0m         gotit \u001b[38;5;241m=\u001b[39m \u001b[38;5;28;01mTrue\u001b[39;00m\n\u001b[1;32m    314\u001b[0m     \u001b[38;5;28;01melse\u001b[39;00m:\n",
      "\u001b[0;31mKeyboardInterrupt\u001b[0m: "
     ]
    }
   ],
   "source": [
    "ho_data=fill_vqe_dict(h_b_HO,h_f_HO,{m:1, g:1},[2**i for i in range(1,4)])\n",
    "print(latex_vqe_table(ho_data))"
   ]
  },
  {
   "cell_type": "code",
   "execution_count": null,
   "metadata": {},
   "outputs": [],
   "source": []
  },
  {
   "cell_type": "markdown",
   "metadata": {},
   "source": [
    "### HO Ground State Fidelity"
   ]
  },
  {
   "cell_type": "code",
   "execution_count": null,
   "metadata": {},
   "outputs": [],
   "source": [
    "h_b_HO = 0.5*(p*p + m*m*q*q)\n",
    "h_f_HO = -0.5*m#[bdag,b]\n",
    "\n",
    "HOham=Hamiltonian(h_b_HO, h_f_HO, {m:1, g:1},\n",
    "                  2**2, standard_encode)\n",
    "obsHOHAM = pauli_string_to_op(HOham.pauliStrings)\n",
    "result = vqe.compute_minimum_eigenvalue(obsHOHAM)"
   ]
  },
  {
   "cell_type": "code",
   "execution_count": 17,
   "metadata": {},
   "outputs": [
    {
     "name": "stderr",
     "output_type": "stream",
     "text": [
      "/tmp/ipykernel_64388/843297991.py:1: DeprecationWarning: \n",
      "The VQE.get_optimal_vector method is deprecated as of Qiskit Terra 0.18.0\n",
      "and will be removed no sooner than 3 months after the releasedate.\n",
      "This information is part of the returned result object and can be\n",
      "queried as VQEResult.eigenvector.\n",
      "  vqe.get_optimal_vector()\n"
     ]
    },
    {
     "data": {
      "text/plain": [
       "array([ 4.89284721e-05+0.j, -9.99999997e-01+0.j,  3.47372441e-05+0.j,\n",
       "       -4.95357810e-05+0.j,  5.31404263e-10+0.j, -2.33591603e-05-0.j,\n",
       "       -5.01128091e-11+0.j,  1.76043396e-05+0.j])"
      ]
     },
     "execution_count": 17,
     "metadata": {},
     "output_type": "execute_result"
    }
   ],
   "source": [
    "vqe.get_optimal_vector()"
   ]
  },
  {
   "cell_type": "code",
   "execution_count": null,
   "metadata": {},
   "outputs": [],
   "source": [
    "0000,0001,0010,0011..."
   ]
  },
  {
   "cell_type": "code",
   "execution_count": null,
   "metadata": {},
   "outputs": [],
   "source": []
  },
  {
   "cell_type": "code",
   "execution_count": null,
   "metadata": {},
   "outputs": [],
   "source": []
  },
  {
   "cell_type": "code",
   "execution_count": null,
   "metadata": {},
   "outputs": [],
   "source": [
    "np.linalg.eig(np.array(HOham.hamMatrix,dtype=float))"
   ]
  },
  {
   "cell_type": "markdown",
   "metadata": {},
   "source": [
    "## AHO"
   ]
  },
  {
   "cell_type": "code",
   "execution_count": null,
   "metadata": {},
   "outputs": [],
   "source": []
  },
  {
   "cell_type": "code",
   "execution_count": 15,
   "metadata": {},
   "outputs": [],
   "source": [
    "h_b_AHO = 0.5*(p*p) + 0.5*(m*q+g*q**3)**2\n",
    "h_f_AHO = -0.5*(m+3*g*q*q)#[bdag,b]"
   ]
  },
  {
   "cell_type": "code",
   "execution_count": 16,
   "metadata": {},
   "outputs": [
    {
     "data": {
      "text/plain": [
       "array([ 0.12682403,  2.08341082,  3.323419  ,  7.31797807, 32.24817597,\n",
       "       41.29158918, 81.301581  , 94.30702193])"
      ]
     },
     "execution_count": 16,
     "metadata": {},
     "output_type": "execute_result"
    }
   ],
   "source": [
    "hamAHO = Hamiltonian(h_b_AHO, h_f_AHO, {m: 1, g:1},\n",
    "                    2**2, standard_encode)\n",
    "\n",
    "np.sort(np.linalg.eig(np.array(hamAHO.hamMatrix,dtype=float))[0])[0:10]"
   ]
  },
  {
   "cell_type": "code",
   "execution_count": 18,
   "metadata": {},
   "outputs": [
    {
     "data": {
      "text/plain": [
       "array([2.92568799e-02, 1.70677100e+00, 1.78275273e+00, 4.73407590e+00,\n",
       "       7.22350860e+00, 1.24381795e+01, 1.84881706e+01, 2.61305422e+01,\n",
       "       7.21041337e+01, 8.49087650e+01])"
      ]
     },
     "execution_count": 18,
     "metadata": {},
     "output_type": "execute_result"
    }
   ],
   "source": [
    "hamAHO = Hamiltonian(h_b_AHO, h_f_AHO, {m: 1, g:1},\n",
    "                    2**3, standard_encode)\n",
    "\n",
    "np.sort(np.linalg.eig(np.array(hamAHO.hamMatrix,dtype=float))[0])[0:10]"
   ]
  },
  {
   "cell_type": "code",
   "execution_count": 19,
   "metadata": {},
   "outputs": [
    {
     "data": {
      "text/plain": [
       "array([1.83029849e-03, 1.68720122e+00, 1.70732190e+00, 4.37401524e+00,\n",
       "       4.41418952e+00, 7.76596507e+00, 7.94769938e+00, 1.23737466e+01,\n",
       "       1.55392089e+01, 2.23264623e+01])"
      ]
     },
     "execution_count": 19,
     "metadata": {},
     "output_type": "execute_result"
    }
   ],
   "source": [
    "hamAHO = Hamiltonian(h_b_AHO, h_f_AHO, {m: 1, g:1},\n",
    "                    2**4, standard_encode)\n",
    "\n",
    "np.sort(np.linalg.eig(np.array(hamAHO.hamMatrix,dtype=float))[0])[0:10]"
   ]
  },
  {
   "cell_type": "code",
   "execution_count": 20,
   "metadata": {},
   "outputs": [
    {
     "name": "stdout",
     "output_type": "stream",
     "text": [
      "2 & 9.38e-01 & 9.38e-01 \\\\ \n",
      "4 & 1.27e-01 & 1.27e-01 \\\\ \n",
      "8 & 2.93e-02 & 2.93e-02 \\\\ \n",
      "\n"
     ]
    }
   ],
   "source": [
    "ho_data=fill_vqe_dict(h_b_AHO,h_f_AHO, {m:1, g:1},[2**i for i in range(1,4)])\n",
    "print(latex_vqe_table(ho_data))"
   ]
  },
  {
   "cell_type": "code",
   "execution_count": null,
   "metadata": {},
   "outputs": [],
   "source": []
  },
  {
   "cell_type": "markdown",
   "metadata": {},
   "source": [
    "### AHO Fidelity"
   ]
  },
  {
   "cell_type": "code",
   "execution_count": 24,
   "metadata": {},
   "outputs": [],
   "source": [
    "h_b_AHO = 0.5*(p*p) + 0.5*(m*q+g*q**3)**2\n",
    "h_f_AHO = -0.5*(m+3*g*q*q)#[bdag,b]\n",
    "\n",
    "AHOham=Hamiltonian(h_b_AHO, h_f_AHO, {m:1, g:1},\n",
    "                  2**2, standard_encode)\n",
    "\n",
    "obsAHOHAM = pauli_string_to_op(AHOham.pauliStrings)\n",
    "result = vqe.compute_minimum_eigenvalue(obsAHOHAM)"
   ]
  },
  {
   "cell_type": "code",
   "execution_count": 25,
   "metadata": {},
   "outputs": [
    {
     "name": "stderr",
     "output_type": "stream",
     "text": [
      "/tmp/ipykernel_18626/843297991.py:1: DeprecationWarning: \n",
      "The VQE.get_optimal_vector method is deprecated as of Qiskit Terra 0.18.0\n",
      "and will be removed no sooner than 3 months after the releasedate.\n",
      "This information is part of the returned result object and can be\n",
      "queried as VQEResult.eigenvector.\n",
      "  vqe.get_optimal_vector()\n"
     ]
    },
    {
     "data": {
      "text/plain": [
       "array([ 7.86101070e-04+0.j, -9.87291595e-01+0.j, -1.73896468e-04+0.j,\n",
       "        1.58917127e-01+0.j, -5.01692414e-08+0.j,  6.41919851e-05+0.j,\n",
       "       -6.05145629e-09+0.j,  1.08765744e-05+0.j])"
      ]
     },
     "execution_count": 25,
     "metadata": {},
     "output_type": "execute_result"
    }
   ],
   "source": [
    "vqe.get_optimal_vector()"
   ]
  },
  {
   "cell_type": "code",
   "execution_count": null,
   "metadata": {},
   "outputs": [],
   "source": []
  },
  {
   "cell_type": "code",
   "execution_count": 26,
   "metadata": {},
   "outputs": [
    {
     "data": {
      "text/plain": [
       "(array([ 2.08341082, 41.29158918,  7.31797807, 94.30702193,  0.12682403,\n",
       "        32.24817597,  3.323419  , 81.301581  ]),\n",
       " array([[-0.98258033,  0.18583833,  0.        ,  0.        ,  0.        ,\n",
       "          0.        ,  0.        ,  0.        ],\n",
       "        [ 0.        ,  0.        ,  0.95745451, -0.28858422,  0.        ,\n",
       "          0.        ,  0.        ,  0.        ],\n",
       "        [ 0.18583833,  0.98258033,  0.        ,  0.        ,  0.        ,\n",
       "          0.        ,  0.        ,  0.        ],\n",
       "        [ 0.        ,  0.        , -0.28858422, -0.95745451,  0.        ,\n",
       "          0.        ,  0.        ,  0.        ],\n",
       "        [ 0.        ,  0.        ,  0.        ,  0.        , -0.9873004 ,\n",
       "          0.15886446,  0.        ,  0.        ],\n",
       "        [ 0.        ,  0.        ,  0.        ,  0.        ,  0.        ,\n",
       "          0.        ,  0.9624975 , -0.27129056],\n",
       "        [ 0.        ,  0.        ,  0.        ,  0.        ,  0.15886446,\n",
       "          0.9873004 ,  0.        ,  0.        ],\n",
       "        [ 0.        ,  0.        ,  0.        ,  0.        ,  0.        ,\n",
       "          0.        , -0.27129056, -0.9624975 ]]))"
      ]
     },
     "execution_count": 26,
     "metadata": {},
     "output_type": "execute_result"
    }
   ],
   "source": [
    "np.linalg.eig(np.array(AHOham.hamMatrix,dtype=float))"
   ]
  },
  {
   "cell_type": "code",
   "execution_count": 28,
   "metadata": {},
   "outputs": [
    {
     "data": {
      "text/plain": [
       "array([ 0.        ,  0.        ,  0.        ,  0.        , -0.9873004 ,\n",
       "        0.15886446,  0.        ,  0.        ])"
      ]
     },
     "execution_count": 28,
     "metadata": {},
     "output_type": "execute_result"
    }
   ],
   "source": [
    "np.linalg.eig(np.array(AHOham.hamMatrix,dtype=float))[1][4]"
   ]
  },
  {
   "cell_type": "code",
   "execution_count": null,
   "metadata": {},
   "outputs": [],
   "source": []
  },
  {
   "cell_type": "code",
   "execution_count": null,
   "metadata": {},
   "outputs": [],
   "source": []
  },
  {
   "cell_type": "code",
   "execution_count": 29,
   "metadata": {},
   "outputs": [
    {
     "name": "stderr",
     "output_type": "stream",
     "text": [
      "/tmp/ipykernel_18626/3539797911.py:9: DeprecationWarning: \n",
      "The VQE.get_optimal_vector method is deprecated as of Qiskit Terra 0.18.0\n",
      "and will be removed no sooner than 3 months after the releasedate.\n",
      "This information is part of the returned result object and can be\n",
      "queried as VQEResult.eigenvector.\n",
      "  vqe.get_optimal_vector()\n"
     ]
    },
    {
     "data": {
      "text/plain": [
       "array([ 1.45185864e-01+0.j,  9.47532006e-01+0.j, -1.08508218e-03+0.j,\n",
       "       -8.04432246e-03+0.j,  6.79048855e-03+0.j,  4.43161933e-02+0.j,\n",
       "        7.43636464e-05+0.j,  4.40317040e-04+0.j, -3.51798526e-02+0.j,\n",
       "       -2.29595618e-01+0.j,  2.64861521e-04+0.j,  1.96184937e-03+0.j,\n",
       "        6.24789457e-04+0.j,  4.07778525e-03+0.j, -3.45565767e-05+0.j,\n",
       "       -2.29675968e-04+0.j,  2.26605428e-02+0.j,  1.47890360e-01+0.j,\n",
       "       -1.69405485e-04+0.j, -1.25585670e-03+0.j,  1.00550370e-03+0.j,\n",
       "        6.56212754e-03+0.j,  1.20025854e-05+0.j,  7.16689336e-05+0.j,\n",
       "       -7.75844117e-03+0.j, -5.06342102e-02+0.j,  5.82203131e-05+0.j,\n",
       "        4.31410741e-04+0.j, -8.65222575e-05+0.j, -5.64629510e-04+0.j,\n",
       "       -5.98695046e-06+0.j, -3.85002910e-05+0.j])"
      ]
     },
     "execution_count": 29,
     "metadata": {},
     "output_type": "execute_result"
    }
   ],
   "source": [
    "h_b_AHO = 0.5*(p*p) + 0.5*(m*q+g*q**3)**2\n",
    "h_f_AHO = -0.5*(m+3*g*q*q)#[bdag,b]\n",
    "\n",
    "AHOham=Hamiltonian(h_b_AHO, h_f_AHO, {m:1, g:1},\n",
    "                  2**4, standard_encode)\n",
    "\n",
    "obsAHOHAM = pauli_string_to_op(AHOham.pauliStrings)\n",
    "result = vqe.compute_minimum_eigenvalue(obsAHOHAM)\n",
    "vqe.get_optimal_vector()"
   ]
  },
  {
   "cell_type": "code",
   "execution_count": 34,
   "metadata": {},
   "outputs": [],
   "source": [
    "eigSys=np.linalg.eig(np.array(AHOham.hamMatrix,dtype=float))"
   ]
  },
  {
   "cell_type": "code",
   "execution_count": 36,
   "metadata": {},
   "outputs": [
    {
     "data": {
      "text/plain": [
       "0.0018302984860109784"
      ]
     },
     "execution_count": 36,
     "metadata": {},
     "output_type": "execute_result"
    }
   ],
   "source": [
    "np.min(eigSys[0])"
   ]
  },
  {
   "cell_type": "code",
   "execution_count": 38,
   "metadata": {},
   "outputs": [
    {
     "data": {
      "text/plain": [
       "(array([26]),)"
      ]
     },
     "execution_count": 38,
     "metadata": {},
     "output_type": "execute_result"
    }
   ],
   "source": [
    "np.where(eigSys[0]==np.min(eigSys[0]))"
   ]
  },
  {
   "cell_type": "code",
   "execution_count": 39,
   "metadata": {},
   "outputs": [
    {
     "data": {
      "text/plain": [
       "array([ 0.00000000e+00,  0.00000000e+00,  0.00000000e+00,  0.00000000e+00,\n",
       "        0.00000000e+00,  0.00000000e+00,  0.00000000e+00,  0.00000000e+00,\n",
       "        0.00000000e+00,  0.00000000e+00,  0.00000000e+00,  0.00000000e+00,\n",
       "        0.00000000e+00,  0.00000000e+00,  0.00000000e+00,  0.00000000e+00,\n",
       "       -3.22205782e-01,  6.23521394e-01,  2.41427745e-17, -2.61234627e-17,\n",
       "        1.85147202e-01,  3.42432112e-16,  2.84341339e-01,  1.96099521e-16,\n",
       "        4.77353712e-01, -3.92166697e-01,  1.81280812e-02, -1.01415534e-01,\n",
       "       -4.03641704e-17,  4.74268283e-16, -4.23932664e-17, -6.24352246e-16])"
      ]
     },
     "execution_count": 39,
     "metadata": {},
     "output_type": "execute_result"
    }
   ],
   "source": [
    "eigSys[1][26]"
   ]
  },
  {
   "cell_type": "markdown",
   "metadata": {},
   "source": [
    "### AHO more VQE"
   ]
  },
  {
   "cell_type": "code",
   "execution_count": 21,
   "metadata": {},
   "outputs": [
    {
     "data": {
      "text/plain": [
       "(0.0018302984872818303+0j)"
      ]
     },
     "execution_count": 21,
     "metadata": {},
     "output_type": "execute_result"
    }
   ],
   "source": [
    "min(np.linalg.eig(getMatrix(hamAHO.pauliStrings))[0])"
   ]
  },
  {
   "cell_type": "code",
   "execution_count": 23,
   "metadata": {},
   "outputs": [
    {
     "name": "stdout",
     "output_type": "stream",
     "text": [
      "(0.30382794503350596+0j)\n"
     ]
    }
   ],
   "source": [
    "from src.qiskit_utilities import *\n",
    "\n",
    "obsAHOHAM = pauli_string_to_op(hamAHO.pauliStrings)\n",
    "\n",
    "result = vqe.compute_minimum_eigenvalue(obsAHOHAM)\n",
    "print(result.eigenvalue)"
   ]
  },
  {
   "cell_type": "code",
   "execution_count": 24,
   "metadata": {},
   "outputs": [],
   "source": [
    "# set-up the vqe algorithm, with an optimizer and wave function\n",
    "from qiskit.algorithms import VQE\n",
    "from qiskit.algorithms.optimizers import COBYLA\n",
    "\n",
    "hamAHO = Hamiltonian(h_b_AHO, h_f_AHO, {m: 1, g:1},\n",
    "                    2**5, standard_encode)\n",
    "\n",
    "obsAHOHAM = pauli_string_to_op(hamAHO.pauliStrings)"
   ]
  },
  {
   "cell_type": "code",
   "execution_count": 25,
   "metadata": {},
   "outputs": [
    {
     "name": "stdout",
     "output_type": "stream",
     "text": [
      "\n",
      "   Return from subroutine COBYLA because the MAXFUN limit has been reached.\n",
      "\n",
      "   NFVALS =  100   F = 1.650114E+01    MAXCV = 0.000000E+00\n",
      "   X =-2.257208E-02   3.132605E+00   1.951773E+00   4.461680E-01   2.189591E-02\n",
      "       3.334657E+00   3.510812E+00  -3.167556E+00   8.941592E-01  -8.998586E-01\n",
      "      -1.471832E+00  -1.821749E+00\n",
      "(16.50113534402278+0j)\n"
     ]
    }
   ],
   "source": [
    "vqe = VQE(ansatz=ansatz, optimizer=COBYLA(maxiter=100,disp=True), quantum_instance=qinstance)\n",
    "\n",
    "result = vqe.compute_minimum_eigenvalue(obsAHOHAM)\n",
    "print(result.eigenvalue)"
   ]
  },
  {
   "cell_type": "code",
   "execution_count": 26,
   "metadata": {},
   "outputs": [
    {
     "name": "stdout",
     "output_type": "stream",
     "text": [
      "(0.14024289278325555+0j)\n"
     ]
    }
   ],
   "source": [
    "vqe = VQE(ansatz=ansatz, optimizer=COBYLA(maxiter=5000), quantum_instance=qinstance)\n",
    "\n",
    "result = vqe.compute_minimum_eigenvalue(obsAHOHAM)\n",
    "print(result.eigenvalue)"
   ]
  },
  {
   "cell_type": "code",
   "execution_count": 27,
   "metadata": {},
   "outputs": [
    {
     "name": "stdout",
     "output_type": "stream",
     "text": [
      "\n",
      "   Return from subroutine COBYLA because the MAXFUN limit has been reached.\n",
      "\n",
      "   NFVALS =10000   F = 5.519588E+00    MAXCV = 0.000000E+00\n",
      "   X = 3.141610E+00   3.371966E-05   7.177147E-03  -1.313349E+00   3.130737E+00\n",
      "       7.098688E-01   9.928954E-02   3.150118E+00  -1.510467E-01  -1.331680E-01\n",
      "      -1.020016E+00  -2.435153E+00\n",
      "(5.519587810231105+0j)\n"
     ]
    }
   ],
   "source": [
    "vqe = VQE(ansatz=ansatz, optimizer=COBYLA(maxiter=10000,tol=1e-5,disp=True), quantum_instance=qinstance)\n",
    "\n",
    "result = vqe.compute_minimum_eigenvalue(obsAHOHAM)\n",
    "print(result.eigenvalue)"
   ]
  },
  {
   "cell_type": "code",
   "execution_count": 28,
   "metadata": {},
   "outputs": [
    {
     "name": "stdout",
     "output_type": "stream",
     "text": [
      "None\n"
     ]
    }
   ],
   "source": [
    "print(result.optimizer_evals)"
   ]
  },
  {
   "cell_type": "code",
   "execution_count": 29,
   "metadata": {},
   "outputs": [
    {
     "name": "stdout",
     "output_type": "stream",
     "text": [
      "\n",
      "   Normal return from subroutine COBYLA\n",
      "\n",
      "   NFVALS =   35   F = 2.528792E+02    MAXCV = 0.000000E+00\n",
      "   X =-1.907162E-01   2.361514E+00   6.348818E-01  -1.271164E+00   2.309399E+00\n",
      "      -1.679202E+00   3.548315E+00  -2.613764E+00   1.781265E+00   1.680992E-01\n",
      "       2.899363E-01   1.651685E+00\n",
      "35\n"
     ]
    }
   ],
   "source": [
    "vqe = VQE(ansatz=ansatz, optimizer=COBYLA(maxiter=1000,tol=1e-0,disp=True), quantum_instance=qinstance)\n",
    "\n",
    "result = vqe.compute_minimum_eigenvalue(obsAHOHAM)\n",
    "print(result.cost_function_evals)\n",
    "#print(result)"
   ]
  },
  {
   "cell_type": "code",
   "execution_count": 30,
   "metadata": {},
   "outputs": [
    {
     "name": "stdout",
     "output_type": "stream",
     "text": [
      "\n",
      "   Normal return from subroutine COBYLA\n",
      "\n",
      "   NFVALS =   34   F = 2.237938E+03    MAXCV = 0.000000E+00\n",
      "   X = 2.376976E+00  -1.924292E+00  -8.258720E-01  -1.403608E+00   3.443756E+00\n",
      "      -1.863668E+00   1.164361E+00   7.427971E-01   9.230415E-01   2.627640E+00\n",
      "       2.065852E+00   2.931474E+00\n",
      "\n",
      "   Normal return from subroutine COBYLA\n",
      "\n",
      "   NFVALS =   14   F = 6.108886E+03    MAXCV = 0.000000E+00\n",
      "   X = 9.658095E-01  -9.693479E-01  -6.559322E-01   2.331344E+00   2.159064E+00\n",
      "      -1.855843E+00   1.891781E+00  -1.397145E+00   1.218668E-01   2.509978E+00\n",
      "      -9.792041E-01   2.902795E+00\n",
      "\n",
      "   Normal return from subroutine COBYLA\n",
      "\n",
      "   NFVALS =   14   F = 2.237958E+03    MAXCV = 0.000000E+00\n",
      "   X =-3.644994E+00  -8.566614E-01  -1.553881E+00  -1.969004E+00   2.925624E+00\n",
      "       2.182046E+00   1.959566E+00   2.284953E+00  -6.008498E-01  -5.831492E-01\n",
      "       2.118748E-01   8.115979E-01\n",
      "\n",
      "   Normal return from subroutine COBYLA\n",
      "\n",
      "   NFVALS =   14   F = 8.865931E+02    MAXCV = 0.000000E+00\n",
      "   X = 4.850820E-01   3.055108E-01   4.100369E-01  -2.651773E+00   2.770606E+00\n",
      "       6.801602E-01  -7.545201E-01  -2.025924E-01   1.942073E+00   5.170782E-01\n",
      "      -9.818857E-01  -1.338739E+00\n",
      "\n",
      "   Normal return from subroutine COBYLA\n",
      "\n",
      "   NFVALS =   25   F = 2.193397E+03    MAXCV = 0.000000E+00\n",
      "   X =-2.035955E+00   1.056336E+00  -8.855342E-01  -1.029932E+00   2.695997E+00\n",
      "       4.444620E+00   2.690792E+00   1.587145E+00  -1.212510E+00  -9.511749E-01\n",
      "       1.033287E+00  -7.413630E-01\n",
      "\n",
      "   Normal return from subroutine COBYLA\n",
      "\n",
      "   NFVALS =   29   F = 2.924389E+03    MAXCV = 0.000000E+00\n",
      "   X =-2.598706E+00   8.205288E-02  -2.051868E+00  -4.923686E-02   3.225061E+00\n",
      "       2.439126E+00  -1.207827E+00   2.850446E+00  -2.281212E+00   1.981546E-01\n",
      "       2.673485E-01  -2.009157E+00\n",
      "\n",
      "   Normal return from subroutine COBYLA\n",
      "\n",
      "   NFVALS =   24   F = 2.212019E+03    MAXCV = 0.000000E+00\n",
      "   X = 2.903385E+00  -9.645574E-02  -1.903414E+00   2.337814E+00   1.166134E-01\n",
      "      -7.827786E-01   1.759583E-02   1.846954E+00  -2.134724E+00  -1.250946E+00\n",
      "       3.125406E+00   9.357840E-01\n",
      "\n",
      "   Normal return from subroutine COBYLA\n",
      "\n",
      "   NFVALS =   24   F = 2.134290E+02    MAXCV = 0.000000E+00\n",
      "   X = 1.049479E-01   2.045585E-01   3.135319E+00   2.682920E+00   2.503816E+00\n",
      "      -2.773870E+00   2.163679E+00  -1.107954E-01   2.412261E+00  -2.180705E-01\n",
      "      -8.659322E-01  -6.895840E-01\n",
      "\n",
      "   Normal return from subroutine COBYLA\n",
      "\n",
      "   NFVALS =   16   F = 1.579246E+03    MAXCV = 0.000000E+00\n",
      "   X =-1.549578E+00  -1.315128E+00  -1.035963E+00   1.252055E+00  -5.589713E-02\n",
      "       7.837714E-01   1.950635E+00  -1.308499E+00   7.095055E-01   2.201978E+00\n",
      "      -4.068420E-01  -1.110849E-01\n",
      "\n",
      "   Normal return from subroutine COBYLA\n",
      "\n",
      "   NFVALS =   14   F = 1.790632E+03    MAXCV = 0.000000E+00\n",
      "   X = 1.118428E+00   3.856587E-01  -4.656942E-01   1.722861E+00   6.912327E-01\n",
      "      -8.123213E-01  -1.638037E+00  -1.045238E+00   3.153594E-01  -1.032992E+00\n",
      "       1.098583E+00   2.471909E+00\n",
      "\n",
      "   Normal return from subroutine COBYLA\n",
      "\n",
      "   NFVALS =   18   F = 1.397404E+03    MAXCV = 0.000000E+00\n",
      "   X =-2.869620E+00   2.414842E+00  -1.202781E+00  -5.676175E-01   1.795272E+00\n",
      "      -1.821721E+00   1.598191E+00   1.005817E+00   4.309498E-01   1.835240E+00\n",
      "       8.277545E-01  -2.400012E+00\n",
      "\n",
      "   Normal return from subroutine COBYLA\n",
      "\n",
      "   NFVALS =   31   F = 3.670587E+02    MAXCV = 0.000000E+00\n",
      "   X =-4.126375E-01  -1.563081E-01   8.112086E-01  -1.330713E-03   2.269657E+00\n",
      "       4.570160E+00   2.955844E+00  -2.036580E-01   1.237292E+00   1.373421E-01\n",
      "       7.235142E-01   4.698474E-01\n",
      "\n",
      "   Normal return from subroutine COBYLA\n",
      "\n",
      "   NFVALS =   26   F = 1.053120E+03    MAXCV = 0.000000E+00\n",
      "   X = 1.946178E-01   2.338361E+00   3.926731E+00  -5.473200E-01   2.105213E+00\n",
      "      -1.254751E+00   3.396072E+00  -3.382313E+00  -4.011618E-02  -1.936153E+00\n",
      "       9.215206E-01  -2.856531E+00\n",
      "\n",
      "   Normal return from subroutine COBYLA\n",
      "\n",
      "   NFVALS =   32   F = 2.057426E+03    MAXCV = 0.000000E+00\n",
      "   X =-2.432351E+00   5.538029E-01   1.160700E+00   2.421000E+00  -1.633908E+00\n",
      "      -1.807452E+00  -3.637164E+00  -1.875215E+00   1.116167E+00  -1.756815E+00\n",
      "      -2.256912E+00   8.439689E-03\n",
      "\n",
      "   Normal return from subroutine COBYLA\n",
      "\n",
      "   NFVALS =   27   F = 4.176783E+02    MAXCV = 0.000000E+00\n",
      "   X =-3.237852E+00  -5.626215E-02  -3.055581E+00  -2.049261E+00   6.178731E-01\n",
      "      -9.441216E-01  -1.631880E+00   4.145075E+00   1.995001E+00   4.506761E-01\n",
      "       7.352470E-01  -1.203261E+00\n",
      "\n",
      "   Normal return from subroutine COBYLA\n",
      "\n",
      "   NFVALS =   27   F = 1.065392E+03    MAXCV = 0.000000E+00\n",
      "   X =-2.690994E-02  -9.136777E-01   4.031717E+00  -1.162163E+00   1.695250E+00\n",
      "      -1.862174E+00  -2.675787E+00  -2.563415E-01  -2.876840E+00  -2.364865E-01\n",
      "       2.498791E-01   6.812950E-01\n",
      "\n",
      "   Normal return from subroutine COBYLA\n",
      "\n",
      "   NFVALS =   14   F = 2.248625E+03    MAXCV = 0.000000E+00\n",
      "   X = 1.172060E+00   3.059048E+00  -1.028757E+00   1.747748E+00   2.789536E-01\n",
      "      -1.010737E+00   3.105199E+00   2.941847E+00   1.688262E+00   2.643972E+00\n",
      "       1.264266E+00   1.288248E+00\n",
      "\n",
      "   Normal return from subroutine COBYLA\n",
      "\n",
      "   NFVALS =   27   F = 2.681668E+03    MAXCV = 0.000000E+00\n",
      "   X = 1.609911E+00  -2.192060E+00  -4.214715E+00  -3.350938E+00   3.376632E+00\n",
      "      -1.904002E+00   1.178075E+00   2.616518E+00  -3.842537E-01   2.438358E-01\n",
      "      -1.299994E+00  -9.610381E-03\n",
      "\n",
      "   Normal return from subroutine COBYLA\n",
      "\n",
      "   NFVALS =   24   F = 8.017028E+02    MAXCV = 0.000000E+00\n",
      "   X = 2.973579E+00   1.147727E-01   7.445210E-01   2.768826E-01   3.100085E+00\n",
      "      -1.513596E+00  -6.050801E-02   3.214909E+00  -1.942394E+00  -9.355824E-01\n",
      "       1.767751E+00   2.317697E+00\n",
      "\n",
      "   Normal return from subroutine COBYLA\n",
      "\n",
      "   NFVALS =   25   F = 4.784165E+02    MAXCV = 0.000000E+00\n",
      "   X = 2.457498E+00  -9.004455E-01   3.045521E+00   1.074603E+00  -3.104172E+00\n",
      "      -1.778490E+00  -9.524115E-01  -1.916851E+00  -2.524157E+00  -1.029577E+00\n",
      "       1.664004E+00   1.774382E+00\n",
      "\n",
      "   Normal return from subroutine COBYLA\n",
      "\n",
      "   NFVALS =   18   F = 1.898827E+03    MAXCV = 0.000000E+00\n",
      "   X = 3.316864E+00  -2.908881E+00   1.177031E+00  -1.836786E+00   5.478136E-01\n",
      "      -1.162526E+00  -1.435665E+00  -2.824547E-01   1.038176E+00  -1.356854E+00\n",
      "       1.246351E-01  -9.085424E-01\n",
      "\n",
      "   Normal return from subroutine COBYLA\n",
      "\n",
      "   NFVALS =   35   F = 1.234570E+03    MAXCV = 0.000000E+00\n",
      "   X =-5.086126E-01  -2.472669E+00   3.066763E+00   3.409230E+00  -4.278653E+00\n",
      "      -1.888161E+00   2.730388E+00  -3.215051E+00   3.727663E+00   7.805477E-01\n",
      "      -4.170970E-02   3.163055E+00\n",
      "\n",
      "   Normal return from subroutine COBYLA\n",
      "\n",
      "   NFVALS =   19   F = 2.734767E+03    MAXCV = 0.000000E+00\n",
      "   X = 1.856419E+00   1.340903E+00   2.253566E+00   1.156351E+00   2.711636E+00\n",
      "       1.965280E+00   1.922468E+00   4.083669E+00   2.656366E+00   5.703470E-01\n",
      "      -3.929299E+00  -5.857047E-01\n",
      "\n",
      "   Normal return from subroutine COBYLA\n",
      "\n",
      "   NFVALS =   29   F = 2.404873E+03    MAXCV = 0.000000E+00\n",
      "   X =-5.353887E-01  -2.722504E+00   1.448052E+00   4.685828E+00  -6.108604E-01\n",
      "       1.642590E+00  -1.619210E+00  -2.561053E+00  -2.302285E+00  -1.296269E+00\n",
      "       1.651123E+00   2.146825E+00\n",
      "\n",
      "   Normal return from subroutine COBYLA\n",
      "\n",
      "   NFVALS =   22   F = 3.777587E+03    MAXCV = 0.000000E+00\n",
      "   X = 3.634637E+00   4.995941E-01   2.424393E+00   2.270997E+00  -1.406628E+00\n",
      "       2.487514E+00  -8.754680E-01   2.566544E+00   2.128010E+00   1.867477E+00\n",
      "       1.817014E+00  -6.392617E-01\n",
      "\n",
      "   Normal return from subroutine COBYLA\n",
      "\n",
      "   NFVALS =   30   F = 8.486321E+02    MAXCV = 0.000000E+00\n",
      "   X = 1.459507E-01   4.295148E-01   3.241774E+00   2.961952E+00   1.393089E+00\n",
      "      -2.137165E+00  -1.484946E+00   3.013178E-01  -9.091080E-01  -6.459744E-01\n",
      "       5.883933E-01   9.623946E-01\n",
      "\n",
      "   Normal return from subroutine COBYLA\n",
      "\n",
      "   NFVALS =   22   F = 1.486669E+03    MAXCV = 0.000000E+00\n",
      "   X =-3.022116E+00   3.783294E-01   5.241106E+00   2.308764E+00   1.802834E+00\n",
      "      -6.144627E-01  -2.228267E-01   2.913288E+00   3.043689E-01  -1.115939E+00\n",
      "       7.368829E-01  -2.566762E+00\n",
      "\n",
      "   Normal return from subroutine COBYLA\n",
      "\n",
      "   NFVALS =   15   F = 1.153918E+03    MAXCV = 0.000000E+00\n",
      "   X = 1.465858E+00  -1.194019E+00  -3.710082E-01  -4.824249E-01   3.364497E+00\n",
      "      -2.433479E+00  -1.044410E+00  -2.003010E+00  -7.440242E-01   1.229066E+00\n",
      "       1.370852E+00   2.599702E-01\n",
      "\n",
      "   Normal return from subroutine COBYLA\n",
      "\n",
      "   NFVALS =   19   F = 1.327610E+03    MAXCV = 0.000000E+00\n",
      "   X = 3.615992E+00  -3.367648E+00   2.592280E+00   5.408945E-01  -2.786021E+00\n",
      "       3.294421E+00   2.379661E-01  -1.173060E-01   1.878580E+00   1.020750E+00\n",
      "      -3.188775E+00  -1.711131E+00\n",
      "\n",
      "   Normal return from subroutine COBYLA\n",
      "\n",
      "   NFVALS =   14   F = 2.960190E+03    MAXCV = 0.000000E+00\n",
      "   X = 5.431545E-01   8.149853E-01  -3.012638E+00   7.590091E-01   1.783061E+00\n",
      "       2.060371E+00  -6.337127E-01  -1.119552E+00   1.913829E+00   8.645315E-01\n",
      "       2.473860E+00  -1.163369E+00\n",
      "\n",
      "   Normal return from subroutine COBYLA\n",
      "\n",
      "   NFVALS =   25   F = 1.307825E+03    MAXCV = 0.000000E+00\n",
      "   X = 1.512564E+00   3.271092E+00   7.822682E-02  -3.052374E-01   3.569762E+00\n",
      "       2.800520E+00   1.568504E-02   2.434398E+00   2.860125E+00   1.429897E+00\n",
      "       1.129350E+00   2.817042E+00\n",
      "\n",
      "   Normal return from subroutine COBYLA\n",
      "\n",
      "   NFVALS =   20   F = 1.038972E+02    MAXCV = 0.000000E+00\n",
      "   X = 3.293898E+00   3.106055E+00  -4.695156E-01   1.417937E+00   1.015680E+00\n",
      "       1.470622E+00   3.721896E+00   4.420109E-02   2.774446E+00   1.407570E+00\n",
      "      -2.130688E+00  -1.303927E+00\n",
      "\n",
      "   Normal return from subroutine COBYLA\n",
      "\n",
      "   NFVALS =   35   F = 1.360477E+03    MAXCV = 0.000000E+00\n",
      "   X =-1.964822E+00  -5.941007E-01  -6.758102E-02   2.039382E+00   1.859501E-01\n",
      "      -1.426818E+00   2.590398E+00   5.167959E-02   7.631406E-01   3.376734E+00\n",
      "       7.067536E-01   3.825373E-01\n",
      "\n",
      "   Normal return from subroutine COBYLA\n",
      "\n",
      "   NFVALS =   19   F = 4.279336E+03    MAXCV = 0.000000E+00\n",
      "   X = 1.195396E+00   9.683089E-01   2.147102E+00   1.001292E-01  -2.128680E+00\n",
      "       3.504928E+00   1.095538E+00  -9.223993E-01   1.576734E+00  -2.563412E+00\n",
      "       1.360209E+00   4.436887E-01\n",
      "\n",
      "   Normal return from subroutine COBYLA\n",
      "\n",
      "   NFVALS =   23   F = 1.021562E+03    MAXCV = 0.000000E+00\n",
      "   X = 3.248123E+00  -2.570323E+00   1.622412E+00   2.527785E+00   4.498197E-01\n",
      "      -1.799958E+00  -3.759635E-01   1.192446E+00   2.178199E+00   2.457205E+00\n",
      "       1.173926E+00   2.305077E+00\n",
      "\n",
      "   Normal return from subroutine COBYLA\n",
      "\n",
      "   NFVALS =   15   F = 9.225866E+03    MAXCV = 0.000000E+00\n",
      "   X = 3.940516E+00   3.998318E+00   1.246650E+00  -5.052446E-01  -2.117768E+00\n",
      "       8.395133E-01   1.317452E-01   3.684690E-01   1.662120E+00  -3.385613E-02\n",
      "      -3.019278E+00  -3.362330E-01\n",
      "\n",
      "   Normal return from subroutine COBYLA\n",
      "\n",
      "   NFVALS =   18   F = 1.271775E+03    MAXCV = 0.000000E+00\n",
      "   X =-2.525475E+00  -1.632848E-01   1.467181E-01  -1.629365E+00   3.553349E+00\n",
      "       2.089728E+00   1.171146E+00  -2.382027E+00   1.734451E+00   1.491897E+00\n",
      "       6.924691E-01  -3.056021E-01\n",
      "\n",
      "   Normal return from subroutine COBYLA\n",
      "\n",
      "   NFVALS =   15   F = 2.535221E+03    MAXCV = 0.000000E+00\n",
      "   X =-2.792832E+00   6.924456E-01  -1.113376E+00   1.715502E+00   1.784899E+00\n",
      "      -1.357166E+00   1.862308E-01  -4.159993E+00  -1.074604E+00   2.513612E+00\n",
      "       9.793926E-01  -2.509692E+00\n",
      "\n",
      "   Normal return from subroutine COBYLA\n",
      "\n",
      "   NFVALS =   32   F = 9.975874E+02    MAXCV = 0.000000E+00\n",
      "   X = 1.600060E-01   3.062921E-01   4.875923E-01   2.354246E+00   6.232559E-01\n",
      "       7.414036E-01   1.063644E+00   1.267838E+00   5.184998E+00  -2.634992E+00\n",
      "      -4.316109E+00  -1.630386E+00\n",
      "\n",
      "   Normal return from subroutine COBYLA\n",
      "\n",
      "   NFVALS =   14   F = 2.262488E+03    MAXCV = 0.000000E+00\n",
      "   X = 3.123442E+00   8.851140E-01  -3.536148E-01  -1.956689E+00  -1.859803E+00\n",
      "      -1.151571E+00  -1.650833E+00  -3.378204E+00   1.770404E-01   1.132361E+00\n",
      "       2.745197E+00  -2.469139E+00\n",
      "\n",
      "   Normal return from subroutine COBYLA\n",
      "\n",
      "   NFVALS =   32   F = 1.942191E+03    MAXCV = 0.000000E+00\n",
      "   X =-2.638318E+00   3.565741E+00   4.652769E+00   2.518062E+00  -6.208731E-01\n",
      "       1.462083E+00  -2.687805E+00  -3.663250E-01   6.758605E-01   9.622445E-01\n",
      "       1.897557E+00   2.311823E+00\n",
      "\n",
      "   Normal return from subroutine COBYLA\n",
      "\n",
      "   NFVALS =   14   F = 1.889170E+03    MAXCV = 0.000000E+00\n",
      "   X =-3.431084E+00   1.016164E+00  -2.955086E+00  -2.120034E+00  -1.498993E-01\n",
      "      -1.851640E+00  -9.166364E-02  -2.836234E+00   1.575007E+00  -1.231012E+00\n",
      "       2.724699E+00   2.167323E+00\n",
      "\n",
      "   Normal return from subroutine COBYLA\n",
      "\n",
      "   NFVALS =   14   F = 6.325619E+03    MAXCV = 0.000000E+00\n",
      "   X = 6.648750E-01   2.394873E+00   3.719227E+00  -1.081987E-01  -1.145580E+00\n",
      "       2.245649E-01   1.123561E+00  -1.728606E+00   3.665066E-01   2.171453E+00\n",
      "       1.917160E+00   1.561228E+00\n",
      "\n",
      "   Normal return from subroutine COBYLA\n",
      "\n",
      "   NFVALS =   16   F = 5.609945E+03    MAXCV = 0.000000E+00\n",
      "   X =-2.516691E-01  -9.386154E-01  -1.248055E+00   3.710877E+00  -2.139318E+00\n",
      "       2.778106E+00   2.296872E+00   1.004037E+00   1.823230E+00   8.122553E-02\n",
      "      -1.482478E+00   1.471508E+00\n",
      "\n",
      "   Normal return from subroutine COBYLA\n",
      "\n",
      "   NFVALS =   18   F = 2.335953E+03    MAXCV = 0.000000E+00\n",
      "   X = 2.595539E-01   1.354866E+00  -1.642170E+00   3.376811E+00   2.906927E+00\n",
      "      -4.265824E-01  -2.619584E+00   7.243433E-01   7.924134E-01   1.134266E+00\n",
      "       4.700075E+00   6.150649E-02\n",
      "\n",
      "   Normal return from subroutine COBYLA\n",
      "\n",
      "   NFVALS =   20   F = 1.634467E+03    MAXCV = 0.000000E+00\n",
      "   X = 5.255035E-01   2.006107E+00   3.295464E+00   4.128069E+00   8.901853E-01\n",
      "       1.421991E+00  -1.000335E+00   1.423803E+00  -5.662061E-01   3.481572E+00\n",
      "       2.638321E+00   4.225340E+00\n",
      "\n",
      "   Normal return from subroutine COBYLA\n",
      "\n",
      "   NFVALS =   21   F = 1.533046E+03    MAXCV = 0.000000E+00\n",
      "   X = 5.201136E+00   1.836139E+00  -2.832272E-01   2.333297E+00  -2.376338E-01\n",
      "      -1.817274E-01  -7.313601E-01   1.213988E+00  -2.040670E+00  -1.169875E+00\n",
      "       2.139581E+00  -4.879879E-02\n",
      "\n",
      "   Normal return from subroutine COBYLA\n",
      "\n",
      "   NFVALS =   16   F = 2.368292E+03    MAXCV = 0.000000E+00\n",
      "   X = 3.035364E+00  -8.197735E-02   2.167856E+00  -7.809157E-01   2.709227E+00\n",
      "      -3.071415E-01   8.049948E-01  -2.400642E+00   2.289944E+00   2.344049E+00\n",
      "       1.764545E+00  -2.962215E+00\n",
      "\n",
      "   Normal return from subroutine COBYLA\n",
      "\n",
      "   NFVALS =   14   F = 3.185898E+03    MAXCV = 0.000000E+00\n",
      "   X =-1.032332E-01  -1.337071E+00  -2.157837E-01   6.785243E-02   6.488710E-01\n",
      "       1.467786E+00   3.355244E+00  -1.728710E+00   5.920516E-02   4.558993E-01\n",
      "      -2.869976E+00  -7.696371E-02\n",
      "\n",
      "   Normal return from subroutine COBYLA\n",
      "\n",
      "   NFVALS =   25   F = 2.978805E+03    MAXCV = 0.000000E+00\n",
      "   X = 2.855825E+00   2.020787E+00  -9.731042E-01  -3.278040E-01  -1.095070E+00\n",
      "      -2.944705E-01  -1.160359E+00  -7.776317E-01   1.514039E+00   3.973110E+00\n",
      "      -1.742817E+00   3.545297E-01\n",
      "\n",
      "   Normal return from subroutine COBYLA\n",
      "\n",
      "   NFVALS =   14   F = 1.523212E+03    MAXCV = 0.000000E+00\n",
      "   X = 3.189042E+00  -3.024067E+00  -1.610249E+00  -2.269111E+00  -2.298369E+00\n",
      "       1.858587E+00  -1.554543E+00  -8.559353E-01   1.460275E+00  -1.390430E+00\n",
      "      -1.118416E+00   1.142647E+00\n",
      "\n",
      "   Normal return from subroutine COBYLA\n",
      "\n",
      "   NFVALS =   26   F = 1.503120E+03    MAXCV = 0.000000E+00\n",
      "   X =-7.653503E-01   3.342428E+00  -4.650795E-01   1.234403E+00   4.329221E-01\n",
      "       3.892845E+00   4.356860E+00  -2.795083E+00   7.494789E-01  -2.674809E+00\n",
      "       2.912534E-01   2.212555E+00\n",
      "\n",
      "   Normal return from subroutine COBYLA\n",
      "\n",
      "   NFVALS =   27   F = 1.025761E+03    MAXCV = 0.000000E+00\n",
      "   X =-3.431809E+00  -3.007000E+00  -2.471850E+00  -2.354594E+00   1.570594E-01\n",
      "       1.375179E-01   4.076389E+00   3.558917E-01   2.315736E+00   3.941849E+00\n",
      "      -4.102148E+00  -8.480681E-01\n",
      "\n",
      "   Normal return from subroutine COBYLA\n",
      "\n",
      "   NFVALS =   16   F = 1.469465E+04    MAXCV = 0.000000E+00\n",
      "   X = 8.069987E-01  -1.330960E+00  -1.205587E+00   3.142385E+00  -1.032203E+00\n",
      "      -1.194689E+00   2.408016E+00  -4.932663E-01   2.101721E+00  -2.766603E+00\n",
      "       1.013533E+00  -7.321125E-01\n",
      "\n",
      "   Normal return from subroutine COBYLA\n",
      "\n",
      "   NFVALS =   29   F = 7.810475E+02    MAXCV = 0.000000E+00\n",
      "   X =-9.259954E-01   3.581312E-01   5.669719E-01  -4.468875E-01  -2.619819E+00\n",
      "      -1.763143E+00  -1.788885E+00  -2.676396E-01   1.912790E+00   1.531150E+00\n",
      "       1.761443E+00   1.828213E+00\n",
      "\n",
      "   Normal return from subroutine COBYLA\n",
      "\n",
      "   NFVALS =   14   F = 9.151687E+03    MAXCV = 0.000000E+00\n",
      "   X =-1.816768E+00   2.912911E+00  -9.628105E-01   3.213123E+00  -3.395894E+00\n",
      "      -1.287504E+00  -1.500672E-01   2.466193E+00  -2.127598E+00  -1.271558E+00\n",
      "      -2.364326E+00   2.801995E+00\n",
      "\n",
      "   Normal return from subroutine COBYLA\n",
      "\n",
      "   NFVALS =   26   F = 1.131848E+03    MAXCV = 0.000000E+00\n",
      "   X = 4.173786E-01   1.306803E-01   1.636824E+00  -2.727505E+00   3.522824E+00\n",
      "      -2.053680E+00   2.608909E+00  -9.349744E-01  -1.317600E+00   2.524170E+00\n",
      "       4.666633E+00   2.751094E-01\n",
      "\n",
      "   Normal return from subroutine COBYLA\n",
      "\n",
      "   NFVALS =   14   F = 1.278597E+04    MAXCV = 0.000000E+00\n",
      "   X = 2.309627E+00  -1.879432E+00  -1.742755E+00  -2.019220E+00   3.289513E+00\n",
      "       1.681991E+00   1.829944E+00   9.282953E-01  -2.599141E+00   4.129869E-01\n",
      "       1.039213E+00  -1.277208E+00\n",
      "\n",
      "   Normal return from subroutine COBYLA\n",
      "\n",
      "   NFVALS =   19   F = 1.748986E+02    MAXCV = 0.000000E+00\n",
      "   X = 2.770446E+00   1.895335E-01  -2.970868E+00   8.909983E-01   3.779642E+00\n",
      "       1.332518E+00   8.829143E-02   3.190879E+00  -2.976291E+00  -1.772586E+00\n",
      "       1.367269E+00  -8.135549E-02\n",
      "\n",
      "   Normal return from subroutine COBYLA\n",
      "\n",
      "   NFVALS =   31   F = 2.340143E+03    MAXCV = 0.000000E+00\n",
      "   X = 2.250248E+00   9.496685E-01   2.819047E+00  -1.679725E+00   1.538964E-01\n",
      "      -3.455918E-01   4.776536E+00   1.729130E+00   2.059890E+00   1.197058E+00\n",
      "       1.115905E+00   4.375828E-01\n",
      "\n",
      "   Normal return from subroutine COBYLA\n",
      "\n",
      "   NFVALS =   29   F = 8.548582E+01    MAXCV = 0.000000E+00\n",
      "   X = 4.163534E-01   3.180246E+00  -3.888321E-01   2.757154E+00  -9.861479E-02\n",
      "       4.133311E+00   3.429259E+00  -3.177937E+00   2.672671E+00   3.324906E+00\n",
      "       1.391568E+00   1.060677E+00\n",
      "\n",
      "   Normal return from subroutine COBYLA\n",
      "\n",
      "   NFVALS =   22   F = 3.237291E+03    MAXCV = 0.000000E+00\n",
      "   X =-1.886687E+00  -1.542928E+00   2.500794E+00   2.778057E+00  -1.401416E+00\n",
      "      -1.853478E+00  -1.782903E+00   7.146927E-01  -8.642053E-01  -3.010242E-01\n",
      "      -3.249242E+00  -6.411171E-01\n",
      "\n",
      "   Normal return from subroutine COBYLA\n",
      "\n",
      "   NFVALS =   26   F = 1.281235E+03    MAXCV = 0.000000E+00\n",
      "   X =-3.056221E+00   3.564721E+00   1.929310E+00   1.940151E+00   7.520245E-03\n",
      "      -2.432459E+00   4.276281E+00   6.207322E-01   2.918607E-01   2.520414E+00\n",
      "       1.244920E+00   2.817893E+00\n",
      "\n",
      "   Normal return from subroutine COBYLA\n",
      "\n",
      "   NFVALS =   26   F = 2.076571E+03    MAXCV = 0.000000E+00\n",
      "   X = 2.512216E+00  -2.259275E-01  -1.455625E+00  -7.534674E-01  -2.248693E+00\n",
      "       1.451526E+00  -1.297554E-01   1.932539E+00   4.155044E+00  -9.031738E-01\n",
      "       7.250808E-03   2.244611E+00\n",
      "\n",
      "   Normal return from subroutine COBYLA\n",
      "\n",
      "   NFVALS =   14   F = 9.991984E+03    MAXCV = 0.000000E+00\n",
      "   X = 1.065770E+00   2.185663E+00   1.575480E+00   3.778407E+00  -6.023062E-01\n",
      "      -2.617045E+00  -1.774666E+00  -6.099046E-01   2.759496E+00   1.799638E+00\n",
      "       9.243997E-01  -1.142167E+00\n",
      "\n",
      "   Normal return from subroutine COBYLA\n",
      "\n",
      "   NFVALS =   14   F = 2.564083E+03    MAXCV = 0.000000E+00\n",
      "   X =-5.492530E-01  -8.374146E-01   2.930990E+00  -2.437845E+00   2.873172E+00\n",
      "      -1.951502E+00  -5.549368E-01   3.874219E-01  -3.317018E+00  -4.776372E-01\n",
      "      -7.624249E-02   1.100066E+00\n",
      "\n",
      "   Normal return from subroutine COBYLA\n",
      "\n",
      "   NFVALS =   34   F = 3.222369E+03    MAXCV = 0.000000E+00\n",
      "   X = 2.584924E+00  -1.257027E+00  -3.314908E+00  -1.972248E+00   7.810756E-01\n",
      "       1.362124E+00   3.888269E+00   1.940302E+00   7.982561E-01   2.000213E+00\n",
      "       1.682839E+00   2.849608E+00\n",
      "\n",
      "   Normal return from subroutine COBYLA\n",
      "\n",
      "   NFVALS =   27   F = 2.712701E+03    MAXCV = 0.000000E+00\n",
      "   X =-1.345213E+00  -6.199428E-02  -1.899140E-01   1.584959E+00  -3.411016E-01\n",
      "      -1.753020E+00   1.233928E+00   1.355313E+00   1.941716E-01   2.008325E+00\n",
      "      -9.800401E-01   4.862748E-01\n",
      "\n",
      "   Normal return from subroutine COBYLA\n",
      "\n",
      "   NFVALS =   14   F = 1.786244E+03    MAXCV = 0.000000E+00\n",
      "   X =-4.161818E-02   1.907176E+00  -1.650746E+00   1.005342E+00   9.792085E-01\n",
      "       1.212886E+00  -2.548887E+00   2.024179E+00  -2.299217E-02  -1.031581E+00\n",
      "      -1.624497E+00   3.920772E+00\n",
      "\n",
      "   Normal return from subroutine COBYLA\n",
      "\n",
      "   NFVALS =   29   F = 7.330651E+02    MAXCV = 0.000000E+00\n",
      "   X =-3.635671E-01  -5.722298E-01  -1.224876E-01   2.152629E+00   1.807700E-01\n",
      "      -5.911573E-01   1.882903E+00   1.252720E+00  -3.054028E-01   1.588216E-01\n",
      "       2.193859E+00   9.880207E-01\n",
      "\n",
      "   Normal return from subroutine COBYLA\n",
      "\n",
      "   NFVALS =   31   F = 7.246350E+02    MAXCV = 0.000000E+00\n",
      "   X = 3.527804E+00   6.017995E-01   2.525883E+00  -1.174256E+00   5.628856E-01\n",
      "       1.944830E+00  -3.426950E-01  -2.480209E+00   1.386665E+00  -2.207355E+00\n",
      "      -2.127789E+00  -4.798618E-02\n",
      "\n",
      "   Normal return from subroutine COBYLA\n",
      "\n",
      "   NFVALS =   26   F = 3.223745E+03    MAXCV = 0.000000E+00\n",
      "   X = 5.089986E+00   3.238684E+00  -1.196077E+00   5.924321E-01   1.240228E-01\n",
      "      -2.541132E+00   4.397796E+00   2.041797E+00   2.985919E+00   1.160782E+00\n",
      "      -2.111773E+00  -8.581204E-01\n",
      "\n",
      "   Normal return from subroutine COBYLA\n",
      "\n",
      "   NFVALS =   17   F = 5.052829E+03    MAXCV = 0.000000E+00\n",
      "   X = 3.139209E+00   1.021445E+00  -4.269702E-01   4.208436E+00  -2.113397E+00\n",
      "       2.912986E+00   2.323634E+00   2.609311E+00   1.641476E+00   1.681044E+00\n",
      "      -1.634099E+00   2.354751E+00\n",
      "\n",
      "   Normal return from subroutine COBYLA\n",
      "\n",
      "   NFVALS =   15   F = 1.763805E+03    MAXCV = 0.000000E+00\n",
      "   X =-2.713255E+00  -5.118617E-01  -1.322433E+00  -2.736409E+00  -1.882974E+00\n",
      "       2.463431E+00   1.319135E+00  -2.319410E+00  -3.655854E-01   5.148751E-01\n",
      "       6.636821E-02   1.505535E+00\n",
      "\n",
      "   Normal return from subroutine COBYLA\n",
      "\n",
      "   NFVALS =   26   F = 1.959103E+03    MAXCV = 0.000000E+00\n",
      "   X = 2.160415E+00   1.537431E-01   1.087285E+00   1.925704E+00   4.090873E-01\n",
      "      -2.777080E+00  -4.083291E-01  -3.354533E+00   2.310298E+00  -2.724651E-01\n",
      "       2.702868E+00  -1.268808E+00\n",
      "\n",
      "   Normal return from subroutine COBYLA\n",
      "\n",
      "   NFVALS =   20   F = 8.647767E+02    MAXCV = 0.000000E+00\n",
      "   X = 2.881403E+00  -2.747812E+00   5.292162E-01   9.971014E-01   3.876375E-01\n",
      "       2.970664E+00   1.210058E-01   3.041428E-01   1.198054E+00   2.672331E+00\n",
      "      -8.882658E-01   1.498952E+00\n",
      "\n",
      "   Normal return from subroutine COBYLA\n",
      "\n",
      "   NFVALS =   17   F = 4.049690E+03    MAXCV = 0.000000E+00\n",
      "   X =-5.170745E-01   1.538647E+00   2.606863E+00   1.517193E+00   3.689075E-01\n",
      "      -2.579190E+00   3.420374E+00   1.763650E+00  -7.448317E-01  -8.446566E-01\n",
      "      -2.442586E+00   7.611650E-01\n",
      "\n",
      "   Normal return from subroutine COBYLA\n",
      "\n",
      "   NFVALS =   16   F = 1.162549E+03    MAXCV = 0.000000E+00\n",
      "   X = 2.673587E+00   2.442299E+00   4.005687E+00  -2.552819E+00   3.601008E-01\n",
      "      -8.790345E-01  -1.443737E+00  -8.639242E-01   2.113747E+00  -2.284506E+00\n",
      "       1.825147E+00   2.348505E+00\n",
      "\n",
      "   Normal return from subroutine COBYLA\n",
      "\n",
      "   NFVALS =   35   F = 3.444538E+03    MAXCV = 0.000000E+00\n",
      "   X =-1.674920E+00   3.101758E+00   6.641202E-01   1.355842E+00   3.046564E+00\n",
      "       2.893002E+00   6.753100E-01  -1.323591E+00  -1.625246E+00   2.318083E+00\n",
      "       8.839356E-01  -1.207996E+00\n",
      "\n",
      "   Normal return from subroutine COBYLA\n",
      "\n",
      "   NFVALS =   27   F = 3.328179E+02    MAXCV = 0.000000E+00\n",
      "   X = 3.497758E+00  -2.859021E+00   8.831592E-02   2.227779E+00  -2.790440E-01\n",
      "       4.458797E+00  -1.125887E+00  -2.117580E-01   3.542253E-01  -8.612981E-01\n",
      "       2.378203E+00   2.863807E+00\n",
      "\n",
      "   Normal return from subroutine COBYLA\n",
      "\n",
      "   NFVALS =   18   F = 9.034694E+02    MAXCV = 0.000000E+00\n",
      "   X = 5.728827E-02  -6.411983E-01  -8.145646E-02  -1.137172E+00   3.843341E+00\n",
      "       2.353999E+00   3.212979E+00   7.193884E-01   1.020016E+00  -4.369531E-01\n",
      "       6.400162E-01   3.573457E+00\n",
      "\n",
      "   Normal return from subroutine COBYLA\n",
      "\n",
      "   NFVALS =   16   F = 5.984065E+03    MAXCV = 0.000000E+00\n",
      "   X = 3.914168E+00   2.216941E+00   1.737005E+00   1.433240E+00  -5.853552E-01\n",
      "       8.859981E-01  -3.350482E-02   1.879315E+00   1.599175E+00  -1.196775E+00\n",
      "       2.901301E+00   8.285347E-01\n",
      "\n",
      "   Normal return from subroutine COBYLA\n",
      "\n",
      "   NFVALS =   25   F = 1.076814E+03    MAXCV = 0.000000E+00\n",
      "   X =-6.347788E-01  -1.912538E+00   2.146949E+00   2.130718E+00   3.190026E+00\n",
      "       2.030506E+00   1.807521E+00  -1.583704E+00  -1.380967E+00  -2.757493E-01\n",
      "      -2.131243E+00   3.269009E-01\n",
      "\n",
      "   Normal return from subroutine COBYLA\n",
      "\n",
      "   NFVALS =   14   F = 1.559639E+03    MAXCV = 0.000000E+00\n",
      "   X =-2.830579E+00  -1.527143E-02   6.593965E-01  -2.139106E+00   2.182871E+00\n",
      "      -1.332179E+00   4.777216E-01  -2.805880E+00   3.067281E+00  -1.253825E+00\n",
      "      -1.446502E+00   1.663889E+00\n",
      "\n",
      "   Normal return from subroutine COBYLA\n",
      "\n",
      "   NFVALS =   25   F = 6.015458E+03    MAXCV = 0.000000E+00\n",
      "   X =-5.466866E-01  -2.053698E+00   2.128880E+00  -2.866340E+00   1.648076E-02\n",
      "       2.089344E+00   3.253657E+00  -1.482804E+00   2.675387E+00  -3.728492E-02\n",
      "       5.119125E-01  -2.445256E-01\n",
      "\n",
      "   Normal return from subroutine COBYLA\n",
      "\n",
      "   NFVALS =   16   F = 2.605067E+03    MAXCV = 0.000000E+00\n",
      "   X = 4.190607E+00   3.379473E+00   5.870515E-01   2.224452E+00  -3.433309E-01\n",
      "       2.704406E+00   1.780484E-01  -1.210884E+00   2.378555E+00   2.179514E+00\n",
      "       2.262453E+00   3.611084E+00\n",
      "\n",
      "   Normal return from subroutine COBYLA\n",
      "\n",
      "   NFVALS =   32   F = 3.561825E+02    MAXCV = 0.000000E+00\n",
      "   X = 3.354866E+00   2.971179E+00  -3.977449E-01  -1.672138E-01  -2.744552E+00\n",
      "       4.576069E+00   3.915161E+00  -4.497976E-02   1.845450E+00   2.551985E+00\n",
      "       2.140679E+00  -9.390369E-01\n",
      "\n",
      "   Normal return from subroutine COBYLA\n",
      "\n",
      "   NFVALS =   29   F = 1.739510E+03    MAXCV = 0.000000E+00\n",
      "   X = 2.709721E+00   5.034245E-01  -1.481449E+00  -1.230927E+00   1.905984E-01\n",
      "       5.217973E-02   4.853732E-01  -3.116295E+00  -3.211266E-01   7.416142E-01\n",
      "       5.592680E-01   2.597427E-01\n",
      "\n",
      "   Normal return from subroutine COBYLA\n",
      "\n",
      "   NFVALS =   14   F = 2.981853E+03    MAXCV = 0.000000E+00\n",
      "   X = 6.135302E-01   5.751971E-01   2.686480E+00   1.864814E+00   3.928171E-02\n",
      "      -8.225812E-01   1.453149E-02  -1.167367E-01  -2.895196E+00   1.593166E+00\n",
      "       9.089314E-01  -9.267673E-02\n",
      "\n",
      "   Normal return from subroutine COBYLA\n",
      "\n",
      "   NFVALS =   17   F = 1.901466E+03    MAXCV = 0.000000E+00\n",
      "   X = 8.838710E-02  -4.206927E-01   7.606079E-01   2.838250E-01   1.469458E-01\n",
      "      -6.280844E-01   2.996499E+00  -1.365752E-01  -3.009096E+00  -1.439010E+00\n",
      "       1.101601E+00   1.690398E+00\n",
      "\n",
      "   Normal return from subroutine COBYLA\n",
      "\n",
      "   NFVALS =   28   F = 6.242764E+02    MAXCV = 0.000000E+00\n",
      "   X = 3.073010E+00   1.366867E+00  -3.013234E+00  -5.769540E-01   8.475915E-02\n",
      "       8.249918E-02  -1.295342E-01  -1.883490E+00   8.776776E-01  -1.927425E+00\n",
      "      -1.948855E+00   3.417198E+00\n",
      "\n",
      "   Normal return from subroutine COBYLA\n",
      "\n",
      "   NFVALS =   30   F = 2.620734E+03    MAXCV = 0.000000E+00\n",
      "   X = 1.868564E+00   2.084789E+00  -2.096847E+00  -2.013419E+00  -8.817422E-01\n",
      "      -1.835721E+00  -2.801969E-01  -1.807181E+00   2.863273E+00  -2.381868E+00\n",
      "       3.773471E+00   2.521107E+00\n",
      "\n",
      "   Normal return from subroutine COBYLA\n",
      "\n",
      "   NFVALS =   33   F = 1.744147E+02    MAXCV = 0.000000E+00\n",
      "   X =-3.694417E+00   3.186635E+00   1.666579E-01   3.701895E+00   2.768741E+00\n",
      "       3.393764E+00   1.464305E+00  -7.572664E-03   3.309239E+00   3.759447E+00\n",
      "      -1.334099E+00   2.966525E-01\n",
      "\n",
      "   Normal return from subroutine COBYLA\n",
      "\n",
      "   NFVALS =   30   F = 1.919932E+03    MAXCV = 0.000000E+00\n",
      "   X = 5.738983E-01   9.860107E-01  -1.447692E+00  -4.882643E-01  -1.384173E+00\n",
      "       1.784398E+00   1.505500E+00   6.679510E-01  -2.235721E+00   1.031953E+00\n",
      "       5.450661E-01   3.004215E+00\n",
      "\n",
      "   Normal return from subroutine COBYLA\n",
      "\n",
      "   NFVALS =   27   F = 6.955935E+02    MAXCV = 0.000000E+00\n",
      "   X =-1.989269E+00   2.462614E-01  -3.338467E-01  -2.785591E+00   3.571774E+00\n",
      "       2.160118E+00   4.491389E+00   2.586961E+00   1.410662E-01   3.285682E+00\n",
      "      -1.287694E+00  -7.779647E-02\n",
      "\n",
      "   Normal return from subroutine COBYLA\n",
      "\n",
      "   NFVALS =   14   F = 2.270828E+03    MAXCV = 0.000000E+00\n",
      "   X =-1.547496E+00  -5.108522E-01  -9.958397E-01  -1.858424E-01  -3.312557E+00\n",
      "      -1.109332E+00  -2.211773E+00   2.652988E+00   3.838950E-01   1.429130E+00\n",
      "       1.154800E+00   2.019649E+00\n",
      "\n",
      "   Normal return from subroutine COBYLA\n",
      "\n",
      "   NFVALS =   22   F = 2.602392E+03    MAXCV = 0.000000E+00\n",
      "   X = 1.802847E+00   1.130951E-01   3.133351E+00   1.411345E+00  -3.030894E+00\n",
      "      -1.489017E+00  -1.287103E+00  -1.318644E+00  -8.234836E-01  -1.113795E+00\n",
      "       1.682635E+00   1.924187E+00\n",
      "\n",
      "   Normal return from subroutine COBYLA\n",
      "\n",
      "   NFVALS =   29   F = 1.989827E+03    MAXCV = 0.000000E+00\n",
      "   X =-3.770450E+00  -3.619565E+00   1.214819E+00  -1.099215E+00   2.808549E+00\n",
      "      -9.994423E-01   2.249206E+00   6.126481E-02   3.336818E+00  -3.257677E-01\n",
      "       3.165503E-01   3.073471E+00\n",
      "\n",
      "   Normal return from subroutine COBYLA\n",
      "\n",
      "   NFVALS =   20   F = 1.468680E+03    MAXCV = 0.000000E+00\n",
      "   X = 3.071312E+00   2.834261E+00  -6.800222E-01   5.157156E-01   6.692893E-01\n",
      "       5.054345E-01  -8.193074E-01   1.741696E-01   1.799107E+00   9.239382E-01\n",
      "       2.650984E+00   1.609574E+00\n",
      "\n",
      "   Normal return from subroutine COBYLA\n",
      "\n",
      "   NFVALS =   26   F = 1.462747E+03    MAXCV = 0.000000E+00\n",
      "   X =-1.842421E-01  -6.376250E-01  -3.239864E+00  -1.398646E+00  -6.451996E-01\n",
      "      -2.204702E+00   3.072228E+00   1.593667E+00   1.945790E+00   2.719860E+00\n",
      "      -2.559921E+00   2.636678E+00\n"
     ]
    }
   ],
   "source": [
    "data = [] \n",
    "\n",
    "for i in range(0,100):\n",
    "    result = vqe.compute_minimum_eigenvalue(obsAHOHAM)\n",
    "    data.append(result.eigenvalue.real)"
   ]
  },
  {
   "cell_type": "code",
   "execution_count": 31,
   "metadata": {},
   "outputs": [
    {
     "data": {
      "image/png": "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\n",
      "text/plain": [
       "<Figure size 432x288 with 1 Axes>"
      ]
     },
     "metadata": {
      "needs_background": "light"
     },
     "output_type": "display_data"
    },
    {
     "name": "stdout",
     "output_type": "stream",
     "text": [
      "85.48581761660635\n"
     ]
    }
   ],
   "source": [
    "import numpy as np\n",
    "import matplotlib.pyplot as plt\n",
    "\n",
    "n, bins, patches = plt.hist(data)\n",
    "plt.show()\n",
    "print(min(data))"
   ]
  },
  {
   "cell_type": "code",
   "execution_count": 32,
   "metadata": {},
   "outputs": [
    {
     "data": {
      "image/png": "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\n",
      "text/plain": [
       "<Figure size 432x288 with 1 Axes>"
      ]
     },
     "metadata": {
      "needs_background": "light"
     },
     "output_type": "display_data"
    },
    {
     "name": "stdout",
     "output_type": "stream",
     "text": [
      "85.48581761660635\n"
     ]
    }
   ],
   "source": [
    "n, bins, patches = plt.hist([i for i in data if i<1.0])\n",
    "plt.show()\n",
    "print(min(data))"
   ]
  },
  {
   "cell_type": "code",
   "execution_count": 33,
   "metadata": {},
   "outputs": [
    {
     "data": {
      "text/plain": [
       "array([ 85.48581762, 103.89720496, 174.41470918, 174.89856734,\n",
       "       213.42903171, 332.81794058, 356.1825381 , 367.05870914,\n",
       "       417.67832056, 478.4165371 ])"
      ]
     },
     "execution_count": 33,
     "metadata": {},
     "output_type": "execute_result"
    }
   ],
   "source": [
    "np.sort(data)[0:10]"
   ]
  },
  {
   "cell_type": "markdown",
   "metadata": {},
   "source": [
    "## DW"
   ]
  },
  {
   "cell_type": "code",
   "execution_count": null,
   "metadata": {},
   "outputs": [],
   "source": []
  },
  {
   "cell_type": "code",
   "execution_count": 31,
   "metadata": {},
   "outputs": [],
   "source": [
    "h_b_DW = 0.5*(p*p + (m*q + g*(q*q + mu*mu))**2)\n",
    "h_f_DW = -0.5*(m+2*g*q)#[bdag,b]"
   ]
  },
  {
   "cell_type": "code",
   "execution_count": 32,
   "metadata": {},
   "outputs": [
    {
     "data": {
      "text/plain": [
       "array([ 0.91503687,  0.95899787,  3.21053807,  3.29031775,  7.00690424,\n",
       "        7.12497247, 21.36752081, 25.12571192])"
      ]
     },
     "execution_count": 32,
     "metadata": {},
     "output_type": "execute_result"
    }
   ],
   "source": [
    "hamDW = Hamiltonian(h_b_DW, h_f_DW, {m: 1, g:1, mu: 1},\n",
    "                    2**2, standard_encode)\n",
    "\n",
    "np.sort(np.linalg.eig(np.array(hamDW.hamMatrix,dtype=float))[0])[0:10]"
   ]
  },
  {
   "cell_type": "code",
   "execution_count": 33,
   "metadata": {},
   "outputs": [
    {
     "data": {
      "text/plain": [
       "array([ 0.89308263,  0.89398305,  2.7445775 ,  2.75305657,  4.94585242,\n",
       "        5.14085855,  8.30667934,  8.70004802, 13.31161275, 14.50467148])"
      ]
     },
     "execution_count": 33,
     "metadata": {},
     "output_type": "execute_result"
    }
   ],
   "source": [
    "hamDW = Hamiltonian(h_b_DW, h_f_DW, {m: 1, g:1, mu: 1},\n",
    "                    2**3, standard_encode)\n",
    "\n",
    "np.sort(np.linalg.eig(np.array(hamDW.hamMatrix,dtype=float))[0])[0:10]"
   ]
  },
  {
   "cell_type": "code",
   "execution_count": 34,
   "metadata": {},
   "outputs": [
    {
     "data": {
      "text/plain": [
       "array([0.89163849, 0.8916501 , 2.73421059, 2.73432506, 4.84645895,\n",
       "       4.84793798, 7.18775479, 7.19586103, 9.75001443, 9.77982411])"
      ]
     },
     "execution_count": 34,
     "metadata": {},
     "output_type": "execute_result"
    }
   ],
   "source": [
    "hamDW = Hamiltonian(h_b_DW, h_f_DW, {m: 1, g:1, mu: 1},\n",
    "                    2**4, standard_encode)\n",
    "\n",
    "np.sort(np.linalg.eig(np.array(hamDW.hamMatrix,dtype=float))[0])[0:10]"
   ]
  },
  {
   "cell_type": "code",
   "execution_count": 35,
   "metadata": {},
   "outputs": [
    {
     "name": "stdout",
     "output_type": "stream",
     "text": [
      "2 & 1.08e+00 & 1.08e+00 \\\\ \n",
      "4 & 9.15e-01 & 9.15e-01 \\\\ \n",
      "8 & 8.93e-01 & 8.93e-01 \\\\ \n",
      "16 & 8.92e-01 & 8.94e-01 \\\\ \n",
      "32 & 8.92e-01 & 8.95e-01 \\\\ \n",
      "\n"
     ]
    }
   ],
   "source": [
    "dw_data=fill_vqe_dict(h_b_DW,h_f_DW, {m:1, g:1, mu: 1},[2**i for i in range(1,6)])\n",
    "print(latex_vqe_table(dw_data))"
   ]
  },
  {
   "cell_type": "code",
   "execution_count": 24,
   "metadata": {},
   "outputs": [
    {
     "data": {
      "text/plain": [
       "(0.9150368745234885+0j)"
      ]
     },
     "execution_count": 24,
     "metadata": {},
     "output_type": "execute_result"
    }
   ],
   "source": [
    "min(np.linalg.eig(getMatrix(hamDW.pauliStrings))[0])"
   ]
  },
  {
   "cell_type": "code",
   "execution_count": 36,
   "metadata": {},
   "outputs": [
    {
     "name": "stdout",
     "output_type": "stream",
     "text": [
      "(1.0951884052605132+0j)\n"
     ]
    }
   ],
   "source": [
    "from src.qiskit_utilities import *\n",
    "\n",
    "obsDWHAM = pauli_string_to_op(hamDW.pauliStrings)\n",
    "\n",
    "result = vqe.compute_minimum_eigenvalue(obsDWHAM)\n",
    "print(result.eigenvalue)"
   ]
  },
  {
   "cell_type": "code",
   "execution_count": 65,
   "metadata": {},
   "outputs": [
    {
     "data": {
      "text/plain": [
       "array([0.89163849, 0.8916501 , 2.73421059, 2.73432506, 4.84645895,\n",
       "       4.84793798, 7.18775479, 7.19586103, 9.75001443, 9.77982411])"
      ]
     },
     "execution_count": 65,
     "metadata": {},
     "output_type": "execute_result"
    }
   ],
   "source": []
  },
  {
   "cell_type": "code",
   "execution_count": 57,
   "metadata": {},
   "outputs": [],
   "source": [
    "data = [] \n",
    "\n",
    "for i in range(0,200):\n",
    "    result = vqe.compute_minimum_eigenvalue(obsDWHAM)\n",
    "    data.append(result.eigenvalue.real)"
   ]
  },
  {
   "cell_type": "code",
   "execution_count": 58,
   "metadata": {},
   "outputs": [
    {
     "data": {
      "image/png": "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\n",
      "text/plain": [
       "<Figure size 432x288 with 1 Axes>"
      ]
     },
     "metadata": {
      "needs_background": "light"
     },
     "output_type": "display_data"
    },
    {
     "name": "stdout",
     "output_type": "stream",
     "text": [
      "0.8933244311073774\n"
     ]
    }
   ],
   "source": [
    "import numpy as np\n",
    "import matplotlib.pyplot as plt\n",
    "\n",
    "n, bins, patches = plt.hist(data)\n",
    "plt.show()\n",
    "print(min(data))"
   ]
  },
  {
   "cell_type": "code",
   "execution_count": 60,
   "metadata": {},
   "outputs": [
    {
     "data": {
      "image/png": "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\n",
      "text/plain": [
       "<Figure size 432x288 with 1 Axes>"
      ]
     },
     "metadata": {
      "needs_background": "light"
     },
     "output_type": "display_data"
    }
   ],
   "source": [
    "n, bins, patches = plt.hist([i for i in data if i<1.0])\n",
    "plt.show()"
   ]
  },
  {
   "cell_type": "code",
   "execution_count": 26,
   "metadata": {},
   "outputs": [
    {
     "name": "stderr",
     "output_type": "stream",
     "text": [
      "<ipython-input-26-57588e3914d0>:1: DeprecationWarning: \n",
      "The VQE.get_optimal_vector method is deprecated as of Qiskit Terra 0.18.0\n",
      "and will be removed no sooner than 3 months after the releasedate.\n",
      "This information is part of the returned result object and can be\n",
      "queried as VQEResult.eigenvector.\n",
      "  ovec=vqe.get_optimal_vector()\n"
     ]
    }
   ],
   "source": [
    "ovec=vqe.get_optimal_vector()"
   ]
  },
  {
   "cell_type": "code",
   "execution_count": 27,
   "metadata": {},
   "outputs": [
    {
     "data": {
      "text/plain": [
       "{'000': 2.3286164616435062e-07,\n",
       " '001': 0.9308631200954977,\n",
       " '010': 3.3489621537576535e-09,\n",
       " '011': 0.02522975095438438,\n",
       " '100': 1.0025483874937313e-08,\n",
       " '101': 0.040498411502067,\n",
       " '110': 5.983480190999407e-10,\n",
       " '111': 0.0034084706136112606}"
      ]
     },
     "execution_count": 27,
     "metadata": {},
     "output_type": "execute_result"
    }
   ],
   "source": [
    "svec=qiskit.quantum_info.Statevector(ovec)\n",
    "svec.probabilities_dict()"
   ]
  },
  {
   "cell_type": "code",
   "execution_count": 28,
   "metadata": {},
   "outputs": [
    {
     "name": "stdout",
     "output_type": "stream",
     "text": [
      "(0.9150373521469856+0j)\n"
     ]
    },
    {
     "data": {
      "text/plain": [
       "{'000': 8.073637819672949e-07,\n",
       " '001': 0.9308282553503109,\n",
       " '010': 2.4662794928827658e-08,\n",
       " '011': 0.02524028592482414,\n",
       " '100': 3.5224547571854214e-08,\n",
       " '101': 0.04051712341810499,\n",
       " '110': 3.184555735469795e-09,\n",
       " '111': 0.003413464871079842}"
      ]
     },
     "execution_count": 28,
     "metadata": {},
     "output_type": "execute_result"
    }
   ],
   "source": [
    "result = vqe.compute_minimum_eigenvalue(obsDWHAM)\n",
    "print(result.eigenvalue)\n",
    "ovec=vqe.get_optimal_vector()\n",
    "svec=qiskit.quantum_info.Statevector(ovec)\n",
    "svec.probabilities_dict()"
   ]
  },
  {
   "cell_type": "code",
   "execution_count": 29,
   "metadata": {},
   "outputs": [
    {
     "name": "stdout",
     "output_type": "stream",
     "text": [
      "(0.9150566236540667+0j)\n"
     ]
    },
    {
     "data": {
      "text/plain": [
       "{'000': 6.001019895139936e-06,\n",
       " '001': 0.9308511027232788,\n",
       " '010': 3.8342875630128493e-07,\n",
       " '011': 0.025242013339559208,\n",
       " '100': 1.5863500285475468e-07,\n",
       " '101': 0.04049166268451669,\n",
       " '110': 2.0833487661717596e-07,\n",
       " '111': 0.0034084698341147234}"
      ]
     },
     "execution_count": 29,
     "metadata": {},
     "output_type": "execute_result"
    }
   ],
   "source": [
    "result = vqe.compute_minimum_eigenvalue(obsDWHAM)\n",
    "print(result.eigenvalue)\n",
    "ovec=vqe.get_optimal_vector()\n",
    "svec=qiskit.quantum_info.Statevector(ovec)\n",
    "svec.probabilities_dict()"
   ]
  },
  {
   "cell_type": "code",
   "execution_count": 30,
   "metadata": {},
   "outputs": [
    {
     "name": "stdout",
     "output_type": "stream",
     "text": [
      "(0.958999598759493+0j)\n"
     ]
    },
    {
     "data": {
      "text/plain": [
       "{'000': 0.6831652668751452,\n",
       " '001': 1.368271064476127e-06,\n",
       " '010': 0.006877669383093812,\n",
       " '011': 7.380283086148149e-09,\n",
       " '100': 0.3062737829086776,\n",
       " '101': 6.60748695841144e-07,\n",
       " '110': 0.0036811159798478157,\n",
       " '111': 1.284531923240483e-07}"
      ]
     },
     "execution_count": 30,
     "metadata": {},
     "output_type": "execute_result"
    }
   ],
   "source": [
    "result = vqe.compute_minimum_eigenvalue(obsDWHAM)\n",
    "print(result.eigenvalue)\n",
    "ovec=vqe.get_optimal_vector()\n",
    "svec=qiskit.quantum_info.Statevector(ovec)\n",
    "svec.probabilities_dict()"
   ]
  },
  {
   "cell_type": "code",
   "execution_count": 31,
   "metadata": {},
   "outputs": [
    {
     "name": "stdout",
     "output_type": "stream",
     "text": [
      "\n",
      "==================== Setting of VQE ============================\n",
      "Algorithm: VQE\n",
      "-- quantum_instance: \n",
      "Qiskit Terra version: 0.18.3\n",
      "Backend: 'statevector_simulator (AerProvider)', with following setting:\n",
      "{'basis_gates': ['ccx', 'cp', 'cswap', 'csx', 'cu', 'cu1', 'cu2', 'cu3', 'cx', 'cy', 'cz', 'delay', 'diagonal', 'h', 'id', 'initialize', 'mcp', 'mcphase', 'mcr', 'mcrx', 'mcry', 'mcrz', 'mcswap', 'mcsx', 'mcu', 'mcu1', 'mcu2', 'mcu3', 'mcx', 'mcy', 'mcz', 'multiplexer', 'p', 'pauli', 'r', 'rx', 'rxx', 'ry', 'ryy', 'rz', 'rzx', 'rzz', 's', 'sdg', 'swap', 'sx', 'sxdg', 't', 'tdg', 'u', 'u1', 'u2', 'u3', 'unitary', 'x', 'y', 'z', 'kraus', 'roerror', 'save_amplitudes', 'save_amplitudes_sq', 'save_density_matrix', 'save_expval', 'save_probs', 'save_probs_ket', 'save_state', 'save_statevector', 'set_statevector'], 'coupling_map': None}\n",
      "{'initial_layout': None, 'seed_transpiler': 2, 'optimization_level': None}\n",
      "RunConfig(shots=1, max_credits=10, seed_simulator=2)\n",
      "{'timeout': None}\n",
      "{}\n",
      "{}\n",
      "Measurement mitigation: None\n",
      "-- optimizer: <qiskit.algorithms.optimizers.cobyla.COBYLA object at 0x7faf7253dcd0>\n",
      "-- gradient: None\n",
      "-- cost_fn: None\n",
      "-- initial_point: Random seed\n",
      "-- ansatz:      ┌──────────┐          ┌──────────┐            \n",
      "q_0: ┤ Ry(θ[0]) ├──■────■──┤ Ry(θ[3]) ├────────────\n",
      "     ├──────────┤┌─┴─┐  │  └──────────┘┌──────────┐\n",
      "q_1: ┤ Ry(θ[1]) ├┤ X ├──┼───────■──────┤ Ry(θ[4]) ├\n",
      "     ├──────────┤└───┘┌─┴─┐   ┌─┴─┐    ├──────────┤\n",
      "q_2: ┤ Ry(θ[2]) ├─────┤ X ├───┤ X ├────┤ Ry(θ[5]) ├\n",
      "     └──────────┘     └───┘   └───┘    └──────────┘\n",
      "-- ansatz_params: [ParameterVectorElement(θ[0]), ParameterVectorElement(θ[1]), ParameterVectorElement(θ[2]), ParameterVectorElement(θ[3]), ParameterVectorElement(θ[4]), ParameterVectorElement(θ[5])]\n",
      "-- parameterized_circuits: None\n",
      "-- max_evals_grouped: 1\n",
      "-- circuit_sampler: <qiskit.opflow.converters.circuit_sampler.CircuitSampler object at 0x7faf7253da00>\n",
      "-- expectation: None\n",
      "-- include_custom: False\n",
      "-- sort_parameters_by_name: None\n",
      "-- eval_time: None\n",
      "-- eval_count: 1000\n",
      "-- callback: None\n",
      "-- ret: {   'aux_operator_eigenvalues': None,\n",
      "    'cost_function_evals': 1000,\n",
      "    'eigenstate': array([ 8.26538122e-01+0.j, -1.16973119e-03+0.j,  8.29317152e-02+0.j,\n",
      "       -8.59085740e-05+0.j, -5.53420078e-01+0.j,  8.12864500e-04+0.j,\n",
      "        6.06722010e-02+0.j, -3.58403672e-04+0.j]),\n",
      "    'eigenvalue': (0.958999598759493+0j),\n",
      "    'optimal_parameters': {   ParameterVectorElement(θ[4]): 1.8050825093129117,\n",
      "                              ParameterVectorElement(θ[0]): -0.0021986071625412296,\n",
      "                              ParameterVectorElement(θ[1]): 1.7306965163833978,\n",
      "                              ParameterVectorElement(θ[2]): -1.3749757622534793,\n",
      "                              ParameterVectorElement(θ[3]): -0.005020186890304459,\n",
      "                              ParameterVectorElement(θ[5]): 0.4292752038504001},\n",
      "    'optimal_point': array([-0.00219861,  1.73069652, -1.37497576, -0.00502019,  1.80508251,\n",
      "        0.4292752 ]),\n",
      "    'optimal_value': 0.958999598759493,\n",
      "    'optimizer_evals': None,\n",
      "    'optimizer_time': 5.046642303466797}\n",
      "===============================================================\n",
      "     ┌────────────────────────────────────────────────┐\n",
      "q_0: ┤0                                               ├\n",
      "     │                                                │\n",
      "q_1: ┤1 RealAmplitudes(θ[0],θ[1],θ[2],θ[3],θ[4],θ[5]) ├\n",
      "     │                                                │\n",
      "q_2: ┤2                                               ├\n",
      "     └────────────────────────────────────────────────┘===============================================================\n",
      "Optimizer: COBYLA\n",
      "-- method: cobyla\n",
      "-- bounds_support_level: 1\n",
      "-- gradient_support_level: 1\n",
      "-- initial_point_support_level: 3\n",
      "-- options: {'maxiter': 1000, 'disp': False, 'rhobeg': 1.0}\n",
      "-- max_evals_grouped: 1\n",
      "-- kwargs: {'tol': None}\n",
      "===============================================================\n",
      "\n"
     ]
    }
   ],
   "source": [
    "print(vqe.print_settings())"
   ]
  },
  {
   "cell_type": "code",
   "execution_count": 32,
   "metadata": {},
   "outputs": [],
   "source": [
    "data = [] \n",
    "\n",
    "for i in range(0,200):\n",
    "    result = vqe.compute_minimum_eigenvalue(obsDWHAM)\n",
    "    data.append(result.eigenvalue.real)"
   ]
  },
  {
   "cell_type": "code",
   "execution_count": 33,
   "metadata": {},
   "outputs": [
    {
     "data": {
      "text/plain": [
       "[0.9589996842592351,\n",
       " 0.9589988550070294,\n",
       " 0.9150370916020274,\n",
       " 0.9589989543256704,\n",
       " 0.9152321873255256,\n",
       " 0.9589991589509848,\n",
       " 0.9589982205992242,\n",
       " 0.9589985314152216,\n",
       " 0.9150379485320339,\n",
       " 0.9150397645492373,\n",
       " 0.9589985749241112,\n",
       " 0.9158879994116654,\n",
       " 0.9196171357118081,\n",
       " 0.9150371928680866,\n",
       " 0.9150374735974568,\n",
       " 0.9150371155432887,\n",
       " 0.958998772041119,\n",
       " 0.923974233456068,\n",
       " 0.9590022358243386,\n",
       " 0.9589989446678718,\n",
       " 0.9150370486600578,\n",
       " 0.9593796210321132,\n",
       " 0.915037165210093,\n",
       " 0.9150372564778442,\n",
       " 0.9150372463868378,\n",
       " 0.9150370163915896,\n",
       " 0.9589991227268344,\n",
       " 0.923984548301175,\n",
       " 0.9150369895711731,\n",
       " 0.9223103532396554,\n",
       " 0.915037690589132,\n",
       " 0.9606013401634718,\n",
       " 0.9589985323432968,\n",
       " 0.9589981893331796,\n",
       " 0.9150371242220745,\n",
       " 0.9589980926236715,\n",
       " 0.9621209472673024,\n",
       " 0.9150369659502577,\n",
       " 0.9150372312947825,\n",
       " 0.9177030741769233,\n",
       " 0.9589982519213868,\n",
       " 0.9589983816871387,\n",
       " 0.9150370677977978,\n",
       " 0.959000926208387,\n",
       " 0.9150376453154834,\n",
       " 0.9980125537138819,\n",
       " 0.9150370964766137,\n",
       " 0.9179232779207932,\n",
       " 0.9150370028922283,\n",
       " 0.916662563054307,\n",
       " 0.9150374563300244,\n",
       " 0.9150984082354977,\n",
       " 0.958998077243716,\n",
       " 0.9594067074019184,\n",
       " 0.9234677022693634,\n",
       " 0.9150371518449092,\n",
       " 0.9150371352262954,\n",
       " 0.958998388474854,\n",
       " 0.9589981351196009,\n",
       " 0.9207431095306184,\n",
       " 0.9589991893588357,\n",
       " 0.9589986556585184,\n",
       " 0.9216171718888957,\n",
       " 0.958999355130872,\n",
       " 0.9231327163000747,\n",
       " 0.9239797203926857,\n",
       " 0.9152513653768459,\n",
       " 0.915036973102849,\n",
       " 0.9150379089881934,\n",
       " 0.9150372232414068,\n",
       " 0.9214160055397731,\n",
       " 0.9150375127003073,\n",
       " 0.9228086941588699,\n",
       " 0.9151306813847946,\n",
       " 0.9589984670369361,\n",
       " 0.9239691852878285,\n",
       " 0.9589980106621179,\n",
       " 0.9589982053439764,\n",
       " 0.9589985022877721,\n",
       " 0.9589987822818365,\n",
       " 0.9589980980472471,\n",
       " 0.9150370357973578,\n",
       " 0.9150370870224267,\n",
       " 0.9589982197418495,\n",
       " 0.915037269849363,\n",
       " 0.9211973629524621,\n",
       " 0.958998325026225,\n",
       " 0.9179045604418279,\n",
       " 0.9150376017206499,\n",
       " 0.9589992325697371,\n",
       " 0.9150372168277261,\n",
       " 0.9589986122900688,\n",
       " 0.9589982679244023,\n",
       " 0.9233767025988164,\n",
       " 0.9156752221188853,\n",
       " 0.9150369938828329,\n",
       " 0.9589987033139775,\n",
       " 0.9150372322101886,\n",
       " 0.9589993070657372,\n",
       " 0.9589984924802032,\n",
       " 0.9150370362418387,\n",
       " 0.9227962664134481,\n",
       " 0.9589992787028857,\n",
       " 0.9589983292372984,\n",
       " 0.9589993421655941,\n",
       " 0.9151268094687284,\n",
       " 0.9241157803937076,\n",
       " 0.958999592230535,\n",
       " 0.9589994059369726,\n",
       " 0.9150507500471172,\n",
       " 0.9589994760626627,\n",
       " 0.9150378150251217,\n",
       " 0.9230342942824603,\n",
       " 0.9590008015454958,\n",
       " 0.9589987001806116,\n",
       " 0.9589989101995913,\n",
       " 0.9589985542833117,\n",
       " 0.9200042646230615,\n",
       " 0.9150564323134132,\n",
       " 0.9589993869755364,\n",
       " 0.9239150030750961,\n",
       " 0.9590006150365793,\n",
       " 0.9150371580968015,\n",
       " 0.915037084543125,\n",
       " 0.9589988308849542,\n",
       " 0.9589985970351038,\n",
       " 0.9161414394761396,\n",
       " 0.9589986392486861,\n",
       " 0.9150399689768645,\n",
       " 0.9150369802202691,\n",
       " 0.915037666109471,\n",
       " 0.9150373900055093,\n",
       " 0.9150372111813287,\n",
       " 0.915251824457427,\n",
       " 0.915037164481938,\n",
       " 0.9150370937418862,\n",
       " 0.915037574267756,\n",
       " 0.9150373004220866,\n",
       " 0.9150373314145599,\n",
       " 0.9589985422330827,\n",
       " 0.9150371510092427,\n",
       " 0.9176591708695808,\n",
       " 0.9153282684797076,\n",
       " 0.9150371444713423,\n",
       " 0.9150370659702513,\n",
       " 0.9150372468362356,\n",
       " 0.9166100359827102,\n",
       " 0.915036956775371,\n",
       " 0.915037473180685,\n",
       " 0.9589993259917544,\n",
       " 0.9589983628040162,\n",
       " 0.9590003480791991,\n",
       " 0.9589986303331184,\n",
       " 0.9589984252467021,\n",
       " 0.9150376748558825,\n",
       " 0.9150369708027932,\n",
       " 0.9218400985500176,\n",
       " 0.9169882535516262,\n",
       " 0.9150376541315899,\n",
       " 0.9193451223502092,\n",
       " 0.9150373300703107,\n",
       " 0.9589980963854561,\n",
       " 0.958999287923235,\n",
       " 0.9589994487413631,\n",
       " 0.9150369757456852,\n",
       " 0.9174226374778317,\n",
       " 0.9590012967920247,\n",
       " 0.9150370275229022,\n",
       " 0.915037028503712,\n",
       " 0.9150370941022827,\n",
       " 0.9150373265376122,\n",
       " 0.9590096533185806,\n",
       " 0.9589984372757842,\n",
       " 0.9589985475156565,\n",
       " 0.9589983247787557,\n",
       " 0.959077161682007,\n",
       " 0.9150369956500725,\n",
       " 0.9589982127611157,\n",
       " 0.915037223694942,\n",
       " 0.9589985689277605,\n",
       " 0.915037422870792,\n",
       " 0.9150370778049978,\n",
       " 0.9150371337721006,\n",
       " 0.9589991976672806,\n",
       " 0.9589995899367557,\n",
       " 0.9180895523783983,\n",
       " 0.9589985402553178,\n",
       " 0.9150370947029898,\n",
       " 0.9590029946221078,\n",
       " 0.9150370715529538,\n",
       " 0.9150369493765619,\n",
       " 0.9150371496452586,\n",
       " 0.9183539295151673,\n",
       " 0.9150369228297213,\n",
       " 0.9163920422059413,\n",
       " 0.9156741828605205,\n",
       " 0.9589982059568485,\n",
       " 0.9150373537131737,\n",
       " 0.9589980903901555,\n",
       " 0.9150370828123534]"
      ]
     },
     "execution_count": 33,
     "metadata": {},
     "output_type": "execute_result"
    }
   ],
   "source": [
    "data"
   ]
  },
  {
   "cell_type": "code",
   "execution_count": 34,
   "metadata": {},
   "outputs": [
    {
     "data": {
      "image/png": "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\n",
      "text/plain": [
       "<Figure size 432x288 with 1 Axes>"
      ]
     },
     "metadata": {
      "needs_background": "light"
     },
     "output_type": "display_data"
    }
   ],
   "source": [
    "import numpy as np\n",
    "import matplotlib.pyplot as plt\n",
    "\n",
    "n, bins, patches = plt.hist(data, 4)\n",
    "plt.show()"
   ]
  },
  {
   "cell_type": "code",
   "execution_count": null,
   "metadata": {},
   "outputs": [],
   "source": []
  }
 ],
 "metadata": {
  "kernelspec": {
   "display_name": "Python 3",
   "language": "python",
   "name": "python3"
  },
  "language_info": {
   "codemirror_mode": {
    "name": "ipython",
    "version": 3
   },
   "file_extension": ".py",
   "mimetype": "text/x-python",
   "name": "python",
   "nbconvert_exporter": "python",
   "pygments_lexer": "ipython3",
   "version": "3.9.1"
  }
 },
 "nbformat": 4,
 "nbformat_minor": 4
}
