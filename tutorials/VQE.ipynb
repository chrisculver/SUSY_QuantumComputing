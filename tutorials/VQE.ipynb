{
 "cells": [
  {
   "cell_type": "code",
   "execution_count": 27,
   "metadata": {},
   "outputs": [],
   "source": [
    "# first we define the simulator and setup a quantum instance\n",
    "import qiskit\n",
    "from qiskit import Aer\n",
    "from qiskit.utils import QuantumInstance\n",
    "\n",
    "backend = Aer.get_backend('statevector_simulator')\n",
    "qinstance = QuantumInstance(backend, seed_simulator=2, seed_transpiler=2)"
   ]
  },
  {
   "cell_type": "code",
   "execution_count": 28,
   "metadata": {},
   "outputs": [
    {
     "data": {
      "text/html": [
       "<pre style=\"word-wrap: normal;white-space: pre;background: #fff0;line-height: 1.1;font-family: &quot;Courier New&quot;,Courier,monospace\">     ┌──────────────────────────────────────┐\n",
       "q_0: ┤0                                     ├\n",
       "     │  RealAmplitudes(θ[0],θ[1],θ[2],θ[3]) │\n",
       "q_1: ┤1                                     ├\n",
       "     └──────────────────────────────────────┘</pre>"
      ],
      "text/plain": [
       "     ┌──────────────────────────────────────┐\n",
       "q_0: ┤0                                     ├\n",
       "     │  RealAmplitudes(θ[0],θ[1],θ[2],θ[3]) │\n",
       "q_1: ┤1                                     ├\n",
       "     └──────────────────────────────────────┘"
      ]
     },
     "execution_count": 28,
     "metadata": {},
     "output_type": "execute_result"
    }
   ],
   "source": [
    "# then we setup our ansatz for the wavefunction\n",
    "\n",
    "from qiskit.circuit.library import RealAmplitudes\n",
    "\n",
    "ansatz = RealAmplitudes(2, reps=1)\n",
    "ansatz.draw()"
   ]
  },
  {
   "cell_type": "code",
   "execution_count": 29,
   "metadata": {},
   "outputs": [],
   "source": [
    "# now we have to define the observable we want the minimum eigenvalue of\n",
    "from qiskit.opflow import X,Y,Z,I\n",
    "\n",
    "observable = Z^I"
   ]
  },
  {
   "cell_type": "code",
   "execution_count": 30,
   "metadata": {},
   "outputs": [],
   "source": [
    "# set-up the vqe algorithm, with an optimizer and wave function\n",
    "from qiskit.algorithms import VQE\n",
    "from qiskit.algorithms.optimizers import COBYLA\n",
    "\n",
    "vqe = VQE(ansatz=ansatz, optimizer=COBYLA(), quantum_instance=qinstance)"
   ]
  },
  {
   "cell_type": "code",
   "execution_count": 31,
   "metadata": {},
   "outputs": [
    {
     "name": "stdout",
     "output_type": "stream",
     "text": [
      "(-0.9999999952504491+0j)\n"
     ]
    }
   ],
   "source": [
    "# we could run this for many observables\n",
    "result = vqe.compute_minimum_eigenvalue(observable)\n",
    "print(result.eigenvalue)"
   ]
  },
  {
   "cell_type": "code",
   "execution_count": null,
   "metadata": {},
   "outputs": [],
   "source": []
  },
  {
   "cell_type": "code",
   "execution_count": 32,
   "metadata": {},
   "outputs": [
    {
     "name": "stdout",
     "output_type": "stream",
     "text": [
      "0j\n"
     ]
    }
   ],
   "source": [
    "# now we have to define the observable we want the minimum eigenvalue of\n",
    "from qiskit.opflow import X,Y,Z,I,H\n",
    "\n",
    "observable = Y^I\n",
    "\n",
    "result = vqe.compute_minimum_eigenvalue(observable)\n",
    "print(result.eigenvalue)"
   ]
  },
  {
   "cell_type": "markdown",
   "metadata": {},
   "source": [
    "## Lets try it for the HO, should get eigenvalue 0"
   ]
  },
  {
   "cell_type": "code",
   "execution_count": 37,
   "metadata": {},
   "outputs": [],
   "source": [
    "import sys\n",
    "sys.path.append('..')\n",
    "from src.sympy_utilities import *\n",
    "from src.BinaryEncodings import *\n",
    "from src.MatrixToPauliString import *\n",
    "from src.qiskit_utilities import *"
   ]
  },
  {
   "cell_type": "code",
   "execution_count": 39,
   "metadata": {},
   "outputs": [],
   "source": [
    "h_b_HO = 0.5*(p*p + m*m*q*q)\n",
    "h_f_HO = -0.5*m#[bdag,b]\n",
    "\n",
    "powersof2=[2**n for n in range(1,3)]\n",
    "\n",
    "HOhams = []\n",
    "for n in powersof2:\n",
    "    HOhams.append({'n': n, 'ham': Hamiltonian(h_b_HO, h_f_HO, {m:1, g:1},\n",
    "                  n, standard_encode)})"
   ]
  },
  {
   "cell_type": "code",
   "execution_count": 42,
   "metadata": {},
   "outputs": [],
   "source": [
    "for sys in HOhams:\n",
    "    obsHOHAM = pauli_string_to_op(sys['ham'].pauliStrings)\n",
    "    result = vqe.compute_minimum_eigenvalue(obsHOHAM)\n",
    "    #print(result.eigenvalue)\n",
    "    sys['vqe']=result.eigenvalue\n",
    "    \n",
    "    eigSys = np.linalg.eig(np.array(sys['ham'].hamMatrix,dtype=float))\n",
    "    eigVals = [en.real for en in eigSys[0]]    \n",
    "    sys['exact']=np.min(np.sort(eigVals))"
   ]
  },
  {
   "cell_type": "code",
   "execution_count": 41,
   "metadata": {},
   "outputs": [],
   "source": [
    "#ovec=vqe.get_optimal_vector()\n",
    "#svec=qiskit.quantum_info.Statevector(ovec)\n",
    "#svec.probabilities_dict()\n",
    "\n",
    "# this will be deprecated soon"
   ]
  },
  {
   "cell_type": "code",
   "execution_count": 45,
   "metadata": {},
   "outputs": [],
   "source": [
    "def fill_vqe_dict(h_b,h_f,params,sizes):\n",
    "    res = []\n",
    "    for n in sizes:\n",
    "        res.append({'n': n, 'ham': Hamiltonian(h_b, h_f, params, n, standard_encode)})\n",
    "        \n",
    "    for sys in res:\n",
    "        ham = pauli_string_to_op(sys['ham'].pauliStrings)\n",
    "        result = vqe.compute_minimum_eigenvalue(ham)\n",
    "        #print(result.eigenvalue)\n",
    "        sys['vqe']=result.eigenvalue\n",
    "    \n",
    "        eigSys = np.linalg.eig(np.array(sys['ham'].hamMatrix,dtype=float))\n",
    "        eigVals = [en.real for en in eigSys[0]]    \n",
    "        sys['exact']=np.min(np.sort(eigVals))\n",
    "        \n",
    "    return res"
   ]
  },
  {
   "cell_type": "code",
   "execution_count": 82,
   "metadata": {},
   "outputs": [],
   "source": [
    "def latex_vqe_table(data):\n",
    "    s=''\n",
    "    for d in data:\n",
    "        s+=\"{} & {:.2e} & {:.2e} \\\\\\\\ \\n\".format(d['n'],d['exact'],d['vqe'].real)\n",
    "    return s"
   ]
  },
  {
   "cell_type": "code",
   "execution_count": 76,
   "metadata": {},
   "outputs": [
    {
     "name": "stdout",
     "output_type": "stream",
     "text": [
      "2 & 0.0 & 4.12e-09 \\\\ \n",
      "4 & 0.0 & 1.93e-08 \\\\ \n",
      "8 & 0.0 & 3.98e-08 \\\\ \n",
      "16 & 0.0 & 6.97e-05 \\\\ \n",
      "32 & 0.0 & 1.83e-07 \\\\ \n",
      "\n"
     ]
    }
   ],
   "source": [
    "ho_data=fill_vqe_dict(h_b_HO,h_f_HO,{m:1, g:1},[2**i for i in range(1,6)])\n",
    "print(latex_vqe_table(ho_data))"
   ]
  },
  {
   "cell_type": "markdown",
   "metadata": {},
   "source": [
    "## AHO"
   ]
  },
  {
   "cell_type": "code",
   "execution_count": null,
   "metadata": {},
   "outputs": [],
   "source": []
  },
  {
   "cell_type": "code",
   "execution_count": 77,
   "metadata": {},
   "outputs": [],
   "source": [
    "h_b_AHO = 0.5*(p*p) + 0.5*(m*q+g*q**3)**2\n",
    "h_f_AHO = -0.5*(m+3*g*q*q)#[bdag,b]\n",
    "\n",
    "hamAHO = Hamiltonian(h_b_AHO, h_f_AHO, {m: 1, g:1},\n",
    "                    2**4, standard_encode)"
   ]
  },
  {
   "cell_type": "code",
   "execution_count": 83,
   "metadata": {},
   "outputs": [
    {
     "name": "stdout",
     "output_type": "stream",
     "text": [
      "2 & 9.38e-01 & 9.38e-01 \\\\ \n",
      "4 & 1.27e-01 & 1.27e-01 \\\\ \n",
      "8 & 2.93e-02 & 1.08e+00 \\\\ \n",
      "16 & 1.83e-03 & 2.40e-01 \\\\ \n",
      "32 & 1.83e-05 & 2.13e+00 \\\\ \n",
      "\n"
     ]
    }
   ],
   "source": [
    "ho_data=fill_vqe_dict(h_b_AHO,h_f_AHO, {m:1, g:1},[2**i for i in range(1,6)])\n",
    "print(latex_vqe_table(ho_data))"
   ]
  },
  {
   "cell_type": "code",
   "execution_count": 21,
   "metadata": {},
   "outputs": [
    {
     "data": {
      "text/plain": [
       "(0.0018302984872818303+0j)"
      ]
     },
     "execution_count": 21,
     "metadata": {},
     "output_type": "execute_result"
    }
   ],
   "source": [
    "min(np.linalg.eig(getMatrix(hamAHO.pauliStrings))[0])"
   ]
  },
  {
   "cell_type": "code",
   "execution_count": 22,
   "metadata": {},
   "outputs": [
    {
     "name": "stdout",
     "output_type": "stream",
     "text": [
      "(5.717540576783264+0j)\n"
     ]
    }
   ],
   "source": [
    "from src.qiskit_utilities import *\n",
    "\n",
    "obsAHOHAM = pauli_string_to_op(hamAHO.pauliStrings)\n",
    "\n",
    "result = vqe.compute_minimum_eigenvalue(obsAHOHAM)\n",
    "print(result.eigenvalue)"
   ]
  },
  {
   "cell_type": "code",
   "execution_count": 23,
   "metadata": {},
   "outputs": [
    {
     "name": "stdout",
     "output_type": "stream",
     "text": [
      "(1.7823959804797105+0j)\n"
     ]
    }
   ],
   "source": [
    "result = vqe.compute_minimum_eigenvalue(obsAHOHAM)\n",
    "print(result.eigenvalue)"
   ]
  },
  {
   "cell_type": "code",
   "execution_count": 24,
   "metadata": {},
   "outputs": [
    {
     "name": "stdout",
     "output_type": "stream",
     "text": [
      "(0.46061797090306666+0j)\n"
     ]
    }
   ],
   "source": [
    "result = vqe.compute_minimum_eigenvalue(obsAHOHAM)\n",
    "print(result.eigenvalue)"
   ]
  },
  {
   "cell_type": "code",
   "execution_count": 25,
   "metadata": {},
   "outputs": [
    {
     "name": "stdout",
     "output_type": "stream",
     "text": [
      "(0.2604758894901644+0j)\n"
     ]
    }
   ],
   "source": [
    "result = vqe.compute_minimum_eigenvalue(obsAHOHAM)\n",
    "print(result.eigenvalue)"
   ]
  },
  {
   "cell_type": "code",
   "execution_count": 26,
   "metadata": {},
   "outputs": [
    {
     "name": "stdout",
     "output_type": "stream",
     "text": [
      "(0.6076569982337852+0j)\n"
     ]
    }
   ],
   "source": [
    "result = vqe.compute_minimum_eigenvalue(obsAHOHAM)\n",
    "print(result.eigenvalue)"
   ]
  },
  {
   "cell_type": "markdown",
   "metadata": {},
   "source": [
    "## DW"
   ]
  },
  {
   "cell_type": "code",
   "execution_count": null,
   "metadata": {},
   "outputs": [],
   "source": []
  },
  {
   "cell_type": "code",
   "execution_count": 80,
   "metadata": {},
   "outputs": [],
   "source": [
    "h_b_DW = 0.5*(p*p + (m*q + g*(q*q + mu*mu))**2)\n",
    "h_f_DW = -0.5*(m+2*g*q)#[bdag,b]\n",
    "\n",
    "hamDW = Hamiltonian(h_b_DW, h_f_DW, {m: 1, g:1, mu: 1},\n",
    "                    2**2, standard_encode)\n",
    "\n",
    "#print(hamDW.pauliStrings)"
   ]
  },
  {
   "cell_type": "code",
   "execution_count": 84,
   "metadata": {},
   "outputs": [
    {
     "name": "stdout",
     "output_type": "stream",
     "text": [
      "2 & 1.08e+00 & 1.09e+00 \\\\ \n",
      "4 & 9.15e-01 & 9.22e-01 \\\\ \n",
      "8 & 8.93e-01 & 1.09e+00 \\\\ \n",
      "16 & 8.92e-01 & 9.16e-01 \\\\ \n",
      "32 & 8.92e-01 & 1.42e+00 \\\\ \n",
      "\n"
     ]
    }
   ],
   "source": [
    "dw_data=fill_vqe_dict(h_b_DW,h_f_DW, {m:1, g:1, mu: 1},[2**i for i in range(1,6)])\n",
    "print(latex_vqe_table(dw_data))"
   ]
  },
  {
   "cell_type": "code",
   "execution_count": 30,
   "metadata": {},
   "outputs": [
    {
     "data": {
      "text/plain": [
       "(0.9150368745234885+0j)"
      ]
     },
     "execution_count": 30,
     "metadata": {},
     "output_type": "execute_result"
    }
   ],
   "source": [
    "min(np.linalg.eig(getMatrix(hamDW.pauliStrings))[0])"
   ]
  },
  {
   "cell_type": "code",
   "execution_count": 31,
   "metadata": {},
   "outputs": [
    {
     "name": "stdout",
     "output_type": "stream",
     "text": [
      "(0.915037296459897+0j)\n"
     ]
    }
   ],
   "source": [
    "from src.qiskit_utilities import *\n",
    "\n",
    "obsDWHAM = pauli_string_to_op(hamDW.pauliStrings)\n",
    "\n",
    "result = vqe.compute_minimum_eigenvalue(obsDWHAM)\n",
    "print(result.eigenvalue)"
   ]
  },
  {
   "cell_type": "code",
   "execution_count": 32,
   "metadata": {},
   "outputs": [],
   "source": [
    "ovec=vqe.get_optimal_vector()"
   ]
  },
  {
   "cell_type": "code",
   "execution_count": 33,
   "metadata": {},
   "outputs": [
    {
     "data": {
      "text/plain": [
       "{'000': 1.6851770587149615e-07,\n",
       " '001': 0.9308262658622767,\n",
       " '010': 7.115680083669937e-08,\n",
       " '011': 0.025261628623459716,\n",
       " '100': 7.4165052265467824e-09,\n",
       " '101': 0.04050070625065358,\n",
       " '110': 9.033805859605173e-09,\n",
       " '111': 0.0034111431387918206}"
      ]
     },
     "execution_count": 33,
     "metadata": {},
     "output_type": "execute_result"
    }
   ],
   "source": [
    "svec=qiskit.quantum_info.Statevector(ovec)\n",
    "svec.probabilities_dict()"
   ]
  },
  {
   "cell_type": "code",
   "execution_count": 34,
   "metadata": {},
   "outputs": [
    {
     "name": "stdout",
     "output_type": "stream",
     "text": [
      "(0.9206455004985781+0j)\n"
     ]
    },
    {
     "data": {
      "text/plain": [
       "{'000': 3.510296758507209e-05,\n",
       " '001': 0.9359124930005759,\n",
       " '010': 8.660287945231982e-05,\n",
       " '011': 0.024408791219270174,\n",
       " '100': 4.984918495570127e-07,\n",
       " '101': 0.037678633089239105,\n",
       " '110': 0.00020085632684951814,\n",
       " '111': 0.0016770220251785344}"
      ]
     },
     "execution_count": 34,
     "metadata": {},
     "output_type": "execute_result"
    }
   ],
   "source": [
    "result = vqe.compute_minimum_eigenvalue(obsDWHAM)\n",
    "print(result.eigenvalue)\n",
    "ovec=vqe.get_optimal_vector()\n",
    "svec=qiskit.quantum_info.Statevector(ovec)\n",
    "svec.probabilities_dict()"
   ]
  },
  {
   "cell_type": "code",
   "execution_count": 35,
   "metadata": {},
   "outputs": [
    {
     "name": "stdout",
     "output_type": "stream",
     "text": [
      "(0.9589992066493376+0j)\n"
     ]
    },
    {
     "data": {
      "text/plain": [
       "{'000': 0.6831570462413757,\n",
       " '001': 2.1135121239124224e-06,\n",
       " '010': 0.006899942929110987,\n",
       " '011': 3.932323398314501e-09,\n",
       " '100': 0.3062609338241454,\n",
       " '101': 1.023794112824085e-06,\n",
       " '110': 0.0036788224329998907,\n",
       " '111': 1.1333380760274167e-07}"
      ]
     },
     "execution_count": 35,
     "metadata": {},
     "output_type": "execute_result"
    }
   ],
   "source": [
    "result = vqe.compute_minimum_eigenvalue(obsDWHAM)\n",
    "print(result.eigenvalue)\n",
    "ovec=vqe.get_optimal_vector()\n",
    "svec=qiskit.quantum_info.Statevector(ovec)\n",
    "svec.probabilities_dict()"
   ]
  },
  {
   "cell_type": "code",
   "execution_count": 36,
   "metadata": {},
   "outputs": [
    {
     "name": "stdout",
     "output_type": "stream",
     "text": [
      "(0.9150370021665823+0j)\n"
     ]
    },
    {
     "data": {
      "text/plain": [
       "{'000': 2.0736637925922718e-07,\n",
       " '001': 0.9308565450047819,\n",
       " '010': 5.602672209934858e-09,\n",
       " '011': 0.025240901106253842,\n",
       " '100': 9.019836473924021e-09,\n",
       " '101': 0.040492490510343544,\n",
       " '110': 7.580236389794535e-10,\n",
       " '111': 0.0034098406317088726}"
      ]
     },
     "execution_count": 36,
     "metadata": {},
     "output_type": "execute_result"
    }
   ],
   "source": [
    "result = vqe.compute_minimum_eigenvalue(obsDWHAM)\n",
    "print(result.eigenvalue)\n",
    "ovec=vqe.get_optimal_vector()\n",
    "svec=qiskit.quantum_info.Statevector(ovec)\n",
    "svec.probabilities_dict()"
   ]
  },
  {
   "cell_type": "code",
   "execution_count": 38,
   "metadata": {},
   "outputs": [
    {
     "name": "stdout",
     "output_type": "stream",
     "text": [
      "\n",
      "==================== Setting of VQE ============================\n",
      "Algorithm: VQE\n",
      "-- quantum_instance: \n",
      "Qiskit Terra version: 0.18.3\n",
      "Backend: 'statevector_simulator (AerProvider)', with following setting:\n",
      "{'basis_gates': ['ccx', 'cp', 'cswap', 'csx', 'cu', 'cu1', 'cu2', 'cu3', 'cx', 'cy', 'cz', 'delay', 'diagonal', 'h', 'id', 'initialize', 'mcp', 'mcphase', 'mcr', 'mcrx', 'mcry', 'mcrz', 'mcswap', 'mcsx', 'mcu', 'mcu1', 'mcu2', 'mcu3', 'mcx', 'mcy', 'mcz', 'multiplexer', 'p', 'pauli', 'r', 'rx', 'rxx', 'ry', 'ryy', 'rz', 'rzx', 'rzz', 's', 'sdg', 'swap', 'sx', 'sxdg', 't', 'tdg', 'u', 'u1', 'u2', 'u3', 'unitary', 'x', 'y', 'z', 'kraus', 'roerror', 'save_amplitudes', 'save_amplitudes_sq', 'save_density_matrix', 'save_expval', 'save_probs', 'save_probs_ket', 'save_state', 'save_statevector', 'set_statevector'], 'coupling_map': None}\n",
      "{'initial_layout': None, 'seed_transpiler': 2, 'optimization_level': None}\n",
      "RunConfig(shots=1, max_credits=10, seed_simulator=2)\n",
      "{'timeout': None}\n",
      "{}\n",
      "{}\n",
      "Measurement mitigation: None\n",
      "-- optimizer: <qiskit.algorithms.optimizers.cobyla.COBYLA object at 0x7f5956399cd0>\n",
      "-- gradient: None\n",
      "-- cost_fn: None\n",
      "-- initial_point: Random seed\n",
      "-- ansatz:      ┌──────────┐          ┌──────────┐            \n",
      "q_0: ┤ Ry(θ[0]) ├──■────■──┤ Ry(θ[3]) ├────────────\n",
      "     ├──────────┤┌─┴─┐  │  └──────────┘┌──────────┐\n",
      "q_1: ┤ Ry(θ[1]) ├┤ X ├──┼───────■──────┤ Ry(θ[4]) ├\n",
      "     ├──────────┤└───┘┌─┴─┐   ┌─┴─┐    ├──────────┤\n",
      "q_2: ┤ Ry(θ[2]) ├─────┤ X ├───┤ X ├────┤ Ry(θ[5]) ├\n",
      "     └──────────┘     └───┘   └───┘    └──────────┘\n",
      "-- ansatz_params: [ParameterVectorElement(θ[0]), ParameterVectorElement(θ[1]), ParameterVectorElement(θ[2]), ParameterVectorElement(θ[3]), ParameterVectorElement(θ[4]), ParameterVectorElement(θ[5])]\n",
      "-- parameterized_circuits: None\n",
      "-- max_evals_grouped: 1\n",
      "-- circuit_sampler: <qiskit.opflow.converters.circuit_sampler.CircuitSampler object at 0x7f59b878fee0>\n",
      "-- expectation: None\n",
      "-- include_custom: False\n",
      "-- sort_parameters_by_name: None\n",
      "-- eval_time: None\n",
      "-- eval_count: 347\n",
      "-- callback: None\n",
      "-- ret: {   'aux_operator_eigenvalues': None,\n",
      "    'cost_function_evals': 347,\n",
      "    'eigenstate': array([-4.55374988e-04+0.j, -9.64809072e-01+0.j,  7.48510001e-05+0.j,\n",
      "        1.58873853e-01+0.j,  9.49728197e-05+0.j,  2.01227460e-01+0.j,\n",
      "       -2.75322291e-05+0.j, -5.83938407e-02+0.j]),\n",
      "    'eigenvalue': (0.9150370021665823+0j),\n",
      "    'optimal_parameters': {   ParameterVectorElement(θ[5]): 0.871566607013866,\n",
      "                              ParameterVectorElement(θ[4]): 2.972885126720215,\n",
      "                              ParameterVectorElement(θ[0]): 3.1415929294852307,\n",
      "                              ParameterVectorElement(θ[1]): -0.17494780434684126,\n",
      "                              ParameterVectorElement(θ[2]): -1.2869880049707327,\n",
      "                              ParameterVectorElement(θ[3]): -0.0009439675158314994},\n",
      "    'optimal_point': array([ 3.14159293e+00, -1.74947804e-01, -1.28698800e+00, -9.43967516e-04,\n",
      "        2.97288513e+00,  8.71566607e-01]),\n",
      "    'optimal_value': 0.9150370021665823,\n",
      "    'optimizer_evals': None,\n",
      "    'optimizer_time': 1.4686672687530518}\n",
      "===============================================================\n",
      "     ┌────────────────────────────────────────────────┐\n",
      "q_0: ┤0                                               ├\n",
      "     │                                                │\n",
      "q_1: ┤1 RealAmplitudes(θ[0],θ[1],θ[2],θ[3],θ[4],θ[5]) ├\n",
      "     │                                                │\n",
      "q_2: ┤2                                               ├\n",
      "     └────────────────────────────────────────────────┘===============================================================\n",
      "Optimizer: COBYLA\n",
      "-- method: cobyla\n",
      "-- bounds_support_level: 1\n",
      "-- gradient_support_level: 1\n",
      "-- initial_point_support_level: 3\n",
      "-- options: {'maxiter': 1000, 'disp': False, 'rhobeg': 1.0}\n",
      "-- max_evals_grouped: 1\n",
      "-- kwargs: {'tol': None}\n",
      "===============================================================\n",
      "\n"
     ]
    }
   ],
   "source": [
    "print(vqe.print_settings())"
   ]
  },
  {
   "cell_type": "code",
   "execution_count": 54,
   "metadata": {},
   "outputs": [],
   "source": [
    "data = [] \n",
    "\n",
    "for i in range(0,200):\n",
    "    result = vqe.compute_minimum_eigenvalue(obsDWHAM)\n",
    "    data.append(result.eigenvalue.real)"
   ]
  },
  {
   "cell_type": "code",
   "execution_count": 52,
   "metadata": {},
   "outputs": [
    {
     "data": {
      "text/plain": [
       "[0.9589981217635131,\n",
       " 0.9589981150269893,\n",
       " 0.958998666607006,\n",
       " 0.9150370248593873,\n",
       " 0.9150714306665624,\n",
       " 0.9150894789257468,\n",
       " 0.9589983864926835,\n",
       " 0.9157406335255055,\n",
       " 0.915036966507894,\n",
       " 0.9589988276524918,\n",
       " 0.9150372462539165,\n",
       " 0.9589987788304403,\n",
       " 0.9150369255682379,\n",
       " 0.9150374015945969,\n",
       " 0.9589986033110738,\n",
       " 0.915037024190466,\n",
       " 0.9150893056436396,\n",
       " 0.9589997095768212,\n",
       " 0.9150767144974857,\n",
       " 0.9150369560331075]"
      ]
     },
     "execution_count": 52,
     "metadata": {},
     "output_type": "execute_result"
    }
   ],
   "source": [
    "data"
   ]
  },
  {
   "cell_type": "code",
   "execution_count": 53,
   "metadata": {},
   "outputs": [
    {
     "data": {
      "image/png": "[encoded data removed]",
      "text/plain": [
       "<Figure size 432x288 with 1 Axes>"
      ]
     },
     "metadata": {
      "needs_background": "light"
     },
     "output_type": "display_data"
    }
   ],
   "source": [
    "import numpy as np\n",
    "import matplotlib.pyplot as plt\n",
    "\n",
    "n, bins, patches = plt.hist(data, 4)\n",
    "plt.show()"
   ]
  },
  {
   "cell_type": "code",
   "execution_count": null,
   "metadata": {},
   "outputs": [],
   "source": []
  }
 ],
 "metadata": {
  "kernelspec": {
   "display_name": "Python 3",
   "language": "python",
   "name": "python3"
  },
  "language_info": {
   "codemirror_mode": {
    "name": "ipython",
    "version": 3
   },
   "file_extension": ".py",
   "mimetype": "text/x-python",
   "name": "python",
   "nbconvert_exporter": "python",
   "pygments_lexer": "ipython3",
   "version": "3.9.1"
  }
 },
 "nbformat": 4,
 "nbformat_minor": 4
}
