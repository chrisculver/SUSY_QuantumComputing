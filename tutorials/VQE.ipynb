{
 "cells": [
  {
   "cell_type": "code",
   "execution_count": 1,
   "metadata": {},
   "outputs": [],
   "source": [
    "# first we define the simulator and setup a quantum instance\n",
    "import qiskit\n",
    "from qiskit import Aer\n",
    "from qiskit.utils import QuantumInstance\n",
    "\n",
    "backend = Aer.get_backend('statevector_simulator')\n",
    "qinstance = QuantumInstance(backend, seed_simulator=2, seed_transpiler=2)"
   ]
  },
  {
   "cell_type": "code",
   "execution_count": 2,
   "metadata": {},
   "outputs": [
    {
     "name": "stdout",
     "output_type": "stream",
     "text": [
      "<class 'qiskit.circuit.library.n_local.real_amplitudes.RealAmplitudes'>\n",
      "     ┌──────────┐     ┌──────────┐\n",
      "q_0: ┤ Ry(θ[0]) ├──■──┤ Ry(θ[2]) ├\n",
      "     ├──────────┤┌─┴─┐├──────────┤\n",
      "q_1: ┤ Ry(θ[1]) ├┤ X ├┤ Ry(θ[3]) ├\n",
      "     └──────────┘└───┘└──────────┘\n"
     ]
    },
    {
     "data": {
      "text/html": [
       "<pre style=\"word-wrap: normal;white-space: pre;background: #fff0;line-height: 1.1;font-family: &quot;Courier New&quot;,Courier,monospace\">     ┌──────────────────────────────────────┐\n",
       "q_0: ┤0                                     ├\n",
       "     │  RealAmplitudes(θ[0],θ[1],θ[2],θ[3]) │\n",
       "q_1: ┤1                                     ├\n",
       "     └──────────────────────────────────────┘</pre>"
      ],
      "text/plain": [
       "     ┌──────────────────────────────────────┐\n",
       "q_0: ┤0                                     ├\n",
       "     │  RealAmplitudes(θ[0],θ[1],θ[2],θ[3]) │\n",
       "q_1: ┤1                                     ├\n",
       "     └──────────────────────────────────────┘"
      ]
     },
     "execution_count": 2,
     "metadata": {},
     "output_type": "execute_result"
    }
   ],
   "source": [
    "# then we setup our ansatz for the wavefunction\n",
    "\n",
    "from qiskit.circuit.library import RealAmplitudes\n",
    "\n",
    "ansatz = RealAmplitudes(2, reps=1)\n",
    "print(type(ansatz))\n",
    "print(ansatz)\n",
    "ansatz.draw(style='mpl')"
   ]
  },
  {
   "cell_type": "code",
   "execution_count": 3,
   "metadata": {},
   "outputs": [
    {
     "name": "stdout",
     "output_type": "stream",
     "text": [
      "     ┌──────────┐          ┌──────────┐            \n",
      "q_0: ┤ Ry(θ[0]) ├──■────■──┤ Ry(θ[3]) ├────────────\n",
      "     ├──────────┤┌─┴─┐  │  └──────────┘┌──────────┐\n",
      "q_1: ┤ Ry(θ[1]) ├┤ X ├──┼───────■──────┤ Ry(θ[4]) ├\n",
      "     ├──────────┤└───┘┌─┴─┐   ┌─┴─┐    ├──────────┤\n",
      "q_2: ┤ Ry(θ[2]) ├─────┤ X ├───┤ X ├────┤ Ry(θ[5]) ├\n",
      "     └──────────┘     └───┘   └───┘    └──────────┘\n"
     ]
    }
   ],
   "source": [
    "ansatz = RealAmplitudes(3, reps=1)\n",
    "from qiskit import QuantumCircuit\n",
    "qc=QuantumCircuit(3)\n",
    "qc.compose(ansatz,inplace=True)\n",
    "print(ansatz)\n"
   ]
  },
  {
   "cell_type": "code",
   "execution_count": 4,
   "metadata": {},
   "outputs": [],
   "source": [
    "# now we have to define the observable we want the minimum eigenvalue of\n",
    "from qiskit.opflow import X,Y,Z,I\n",
    "\n",
    "observable = Z^I"
   ]
  },
  {
   "cell_type": "code",
   "execution_count": 5,
   "metadata": {},
   "outputs": [],
   "source": [
    "# set-up the vqe algorithm, with an optimizer and wave function\n",
    "from qiskit.algorithms import VQE\n",
    "from qiskit.algorithms.optimizers import COBYLA\n",
    "\n",
    "vqe = VQE(ansatz=ansatz, optimizer=COBYLA(), quantum_instance=qinstance)"
   ]
  },
  {
   "cell_type": "code",
   "execution_count": 6,
   "metadata": {},
   "outputs": [
    {
     "name": "stdout",
     "output_type": "stream",
     "text": [
      "(-0.9999999882894015+0j)\n"
     ]
    }
   ],
   "source": [
    "# we could run this for many observables\n",
    "result = vqe.compute_minimum_eigenvalue(observable)\n",
    "print(result.eigenvalue)"
   ]
  },
  {
   "cell_type": "code",
   "execution_count": null,
   "metadata": {},
   "outputs": [],
   "source": []
  },
  {
   "cell_type": "code",
   "execution_count": 7,
   "metadata": {},
   "outputs": [
    {
     "name": "stdout",
     "output_type": "stream",
     "text": [
      "0j\n"
     ]
    }
   ],
   "source": [
    "# now we have to define the observable we want the minimum eigenvalue of\n",
    "from qiskit.opflow import X,Y,Z,I,H\n",
    "\n",
    "observable = Y^I\n",
    "\n",
    "result = vqe.compute_minimum_eigenvalue(observable)\n",
    "print(result.eigenvalue)"
   ]
  },
  {
   "cell_type": "markdown",
   "metadata": {},
   "source": [
    "## Lets try it for the HO, should get eigenvalue 0"
   ]
  },
  {
   "cell_type": "code",
   "execution_count": 8,
   "metadata": {},
   "outputs": [],
   "source": [
    "import sys\n",
    "sys.path.append('..')\n",
    "from src.sympy_utilities import *\n",
    "from src.BinaryEncodings import *\n",
    "from src.MatrixToPauliString import *\n",
    "from src.qiskit_utilities import *"
   ]
  },
  {
   "cell_type": "code",
   "execution_count": 9,
   "metadata": {},
   "outputs": [],
   "source": [
    "h_b_HO = 0.5*(p*p + m*m*q*q)\n",
    "h_f_HO = -0.5*m#[bdag,b]\n",
    "\n",
    "powersof2=[2**n for n in range(1,3)]\n",
    "\n",
    "HOhams = []\n",
    "for n in powersof2:\n",
    "    HOhams.append({'n': n, 'ham': Hamiltonian(h_b_HO, h_f_HO, {m:1, g:1},\n",
    "                  n, standard_encode)})"
   ]
  },
  {
   "cell_type": "code",
   "execution_count": 10,
   "metadata": {},
   "outputs": [],
   "source": [
    "for sys in HOhams:\n",
    "    obsHOHAM = pauli_string_to_op(sys['ham'].pauliStrings)\n",
    "    result = vqe.compute_minimum_eigenvalue(obsHOHAM)\n",
    "    #print(result.eigenvalue)\n",
    "    sys['vqe']=result.eigenvalue\n",
    "    \n",
    "    eigSys = np.linalg.eig(np.array(sys['ham'].hamMatrix,dtype=float))\n",
    "    eigVals = [en.real for en in eigSys[0]]    \n",
    "    sys['exact']=np.min(np.sort(eigVals))"
   ]
  },
  {
   "cell_type": "code",
   "execution_count": 11,
   "metadata": {},
   "outputs": [],
   "source": [
    "#ovec=vqe.get_optimal_vector()\n",
    "#svec=qiskit.quantum_info.Statevector(ovec)\n",
    "#svec.probabilities_dict()\n",
    "\n",
    "# this will be deprecated soon"
   ]
  },
  {
   "cell_type": "code",
   "execution_count": 23,
   "metadata": {},
   "outputs": [],
   "source": [
    "def fill_vqe_dict(h_b,h_f,params,sizes):\n",
    "    res = []\n",
    "    for n in sizes:\n",
    "        res.append({'n': n, 'ham': Hamiltonian(h_b, h_f, params, n, standard_encode)})\n",
    "        \n",
    "    for sys in res:\n",
    "        ham = pauli_string_to_op(sys['ham'].pauliStrings)\n",
    "        results=[]\n",
    "        for i in range(100):\n",
    "            results.append(vqe.compute_minimum_eigenvalue(ham).eigenvalue)\n",
    "        #print(results)\n",
    "        sys['vqe']=np.array(results).min()\n",
    "    \n",
    "        eigSys = np.linalg.eig(np.array(sys['ham'].hamMatrix,dtype=float))\n",
    "        eigVals = [en.real for en in eigSys[0]]    \n",
    "        sys['exact']=np.min(np.sort(eigVals))\n",
    "        \n",
    "    return res"
   ]
  },
  {
   "cell_type": "code",
   "execution_count": 24,
   "metadata": {},
   "outputs": [],
   "source": [
    "def latex_vqe_table(data):\n",
    "    s=''\n",
    "    for d in data:\n",
    "        s+=\"{} & {:.2e} & {:.2e} \\\\\\\\ \\n\".format(d['n'],d['exact'],d['vqe'].real)\n",
    "    return s"
   ]
  },
  {
   "cell_type": "code",
   "execution_count": 25,
   "metadata": {},
   "outputs": [
    {
     "name": "stdout",
     "output_type": "stream",
     "text": [
      "2 & 0.00e+00 & 5.34e-10 \\\\ \n",
      "4 & 0.00e+00 & 1.07e-09 \\\\ \n",
      "8 & 0.00e+00 & 4.06e-09 \\\\ \n",
      "16 & 0.00e+00 & 1.13e-08 \\\\ \n",
      "32 & 0.00e+00 & 4.81e-08 \\\\ \n",
      "\n"
     ]
    }
   ],
   "source": [
    "ho_data=fill_vqe_dict(h_b_HO,h_f_HO,{m:1, g:1},[2**i for i in range(1,6)])\n",
    "print(latex_vqe_table(ho_data))"
   ]
  },
  {
   "cell_type": "markdown",
   "metadata": {},
   "source": [
    "## AHO"
   ]
  },
  {
   "cell_type": "code",
   "execution_count": null,
   "metadata": {},
   "outputs": [],
   "source": []
  },
  {
   "cell_type": "code",
   "execution_count": 26,
   "metadata": {},
   "outputs": [],
   "source": [
    "h_b_AHO = 0.5*(p*p) + 0.5*(m*q+g*q**3)**2\n",
    "h_f_AHO = -0.5*(m+3*g*q*q)#[bdag,b]"
   ]
  },
  {
   "cell_type": "code",
   "execution_count": 27,
   "metadata": {},
   "outputs": [
    {
     "data": {
      "text/plain": [
       "array([ 0.12682403,  2.08341082,  3.323419  ,  7.31797807, 32.24817597,\n",
       "       41.29158918, 81.301581  , 94.30702193])"
      ]
     },
     "execution_count": 27,
     "metadata": {},
     "output_type": "execute_result"
    }
   ],
   "source": [
    "hamAHO = Hamiltonian(h_b_AHO, h_f_AHO, {m: 1, g:1},\n",
    "                    2**2, standard_encode)\n",
    "\n",
    "np.sort(np.linalg.eig(np.array(hamAHO.hamMatrix,dtype=float))[0])[0:10]"
   ]
  },
  {
   "cell_type": "code",
   "execution_count": 28,
   "metadata": {},
   "outputs": [
    {
     "data": {
      "text/plain": [
       "array([2.92568799e-02, 1.70677100e+00, 1.78275273e+00, 4.73407590e+00,\n",
       "       7.22350860e+00, 1.24381795e+01, 1.84881706e+01, 2.61305422e+01,\n",
       "       7.21041337e+01, 8.49087650e+01])"
      ]
     },
     "execution_count": 28,
     "metadata": {},
     "output_type": "execute_result"
    }
   ],
   "source": [
    "hamAHO = Hamiltonian(h_b_AHO, h_f_AHO, {m: 1, g:1},\n",
    "                    2**3, standard_encode)\n",
    "\n",
    "np.sort(np.linalg.eig(np.array(hamAHO.hamMatrix,dtype=float))[0])[0:10]"
   ]
  },
  {
   "cell_type": "code",
   "execution_count": 29,
   "metadata": {},
   "outputs": [
    {
     "data": {
      "text/plain": [
       "array([1.83029849e-03, 1.68720122e+00, 1.70732190e+00, 4.37401524e+00,\n",
       "       4.41418952e+00, 7.76596507e+00, 7.94769938e+00, 1.23737466e+01,\n",
       "       1.55392089e+01, 2.23264623e+01])"
      ]
     },
     "execution_count": 29,
     "metadata": {},
     "output_type": "execute_result"
    }
   ],
   "source": [
    "hamAHO = Hamiltonian(h_b_AHO, h_f_AHO, {m: 1, g:1},\n",
    "                    2**4, standard_encode)\n",
    "\n",
    "np.sort(np.linalg.eig(np.array(hamAHO.hamMatrix,dtype=float))[0])[0:10]"
   ]
  },
  {
   "cell_type": "code",
   "execution_count": 30,
   "metadata": {},
   "outputs": [
    {
     "name": "stdout",
     "output_type": "stream",
     "text": [
      "2 & 9.38e-01 & 9.38e-01 \\\\ \n",
      "4 & 1.27e-01 & 1.27e-01 \\\\ \n",
      "8 & 2.93e-02 & 2.93e-02 \\\\ \n",
      "16 & 1.83e-03 & 6.02e-02 \\\\ \n",
      "32 & 1.83e-05 & 6.63e-01 \\\\ \n",
      "\n"
     ]
    }
   ],
   "source": [
    "ho_data=fill_vqe_dict(h_b_AHO,h_f_AHO, {m:1, g:1},[2**i for i in range(1,6)])\n",
    "print(latex_vqe_table(ho_data))"
   ]
  },
  {
   "cell_type": "code",
   "execution_count": 16,
   "metadata": {},
   "outputs": [
    {
     "data": {
      "text/plain": [
       "(0.0018302984872818303+0j)"
      ]
     },
     "execution_count": 16,
     "metadata": {},
     "output_type": "execute_result"
    }
   ],
   "source": [
    "min(np.linalg.eig(getMatrix(hamAHO.pauliStrings))[0])"
   ]
  },
  {
   "cell_type": "code",
   "execution_count": 77,
   "metadata": {},
   "outputs": [
    {
     "name": "stdout",
     "output_type": "stream",
     "text": [
      "(1.660006845212543+0j)\n"
     ]
    }
   ],
   "source": [
    "from src.qiskit_utilities import *\n",
    "\n",
    "obsAHOHAM = pauli_string_to_op(hamAHO.pauliStrings)\n",
    "\n",
    "result = vqe.compute_minimum_eigenvalue(obsAHOHAM,tol=)\n",
    "print(result.eigenvalue)"
   ]
  },
  {
   "cell_type": "code",
   "execution_count": 105,
   "metadata": {},
   "outputs": [],
   "source": [
    "# set-up the vqe algorithm, with an optimizer and wave function\n",
    "from qiskit.algorithms import VQE\n",
    "from qiskit.algorithms.optimizers import COBYLA\n",
    "\n",
    "hamAHO = Hamiltonian(h_b_AHO, h_f_AHO, {m: 1, g:1},\n",
    "                    2**5, standard_encode)\n",
    "\n",
    "obsAHOHAM = pauli_string_to_op(hamAHO.pauliStrings)"
   ]
  },
  {
   "cell_type": "code",
   "execution_count": 106,
   "metadata": {},
   "outputs": [
    {
     "name": "stdout",
     "output_type": "stream",
     "text": [
      "(13.28733413910288+0j)\n"
     ]
    }
   ],
   "source": [
    "vqe = VQE(ansatz=ansatz, optimizer=COBYLA(maxiter=100,disp=True), quantum_instance=qinstance)\n",
    "\n",
    "result = vqe.compute_minimum_eigenvalue(obsAHOHAM)\n",
    "print(result.eigenvalue)"
   ]
  },
  {
   "cell_type": "code",
   "execution_count": 107,
   "metadata": {},
   "outputs": [
    {
     "name": "stdout",
     "output_type": "stream",
     "text": [
      "(1.425103847732708+0j)\n"
     ]
    }
   ],
   "source": [
    "vqe = VQE(ansatz=ansatz, optimizer=COBYLA(maxiter=5000), quantum_instance=qinstance)\n",
    "\n",
    "result = vqe.compute_minimum_eigenvalue(obsAHOHAM)\n",
    "print(result.eigenvalue)"
   ]
  },
  {
   "cell_type": "code",
   "execution_count": 114,
   "metadata": {},
   "outputs": [
    {
     "name": "stdout",
     "output_type": "stream",
     "text": [
      "(1.800361810904133+0j)\n"
     ]
    }
   ],
   "source": [
    "vqe = VQE(ansatz=ansatz, optimizer=COBYLA(maxiter=10000,tol=1e-5,disp=True), quantum_instance=qinstance)\n",
    "\n",
    "result = vqe.compute_minimum_eigenvalue(obsAHOHAM)\n",
    "print(result.eigenvalue)"
   ]
  },
  {
   "cell_type": "code",
   "execution_count": 118,
   "metadata": {},
   "outputs": [
    {
     "name": "stdout",
     "output_type": "stream",
     "text": [
      "None\n"
     ]
    }
   ],
   "source": [
    "print(result.optimizer_evals)"
   ]
  },
  {
   "cell_type": "code",
   "execution_count": 129,
   "metadata": {},
   "outputs": [
    {
     "name": "stdout",
     "output_type": "stream",
     "text": [
      "28\n"
     ]
    }
   ],
   "source": [
    "vqe = VQE(ansatz=ansatz, optimizer=COBYLA(maxiter=1000,tol=1e-0,disp=True), quantum_instance=qinstance)\n",
    "\n",
    "result = vqe.compute_minimum_eigenvalue(obsAHOHAM)\n",
    "print(result.cost_function_evals)\n",
    "#print(result)"
   ]
  },
  {
   "cell_type": "code",
   "execution_count": 128,
   "metadata": {},
   "outputs": [
    {
     "ename": "KeyboardInterrupt",
     "evalue": "",
     "output_type": "error",
     "traceback": [
      "\u001b[0;31m---------------------------------------------------------------------------\u001b[0m",
      "\u001b[0;31mKeyboardInterrupt\u001b[0m                         Traceback (most recent call last)",
      "\u001b[0;32m<ipython-input-128-36d89ef9b667>\u001b[0m in \u001b[0;36m<module>\u001b[0;34m\u001b[0m\n\u001b[1;32m      2\u001b[0m \u001b[0;34m\u001b[0m\u001b[0m\n\u001b[1;32m      3\u001b[0m \u001b[0;32mfor\u001b[0m \u001b[0mi\u001b[0m \u001b[0;32min\u001b[0m \u001b[0mrange\u001b[0m\u001b[0;34m(\u001b[0m\u001b[0;36m0\u001b[0m\u001b[0;34m,\u001b[0m\u001b[0;36m100\u001b[0m\u001b[0;34m)\u001b[0m\u001b[0;34m:\u001b[0m\u001b[0;34m\u001b[0m\u001b[0;34m\u001b[0m\u001b[0m\n\u001b[0;32m----> 4\u001b[0;31m     \u001b[0mresult\u001b[0m \u001b[0;34m=\u001b[0m \u001b[0mvqe\u001b[0m\u001b[0;34m.\u001b[0m\u001b[0mcompute_minimum_eigenvalue\u001b[0m\u001b[0;34m(\u001b[0m\u001b[0mobsAHOHAM\u001b[0m\u001b[0;34m)\u001b[0m\u001b[0;34m\u001b[0m\u001b[0;34m\u001b[0m\u001b[0m\n\u001b[0m\u001b[1;32m      5\u001b[0m     \u001b[0mdata\u001b[0m\u001b[0;34m.\u001b[0m\u001b[0mappend\u001b[0m\u001b[0;34m(\u001b[0m\u001b[0mresult\u001b[0m\u001b[0;34m.\u001b[0m\u001b[0meigenvalue\u001b[0m\u001b[0;34m.\u001b[0m\u001b[0mreal\u001b[0m\u001b[0;34m)\u001b[0m\u001b[0;34m\u001b[0m\u001b[0;34m\u001b[0m\u001b[0m\n",
      "\u001b[0;32m~/miniconda3/envs/QuantumComputing/lib/python3.9/site-packages/qiskit/algorithms/minimum_eigen_solvers/vqe.py\u001b[0m in \u001b[0;36mcompute_minimum_eigenvalue\u001b[0;34m(self, operator, aux_operators)\u001b[0m\n\u001b[1;32m    483\u001b[0m \u001b[0;34m\u001b[0m\u001b[0m\n\u001b[1;32m    484\u001b[0m         \u001b[0mself\u001b[0m\u001b[0;34m.\u001b[0m\u001b[0m_eval_count\u001b[0m \u001b[0;34m=\u001b[0m \u001b[0;36m0\u001b[0m\u001b[0;34m\u001b[0m\u001b[0;34m\u001b[0m\u001b[0m\n\u001b[0;32m--> 485\u001b[0;31m         energy_evaluation, expectation = self.get_energy_evaluation(\n\u001b[0m\u001b[1;32m    486\u001b[0m             \u001b[0moperator\u001b[0m\u001b[0;34m,\u001b[0m \u001b[0mreturn_expectation\u001b[0m\u001b[0;34m=\u001b[0m\u001b[0;32mTrue\u001b[0m\u001b[0;34m\u001b[0m\u001b[0;34m\u001b[0m\u001b[0m\n\u001b[1;32m    487\u001b[0m         )\n",
      "\u001b[0;32m~/miniconda3/envs/QuantumComputing/lib/python3.9/site-packages/qiskit/algorithms/minimum_eigen_solvers/vqe.py\u001b[0m in \u001b[0;36mget_energy_evaluation\u001b[0;34m(self, operator, return_expectation)\u001b[0m\n\u001b[1;32m    550\u001b[0m             \u001b[0;32mraise\u001b[0m \u001b[0mRuntimeError\u001b[0m\u001b[0;34m(\u001b[0m\u001b[0;34m\"The ansatz must be parameterized, but has 0 free parameters.\"\u001b[0m\u001b[0;34m)\u001b[0m\u001b[0;34m\u001b[0m\u001b[0;34m\u001b[0m\u001b[0m\n\u001b[1;32m    551\u001b[0m \u001b[0;34m\u001b[0m\u001b[0m\n\u001b[0;32m--> 552\u001b[0;31m         expect_op, expectation = self.construct_expectation(\n\u001b[0m\u001b[1;32m    553\u001b[0m             \u001b[0mself\u001b[0m\u001b[0;34m.\u001b[0m\u001b[0m_ansatz_params\u001b[0m\u001b[0;34m,\u001b[0m \u001b[0moperator\u001b[0m\u001b[0;34m,\u001b[0m \u001b[0mreturn_expectation\u001b[0m\u001b[0;34m=\u001b[0m\u001b[0;32mTrue\u001b[0m\u001b[0;34m\u001b[0m\u001b[0;34m\u001b[0m\u001b[0m\n\u001b[1;32m    554\u001b[0m         )\n",
      "\u001b[0;32m~/miniconda3/envs/QuantumComputing/lib/python3.9/site-packages/qiskit/algorithms/minimum_eigen_solvers/vqe.py\u001b[0m in \u001b[0;36mconstruct_expectation\u001b[0;34m(self, parameter, operator, return_expectation)\u001b[0m\n\u001b[1;32m    366\u001b[0m         \u001b[0mwave_function\u001b[0m \u001b[0;34m=\u001b[0m \u001b[0mself\u001b[0m\u001b[0;34m.\u001b[0m\u001b[0mansatz\u001b[0m\u001b[0;34m.\u001b[0m\u001b[0massign_parameters\u001b[0m\u001b[0;34m(\u001b[0m\u001b[0mparam_dict\u001b[0m\u001b[0;34m)\u001b[0m\u001b[0;34m\u001b[0m\u001b[0;34m\u001b[0m\u001b[0m\n\u001b[1;32m    367\u001b[0m \u001b[0;34m\u001b[0m\u001b[0m\n\u001b[0;32m--> 368\u001b[0;31m         \u001b[0mobservable_meas\u001b[0m \u001b[0;34m=\u001b[0m \u001b[0mexpectation\u001b[0m\u001b[0;34m.\u001b[0m\u001b[0mconvert\u001b[0m\u001b[0;34m(\u001b[0m\u001b[0mStateFn\u001b[0m\u001b[0;34m(\u001b[0m\u001b[0moperator\u001b[0m\u001b[0;34m,\u001b[0m \u001b[0mis_measurement\u001b[0m\u001b[0;34m=\u001b[0m\u001b[0;32mTrue\u001b[0m\u001b[0;34m)\u001b[0m\u001b[0;34m)\u001b[0m\u001b[0;34m\u001b[0m\u001b[0;34m\u001b[0m\u001b[0m\n\u001b[0m\u001b[1;32m    369\u001b[0m         \u001b[0mansatz_circuit_op\u001b[0m \u001b[0;34m=\u001b[0m \u001b[0mCircuitStateFn\u001b[0m\u001b[0;34m(\u001b[0m\u001b[0mwave_function\u001b[0m\u001b[0;34m)\u001b[0m\u001b[0;34m\u001b[0m\u001b[0;34m\u001b[0m\u001b[0m\n\u001b[1;32m    370\u001b[0m         \u001b[0mexpect_op\u001b[0m \u001b[0;34m=\u001b[0m \u001b[0mobservable_meas\u001b[0m\u001b[0;34m.\u001b[0m\u001b[0mcompose\u001b[0m\u001b[0;34m(\u001b[0m\u001b[0mansatz_circuit_op\u001b[0m\u001b[0;34m)\u001b[0m\u001b[0;34m.\u001b[0m\u001b[0mreduce\u001b[0m\u001b[0;34m(\u001b[0m\u001b[0;34m)\u001b[0m\u001b[0;34m\u001b[0m\u001b[0;34m\u001b[0m\u001b[0m\n",
      "\u001b[0;32m~/miniconda3/envs/QuantumComputing/lib/python3.9/site-packages/qiskit/opflow/expectations/matrix_expectation.py\u001b[0m in \u001b[0;36mconvert\u001b[0;34m(self, operator)\u001b[0m\n\u001b[1;32m     36\u001b[0m         \"\"\"\n\u001b[1;32m     37\u001b[0m         \u001b[0;32mif\u001b[0m \u001b[0misinstance\u001b[0m\u001b[0;34m(\u001b[0m\u001b[0moperator\u001b[0m\u001b[0;34m,\u001b[0m \u001b[0mOperatorStateFn\u001b[0m\u001b[0;34m)\u001b[0m \u001b[0;32mand\u001b[0m \u001b[0moperator\u001b[0m\u001b[0;34m.\u001b[0m\u001b[0mis_measurement\u001b[0m\u001b[0;34m:\u001b[0m\u001b[0;34m\u001b[0m\u001b[0;34m\u001b[0m\u001b[0m\n\u001b[0;32m---> 38\u001b[0;31m             \u001b[0;32mreturn\u001b[0m \u001b[0moperator\u001b[0m\u001b[0;34m.\u001b[0m\u001b[0mto_matrix_op\u001b[0m\u001b[0;34m(\u001b[0m\u001b[0;34m)\u001b[0m\u001b[0;34m\u001b[0m\u001b[0;34m\u001b[0m\u001b[0m\n\u001b[0m\u001b[1;32m     39\u001b[0m         \u001b[0;32melif\u001b[0m \u001b[0misinstance\u001b[0m\u001b[0;34m(\u001b[0m\u001b[0moperator\u001b[0m\u001b[0;34m,\u001b[0m \u001b[0mListOp\u001b[0m\u001b[0;34m)\u001b[0m\u001b[0;34m:\u001b[0m\u001b[0;34m\u001b[0m\u001b[0;34m\u001b[0m\u001b[0m\n\u001b[1;32m     40\u001b[0m             \u001b[0;32mreturn\u001b[0m \u001b[0moperator\u001b[0m\u001b[0;34m.\u001b[0m\u001b[0mtraverse\u001b[0m\u001b[0;34m(\u001b[0m\u001b[0mself\u001b[0m\u001b[0;34m.\u001b[0m\u001b[0mconvert\u001b[0m\u001b[0;34m)\u001b[0m\u001b[0;34m\u001b[0m\u001b[0;34m\u001b[0m\u001b[0m\n",
      "\u001b[0;32m~/miniconda3/envs/QuantumComputing/lib/python3.9/site-packages/qiskit/opflow/state_fns/operator_state_fn.py\u001b[0m in \u001b[0;36mto_matrix_op\u001b[0;34m(self, massive)\u001b[0m\n\u001b[1;32m    130\u001b[0m         \u001b[0;34m\"\"\"Return a MatrixOp for this operator.\"\"\"\u001b[0m\u001b[0;34m\u001b[0m\u001b[0;34m\u001b[0m\u001b[0m\n\u001b[1;32m    131\u001b[0m         return OperatorStateFn(\n\u001b[0;32m--> 132\u001b[0;31m             \u001b[0mself\u001b[0m\u001b[0;34m.\u001b[0m\u001b[0mprimitive\u001b[0m\u001b[0;34m.\u001b[0m\u001b[0mto_matrix_op\u001b[0m\u001b[0;34m(\u001b[0m\u001b[0mmassive\u001b[0m\u001b[0;34m=\u001b[0m\u001b[0mmassive\u001b[0m\u001b[0;34m)\u001b[0m \u001b[0;34m*\u001b[0m \u001b[0mself\u001b[0m\u001b[0;34m.\u001b[0m\u001b[0mcoeff\u001b[0m\u001b[0;34m,\u001b[0m\u001b[0;34m\u001b[0m\u001b[0;34m\u001b[0m\u001b[0m\n\u001b[0m\u001b[1;32m    133\u001b[0m             \u001b[0mis_measurement\u001b[0m\u001b[0;34m=\u001b[0m\u001b[0mself\u001b[0m\u001b[0;34m.\u001b[0m\u001b[0mis_measurement\u001b[0m\u001b[0;34m,\u001b[0m\u001b[0;34m\u001b[0m\u001b[0;34m\u001b[0m\u001b[0m\n\u001b[1;32m    134\u001b[0m         )\n",
      "\u001b[0;32m~/miniconda3/envs/QuantumComputing/lib/python3.9/site-packages/qiskit/opflow/primitive_ops/primitive_op.py\u001b[0m in \u001b[0;36mto_matrix_op\u001b[0;34m(self, massive)\u001b[0m\n\u001b[1;32m    264\u001b[0m         \u001b[0mop\u001b[0m \u001b[0;34m=\u001b[0m \u001b[0mself\u001b[0m\u001b[0;34m.\u001b[0m\u001b[0mcopy\u001b[0m\u001b[0;34m(\u001b[0m\u001b[0;34m)\u001b[0m\u001b[0;34m\u001b[0m\u001b[0;34m\u001b[0m\u001b[0m\n\u001b[1;32m    265\u001b[0m         \u001b[0mop\u001b[0m\u001b[0;34m.\u001b[0m\u001b[0m_coeff\u001b[0m \u001b[0;34m=\u001b[0m \u001b[0;36m1\u001b[0m\u001b[0;34m\u001b[0m\u001b[0;34m\u001b[0m\u001b[0m\n\u001b[0;32m--> 266\u001b[0;31m         \u001b[0mprim_mat\u001b[0m \u001b[0;34m=\u001b[0m \u001b[0mop\u001b[0m\u001b[0;34m.\u001b[0m\u001b[0mto_matrix\u001b[0m\u001b[0;34m(\u001b[0m\u001b[0mmassive\u001b[0m\u001b[0;34m=\u001b[0m\u001b[0mmassive\u001b[0m\u001b[0;34m)\u001b[0m\u001b[0;34m\u001b[0m\u001b[0;34m\u001b[0m\u001b[0m\n\u001b[0m\u001b[1;32m    267\u001b[0m         \u001b[0;32mfrom\u001b[0m \u001b[0;34m.\u001b[0m\u001b[0mmatrix_op\u001b[0m \u001b[0;32mimport\u001b[0m \u001b[0mMatrixOp\u001b[0m\u001b[0;34m\u001b[0m\u001b[0;34m\u001b[0m\u001b[0m\n\u001b[1;32m    268\u001b[0m \u001b[0;34m\u001b[0m\u001b[0m\n",
      "\u001b[0;32m~/miniconda3/envs/QuantumComputing/lib/python3.9/site-packages/qiskit/opflow/primitive_ops/pauli_sum_op.py\u001b[0m in \u001b[0;36mto_matrix\u001b[0;34m(self, massive)\u001b[0m\n\u001b[1;32m    255\u001b[0m         \u001b[0;32mif\u001b[0m \u001b[0misinstance\u001b[0m\u001b[0;34m(\u001b[0m\u001b[0mself\u001b[0m\u001b[0;34m.\u001b[0m\u001b[0mcoeff\u001b[0m\u001b[0;34m,\u001b[0m \u001b[0mParameterExpression\u001b[0m\u001b[0;34m)\u001b[0m\u001b[0;34m:\u001b[0m\u001b[0;34m\u001b[0m\u001b[0;34m\u001b[0m\u001b[0m\n\u001b[1;32m    256\u001b[0m             \u001b[0;32mreturn\u001b[0m \u001b[0;34m(\u001b[0m\u001b[0mself\u001b[0m\u001b[0;34m.\u001b[0m\u001b[0mprimitive\u001b[0m\u001b[0;34m.\u001b[0m\u001b[0mto_matrix\u001b[0m\u001b[0;34m(\u001b[0m\u001b[0msparse\u001b[0m\u001b[0;34m=\u001b[0m\u001b[0;32mTrue\u001b[0m\u001b[0;34m)\u001b[0m\u001b[0;34m)\u001b[0m\u001b[0;34m.\u001b[0m\u001b[0mtoarray\u001b[0m\u001b[0;34m(\u001b[0m\u001b[0;34m)\u001b[0m \u001b[0;34m*\u001b[0m \u001b[0mself\u001b[0m\u001b[0;34m.\u001b[0m\u001b[0mcoeff\u001b[0m\u001b[0;34m\u001b[0m\u001b[0;34m\u001b[0m\u001b[0m\n\u001b[0;32m--> 257\u001b[0;31m         \u001b[0;32mreturn\u001b[0m \u001b[0;34m(\u001b[0m\u001b[0mself\u001b[0m\u001b[0;34m.\u001b[0m\u001b[0mprimitive\u001b[0m\u001b[0;34m.\u001b[0m\u001b[0mto_matrix\u001b[0m\u001b[0;34m(\u001b[0m\u001b[0msparse\u001b[0m\u001b[0;34m=\u001b[0m\u001b[0;32mTrue\u001b[0m\u001b[0;34m)\u001b[0m \u001b[0;34m*\u001b[0m \u001b[0mself\u001b[0m\u001b[0;34m.\u001b[0m\u001b[0mcoeff\u001b[0m\u001b[0;34m)\u001b[0m\u001b[0;34m.\u001b[0m\u001b[0mtoarray\u001b[0m\u001b[0;34m(\u001b[0m\u001b[0;34m)\u001b[0m\u001b[0;34m\u001b[0m\u001b[0;34m\u001b[0m\u001b[0m\n\u001b[0m\u001b[1;32m    258\u001b[0m \u001b[0;34m\u001b[0m\u001b[0m\n\u001b[1;32m    259\u001b[0m     \u001b[0;32mdef\u001b[0m \u001b[0m__str__\u001b[0m\u001b[0;34m(\u001b[0m\u001b[0mself\u001b[0m\u001b[0;34m)\u001b[0m \u001b[0;34m->\u001b[0m \u001b[0mstr\u001b[0m\u001b[0;34m:\u001b[0m\u001b[0;34m\u001b[0m\u001b[0;34m\u001b[0m\u001b[0m\n",
      "\u001b[0;32m~/miniconda3/envs/QuantumComputing/lib/python3.9/site-packages/qiskit/quantum_info/operators/symplectic/sparse_pauli_op.py\u001b[0m in \u001b[0;36mto_matrix\u001b[0;34m(self, sparse)\u001b[0m\n\u001b[1;32m    436\u001b[0m         \"\"\"\n\u001b[1;32m    437\u001b[0m         \u001b[0mmat\u001b[0m \u001b[0;34m=\u001b[0m \u001b[0;32mNone\u001b[0m\u001b[0;34m\u001b[0m\u001b[0;34m\u001b[0m\u001b[0m\n\u001b[0;32m--> 438\u001b[0;31m         \u001b[0;32mfor\u001b[0m \u001b[0mi\u001b[0m \u001b[0;32min\u001b[0m \u001b[0mself\u001b[0m\u001b[0;34m.\u001b[0m\u001b[0mmatrix_iter\u001b[0m\u001b[0;34m(\u001b[0m\u001b[0msparse\u001b[0m\u001b[0;34m=\u001b[0m\u001b[0msparse\u001b[0m\u001b[0;34m)\u001b[0m\u001b[0;34m:\u001b[0m\u001b[0;34m\u001b[0m\u001b[0;34m\u001b[0m\u001b[0m\n\u001b[0m\u001b[1;32m    439\u001b[0m             \u001b[0;32mif\u001b[0m \u001b[0mmat\u001b[0m \u001b[0;32mis\u001b[0m \u001b[0;32mNone\u001b[0m\u001b[0;34m:\u001b[0m\u001b[0;34m\u001b[0m\u001b[0;34m\u001b[0m\u001b[0m\n\u001b[1;32m    440\u001b[0m                 \u001b[0mmat\u001b[0m \u001b[0;34m=\u001b[0m \u001b[0mi\u001b[0m\u001b[0;34m\u001b[0m\u001b[0;34m\u001b[0m\u001b[0m\n",
      "\u001b[0;32m~/miniconda3/envs/QuantumComputing/lib/python3.9/site-packages/qiskit/quantum_info/operators/custom_iterator.py\u001b[0m in \u001b[0;36m__next__\u001b[0;34m(self)\u001b[0m\n\u001b[1;32m     45\u001b[0m             \u001b[0;32mraise\u001b[0m \u001b[0mStopIteration\u001b[0m\u001b[0;34m\u001b[0m\u001b[0;34m\u001b[0m\u001b[0m\n\u001b[1;32m     46\u001b[0m         \u001b[0mself\u001b[0m\u001b[0;34m.\u001b[0m\u001b[0m_iter\u001b[0m \u001b[0;34m+=\u001b[0m \u001b[0;36m1\u001b[0m\u001b[0;34m\u001b[0m\u001b[0;34m\u001b[0m\u001b[0m\n\u001b[0;32m---> 47\u001b[0;31m         \u001b[0;32mreturn\u001b[0m \u001b[0mself\u001b[0m\u001b[0;34m[\u001b[0m\u001b[0mself\u001b[0m\u001b[0;34m.\u001b[0m\u001b[0m_iter\u001b[0m \u001b[0;34m-\u001b[0m \u001b[0;36m1\u001b[0m\u001b[0;34m]\u001b[0m\u001b[0;34m\u001b[0m\u001b[0;34m\u001b[0m\u001b[0m\n\u001b[0m",
      "\u001b[0;32m~/miniconda3/envs/QuantumComputing/lib/python3.9/site-packages/qiskit/quantum_info/operators/symplectic/sparse_pauli_op.py\u001b[0m in \u001b[0;36m__getitem__\u001b[0;34m(self, key)\u001b[0m\n\u001b[1;32m    499\u001b[0m             \u001b[0;32mdef\u001b[0m \u001b[0m__getitem__\u001b[0m\u001b[0;34m(\u001b[0m\u001b[0mself\u001b[0m\u001b[0;34m,\u001b[0m \u001b[0mkey\u001b[0m\u001b[0;34m)\u001b[0m\u001b[0;34m:\u001b[0m\u001b[0;34m\u001b[0m\u001b[0;34m\u001b[0m\u001b[0m\n\u001b[1;32m    500\u001b[0m                 \u001b[0mcoeff\u001b[0m \u001b[0;34m=\u001b[0m \u001b[0mself\u001b[0m\u001b[0;34m.\u001b[0m\u001b[0mobj\u001b[0m\u001b[0;34m.\u001b[0m\u001b[0mcoeffs\u001b[0m\u001b[0;34m[\u001b[0m\u001b[0mkey\u001b[0m\u001b[0;34m]\u001b[0m\u001b[0;34m\u001b[0m\u001b[0;34m\u001b[0m\u001b[0m\n\u001b[0;32m--> 501\u001b[0;31m                 \u001b[0mmat\u001b[0m \u001b[0;34m=\u001b[0m \u001b[0mPauliTable\u001b[0m\u001b[0;34m.\u001b[0m\u001b[0m_to_matrix\u001b[0m\u001b[0;34m(\u001b[0m\u001b[0mself\u001b[0m\u001b[0;34m.\u001b[0m\u001b[0mobj\u001b[0m\u001b[0;34m.\u001b[0m\u001b[0mtable\u001b[0m\u001b[0;34m.\u001b[0m\u001b[0marray\u001b[0m\u001b[0;34m[\u001b[0m\u001b[0mkey\u001b[0m\u001b[0;34m]\u001b[0m\u001b[0;34m,\u001b[0m \u001b[0msparse\u001b[0m\u001b[0;34m=\u001b[0m\u001b[0msparse\u001b[0m\u001b[0;34m)\u001b[0m\u001b[0;34m\u001b[0m\u001b[0;34m\u001b[0m\u001b[0m\n\u001b[0m\u001b[1;32m    502\u001b[0m                 \u001b[0;32mreturn\u001b[0m \u001b[0mcoeff\u001b[0m \u001b[0;34m*\u001b[0m \u001b[0mmat\u001b[0m\u001b[0;34m\u001b[0m\u001b[0;34m\u001b[0m\u001b[0m\n\u001b[1;32m    503\u001b[0m \u001b[0;34m\u001b[0m\u001b[0m\n",
      "\u001b[0;32m~/miniconda3/envs/QuantumComputing/lib/python3.9/site-packages/qiskit/quantum_info/operators/symplectic/pauli_table.py\u001b[0m in \u001b[0;36m_to_matrix\u001b[0;34m(pauli, sparse, real_valued)\u001b[0m\n\u001b[1;32m   1032\u001b[0m             \u001b[0;32mfrom\u001b[0m \u001b[0mscipy\u001b[0m\u001b[0;34m.\u001b[0m\u001b[0msparse\u001b[0m \u001b[0;32mimport\u001b[0m \u001b[0mcsr_matrix\u001b[0m\u001b[0;34m\u001b[0m\u001b[0;34m\u001b[0m\u001b[0m\n\u001b[1;32m   1033\u001b[0m \u001b[0;34m\u001b[0m\u001b[0m\n\u001b[0;32m-> 1034\u001b[0;31m             \u001b[0;32mreturn\u001b[0m \u001b[0mcsr_matrix\u001b[0m\u001b[0;34m(\u001b[0m\u001b[0;34m(\u001b[0m\u001b[0mdata\u001b[0m\u001b[0;34m,\u001b[0m \u001b[0mindices\u001b[0m\u001b[0;34m,\u001b[0m \u001b[0mindptr\u001b[0m\u001b[0;34m)\u001b[0m\u001b[0;34m,\u001b[0m \u001b[0mshape\u001b[0m\u001b[0;34m=\u001b[0m\u001b[0;34m(\u001b[0m\u001b[0mdim\u001b[0m\u001b[0;34m,\u001b[0m \u001b[0mdim\u001b[0m\u001b[0;34m)\u001b[0m\u001b[0;34m,\u001b[0m \u001b[0mdtype\u001b[0m\u001b[0;34m=\u001b[0m\u001b[0mdtype\u001b[0m\u001b[0;34m)\u001b[0m\u001b[0;34m\u001b[0m\u001b[0;34m\u001b[0m\u001b[0m\n\u001b[0m\u001b[1;32m   1035\u001b[0m \u001b[0;34m\u001b[0m\u001b[0m\n\u001b[1;32m   1036\u001b[0m         \u001b[0;31m# Build dense matrix using csr format\u001b[0m\u001b[0;34m\u001b[0m\u001b[0;34m\u001b[0m\u001b[0;34m\u001b[0m\u001b[0m\n",
      "\u001b[0;32m~/miniconda3/envs/QuantumComputing/lib/python3.9/site-packages/scipy/sparse/compressed.py\u001b[0m in \u001b[0;36m__init__\u001b[0;34m(self, arg1, shape, dtype, copy)\u001b[0m\n\u001b[1;32m     63\u001b[0m                     \u001b[0;32mif\u001b[0m \u001b[0mshape\u001b[0m \u001b[0;32mis\u001b[0m \u001b[0;32mnot\u001b[0m \u001b[0;32mNone\u001b[0m\u001b[0;34m:\u001b[0m\u001b[0;34m\u001b[0m\u001b[0;34m\u001b[0m\u001b[0m\n\u001b[1;32m     64\u001b[0m                         \u001b[0mmaxval\u001b[0m \u001b[0;34m=\u001b[0m \u001b[0mmax\u001b[0m\u001b[0;34m(\u001b[0m\u001b[0mshape\u001b[0m\u001b[0;34m)\u001b[0m\u001b[0;34m\u001b[0m\u001b[0;34m\u001b[0m\u001b[0m\n\u001b[0;32m---> 65\u001b[0;31m                     idx_dtype = get_index_dtype((indices, indptr),\n\u001b[0m\u001b[1;32m     66\u001b[0m                                                 \u001b[0mmaxval\u001b[0m\u001b[0;34m=\u001b[0m\u001b[0mmaxval\u001b[0m\u001b[0;34m,\u001b[0m\u001b[0;34m\u001b[0m\u001b[0;34m\u001b[0m\u001b[0m\n\u001b[1;32m     67\u001b[0m                                                 check_contents=True)\n",
      "\u001b[0;32m~/miniconda3/envs/QuantumComputing/lib/python3.9/site-packages/scipy/sparse/sputils.py\u001b[0m in \u001b[0;36mget_index_dtype\u001b[0;34m(arrays, maxval, check_contents)\u001b[0m\n\u001b[1;32m    160\u001b[0m                     \u001b[0mmaxval\u001b[0m \u001b[0;34m=\u001b[0m \u001b[0marr\u001b[0m\u001b[0;34m.\u001b[0m\u001b[0mmax\u001b[0m\u001b[0;34m(\u001b[0m\u001b[0;34m)\u001b[0m\u001b[0;34m\u001b[0m\u001b[0;34m\u001b[0m\u001b[0m\n\u001b[1;32m    161\u001b[0m                     \u001b[0mminval\u001b[0m \u001b[0;34m=\u001b[0m \u001b[0marr\u001b[0m\u001b[0;34m.\u001b[0m\u001b[0mmin\u001b[0m\u001b[0;34m(\u001b[0m\u001b[0;34m)\u001b[0m\u001b[0;34m\u001b[0m\u001b[0;34m\u001b[0m\u001b[0m\n\u001b[0;32m--> 162\u001b[0;31m                     \u001b[0;32mif\u001b[0m \u001b[0mminval\u001b[0m \u001b[0;34m>=\u001b[0m \u001b[0mint32min\u001b[0m \u001b[0;32mand\u001b[0m \u001b[0mmaxval\u001b[0m \u001b[0;34m<=\u001b[0m \u001b[0mint32max\u001b[0m\u001b[0;34m:\u001b[0m\u001b[0;34m\u001b[0m\u001b[0;34m\u001b[0m\u001b[0m\n\u001b[0m\u001b[1;32m    163\u001b[0m                         \u001b[0;31m# a bigger type not needed\u001b[0m\u001b[0;34m\u001b[0m\u001b[0;34m\u001b[0m\u001b[0;34m\u001b[0m\u001b[0m\n\u001b[1;32m    164\u001b[0m                         \u001b[0;32mcontinue\u001b[0m\u001b[0;34m\u001b[0m\u001b[0;34m\u001b[0m\u001b[0m\n",
      "\u001b[0;31mKeyboardInterrupt\u001b[0m: "
     ]
    }
   ],
   "source": [
    "data = [] \n",
    "\n",
    "for i in range(0,100):\n",
    "    result = vqe.compute_minimum_eigenvalue(obsAHOHAM)\n",
    "    data.append(result.eigenvalue.real)"
   ]
  },
  {
   "cell_type": "code",
   "execution_count": 73,
   "metadata": {},
   "outputs": [
    {
     "data": {
      "image/png": "[encoded data removed]",
      "text/plain": [
       "<Figure size 432x288 with 1 Axes>"
      ]
     },
     "metadata": {
      "needs_background": "light"
     },
     "output_type": "display_data"
    },
    {
     "name": "stdout",
     "output_type": "stream",
     "text": [
      "0.01983670266003855\n"
     ]
    }
   ],
   "source": [
    "import numpy as np\n",
    "import matplotlib.pyplot as plt\n",
    "\n",
    "n, bins, patches = plt.hist(data)\n",
    "plt.show()\n",
    "print(min(data))"
   ]
  },
  {
   "cell_type": "code",
   "execution_count": 74,
   "metadata": {},
   "outputs": [
    {
     "data": {
      "image/png": "[encoded data removed]",
      "text/plain": [
       "<Figure size 432x288 with 1 Axes>"
      ]
     },
     "metadata": {
      "needs_background": "light"
     },
     "output_type": "display_data"
    },
    {
     "name": "stdout",
     "output_type": "stream",
     "text": [
      "0.01983670266003855\n"
     ]
    }
   ],
   "source": [
    "n, bins, patches = plt.hist([i for i in data if i<1.0])\n",
    "plt.show()\n",
    "print(min(data))"
   ]
  },
  {
   "cell_type": "code",
   "execution_count": 76,
   "metadata": {},
   "outputs": [
    {
     "data": {
      "text/plain": [
       "array([0.0198367 , 0.03955232, 0.04275566, 0.05550218, 0.06769821,\n",
       "       0.07642876, 0.08982111, 0.09235218, 0.09681033, 0.10164513])"
      ]
     },
     "execution_count": 76,
     "metadata": {},
     "output_type": "execute_result"
    }
   ],
   "source": [
    "np.sort(data)[0:10]"
   ]
  },
  {
   "cell_type": "markdown",
   "metadata": {},
   "source": [
    "## DW"
   ]
  },
  {
   "cell_type": "code",
   "execution_count": null,
   "metadata": {},
   "outputs": [],
   "source": []
  },
  {
   "cell_type": "code",
   "execution_count": 31,
   "metadata": {},
   "outputs": [],
   "source": [
    "h_b_DW = 0.5*(p*p + (m*q + g*(q*q + mu*mu))**2)\n",
    "h_f_DW = -0.5*(m+2*g*q)#[bdag,b]"
   ]
  },
  {
   "cell_type": "code",
   "execution_count": 32,
   "metadata": {},
   "outputs": [
    {
     "data": {
      "text/plain": [
       "array([ 0.91503687,  0.95899787,  3.21053807,  3.29031775,  7.00690424,\n",
       "        7.12497247, 21.36752081, 25.12571192])"
      ]
     },
     "execution_count": 32,
     "metadata": {},
     "output_type": "execute_result"
    }
   ],
   "source": [
    "hamDW = Hamiltonian(h_b_DW, h_f_DW, {m: 1, g:1, mu: 1},\n",
    "                    2**2, standard_encode)\n",
    "\n",
    "np.sort(np.linalg.eig(np.array(hamDW.hamMatrix,dtype=float))[0])[0:10]"
   ]
  },
  {
   "cell_type": "code",
   "execution_count": 33,
   "metadata": {},
   "outputs": [
    {
     "data": {
      "text/plain": [
       "array([ 0.89308263,  0.89398305,  2.7445775 ,  2.75305657,  4.94585242,\n",
       "        5.14085855,  8.30667934,  8.70004802, 13.31161275, 14.50467148])"
      ]
     },
     "execution_count": 33,
     "metadata": {},
     "output_type": "execute_result"
    }
   ],
   "source": [
    "hamDW = Hamiltonian(h_b_DW, h_f_DW, {m: 1, g:1, mu: 1},\n",
    "                    2**3, standard_encode)\n",
    "\n",
    "np.sort(np.linalg.eig(np.array(hamDW.hamMatrix,dtype=float))[0])[0:10]"
   ]
  },
  {
   "cell_type": "code",
   "execution_count": 34,
   "metadata": {},
   "outputs": [
    {
     "data": {
      "text/plain": [
       "array([0.89163849, 0.8916501 , 2.73421059, 2.73432506, 4.84645895,\n",
       "       4.84793798, 7.18775479, 7.19586103, 9.75001443, 9.77982411])"
      ]
     },
     "execution_count": 34,
     "metadata": {},
     "output_type": "execute_result"
    }
   ],
   "source": [
    "hamDW = Hamiltonian(h_b_DW, h_f_DW, {m: 1, g:1, mu: 1},\n",
    "                    2**4, standard_encode)\n",
    "\n",
    "np.sort(np.linalg.eig(np.array(hamDW.hamMatrix,dtype=float))[0])[0:10]"
   ]
  },
  {
   "cell_type": "code",
   "execution_count": 35,
   "metadata": {},
   "outputs": [
    {
     "name": "stdout",
     "output_type": "stream",
     "text": [
      "2 & 1.08e+00 & 1.08e+00 \\\\ \n",
      "4 & 9.15e-01 & 9.15e-01 \\\\ \n",
      "8 & 8.93e-01 & 8.93e-01 \\\\ \n",
      "16 & 8.92e-01 & 8.94e-01 \\\\ \n",
      "32 & 8.92e-01 & 8.95e-01 \\\\ \n",
      "\n"
     ]
    }
   ],
   "source": [
    "dw_data=fill_vqe_dict(h_b_DW,h_f_DW, {m:1, g:1, mu: 1},[2**i for i in range(1,6)])\n",
    "print(latex_vqe_table(dw_data))"
   ]
  },
  {
   "cell_type": "code",
   "execution_count": 24,
   "metadata": {},
   "outputs": [
    {
     "data": {
      "text/plain": [
       "(0.9150368745234885+0j)"
      ]
     },
     "execution_count": 24,
     "metadata": {},
     "output_type": "execute_result"
    }
   ],
   "source": [
    "min(np.linalg.eig(getMatrix(hamDW.pauliStrings))[0])"
   ]
  },
  {
   "cell_type": "code",
   "execution_count": 36,
   "metadata": {},
   "outputs": [
    {
     "name": "stdout",
     "output_type": "stream",
     "text": [
      "(1.0951884052605132+0j)\n"
     ]
    }
   ],
   "source": [
    "from src.qiskit_utilities import *\n",
    "\n",
    "obsDWHAM = pauli_string_to_op(hamDW.pauliStrings)\n",
    "\n",
    "result = vqe.compute_minimum_eigenvalue(obsDWHAM)\n",
    "print(result.eigenvalue)"
   ]
  },
  {
   "cell_type": "code",
   "execution_count": 65,
   "metadata": {},
   "outputs": [
    {
     "data": {
      "text/plain": [
       "array([0.89163849, 0.8916501 , 2.73421059, 2.73432506, 4.84645895,\n",
       "       4.84793798, 7.18775479, 7.19586103, 9.75001443, 9.77982411])"
      ]
     },
     "execution_count": 65,
     "metadata": {},
     "output_type": "execute_result"
    }
   ],
   "source": []
  },
  {
   "cell_type": "code",
   "execution_count": 57,
   "metadata": {},
   "outputs": [],
   "source": [
    "data = [] \n",
    "\n",
    "for i in range(0,200):\n",
    "    result = vqe.compute_minimum_eigenvalue(obsDWHAM)\n",
    "    data.append(result.eigenvalue.real)"
   ]
  },
  {
   "cell_type": "code",
   "execution_count": 58,
   "metadata": {},
   "outputs": [
    {
     "data": {
      "image/png": "[encoded data removed]",
      "text/plain": [
       "<Figure size 432x288 with 1 Axes>"
      ]
     },
     "metadata": {
      "needs_background": "light"
     },
     "output_type": "display_data"
    },
    {
     "name": "stdout",
     "output_type": "stream",
     "text": [
      "0.8933244311073774\n"
     ]
    }
   ],
   "source": [
    "import numpy as np\n",
    "import matplotlib.pyplot as plt\n",
    "\n",
    "n, bins, patches = plt.hist(data)\n",
    "plt.show()\n",
    "print(min(data))"
   ]
  },
  {
   "cell_type": "code",
   "execution_count": 60,
   "metadata": {},
   "outputs": [
    {
     "data": {
      "image/png": "[encoded data removed]",
      "text/plain": [
       "<Figure size 432x288 with 1 Axes>"
      ]
     },
     "metadata": {
      "needs_background": "light"
     },
     "output_type": "display_data"
    }
   ],
   "source": [
    "n, bins, patches = plt.hist([i for i in data if i<1.0])\n",
    "plt.show()"
   ]
  },
  {
   "cell_type": "code",
   "execution_count": 26,
   "metadata": {},
   "outputs": [
    {
     "name": "stderr",
     "output_type": "stream",
     "text": [
      "<ipython-input-26-57588e3914d0>:1: DeprecationWarning: \n",
      "The VQE.get_optimal_vector method is deprecated as of Qiskit Terra 0.18.0\n",
      "and will be removed no sooner than 3 months after the releasedate.\n",
      "This information is part of the returned result object and can be\n",
      "queried as VQEResult.eigenvector.\n",
      "  ovec=vqe.get_optimal_vector()\n"
     ]
    }
   ],
   "source": [
    "ovec=vqe.get_optimal_vector()"
   ]
  },
  {
   "cell_type": "code",
   "execution_count": 27,
   "metadata": {},
   "outputs": [
    {
     "data": {
      "text/plain": [
       "{'000': 2.3286164616435062e-07,\n",
       " '001': 0.9308631200954977,\n",
       " '010': 3.3489621537576535e-09,\n",
       " '011': 0.02522975095438438,\n",
       " '100': 1.0025483874937313e-08,\n",
       " '101': 0.040498411502067,\n",
       " '110': 5.983480190999407e-10,\n",
       " '111': 0.0034084706136112606}"
      ]
     },
     "execution_count": 27,
     "metadata": {},
     "output_type": "execute_result"
    }
   ],
   "source": [
    "svec=qiskit.quantum_info.Statevector(ovec)\n",
    "svec.probabilities_dict()"
   ]
  },
  {
   "cell_type": "code",
   "execution_count": 28,
   "metadata": {},
   "outputs": [
    {
     "name": "stdout",
     "output_type": "stream",
     "text": [
      "(0.9150373521469856+0j)\n"
     ]
    },
    {
     "data": {
      "text/plain": [
       "{'000': 8.073637819672949e-07,\n",
       " '001': 0.9308282553503109,\n",
       " '010': 2.4662794928827658e-08,\n",
       " '011': 0.02524028592482414,\n",
       " '100': 3.5224547571854214e-08,\n",
       " '101': 0.04051712341810499,\n",
       " '110': 3.184555735469795e-09,\n",
       " '111': 0.003413464871079842}"
      ]
     },
     "execution_count": 28,
     "metadata": {},
     "output_type": "execute_result"
    }
   ],
   "source": [
    "result = vqe.compute_minimum_eigenvalue(obsDWHAM)\n",
    "print(result.eigenvalue)\n",
    "ovec=vqe.get_optimal_vector()\n",
    "svec=qiskit.quantum_info.Statevector(ovec)\n",
    "svec.probabilities_dict()"
   ]
  },
  {
   "cell_type": "code",
   "execution_count": 29,
   "metadata": {},
   "outputs": [
    {
     "name": "stdout",
     "output_type": "stream",
     "text": [
      "(0.9150566236540667+0j)\n"
     ]
    },
    {
     "data": {
      "text/plain": [
       "{'000': 6.001019895139936e-06,\n",
       " '001': 0.9308511027232788,\n",
       " '010': 3.8342875630128493e-07,\n",
       " '011': 0.025242013339559208,\n",
       " '100': 1.5863500285475468e-07,\n",
       " '101': 0.04049166268451669,\n",
       " '110': 2.0833487661717596e-07,\n",
       " '111': 0.0034084698341147234}"
      ]
     },
     "execution_count": 29,
     "metadata": {},
     "output_type": "execute_result"
    }
   ],
   "source": [
    "result = vqe.compute_minimum_eigenvalue(obsDWHAM)\n",
    "print(result.eigenvalue)\n",
    "ovec=vqe.get_optimal_vector()\n",
    "svec=qiskit.quantum_info.Statevector(ovec)\n",
    "svec.probabilities_dict()"
   ]
  },
  {
   "cell_type": "code",
   "execution_count": 30,
   "metadata": {},
   "outputs": [
    {
     "name": "stdout",
     "output_type": "stream",
     "text": [
      "(0.958999598759493+0j)\n"
     ]
    },
    {
     "data": {
      "text/plain": [
       "{'000': 0.6831652668751452,\n",
       " '001': 1.368271064476127e-06,\n",
       " '010': 0.006877669383093812,\n",
       " '011': 7.380283086148149e-09,\n",
       " '100': 0.3062737829086776,\n",
       " '101': 6.60748695841144e-07,\n",
       " '110': 0.0036811159798478157,\n",
       " '111': 1.284531923240483e-07}"
      ]
     },
     "execution_count": 30,
     "metadata": {},
     "output_type": "execute_result"
    }
   ],
   "source": [
    "result = vqe.compute_minimum_eigenvalue(obsDWHAM)\n",
    "print(result.eigenvalue)\n",
    "ovec=vqe.get_optimal_vector()\n",
    "svec=qiskit.quantum_info.Statevector(ovec)\n",
    "svec.probabilities_dict()"
   ]
  },
  {
   "cell_type": "code",
   "execution_count": 31,
   "metadata": {},
   "outputs": [
    {
     "name": "stdout",
     "output_type": "stream",
     "text": [
      "\n",
      "==================== Setting of VQE ============================\n",
      "Algorithm: VQE\n",
      "-- quantum_instance: \n",
      "Qiskit Terra version: 0.18.3\n",
      "Backend: 'statevector_simulator (AerProvider)', with following setting:\n",
      "{'basis_gates': ['ccx', 'cp', 'cswap', 'csx', 'cu', 'cu1', 'cu2', 'cu3', 'cx', 'cy', 'cz', 'delay', 'diagonal', 'h', 'id', 'initialize', 'mcp', 'mcphase', 'mcr', 'mcrx', 'mcry', 'mcrz', 'mcswap', 'mcsx', 'mcu', 'mcu1', 'mcu2', 'mcu3', 'mcx', 'mcy', 'mcz', 'multiplexer', 'p', 'pauli', 'r', 'rx', 'rxx', 'ry', 'ryy', 'rz', 'rzx', 'rzz', 's', 'sdg', 'swap', 'sx', 'sxdg', 't', 'tdg', 'u', 'u1', 'u2', 'u3', 'unitary', 'x', 'y', 'z', 'kraus', 'roerror', 'save_amplitudes', 'save_amplitudes_sq', 'save_density_matrix', 'save_expval', 'save_probs', 'save_probs_ket', 'save_state', 'save_statevector', 'set_statevector'], 'coupling_map': None}\n",
      "{'initial_layout': None, 'seed_transpiler': 2, 'optimization_level': None}\n",
      "RunConfig(shots=1, max_credits=10, seed_simulator=2)\n",
      "{'timeout': None}\n",
      "{}\n",
      "{}\n",
      "Measurement mitigation: None\n",
      "-- optimizer: <qiskit.algorithms.optimizers.cobyla.COBYLA object at 0x7faf7253dcd0>\n",
      "-- gradient: None\n",
      "-- cost_fn: None\n",
      "-- initial_point: Random seed\n",
      "-- ansatz:      ┌──────────┐          ┌──────────┐            \n",
      "q_0: ┤ Ry(θ[0]) ├──■────■──┤ Ry(θ[3]) ├────────────\n",
      "     ├──────────┤┌─┴─┐  │  └──────────┘┌──────────┐\n",
      "q_1: ┤ Ry(θ[1]) ├┤ X ├──┼───────■──────┤ Ry(θ[4]) ├\n",
      "     ├──────────┤└───┘┌─┴─┐   ┌─┴─┐    ├──────────┤\n",
      "q_2: ┤ Ry(θ[2]) ├─────┤ X ├───┤ X ├────┤ Ry(θ[5]) ├\n",
      "     └──────────┘     └───┘   └───┘    └──────────┘\n",
      "-- ansatz_params: [ParameterVectorElement(θ[0]), ParameterVectorElement(θ[1]), ParameterVectorElement(θ[2]), ParameterVectorElement(θ[3]), ParameterVectorElement(θ[4]), ParameterVectorElement(θ[5])]\n",
      "-- parameterized_circuits: None\n",
      "-- max_evals_grouped: 1\n",
      "-- circuit_sampler: <qiskit.opflow.converters.circuit_sampler.CircuitSampler object at 0x7faf7253da00>\n",
      "-- expectation: None\n",
      "-- include_custom: False\n",
      "-- sort_parameters_by_name: None\n",
      "-- eval_time: None\n",
      "-- eval_count: 1000\n",
      "-- callback: None\n",
      "-- ret: {   'aux_operator_eigenvalues': None,\n",
      "    'cost_function_evals': 1000,\n",
      "    'eigenstate': array([ 8.26538122e-01+0.j, -1.16973119e-03+0.j,  8.29317152e-02+0.j,\n",
      "       -8.59085740e-05+0.j, -5.53420078e-01+0.j,  8.12864500e-04+0.j,\n",
      "        6.06722010e-02+0.j, -3.58403672e-04+0.j]),\n",
      "    'eigenvalue': (0.958999598759493+0j),\n",
      "    'optimal_parameters': {   ParameterVectorElement(θ[4]): 1.8050825093129117,\n",
      "                              ParameterVectorElement(θ[0]): -0.0021986071625412296,\n",
      "                              ParameterVectorElement(θ[1]): 1.7306965163833978,\n",
      "                              ParameterVectorElement(θ[2]): -1.3749757622534793,\n",
      "                              ParameterVectorElement(θ[3]): -0.005020186890304459,\n",
      "                              ParameterVectorElement(θ[5]): 0.4292752038504001},\n",
      "    'optimal_point': array([-0.00219861,  1.73069652, -1.37497576, -0.00502019,  1.80508251,\n",
      "        0.4292752 ]),\n",
      "    'optimal_value': 0.958999598759493,\n",
      "    'optimizer_evals': None,\n",
      "    'optimizer_time': 5.046642303466797}\n",
      "===============================================================\n",
      "     ┌────────────────────────────────────────────────┐\n",
      "q_0: ┤0                                               ├\n",
      "     │                                                │\n",
      "q_1: ┤1 RealAmplitudes(θ[0],θ[1],θ[2],θ[3],θ[4],θ[5]) ├\n",
      "     │                                                │\n",
      "q_2: ┤2                                               ├\n",
      "     └────────────────────────────────────────────────┘===============================================================\n",
      "Optimizer: COBYLA\n",
      "-- method: cobyla\n",
      "-- bounds_support_level: 1\n",
      "-- gradient_support_level: 1\n",
      "-- initial_point_support_level: 3\n",
      "-- options: {'maxiter': 1000, 'disp': False, 'rhobeg': 1.0}\n",
      "-- max_evals_grouped: 1\n",
      "-- kwargs: {'tol': None}\n",
      "===============================================================\n",
      "\n"
     ]
    }
   ],
   "source": [
    "print(vqe.print_settings())"
   ]
  },
  {
   "cell_type": "code",
   "execution_count": 32,
   "metadata": {},
   "outputs": [],
   "source": [
    "data = [] \n",
    "\n",
    "for i in range(0,200):\n",
    "    result = vqe.compute_minimum_eigenvalue(obsDWHAM)\n",
    "    data.append(result.eigenvalue.real)"
   ]
  },
  {
   "cell_type": "code",
   "execution_count": 33,
   "metadata": {},
   "outputs": [
    {
     "data": {
      "text/plain": [
       "[0.9589996842592351,\n",
       " 0.9589988550070294,\n",
       " 0.9150370916020274,\n",
       " 0.9589989543256704,\n",
       " 0.9152321873255256,\n",
       " 0.9589991589509848,\n",
       " 0.9589982205992242,\n",
       " 0.9589985314152216,\n",
       " 0.9150379485320339,\n",
       " 0.9150397645492373,\n",
       " 0.9589985749241112,\n",
       " 0.9158879994116654,\n",
       " 0.9196171357118081,\n",
       " 0.9150371928680866,\n",
       " 0.9150374735974568,\n",
       " 0.9150371155432887,\n",
       " 0.958998772041119,\n",
       " 0.923974233456068,\n",
       " 0.9590022358243386,\n",
       " 0.9589989446678718,\n",
       " 0.9150370486600578,\n",
       " 0.9593796210321132,\n",
       " 0.915037165210093,\n",
       " 0.9150372564778442,\n",
       " 0.9150372463868378,\n",
       " 0.9150370163915896,\n",
       " 0.9589991227268344,\n",
       " 0.923984548301175,\n",
       " 0.9150369895711731,\n",
       " 0.9223103532396554,\n",
       " 0.915037690589132,\n",
       " 0.9606013401634718,\n",
       " 0.9589985323432968,\n",
       " 0.9589981893331796,\n",
       " 0.9150371242220745,\n",
       " 0.9589980926236715,\n",
       " 0.9621209472673024,\n",
       " 0.9150369659502577,\n",
       " 0.9150372312947825,\n",
       " 0.9177030741769233,\n",
       " 0.9589982519213868,\n",
       " 0.9589983816871387,\n",
       " 0.9150370677977978,\n",
       " 0.959000926208387,\n",
       " 0.9150376453154834,\n",
       " 0.9980125537138819,\n",
       " 0.9150370964766137,\n",
       " 0.9179232779207932,\n",
       " 0.9150370028922283,\n",
       " 0.916662563054307,\n",
       " 0.9150374563300244,\n",
       " 0.9150984082354977,\n",
       " 0.958998077243716,\n",
       " 0.9594067074019184,\n",
       " 0.9234677022693634,\n",
       " 0.9150371518449092,\n",
       " 0.9150371352262954,\n",
       " 0.958998388474854,\n",
       " 0.9589981351196009,\n",
       " 0.9207431095306184,\n",
       " 0.9589991893588357,\n",
       " 0.9589986556585184,\n",
       " 0.9216171718888957,\n",
       " 0.958999355130872,\n",
       " 0.9231327163000747,\n",
       " 0.9239797203926857,\n",
       " 0.9152513653768459,\n",
       " 0.915036973102849,\n",
       " 0.9150379089881934,\n",
       " 0.9150372232414068,\n",
       " 0.9214160055397731,\n",
       " 0.9150375127003073,\n",
       " 0.9228086941588699,\n",
       " 0.9151306813847946,\n",
       " 0.9589984670369361,\n",
       " 0.9239691852878285,\n",
       " 0.9589980106621179,\n",
       " 0.9589982053439764,\n",
       " 0.9589985022877721,\n",
       " 0.9589987822818365,\n",
       " 0.9589980980472471,\n",
       " 0.9150370357973578,\n",
       " 0.9150370870224267,\n",
       " 0.9589982197418495,\n",
       " 0.915037269849363,\n",
       " 0.9211973629524621,\n",
       " 0.958998325026225,\n",
       " 0.9179045604418279,\n",
       " 0.9150376017206499,\n",
       " 0.9589992325697371,\n",
       " 0.9150372168277261,\n",
       " 0.9589986122900688,\n",
       " 0.9589982679244023,\n",
       " 0.9233767025988164,\n",
       " 0.9156752221188853,\n",
       " 0.9150369938828329,\n",
       " 0.9589987033139775,\n",
       " 0.9150372322101886,\n",
       " 0.9589993070657372,\n",
       " 0.9589984924802032,\n",
       " 0.9150370362418387,\n",
       " 0.9227962664134481,\n",
       " 0.9589992787028857,\n",
       " 0.9589983292372984,\n",
       " 0.9589993421655941,\n",
       " 0.9151268094687284,\n",
       " 0.9241157803937076,\n",
       " 0.958999592230535,\n",
       " 0.9589994059369726,\n",
       " 0.9150507500471172,\n",
       " 0.9589994760626627,\n",
       " 0.9150378150251217,\n",
       " 0.9230342942824603,\n",
       " 0.9590008015454958,\n",
       " 0.9589987001806116,\n",
       " 0.9589989101995913,\n",
       " 0.9589985542833117,\n",
       " 0.9200042646230615,\n",
       " 0.9150564323134132,\n",
       " 0.9589993869755364,\n",
       " 0.9239150030750961,\n",
       " 0.9590006150365793,\n",
       " 0.9150371580968015,\n",
       " 0.915037084543125,\n",
       " 0.9589988308849542,\n",
       " 0.9589985970351038,\n",
       " 0.9161414394761396,\n",
       " 0.9589986392486861,\n",
       " 0.9150399689768645,\n",
       " 0.9150369802202691,\n",
       " 0.915037666109471,\n",
       " 0.9150373900055093,\n",
       " 0.9150372111813287,\n",
       " 0.915251824457427,\n",
       " 0.915037164481938,\n",
       " 0.9150370937418862,\n",
       " 0.915037574267756,\n",
       " 0.9150373004220866,\n",
       " 0.9150373314145599,\n",
       " 0.9589985422330827,\n",
       " 0.9150371510092427,\n",
       " 0.9176591708695808,\n",
       " 0.9153282684797076,\n",
       " 0.9150371444713423,\n",
       " 0.9150370659702513,\n",
       " 0.9150372468362356,\n",
       " 0.9166100359827102,\n",
       " 0.915036956775371,\n",
       " 0.915037473180685,\n",
       " 0.9589993259917544,\n",
       " 0.9589983628040162,\n",
       " 0.9590003480791991,\n",
       " 0.9589986303331184,\n",
       " 0.9589984252467021,\n",
       " 0.9150376748558825,\n",
       " 0.9150369708027932,\n",
       " 0.9218400985500176,\n",
       " 0.9169882535516262,\n",
       " 0.9150376541315899,\n",
       " 0.9193451223502092,\n",
       " 0.9150373300703107,\n",
       " 0.9589980963854561,\n",
       " 0.958999287923235,\n",
       " 0.9589994487413631,\n",
       " 0.9150369757456852,\n",
       " 0.9174226374778317,\n",
       " 0.9590012967920247,\n",
       " 0.9150370275229022,\n",
       " 0.915037028503712,\n",
       " 0.9150370941022827,\n",
       " 0.9150373265376122,\n",
       " 0.9590096533185806,\n",
       " 0.9589984372757842,\n",
       " 0.9589985475156565,\n",
       " 0.9589983247787557,\n",
       " 0.959077161682007,\n",
       " 0.9150369956500725,\n",
       " 0.9589982127611157,\n",
       " 0.915037223694942,\n",
       " 0.9589985689277605,\n",
       " 0.915037422870792,\n",
       " 0.9150370778049978,\n",
       " 0.9150371337721006,\n",
       " 0.9589991976672806,\n",
       " 0.9589995899367557,\n",
       " 0.9180895523783983,\n",
       " 0.9589985402553178,\n",
       " 0.9150370947029898,\n",
       " 0.9590029946221078,\n",
       " 0.9150370715529538,\n",
       " 0.9150369493765619,\n",
       " 0.9150371496452586,\n",
       " 0.9183539295151673,\n",
       " 0.9150369228297213,\n",
       " 0.9163920422059413,\n",
       " 0.9156741828605205,\n",
       " 0.9589982059568485,\n",
       " 0.9150373537131737,\n",
       " 0.9589980903901555,\n",
       " 0.9150370828123534]"
      ]
     },
     "execution_count": 33,
     "metadata": {},
     "output_type": "execute_result"
    }
   ],
   "source": [
    "data"
   ]
  },
  {
   "cell_type": "code",
   "execution_count": 34,
   "metadata": {},
   "outputs": [
    {
     "data": {
      "image/png": "[encoded data removed]",
      "text/plain": [
       "<Figure size 432x288 with 1 Axes>"
      ]
     },
     "metadata": {
      "needs_background": "light"
     },
     "output_type": "display_data"
    }
   ],
   "source": [
    "import numpy as np\n",
    "import matplotlib.pyplot as plt\n",
    "\n",
    "n, bins, patches = plt.hist(data, 4)\n",
    "plt.show()"
   ]
  },
  {
   "cell_type": "code",
   "execution_count": null,
   "metadata": {},
   "outputs": [],
   "source": []
  }
 ],
 "metadata": {
  "kernelspec": {
   "display_name": "Python 3",
   "language": "python",
   "name": "python3"
  },
  "language_info": {
   "codemirror_mode": {
    "name": "ipython",
    "version": 3
   },
   "file_extension": ".py",
   "mimetype": "text/x-python",
   "name": "python",
   "nbconvert_exporter": "python",
   "pygments_lexer": "ipython3",
   "version": "3.9.1"
  }
 },
 "nbformat": 4,
 "nbformat_minor": 4
}
