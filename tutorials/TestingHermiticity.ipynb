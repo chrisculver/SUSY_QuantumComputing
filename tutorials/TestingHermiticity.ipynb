{
 "cells": [
  {
   "cell_type": "code",
   "execution_count": 1,
   "metadata": {},
   "outputs": [],
   "source": [
    "import sys\n",
    "sys.path.append('..')\n",
    "from src.sympy_utilities import *\n",
    "from src.BinaryEncodings import *\n",
    "from src.qiskit_utilities import *\n",
    "\n",
    "from qiskit import QuantumCircuit, transpile\n",
    "\n",
    "import math"
   ]
  },
  {
   "cell_type": "code",
   "execution_count": 2,
   "metadata": {},
   "outputs": [],
   "source": [
    "#anharmonic oscillator\n",
    "h_b_AHO = 0.5*(p*p + m*m*q*q + 2.*m*g*q*q*q*q + g*g*q*q*q*q*q*q)\n",
    "h_f_AHO = -(m+3*g*q*q)*(b*bdag - bdag*b)"
   ]
  },
  {
   "cell_type": "code",
   "execution_count": 3,
   "metadata": {},
   "outputs": [],
   "source": [
    "ham = Hamiltonian(h_b_AHO, h_f_AHO, {m:1, g:1},\n",
    "                  4, standard_encode)"
   ]
  },
  {
   "cell_type": "code",
   "execution_count": 4,
   "metadata": {},
   "outputs": [
    {
     "data": {
      "text/latex": [
       "$\\displaystyle 22.75 I^{0} I^{1} + 12.6177173016138 I^{0} X^{1} - 15.75 I^{0} Z^{1} - 6.66133814775094 \\cdot 10^{-16} i I^{0} Z^{1} - 5.6875 I^{1} Z^{0} - 6.5189213138798 X^{1} Z^{0} + 0.875 Z^{0} Z^{1} + 6.66133814775094 \\cdot 10^{-16} i Z^{0} Z^{1}$"
      ],
      "text/plain": [
       "22.75*I^0*I^1 + 12.6177173016138*I^0*X^1 - 15.75*I^0*Z^1 - 6.66133814775094e-16*I*I^0*Z^1 - 5.6875*I^1*Z^0 - 6.5189213138798*X^1*Z^0 + 0.875*Z^0*Z^1 + 6.66133814775094e-16*I*Z^0*Z^1"
      ]
     },
     "execution_count": 4,
     "metadata": {},
     "output_type": "execute_result"
    }
   ],
   "source": [
    "ham.bosonPauliStrings"
   ]
  },
  {
   "cell_type": "code",
   "execution_count": 5,
   "metadata": {},
   "outputs": [
    {
     "data": {
      "text/latex": [
       "$\\displaystyle \\left(-1 - 1.5 \\left(a + ad\\right)^{2}\\right) \\left(b bd - bd b\\right)$"
      ],
      "text/plain": [
       "(-1 - 1.5*(a + ad)**2)*(b*bd - bd*b)"
      ]
     },
     "execution_count": 5,
     "metadata": {},
     "output_type": "execute_result"
    }
   ],
   "source": [
    "ham.fermionic"
   ]
  },
  {
   "cell_type": "code",
   "execution_count": 6,
   "metadata": {},
   "outputs": [
    {
     "data": {
      "text/latex": [
       "$\\displaystyle - Z^{2} - 1.5 Z^{2} a ad - 1.5 Z^{2} a^{2} - 1.5 Z^{2} ad a - 1.5 Z^{2} ad^{2}$"
      ],
      "text/plain": [
       "-Z^2 - 1.5*Z^2*a*ad - 1.5*Z^2*a**2 - 1.5*Z^2*ad*a - 1.5*Z^2*ad**2"
      ]
     },
     "execution_count": 6,
     "metadata": {},
     "output_type": "execute_result"
    }
   ],
   "source": [
    "ham.fermionic_strings"
   ]
  },
  {
   "cell_type": "code",
   "execution_count": 7,
   "metadata": {},
   "outputs": [
    {
     "data": {
      "text/plain": [
       "array([[-2.5*Z^2, 0, -2.12132034355964*Z^2, 0],\n",
       "       [0, -5.5*Z^2, 0, -3.67423461417477*Z^2],\n",
       "       [-2.12132034355964*Z^2, 0, -8.5*Z^2, 0],\n",
       "       [0, -3.67423461417477*Z^2, 0, -11.5*Z^2]], dtype=object)"
      ]
     },
     "execution_count": 7,
     "metadata": {},
     "output_type": "execute_result"
    }
   ],
   "source": [
    "ham.fmatrix"
   ]
  },
  {
   "cell_type": "code",
   "execution_count": 8,
   "metadata": {},
   "outputs": [
    {
     "data": {
      "text/latex": [
       "$\\displaystyle 22.75 I^{0} I^{1} I^{2} - 7.0 I^{0} I^{1} Z^{2} + 12.6177173016138 I^{0} I^{2} X^{1} - 15.75 I^{0} I^{2} Z^{1} - 2.89777747886721 I^{0} X^{1} Z^{2} + 3.0 I^{0} Z^{1} Z^{2} - 5.6875 I^{1} I^{2} Z^{0} + 1.5 I^{1} Z^{0} Z^{2} - 6.5189213138798 I^{2} X^{1} Z^{0} + 0.875 I^{2} Z^{0} Z^{1} + 0.776457135307562 X^{1} Z^{0} Z^{2}$"
      ],
      "text/plain": [
       "22.75*I^0*I^1*I^2 - 7.0*I^0*I^1*Z^2 + 12.6177173016138*I^0*I^2*X^1 - 15.75*I^0*I^2*Z^1 - 2.89777747886721*I^0*X^1*Z^2 + 3.0*I^0*Z^1*Z^2 - 5.6875*I^1*I^2*Z^0 + 1.5*I^1*Z^0*Z^2 - 6.5189213138798*I^2*X^1*Z^0 + 0.875*I^2*Z^0*Z^1 + 0.776457135307562*X^1*Z^0*Z^2"
      ]
     },
     "execution_count": 8,
     "metadata": {},
     "output_type": "execute_result"
    }
   ],
   "source": [
    "ham.pauliStrings"
   ]
  },
  {
   "cell_type": "code",
   "execution_count": null,
   "metadata": {},
   "outputs": [],
   "source": []
  }
 ],
 "metadata": {
  "kernelspec": {
   "display_name": "Python 3",
   "language": "python",
   "name": "python3"
  },
  "language_info": {
   "codemirror_mode": {
    "name": "ipython",
    "version": 3
   },
   "file_extension": ".py",
   "mimetype": "text/x-python",
   "name": "python",
   "nbconvert_exporter": "python",
   "pygments_lexer": "ipython3",
   "version": "3.9.1"
  }
 },
 "nbformat": 4,
 "nbformat_minor": 4
}
