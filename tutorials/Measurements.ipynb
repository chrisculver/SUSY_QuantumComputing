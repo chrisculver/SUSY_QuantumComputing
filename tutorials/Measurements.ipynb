{
 "cells": [
  {
   "cell_type": "markdown",
   "metadata": {},
   "source": [
    "# Measurements\n",
    "\n",
    "Let's say we have a Hamiltonian H that can be represented by the following matrix\n",
    "\n",
    "\\begin{equation}\n",
    "    H = \\begin{pmatrix} 0.5 & 0 & 0 & 0 \\\\\n",
    "                        0 & 1.5 & 0 & 0 \\\\\n",
    "                        0 & 0 & 2.5 & 0 \\\\\n",
    "                        0 & 0 & 0 & 3.5 \n",
    "        \\end{pmatrix}\n",
    "\\end{equation}\n",
    "\n"
   ]
  },
  {
   "cell_type": "code",
   "execution_count": 7,
   "metadata": {},
   "outputs": [],
   "source": [
    "hmat = [ [0.5, 0., 0., 0.], [0., 1.5, 0., 0.], [0., 0., 2.5, 0.], [0., 0., 0., 3.5] ]\n",
    "\n",
    "import sys\n",
    "sys.path.append('..')\n",
    "from src.MatrixToQISKITCircuit import *\n",
    "from src.BinaryEncodings import *\n",
    "\n",
    "mtoqc = MatrixToQISKITCircuit(hmat)\n",
    "mtoqc.convert(standard_encode)"
   ]
  },
  {
   "cell_type": "code",
   "execution_count": 6,
   "metadata": {},
   "outputs": [
    {
     "data": {
      "image/png": "[encoded data removed]",
      "text/plain": [
       "<Figure size 146.652x144.48 with 1 Axes>"
      ]
     },
     "execution_count": 6,
     "metadata": {},
     "output_type": "execute_result"
    }
   ],
   "source": [
    "mtoqc.circuit.draw(output=\"mpl\")"
   ]
  },
  {
   "cell_type": "code",
   "execution_count": null,
   "metadata": {},
   "outputs": [],
   "source": []
  }
 ],
 "metadata": {
  "kernelspec": {
   "display_name": "Python 3",
   "language": "python",
   "name": "python3"
  },
  "language_info": {
   "codemirror_mode": {
    "name": "ipython",
    "version": 3
   },
   "file_extension": ".py",
   "mimetype": "text/x-python",
   "name": "python",
   "nbconvert_exporter": "python",
   "pygments_lexer": "ipython3",
   "version": "3.9.1"
  }
 },
 "nbformat": 4,
 "nbformat_minor": 4
}
