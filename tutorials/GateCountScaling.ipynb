{
 "cells": [
  {
   "cell_type": "code",
   "execution_count": 1,
   "metadata": {},
   "outputs": [],
   "source": [
    "import sys\n",
    "sys.path.append('..')\n",
    "from src.sympy_utilities import *\n",
    "from src.BinaryEncodings import *\n",
    "from src.qiskit_utilities import *\n",
    "\n",
    "from qiskit import QuantumCircuit, transpile\n",
    "\n",
    "import math\n",
    "\n",
    "#harmonic oscillator\n",
    "h_b_HO = 0.5*(p*p + m*m*q*q)\n",
    "h_f_HO = -0.5*m#[bdag,b]\n",
    "\n",
    "#hamHO = Hamiltonian(h_b_HO, h_f_HO, {m:1, g:1},\n",
    "#                  2**3, standard_encode)\n",
    "\n",
    "#anharmonic oscillator\n",
    "h_b_AHO = 0.5*(p*p) + 0.5*(m*q+g*q**3)**2\n",
    "h_f_AHO = -0.5*(m+3*g*q*q)#[bdag,b]\n",
    "\n",
    "#hamAHO = Hamiltonian(h_b_AHO, h_f_AHO, {m:1, g:1},\n",
    "#                  2**3, standard_encode)\n",
    "\n",
    "#double well\n",
    "h_b_DW = 0.5*(p*p + (m*q + g*(q*q + mu*mu))**2)\n",
    "h_f_DW = -0.5*(m+2*g*q)#[bdag,b]\n",
    "\n",
    "#hamDW = Hamiltonian(h_b_DW, h_f_DW, {m:1, g:1, mu:1},\n",
    "#                  2**3, standard_encode)"
   ]
  },
  {
   "cell_type": "code",
   "execution_count": 4,
   "metadata": {},
   "outputs": [],
   "source": [
    "HO_circuits = {}\n",
    "AHO_circuits = {}\n",
    "DW_circuits = {}\n",
    "\n",
    "cutoffs = [n for n in range(2**2, 2**5+1)]\n",
    "\n",
    "def hamToQC(ps):\n",
    "    trotterStep = pauli_string_to_trotter_step(ps,1)\n",
    "    nq=int(math.ceil(math.log(n,2)))+1\n",
    "    qc = QuantumCircuit(nq,nq)\n",
    "    qc.append(trotterStep, [i for i in range(nq)])\n",
    "    return transpile(qc, basis_gates = ['cx', 'u1', 'u2', 'u3', 'H', 'X', 'Y', 'Z'])\n",
    "    \n",
    "\n",
    "for n in cutoffs:\n",
    "    ham = Hamiltonian(h_b_HO, h_f_HO, {m:1, g:1},\n",
    "                  n, standard_encode)\n",
    "    HO_circuits[n] = {'hamiltonian': ham, 'circuit': hamToQC(ham.pauliStrings)}\n",
    "    \n",
    "    ham = Hamiltonian(h_b_AHO, h_f_AHO, {m:1, g:1},\n",
    "                  n, standard_encode)\n",
    "    AHO_circuits[n] = {'hamiltonian': ham, 'circuit': hamToQC(ham.pauliStrings)}\n",
    "    \n",
    "    ham = Hamiltonian(h_b_DW, h_f_DW, {m:1, g:1, mu: 1},\n",
    "                  n, standard_encode)\n",
    "    DW_circuits[n] = {'hamiltonian': ham, 'circuit': hamToQC(ham.pauliStrings)}\n",
    "    "
   ]
  },
  {
   "cell_type": "code",
   "execution_count": 5,
   "metadata": {},
   "outputs": [],
   "source": [
    "HOcxCounts = [HO_circuits[n]['circuit'].count_ops().get('cx') for n in cutoffs]\n",
    "AHOcxCounts = [AHO_circuits[n]['circuit'].count_ops().get('cx') for n in cutoffs]\n",
    "DWcxCounts = [DW_circuits[n]['circuit'].count_ops().get('cx') for n in cutoffs]\n",
    "\n",
    "HOcxCounts = [0 if v is None else v for v in HOcxCounts]"
   ]
  },
  {
   "cell_type": "code",
   "execution_count": null,
   "metadata": {},
   "outputs": [],
   "source": []
  },
  {
   "cell_type": "code",
   "execution_count": 4,
   "metadata": {},
   "outputs": [
    {
     "ename": "FileNotFoundError",
     "evalue": "[Errno 2] No such file or directory: 'DATA/ho_circuits.p'",
     "output_type": "error",
     "traceback": [
      "\u001b[0;31m---------------------------------------------------------------------------\u001b[0m",
      "\u001b[0;31mFileNotFoundError\u001b[0m                         Traceback (most recent call last)",
      "\u001b[0;32m<ipython-input-4-dc999f11cccf>\u001b[0m in \u001b[0;36m<module>\u001b[0;34m\u001b[0m\n\u001b[1;32m      1\u001b[0m \u001b[0;32mimport\u001b[0m \u001b[0mpickle\u001b[0m\u001b[0;34m\u001b[0m\u001b[0;34m\u001b[0m\u001b[0m\n\u001b[0;32m----> 2\u001b[0;31m \u001b[0;32mwith\u001b[0m \u001b[0mopen\u001b[0m\u001b[0;34m(\u001b[0m\u001b[0;34m'DATA/ho_circuits.p'\u001b[0m\u001b[0;34m,\u001b[0m\u001b[0;34m'rb'\u001b[0m\u001b[0;34m)\u001b[0m \u001b[0;32mas\u001b[0m \u001b[0mf\u001b[0m\u001b[0;34m:\u001b[0m\u001b[0;34m\u001b[0m\u001b[0;34m\u001b[0m\u001b[0m\n\u001b[0m\u001b[1;32m      3\u001b[0m     \u001b[0mpickle\u001b[0m\u001b[0;34m.\u001b[0m\u001b[0mload\u001b[0m\u001b[0;34m(\u001b[0m\u001b[0mf\u001b[0m\u001b[0;34m)\u001b[0m\u001b[0;34m\u001b[0m\u001b[0;34m\u001b[0m\u001b[0m\n",
      "\u001b[0;31mFileNotFoundError\u001b[0m: [Errno 2] No such file or directory: 'DATA/ho_circuits.p'"
     ]
    }
   ],
   "source": [
    "import pickle\n",
    "with open('DATA/ho_circuits.p','rb') as f:\n",
    "    pickle.load(f)"
   ]
  },
  {
   "cell_type": "code",
   "execution_count": 6,
   "metadata": {},
   "outputs": [
    {
     "name": "stderr",
     "output_type": "stream",
     "text": [
      "findfont: Font family ['serif'] not found. Falling back to DejaVu Sans.\n"
     ]
    },
    {
     "data": {
      "image/png": "[encoded data removed]",
      "text/plain": [
       "<Figure size 432x288 with 1 Axes>"
      ]
     },
     "metadata": {
      "needs_background": "light"
     },
     "output_type": "display_data"
    }
   ],
   "source": [
    "import matplotlib.pyplot as plt\n",
    "\n",
    "plt.plot(cutoffs, HOcxCounts,'o',label='HO')\n",
    "plt.plot(cutoffs, AHOcxCounts,'x',label='AHO')\n",
    "plt.plot(cutoffs, DWcxCounts,'*',label='DW')\n",
    "plt.xlabel('\\# Oscillator Modes')\n",
    "plt.ylabel('CX Gates')\n",
    "plt.title('Single Trotter Step')\n",
    "plt.legend(loc='upper left')\n",
    "plt.ylim(-1,3000)\n",
    "plt.savefig('PLOTS/gate_counts.pdf')"
   ]
  },
  {
   "cell_type": "code",
   "execution_count": 9,
   "metadata": {},
   "outputs": [],
   "source": [
    "import pickle\n",
    "pickle.dump(HO_circuits,open('DATA/ho_circuits.p','wb'))\n",
    "pickle.dump(AHO_circuits,open('DATA/aho_circuits.p','wb'))\n",
    "pickle.dump(DW_circuits,open('DATA/dw_circuits.p','wb'))"
   ]
  },
  {
   "cell_type": "code",
   "execution_count": null,
   "metadata": {},
   "outputs": [],
   "source": []
  },
  {
   "cell_type": "code",
   "execution_count": null,
   "metadata": {},
   "outputs": [],
   "source": [
    "# Try log plot for gate counts.\n",
    "# move legend off of data point.\n",
    "# opposite order the key"
   ]
  }
 ],
 "metadata": {
  "kernelspec": {
   "display_name": "Python 3",
   "language": "python",
   "name": "python3"
  },
  "language_info": {
   "codemirror_mode": {
    "name": "ipython",
    "version": 3
   },
   "file_extension": ".py",
   "mimetype": "text/x-python",
   "name": "python",
   "nbconvert_exporter": "python",
   "pygments_lexer": "ipython3",
   "version": "3.9.1"
  }
 },
 "nbformat": 4,
 "nbformat_minor": 4
}
