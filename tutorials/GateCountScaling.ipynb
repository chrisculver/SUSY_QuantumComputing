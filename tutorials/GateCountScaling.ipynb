{
 "cells": [
  {
   "cell_type": "code",
   "execution_count": 3,
   "metadata": {},
   "outputs": [],
   "source": [
    "import sys\n",
    "sys.path.append('..')\n",
    "from src.sympy_utilities import *\n",
    "from src.BinaryEncodings import *\n",
    "from src.qiskit_utilities import *\n",
    "\n",
    "from qiskit import QuantumCircuit, transpile\n",
    "\n",
    "import math\n",
    "\n",
    "#harmonic oscillator\n",
    "h_b_HO = 0.5*(p*p + m*m*q*q)\n",
    "h_f_HO = m*b*bdag - m*bdag*b\n",
    "\n",
    "hamHO = Hamiltonian(h_b_HO, h_f_HO, {m:1, g:1},\n",
    "                  2**3, standard_encode)\n",
    "\n",
    "#anharmonic oscillator\n",
    "h_b_AHO = 0.5*(p*p + m*m*q*q + 2.*m*g*q*q*q*q + g*g*q*q*q*q*q*q)\n",
    "h_f_AHO = 0.5*(m+3*g*q*q)*(b*bdag - bdag*b)\n",
    "\n",
    "#hamAHO = Hamiltonian(h_b, h_f, {m:1, g:1},\n",
    "#                  2**3, standard_encode)\n",
    "\n",
    "#double well\n",
    "h_b_DW = 0.5*(p*p + (m*q + g*(q*q + mu*mu))**2)\n",
    "h_f_DW = -0.5*(m+2*g*q)*(b*bdag-bdag*b)\n",
    "\n",
    "#hamDW = Hamiltonian(h_b, h_f, {m:1, g:1, mu:1},\n",
    "#                  2**3, standard_encode)"
   ]
  },
  {
   "cell_type": "code",
   "execution_count": 6,
   "metadata": {},
   "outputs": [
    {
     "data": {
      "text/latex": [
       "$\\displaystyle 0.5 a ad + 0.5 ad a$"
      ],
      "text/plain": [
       "0.5*a*ad + 0.5*ad*a"
      ]
     },
     "execution_count": 6,
     "metadata": {},
     "output_type": "execute_result"
    }
   ],
   "source": [
    "hamHO.harmonic"
   ]
  },
  {
   "cell_type": "code",
   "execution_count": 3,
   "metadata": {},
   "outputs": [],
   "source": [
    "HO_circuits = {}\n",
    "AHO_circuits = {}\n",
    "DW_circuits = {}\n",
    "\n",
    "cutoffs = [n for n in range(2**2, 2**5+1)]\n",
    "\n",
    "def hamToQC(ps):\n",
    "    trotterStep = pauli_string_to_trotter_step(ps,1)\n",
    "    nq=int(math.ceil(math.log(n,2)))+1\n",
    "    qc = QuantumCircuit(nq,nq)\n",
    "    qc.append(trotterStep, [i for i in range(nq)])\n",
    "    return transpile(qc, basis_gates = ['cx', 'u1', 'u2', 'u3', 'H', 'X', 'Y', 'Z'])\n",
    "    \n",
    "\n",
    "for n in cutoffs:\n",
    "    ham = Hamiltonian(h_b_HO, h_f_HO, {m:1, g:1},\n",
    "                  n, standard_encode)\n",
    "    HO_circuits[n] = {'hamiltonian': ham, 'circuit': hamToQC(ham.pauliStrings)}\n",
    "    \n",
    "#    ham = Hamiltonian(h_b_AHO, h_f_AHO, {m:1, g:1},\n",
    "#                  n, standard_encode)\n",
    "#    AHO_circuits[n] = {'hamiltonian': ham, 'circuit': hamToQC(ham.pauliStrings)}\n",
    "    \n",
    "    ham = Hamiltonian(h_b_DW, h_f_DW, {m:1, g:1, mu: 1},\n",
    "                  n, standard_encode)\n",
    "    DW_circuits[n] = {'hamiltonian': ham, 'circuit': hamToQC(ham.pauliStrings)}\n",
    "    "
   ]
  },
  {
   "cell_type": "code",
   "execution_count": 4,
   "metadata": {},
   "outputs": [],
   "source": [
    "HOcxCounts = [HO_circuits[n]['circuit'].count_ops().get('cx') for n in cutoffs]\n",
    "#AHOcxCounts = [AHO_circuits[n]['circuit'].count_ops().get('cx') for n in cutoffs]\n",
    "DWcxCounts = [DW_circuits[n]['circuit'].count_ops().get('cx') for n in cutoffs]\n",
    "\n",
    "HOcxCounts = [0 if v is None else v for v in HOcxCounts]"
   ]
  },
  {
   "cell_type": "code",
   "execution_count": 11,
   "metadata": {},
   "outputs": [
    {
     "data": {
      "image/png": "[encoded data removed]",
      "text/plain": [
       "<Figure size 432x288 with 1 Axes>"
      ]
     },
     "metadata": {
      "needs_background": "light"
     },
     "output_type": "display_data"
    }
   ],
   "source": [
    "import matplotlib.pyplot as plt\n",
    "\n",
    "plt.plot(cutoffs, HOcxCounts,'o',label='HO')\n",
    "#plt.plot(cutoffs, AHOcxCounts,'x',label='AHO')\n",
    "plt.plot(cutoffs, DWcxCounts,'*',label='DW')\n",
    "plt.xlabel('\\# Oscillator Modes')\n",
    "plt.ylabel('CX Gates')\n",
    "#plt.title('Single Trotter Step')\n",
    "plt.legend(loc='upper left')\n",
    "plt.ylim(-1,3000)\n",
    "plt.savefig('PLOTS/gate_counts.pdf')"
   ]
  },
  {
   "cell_type": "code",
   "execution_count": 6,
   "metadata": {},
   "outputs": [],
   "source": [
    "ham = AHO_circuits[4]['hamiltonian']"
   ]
  },
  {
   "cell_type": "code",
   "execution_count": 7,
   "metadata": {},
   "outputs": [
    {
     "data": {
      "text/latex": [
       "$\\displaystyle 32.75 I^{0} I^{1} I^{2} + 3.5 I^{0} I^{1} Z^{2} + 14.1486483908533 I^{0} I^{2} X^{1} - 25.75 I^{0} I^{2} Z^{1} + 1.4488887394336 I^{0} X^{1} Z^{2} - 1.5 I^{0} Z^{1} Z^{2} - 13.8125 I^{1} I^{2} Z^{0} - 0.75 I^{1} Z^{0} Z^{2} - 8.04985240311929 I^{2} X^{1} Z^{0} + 9.0 I^{2} Z^{0} Z^{1} - 0.388228567653781 X^{1} Z^{0} Z^{2}$"
      ],
      "text/plain": [
       "32.75*I^0*I^1*I^2 + 3.5*I^0*I^1*Z^2 + 14.1486483908533*I^0*I^2*X^1 - 25.75*I^0*I^2*Z^1 + 1.4488887394336*I^0*X^1*Z^2 - 1.5*I^0*Z^1*Z^2 - 13.8125*I^1*I^2*Z^0 - 0.75*I^1*Z^0*Z^2 - 8.04985240311929*I^2*X^1*Z^0 + 9.0*I^2*Z^0*Z^1 - 0.388228567653781*X^1*Z^0*Z^2"
      ]
     },
     "execution_count": 7,
     "metadata": {},
     "output_type": "execute_result"
    }
   ],
   "source": [
    "ham.pauliStrings"
   ]
  },
  {
   "cell_type": "code",
   "execution_count": 9,
   "metadata": {},
   "outputs": [],
   "source": [
    "import pickle\n",
    "pickle.dump(HO_circuits,open('DATA/ho_circuits.p','wb'))\n",
    "#pickle.dump(AHO_circuits,open('DATA/aho_circuits.p','wb'))\n",
    "pickle.dump(DW_circuits,open('DATA/dw_circuits.p','wb'))"
   ]
  },
  {
   "cell_type": "code",
   "execution_count": null,
   "metadata": {},
   "outputs": [],
   "source": []
  },
  {
   "cell_type": "code",
   "execution_count": null,
   "metadata": {},
   "outputs": [],
   "source": []
  }
 ],
 "metadata": {
  "kernelspec": {
   "display_name": "Python 3",
   "language": "python",
   "name": "python3"
  },
  "language_info": {
   "codemirror_mode": {
    "name": "ipython",
    "version": 3
   },
   "file_extension": ".py",
   "mimetype": "text/x-python",
   "name": "python",
   "nbconvert_exporter": "python",
   "pygments_lexer": "ipython3",
   "version": "3.9.1"
  }
 },
 "nbformat": 4,
 "nbformat_minor": 4
}
