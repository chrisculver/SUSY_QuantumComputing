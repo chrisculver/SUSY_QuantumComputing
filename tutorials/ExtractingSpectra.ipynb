{
 "cells": [
  {
   "cell_type": "code",
   "execution_count": 1,
   "metadata": {},
   "outputs": [],
   "source": [
    "import pickle\n",
    "import sys\n",
    "sys.path.append('..')\n",
    "from src.sympy_utilities import *\n",
    "from src.BinaryEncodings import *\n",
    "from src.qiskit_utilities import *\n",
    "\n",
    "import matplotlib.pyplot as plt"
   ]
  },
  {
   "cell_type": "code",
   "execution_count": null,
   "metadata": {},
   "outputs": [],
   "source": []
  },
  {
   "cell_type": "code",
   "execution_count": 4,
   "metadata": {},
   "outputs": [],
   "source": [
    "h_b_HO = 0.5*(p*p + m*m*q*q)\n",
    "h_f_HO = -0.5*m#[bdag,b]\n",
    "\n",
    "hamHO = Hamiltonian(h_b_HO, h_f_HO, {m:1, g:1},\n",
    "                  2**1, standard_encode)"
   ]
  },
  {
   "cell_type": "code",
   "execution_count": 5,
   "metadata": {},
   "outputs": [
    {
     "data": {
      "text/latex": [
       "$\\displaystyle 1.0 I^{0} I^{1} + 0.5 I^{0} Z^{1} - 0.5 I^{1} Z^{0}$"
      ],
      "text/plain": [
       "1.0*I^0*I^1 + 0.5*I^0*Z^1 - 0.5*I^1*Z^0"
      ]
     },
     "execution_count": 5,
     "metadata": {},
     "output_type": "execute_result"
    }
   ],
   "source": [
    "hamHO.pauliStrings"
   ]
  },
  {
   "cell_type": "code",
   "execution_count": 6,
   "metadata": {},
   "outputs": [],
   "source": [
    "from qiskit.aqua.operators import I,X,Y,Z, PauliTrotterEvolution\n",
    "from qiskit import QuantumCircuit, transpile"
   ]
  },
  {
   "cell_type": "code",
   "execution_count": null,
   "metadata": {},
   "outputs": [],
   "source": []
  },
  {
   "cell_type": "code",
   "execution_count": 9,
   "metadata": {},
   "outputs": [],
   "source": [
    "operator1 = ((1.5*I^I).exp_i())\n",
    "operator2 = ((-0.5*I^Z).exp_i())\n",
    "operator3 = ((0.5*Z^I).exp_i())"
   ]
  },
  {
   "cell_type": "code",
   "execution_count": 10,
   "metadata": {},
   "outputs": [
    {
     "name": "stdout",
     "output_type": "stream",
     "text": [
      "II\n"
     ]
    },
    {
     "data": {
      "image/png": "[encoded data removed]",
      "text/plain": [
       "<Figure size 267.052x204.68 with 1 Axes>"
      ]
     },
     "execution_count": 10,
     "metadata": {},
     "output_type": "execute_result"
    }
   ],
   "source": [
    "\n",
    "trotter_op1 = PauliTrotterEvolution(trotter_mode='suzuki').convert(operator1)\n",
    "trotter_op2 = PauliTrotterEvolution(trotter_mode='suzuki').convert(operator2)\n",
    "trotter_op3 = PauliTrotterEvolution(trotter_mode='suzuki').convert(operator3)\n",
    "print(operator1)\n",
    "qc = QuantumCircuit(2,2)\n",
    "qc.append(trotter_op1, [0,1])\n",
    "qc.append(trotter_op2, [0,1])\n",
    "qc.append(trotter_op3, [0,1])\n",
    "transpile(qc, basis_gates = ['cx', 'u1', 'u2', 'u3', 'H', 'X', 'Y', 'Z','id']).draw('mpl')"
   ]
  },
  {
   "cell_type": "code",
   "execution_count": null,
   "metadata": {},
   "outputs": [],
   "source": []
  },
  {
   "cell_type": "code",
   "execution_count": 11,
   "metadata": {},
   "outputs": [
    {
     "data": {
      "text/plain": [
       "0.0625"
      ]
     },
     "execution_count": 11,
     "metadata": {},
     "output_type": "execute_result"
    }
   ],
   "source": [
    "1/16"
   ]
  },
  {
   "cell_type": "code",
   "execution_count": 12,
   "metadata": {},
   "outputs": [
    {
     "name": "stdout",
     "output_type": "stream",
     "text": [
      "0.5*a*ad + 0.25*a*ad*a*ad + 0.0625*a*ad*a*ad*a*ad + 0.0625*a*ad*a*ad*a**2 + 0.0625*a*ad*a*ad**2*a + 0.0625*a*ad*a*ad**3 + 0.25*a*ad*a**2 + 0.0625*a*ad*a**2*ad*a + 0.0625*a*ad*a**2*ad**2 + 0.0625*a*ad*a**3*ad + 0.0625*a*ad*a**4 + 0.25*a*ad**2*a + 0.0625*a*ad**2*a*ad*a + 0.0625*a*ad**2*a*ad**2 + 0.0625*a*ad**2*a**2*ad + 0.0625*a*ad**2*a**3 + 0.25*a*ad**3 + 0.0625*a*ad**3*a*ad + 0.0625*a*ad**3*a**2 + 0.0625*a*ad**4*a + 0.0625*a*ad**5 + 0.25*a**2*ad*a + 0.0625*a**2*ad*a*ad*a + 0.0625*a**2*ad*a*ad**2 + 0.0625*a**2*ad*a**2*ad + 0.0625*a**2*ad*a**3 + 0.25*a**2*ad**2 + 0.0625*a**2*ad**2*a*ad + 0.0625*a**2*ad**2*a**2 + 0.0625*a**2*ad**3*a + 0.0625*a**2*ad**4 + 0.25*a**3*ad + 0.0625*a**3*ad*a*ad + 0.0625*a**3*ad*a**2 + 0.0625*a**3*ad**2*a + 0.0625*a**3*ad**3 + 0.25*a**4 + 0.0625*a**4*ad*a + 0.0625*a**4*ad**2 + 0.0625*a**5*ad + 0.0625*a**6 + 0.5*ad*a + 0.25*ad*a*ad*a + 0.0625*ad*a*ad*a*ad*a + 0.0625*ad*a*ad*a*ad**2 + 0.0625*ad*a*ad*a**2*ad + 0.0625*ad*a*ad*a**3 + 0.25*ad*a*ad**2 + 0.0625*ad*a*ad**2*a*ad + 0.0625*ad*a*ad**2*a**2 + 0.0625*ad*a*ad**3*a + 0.0625*ad*a*ad**4 + 0.25*ad*a**2*ad + 0.0625*ad*a**2*ad*a*ad + 0.0625*ad*a**2*ad*a**2 + 0.0625*ad*a**2*ad**2*a + 0.0625*ad*a**2*ad**3 + 0.25*ad*a**3 + 0.0625*ad*a**3*ad*a + 0.0625*ad*a**3*ad**2 + 0.0625*ad*a**4*ad + 0.0625*ad*a**5 + 0.25*ad**2*a*ad + 0.0625*ad**2*a*ad*a*ad + 0.0625*ad**2*a*ad*a**2 + 0.0625*ad**2*a*ad**2*a + 0.0625*ad**2*a*ad**3 + 0.25*ad**2*a**2 + 0.0625*ad**2*a**2*ad*a + 0.0625*ad**2*a**2*ad**2 + 0.0625*ad**2*a**3*ad + 0.0625*ad**2*a**4 + 0.25*ad**3*a + 0.0625*ad**3*a*ad*a + 0.0625*ad**3*a*ad**2 + 0.0625*ad**3*a**2*ad + 0.0625*ad**3*a**3 + 0.25*ad**4 + 0.0625*ad**4*a*ad + 0.0625*ad**4*a**2 + 0.0625*ad**5*a + 0.0625*ad**6\n",
      "\n",
      "-0.5 - 0.75*a*ad - 0.75*a**2 - 0.75*ad*a - 0.75*ad**2\n",
      "\n",
      "32.75*I^0*I^1*I^2 + 3.5*I^0*I^1*Z^2 + 14.1486483908533*I^0*I^2*X^1 - 25.75*I^0*I^2*Z^1 + 1.4488887394336*I^0*X^1*Z^2 - 1.5*I^0*Z^1*Z^2 - 13.8125*I^1*I^2*Z^0 - 0.75*I^1*Z^0*Z^2 - 8.04985240311929*I^2*X^1*Z^0 + 9.0*I^2*Z^0*Z^1 - 0.388228567653781*X^1*Z^0*Z^2\n"
     ]
    }
   ],
   "source": [
    "h_b_AHO = 0.5*(p*p) + 0.5*(m*q+g*q**3)**2\n",
    "h_f_AHO = -0.5*(m+3*g*q*q)#[bdag,b]\n",
    "\n",
    "hamAHO = Hamiltonian(h_b_AHO, h_f_AHO, {m:1, g:1},\n",
    "                  2**2, standard_encode)\n",
    "print(hamAHO.harmonic)\n",
    "print()\n",
    "print(hamAHO.fermionic)\n",
    "print()\n",
    "print(hamAHO.pauliStrings)\n",
    "#print()\n",
    "#print(np.linalg.eig(hamAHO.hamMatrix))"
   ]
  },
  {
   "cell_type": "code",
   "execution_count": 13,
   "metadata": {},
   "outputs": [
    {
     "data": {
      "text/plain": [
       "1.4142135623730951"
      ]
     },
     "execution_count": 13,
     "metadata": {},
     "output_type": "execute_result"
    }
   ],
   "source": [
    "import math\n",
    "math.sqrt(2)"
   ]
  },
  {
   "cell_type": "code",
   "execution_count": 14,
   "metadata": {},
   "outputs": [
    {
     "data": {
      "text/plain": [
       "array([[0.500000000000000, 0],\n",
       "       [0, 1.50000000000000]], dtype=object)"
      ]
     },
     "execution_count": 14,
     "metadata": {},
     "output_type": "execute_result"
    }
   ],
   "source": [
    "hamHO.bmatrix"
   ]
  },
  {
   "cell_type": "code",
   "execution_count": 15,
   "metadata": {},
   "outputs": [
    {
     "data": {
      "text/plain": [
       "(array([0.5, 1.5]),\n",
       " matrix([[1., 0.],\n",
       "         [0., 1.]]))"
      ]
     },
     "execution_count": 15,
     "metadata": {},
     "output_type": "execute_result"
    }
   ],
   "source": [
    "np.linalg.eig(np.matrix(hamHO.bmatrix,dtype=float))"
   ]
  },
  {
   "cell_type": "code",
   "execution_count": 16,
   "metadata": {},
   "outputs": [
    {
     "data": {
      "text/plain": [
       "(array([ 1.00000000e+00+0.j, -1.11022302e-16+0.j,  2.00000000e+00+0.j,\n",
       "         1.00000000e+00+0.j]),\n",
       " array([[1.+0.j, 0.+0.j, 0.+0.j, 0.+0.j],\n",
       "        [0.+0.j, 1.+0.j, 0.+0.j, 0.+0.j],\n",
       "        [0.+0.j, 0.+0.j, 1.+0.j, 0.+0.j],\n",
       "        [0.+0.j, 0.+0.j, 0.+0.j, 1.+0.j]]))"
      ]
     },
     "execution_count": 16,
     "metadata": {},
     "output_type": "execute_result"
    }
   ],
   "source": [
    "np.linalg.eig(getHamMat(hamHO.pauliStrings))"
   ]
  },
  {
   "cell_type": "code",
   "execution_count": 17,
   "metadata": {},
   "outputs": [],
   "source": [
    "h_b_HO = 0.5*(p*p + m*m*q*q)\n",
    "h_f_HO = -0.5*m#[bdag,b]\n",
    "    \n",
    "cuts = [n for n in range(2**2,2**4+1)]\n",
    "eigs = []\n",
    "\n",
    "for n in cuts:\n",
    "    hamHO = Hamiltonian(h_b_HO, h_f_HO, {m:1, g:1},\n",
    "                  n, standard_encode)\n",
    "\n",
    "    eigSys = np.linalg.eig(getHamMat(hamHO.pauliStrings))\n",
    "    eigVals = [en.real for en in eigSys[0]]\n",
    "    eigs.append(np.sort(eigVals))\n"
   ]
  },
  {
   "cell_type": "code",
   "execution_count": 18,
   "metadata": {},
   "outputs": [
    {
     "name": "stdout",
     "output_type": "stream",
     "text": [
      "8\n",
      "16\n"
     ]
    }
   ],
   "source": [
    "print(len(eigs[0]))\n",
    "print(len(eigs[1]))"
   ]
  },
  {
   "cell_type": "code",
   "execution_count": 19,
   "metadata": {},
   "outputs": [],
   "source": [
    "x=[[j+4+n*0.05 for n in range(len(eigs[j]))] for j in range(len(eigs))]\n",
    "y=[[d for d in eig] for eig in eigs]"
   ]
  },
  {
   "cell_type": "code",
   "execution_count": 20,
   "metadata": {},
   "outputs": [
    {
     "data": {
      "image/png": "[encoded data removed]",
      "text/plain": [
       "<Figure size 432x288 with 1 Axes>"
      ]
     },
     "metadata": {
      "needs_background": "light"
     },
     "output_type": "display_data"
    }
   ],
   "source": [
    "for i in range(len(eigs)):\n",
    "    plt.scatter(x[i],y[i])\n",
    "plt.xlabel('$\\\\Lambda$')\n",
    "plt.ylabel('$E$')\n",
    "#plt.show()\n",
    "plt.savefig('PLOTS/HO_spectra.pdf')"
   ]
  },
  {
   "cell_type": "code",
   "execution_count": 21,
   "metadata": {},
   "outputs": [
    {
     "data": {
      "image/png": "[encoded data removed]",
      "text/plain": [
       "<Figure size 432x288 with 1 Axes>"
      ]
     },
     "metadata": {
      "needs_background": "light"
     },
     "output_type": "display_data"
    }
   ],
   "source": [
    "for i in range(len(eigs)):\n",
    "    plt.scatter(x[i],y[i])\n",
    "plt.xlim(3,17)\n",
    "plt.ylim(-1,5.5)\n",
    "plt.xlabel('$\\\\Lambda$')\n",
    "plt.ylabel('$E$')\n",
    "#plt.show()\n",
    "plt.savefig('PLOTS/HO_spectra_zoom.pdf')"
   ]
  },
  {
   "cell_type": "code",
   "execution_count": 22,
   "metadata": {},
   "outputs": [
    {
     "data": {
      "text/plain": [
       "array([0., 1., 1., 2., 2., 3., 3., 4.])"
      ]
     },
     "execution_count": 22,
     "metadata": {},
     "output_type": "execute_result"
    }
   ],
   "source": [
    "eigs[0]"
   ]
  },
  {
   "cell_type": "code",
   "execution_count": 23,
   "metadata": {},
   "outputs": [],
   "source": [
    "cuts = [n for n in range(2**2,2**3+1)]\n",
    "eigs = []\n",
    "\n",
    "h_b_AHO = 0.5*(p*p) + 0.5*(m*q+g*q**3)**2\n",
    "h_f_AHO = -0.5*(m+3*g*q*q)#[bdag,b]\n",
    "\n",
    "for n in cuts:\n",
    "    ham = Hamiltonian(h_b_AHO, h_f_AHO, {m:1, g:0},\n",
    "                  n, standard_encode)\n",
    "\n",
    "    eigSys = np.linalg.eig(getHamMat(ham.pauliStrings))\n",
    "    eigVals = [en.real for en in eigSys[0]]\n",
    "    eigs.append(np.sort(eigVals))"
   ]
  },
  {
   "cell_type": "code",
   "execution_count": 24,
   "metadata": {},
   "outputs": [
    {
     "data": {
      "image/png": "[encoded data removed]",
      "text/plain": [
       "<Figure size 432x288 with 1 Axes>"
      ]
     },
     "metadata": {
      "needs_background": "light"
     },
     "output_type": "display_data"
    }
   ],
   "source": [
    "x=[[j+4+n*0.05 for n in range(len(eigs[j]))] for j in range(len(eigs))]\n",
    "y=[[d for d in eig] for eig in eigs]\n",
    "\n",
    "for i in range(len(eigs)):\n",
    "    plt.scatter(x[i],y[i])\n",
    "plt.plot([x-2 for x in range(2**5)],[0 for y in range(2**5)])\n",
    "plt.xlabel('$\\\\Lambda$')\n",
    "plt.ylabel('$E$')\n",
    "plt.xlim(3,17)\n",
    "plt.ylim(-5,10)\n",
    "plt.title('AHO with $g=0$')\n",
    "#plt.show()\n",
    "plt.savefig('PLOTS/aho_g0.0.pdf')"
   ]
  },
  {
   "cell_type": "code",
   "execution_count": 25,
   "metadata": {},
   "outputs": [],
   "source": [
    "cuts = [n for n in range(2**2,2**3+1)]\n",
    "eigs = []\n",
    "\n",
    "for n in cuts:\n",
    "    ham = Hamiltonian(h_b_AHO, h_f_AHO, {m:1, g:1},\n",
    "                  n, standard_encode)\n",
    "\n",
    "    eigSys = np.linalg.eig(getHamMat(ham.pauliStrings))\n",
    "    eigVals = [en.real for en in eigSys[0]]\n",
    "    eigs.append(np.sort(eigVals))"
   ]
  },
  {
   "cell_type": "code",
   "execution_count": 26,
   "metadata": {},
   "outputs": [
    {
     "data": {
      "image/png": "[encoded data removed]",
      "text/plain": [
       "<Figure size 432x288 with 1 Axes>"
      ]
     },
     "metadata": {
      "needs_background": "light"
     },
     "output_type": "display_data"
    }
   ],
   "source": [
    "x=[[j+4+n*0.05 for n in range(len(eigs[j]))] for j in range(len(eigs))]\n",
    "y=[[d for d in eig] for eig in eigs]\n",
    "\n",
    "for i in range(len(eigs)):\n",
    "    plt.scatter(x[i],y[i])\n",
    "plt.plot([x-2 for x in range(2**5)],[0 for y in range(2**5)])\n",
    "plt.xlabel('$\\\\Lambda$')\n",
    "plt.ylabel('$E$')\n",
    "plt.title('AHO with $g=1$')\n",
    "#plt.show()\n",
    "plt.savefig('PLOTS/aho_g1.0.pdf')"
   ]
  },
  {
   "cell_type": "code",
   "execution_count": 27,
   "metadata": {},
   "outputs": [
    {
     "data": {
      "image/png": "[encoded data removed]",
      "text/plain": [
       "<Figure size 432x288 with 1 Axes>"
      ]
     },
     "metadata": {
      "needs_background": "light"
     },
     "output_type": "display_data"
    }
   ],
   "source": [
    "x=[[j+4+n*0.05 for n in range(len(eigs[j]))] for j in range(len(eigs))]\n",
    "y=[[d for d in eig] for eig in eigs]\n",
    "\n",
    "for i in range(len(eigs)):\n",
    "    plt.scatter(x[i],y[i])\n",
    "plt.plot([x-2 for x in range(2**5)],[0 for y in range(2**5)])\n",
    "plt.xlabel('$\\\\Lambda$')\n",
    "plt.ylabel('$E$')\n",
    "plt.ylim(-10,10)\n",
    "plt.title('AHO with $g=1$')\n",
    "plt.show()\n"
   ]
  },
  {
   "cell_type": "code",
   "execution_count": 8,
   "metadata": {},
   "outputs": [
    {
     "data": {
      "text/plain": [
       "array([ 0.12682403,  2.08341082,  3.323419  ,  7.31797807, 32.24817597,\n",
       "       41.29158918, 81.301581  , 94.30702193])"
      ]
     },
     "execution_count": 8,
     "metadata": {},
     "output_type": "execute_result"
    }
   ],
   "source": [
    "eigs[0]"
   ]
  },
  {
   "cell_type": "code",
   "execution_count": null,
   "metadata": {},
   "outputs": [],
   "source": []
  }
 ],
 "metadata": {
  "kernelspec": {
   "display_name": "Python 3",
   "language": "python",
   "name": "python3"
  },
  "language_info": {
   "codemirror_mode": {
    "name": "ipython",
    "version": 3
   },
   "file_extension": ".py",
   "mimetype": "text/x-python",
   "name": "python",
   "nbconvert_exporter": "python",
   "pygments_lexer": "ipython3",
   "version": "3.9.1"
  }
 },
 "nbformat": 4,
 "nbformat_minor": 4
}
