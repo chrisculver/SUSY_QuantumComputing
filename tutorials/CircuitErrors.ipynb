{
 "cells": [
  {
   "cell_type": "markdown",
   "metadata": {},
   "source": [
    "# Measurements\n",
    "\n",
    "Lets say we are interested in the harmonic oscillator.  We can use methods from the HamiltonianTerms file to build a hamiltonian, each of these routines takes as input n, the size of the matrix it produces.  This is related to the truncation of the bosonic modes. \n"
   ]
  },
  {
   "cell_type": "code",
   "execution_count": 1,
   "metadata": {},
   "outputs": [
    {
     "name": "stdout",
     "output_type": "stream",
     "text": [
      "3\n"
     ]
    }
   ],
   "source": [
    "import sys\n",
    "sys.path.append('..')\n",
    "import src.HamiltonianTerms as ham\n",
    "import numpy as np\n",
    "import sympy as sp\n",
    "import math\n",
    "from qiskit import ClassicalRegister\n",
    "\n",
    "\n",
    "dim = 8\n",
    "hmat = ham.number_op(dim) + 0.5*np.identity(dim)\n",
    "\n",
    "import sys\n",
    "sys.path.append('..')\n",
    "from src.MatrixToQISKITCircuit import *\n",
    "from src.BinaryEncodings import *\n",
    "\n",
    "mtoqc = MatrixToQISKITCircuit(np.asarray(hmat), 1)\n",
    "mtoqc.convert(standard_encode)"
   ]
  },
  {
   "cell_type": "code",
   "execution_count": 2,
   "metadata": {},
   "outputs": [
    {
     "data": {
      "image/png": "[encoded data removed]",
      "text/plain": [
       "<Figure size 146.797x204.68 with 1 Axes>"
      ]
     },
     "execution_count": 2,
     "metadata": {},
     "output_type": "execute_result"
    }
   ],
   "source": [
    "mtoqc.circuit.draw(output=\"mpl\")"
   ]
  },
  {
   "cell_type": "code",
   "execution_count": 3,
   "metadata": {},
   "outputs": [
    {
     "name": "stdout",
     "output_type": "stream",
     "text": [
      "[]\n"
     ]
    }
   ],
   "source": [
    "print(mtoqc.circuit.ancillas)"
   ]
  },
  {
   "cell_type": "code",
   "execution_count": 4,
   "metadata": {},
   "outputs": [
    {
     "name": "stderr",
     "output_type": "stream",
     "text": [
      "/home/chrisculver/miniconda3/envs/QuantumComputing/lib/python3.9/site-packages/qiskit/providers/ibmq/ibmqfactory.py:192: UserWarning: Timestamps in IBMQ backend properties, jobs, and job results are all now in local time instead of UTC.\n",
      "  warnings.warn('Timestamps in IBMQ backend properties, jobs, and job results '\n"
     ]
    }
   ],
   "source": [
    "from qiskit import (\n",
    "    QuantumCircuit,\n",
    "    execute,\n",
    "    Aer)\n",
    "from qiskit.providers.aer.noise import NoiseModel\n",
    "from qiskit import IBMQ\n",
    "from qiskit.visualization import plot_histogram\n",
    "\n",
    "provider = IBMQ.load_account()"
   ]
  },
  {
   "cell_type": "code",
   "execution_count": 5,
   "metadata": {},
   "outputs": [],
   "source": [
    "noise_backend = provider.get_backend('ibmq_16_melbourne')\n",
    "noise_model = NoiseModel.from_backend(noise_backend)"
   ]
  },
  {
   "cell_type": "code",
   "execution_count": 17,
   "metadata": {},
   "outputs": [
    {
     "name": "stdout",
     "output_type": "stream",
     "text": [
      "[QuantumRegister(3, 'q')]\n",
      "[]\n",
      "[QuantumRegister(3, 'q')]\n",
      "[ClassicalRegister(3, 'c')]\n"
     ]
    }
   ],
   "source": [
    "simulator = Aer.get_backend('qasm_simulator')\n",
    "\n",
    "circuit = QuantumCircuit(math.log(dim,2),math.log(dim,2))\n",
    "print(mtoqc.circuit.qregs)\n",
    "print(mtoqc.circuit.cregs)\n",
    "print(circuit.qregs)\n",
    "print(circuit.cregs)\n",
    "\n",
    "circuit = circuit + mtoqc.circuit + mtoqc.circuit + mtoqc.circuit + mtoqc.circuit + mtoqc.circuit + mtoqc.circuit + mtoqc.circuit + mtoqc.circuit + mtoqc.circuit + mtoqc.circuit + mtoqc.circuit + mtoqc.circuit + mtoqc.circuit + mtoqc.circuit + mtoqc.circuit +mtoqc.circuit + mtoqc.circuit + mtoqc.circuit+mtoqc.circuit + mtoqc.circuit + mtoqc.circuit"
   ]
  },
  {
   "cell_type": "code",
   "execution_count": 18,
   "metadata": {},
   "outputs": [
    {
     "data": {
      "text/plain": [
       "<qiskit.circuit.instructionset.InstructionSet at 0x7f893c311550>"
      ]
     },
     "execution_count": 18,
     "metadata": {},
     "output_type": "execute_result"
    }
   ],
   "source": [
    "circuit.measure([i for i in range(round(math.log(dim,2)))], [i for i in range(round(math.log(dim,2)))])"
   ]
  },
  {
   "cell_type": "code",
   "execution_count": 19,
   "metadata": {},
   "outputs": [],
   "source": [
    "job = execute(circuit, simulator, shots=1000, noise_model=noise_model)"
   ]
  },
  {
   "cell_type": "code",
   "execution_count": 20,
   "metadata": {},
   "outputs": [
    {
     "data": {
      "image/png": "[encoded data removed]",
      "text/plain": [
       "<Figure size 504x360 with 1 Axes>"
      ]
     },
     "execution_count": 20,
     "metadata": {},
     "output_type": "execute_result"
    }
   ],
   "source": [
    "result=job.result()\n",
    "counts = result.get_counts(circuit)\n",
    "plot_histogram(counts)"
   ]
  },
  {
   "cell_type": "code",
   "execution_count": 10,
   "metadata": {},
   "outputs": [],
   "source": [
    "dim = 8\n",
    "adag = ham.adag(dim)\n",
    "\n",
    "mtops = MatrixToPauliString(np.asarray(adag))\n",
    "mtops.convert(standard_encode)"
   ]
  },
  {
   "cell_type": "code",
   "execution_count": 11,
   "metadata": {},
   "outputs": [
    {
     "data": {
      "text/latex": [
       "$\\displaystyle 0.951733762016657 I^{1} I^{2} X^{0} - 0.951733762016657 i I^{1} I^{2} Z^{0} - 0.268721060124438 I^{1} X^{0} Z^{2} + 0.268721060124438 i I^{1} Z^{0} Z^{2} + 0.482962913144534 I^{2} X^{0} X^{1} - 0.14271676764171 I^{2} X^{0} Z^{1} - 0.482962913144534 i I^{2} X^{0} Z^{1} + 0.482962913144534 i I^{2} X^{1} Z^{0} + 0.482962913144534 I^{2} Z^{0} Z^{1} + 0.14271676764171 i I^{2} Z^{0} Z^{1} + 0.25 X^{0} X^{1} X^{2} - 0.12940952255126 X^{0} X^{1} Z^{2} - 0.25 i X^{0} X^{1} Z^{2} + 0.25 i X^{0} X^{2} Z^{1} + 0.20970406574949 X^{0} Z^{1} Z^{2} + 0.12940952255126 i X^{0} Z^{1} Z^{2} + 0.25 i X^{1} X^{2} Z^{0} + 0.25 X^{1} Z^{0} Z^{2} - 0.12940952255126 i X^{1} Z^{0} Z^{2} - 0.25 X^{2} Z^{0} Z^{1} - 0.12940952255126 Z^{0} Z^{1} Z^{2} + 0.29029593425051 i Z^{0} Z^{1} Z^{2}$"
      ],
      "text/plain": [
       "0.951733762016657*I^1*I^2*X^0 - 0.951733762016657*I*I^1*I^2*Z^0 - 0.268721060124438*I^1*X^0*Z^2 + 0.268721060124438*I*I^1*Z^0*Z^2 + 0.482962913144534*I^2*X^0*X^1 - 0.14271676764171*I^2*X^0*Z^1 - 0.482962913144534*I*I^2*X^0*Z^1 + 0.482962913144534*I*I^2*X^1*Z^0 + 0.482962913144534*I^2*Z^0*Z^1 + 0.14271676764171*I*I^2*Z^0*Z^1 + 0.25*X^0*X^1*X^2 - 0.12940952255126*X^0*X^1*Z^2 - 0.25*I*X^0*X^1*Z^2 + 0.25*I*X^0*X^2*Z^1 + 0.20970406574949*X^0*Z^1*Z^2 + 0.12940952255126*I*X^0*Z^1*Z^2 + 0.25*I*X^1*X^2*Z^0 + 0.25*X^1*Z^0*Z^2 - 0.12940952255126*I*X^1*Z^0*Z^2 - 0.25*X^2*Z^0*Z^1 - 0.12940952255126*Z^0*Z^1*Z^2 + 0.29029593425051*I*Z^0*Z^1*Z^2"
      ]
     },
     "execution_count": 11,
     "metadata": {},
     "output_type": "execute_result"
    }
   ],
   "source": [
    "sp.expand(mtops.sum_of_paulis)"
   ]
  },
  {
   "cell_type": "code",
   "execution_count": 12,
   "metadata": {},
   "outputs": [],
   "source": [
    "ptoqc = PauliStringsToQISKITCircuit(mtops.sum_of_paulis)\n",
    "ptoqc.string_to_terms()"
   ]
  },
  {
   "cell_type": "code",
   "execution_count": 13,
   "metadata": {},
   "outputs": [],
   "source": [
    "pauli_dict={'paulis': []}\n",
    "for k,v in ptoqc.pauli_terms.items():\n",
    "    pauli_dict['paulis'].append({\"coeff\": {\"real\": v.real, \"imag\": v.imag}, \"label\":k})"
   ]
  },
  {
   "cell_type": "code",
   "execution_count": null,
   "metadata": {},
   "outputs": [],
   "source": []
  }
 ],
 "metadata": {
  "kernelspec": {
   "display_name": "Python 3",
   "language": "python",
   "name": "python3"
  },
  "language_info": {
   "codemirror_mode": {
    "name": "ipython",
    "version": 3
   },
   "file_extension": ".py",
   "mimetype": "text/x-python",
   "name": "python",
   "nbconvert_exporter": "python",
   "pygments_lexer": "ipython3",
   "version": "3.9.1"
  }
 },
 "nbformat": 4,
 "nbformat_minor": 4
}
