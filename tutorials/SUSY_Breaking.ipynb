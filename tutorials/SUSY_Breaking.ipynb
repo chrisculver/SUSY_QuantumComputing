{
 "cells": [
  {
   "cell_type": "code",
   "execution_count": 14,
   "metadata": {},
   "outputs": [],
   "source": [
    "import pickle\n",
    "import sys\n",
    "sys.path.append('..')\n",
    "from src.qiskit_utilities import *\n",
    "\n",
    "from qiskit.aqua.operators import I,X,Y,Z \n",
    "from qiskit.aqua.operators import (StateFn,Zero,One)\n",
    "\n",
    "double_well_ham = pickle.load(open(\"DATA/double_well_hamiltonian.p\",\"rb\"))\n",
    "ho_ham = pickle.load(open(\"DATA/ho_hamiltonian.p\",\"rb\"))"
   ]
  },
  {
   "cell_type": "code",
   "execution_count": 15,
   "metadata": {},
   "outputs": [
    {
     "data": {
      "text/plain": [
       "(1.5+0j)"
      ]
     },
     "execution_count": 15,
     "metadata": {},
     "output_type": "execute_result"
    }
   ],
   "source": [
    "ham = ho_ham\n",
    "\n",
    "obs = StateFn(pauli_string_to_op(ham)).adjoint()\n",
    "circuit = obs\n",
    "circuit.eval(Zero^Zero^Zero^Zero)"
   ]
  },
  {
   "cell_type": "code",
   "execution_count": 28,
   "metadata": {},
   "outputs": [
    {
     "data": {
      "text/plain": [
       "(63.059194957582626+0j)"
      ]
     },
     "execution_count": 28,
     "metadata": {},
     "output_type": "execute_result"
    }
   ],
   "source": [
    "ham = double_well_ham\n",
    "\n",
    "obs = StateFn(pauli_string_to_op(ham)).adjoint()\n",
    "circuit = obs\n",
    "circuit.eval(One^One^One^One)"
   ]
  },
  {
   "cell_type": "code",
   "execution_count": 22,
   "metadata": {},
   "outputs": [],
   "source": []
  },
  {
   "cell_type": "code",
   "execution_count": null,
   "metadata": {},
   "outputs": [],
   "source": []
  }
 ],
 "metadata": {
  "kernelspec": {
   "display_name": "Python 3",
   "language": "python",
   "name": "python3"
  },
  "language_info": {
   "codemirror_mode": {
    "name": "ipython",
    "version": 3
   },
   "file_extension": ".py",
   "mimetype": "text/x-python",
   "name": "python",
   "nbconvert_exporter": "python",
   "pygments_lexer": "ipython3",
   "version": "3.9.1"
  }
 },
 "nbformat": 4,
 "nbformat_minor": 4
}
