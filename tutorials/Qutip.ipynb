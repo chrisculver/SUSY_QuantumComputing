{
 "cells": [
  {
   "cell_type": "code",
   "execution_count": 3,
   "metadata": {},
   "outputs": [],
   "source": [
    "from qutip import *\n",
    "import numpy as np\n",
    "import matplotlib.pyplot as plt"
   ]
  },
  {
   "cell_type": "code",
   "execution_count": 5,
   "metadata": {},
   "outputs": [
    {
     "name": "stdout",
     "output_type": "stream",
     "text": [
      "Quantum object: dims = [[5], [1]], shape = (5, 1), type = ket\n",
      "Qobj data =\n",
      "[[1.]\n",
      " [0.]\n",
      " [0.]\n",
      " [0.]\n",
      " [0.]]\n"
     ]
    }
   ],
   "source": [
    "vac=basis(5,0)\n",
    "print(vac)"
   ]
  },
  {
   "cell_type": "code",
   "execution_count": 12,
   "metadata": {},
   "outputs": [
    {
     "name": "stdout",
     "output_type": "stream",
     "text": [
      "Quantum object: dims = [[5], [1]], shape = (5, 1), type = ket\n",
      "Qobj data =\n",
      "[[0.]\n",
      " [0.]\n",
      " [0.]\n",
      " [0.]\n",
      " [0.]]\n",
      "\n",
      "Quantum object: dims = [[5], [1]], shape = (5, 1), type = ket\n",
      "Qobj data =\n",
      "[[0.]\n",
      " [1.]\n",
      " [0.]\n",
      " [0.]\n",
      " [0.]]\n",
      "\n",
      "Quantum object: dims = [[5], [1]], shape = (5, 1), type = ket\n",
      "Qobj data =\n",
      "[[0.]\n",
      " [1.]\n",
      " [0.]\n",
      " [0.]\n",
      " [0.]]\n",
      "\n",
      "Quantum object: dims = [[5], [1]], shape = (5, 1), type = ket\n",
      "Qobj data =\n",
      "[[0.        ]\n",
      " [0.        ]\n",
      " [1.41421356]\n",
      " [0.        ]\n",
      " [0.        ]]\n"
     ]
    }
   ],
   "source": [
    "a=destroy(5)\n",
    "adag=create(5)\n",
    "print(a*vac)\n",
    "print()\n",
    "print(adag*vac)\n",
    "print()\n",
    "print(a.dag()*vac)\n",
    "print()\n",
    "print(adag*adag*vac)"
   ]
  },
  {
   "cell_type": "code",
   "execution_count": 26,
   "metadata": {},
   "outputs": [
    {
     "name": "stdout",
     "output_type": "stream",
     "text": [
      "Quantum object: dims = [[1], [1]], shape = (1, 1), type = bra\n",
      "Qobj data =\n",
      "[[0.]]\n",
      "Quantum object: dims = [[1], [1]], shape = (1, 1), type = bra\n",
      "Qobj data =\n",
      "[[2.]]\n",
      "Quantum object: dims = [[1], [1]], shape = (1, 1), type = bra\n",
      "Qobj data =\n",
      "[[2.]]\n"
     ]
    }
   ],
   "source": [
    "n=num(5)\n",
    "print(vac.dag()*n*vac)\n",
    "print((adag*adag*vac).unit().dag()*n*(adag*adag*vac).unit())\n",
    "print((adag*adag*vac).unit().dag()*n*(adag*adag*vac).unit())"
   ]
  },
  {
   "cell_type": "code",
   "execution_count": 17,
   "metadata": {},
   "outputs": [
    {
     "data": {
      "text/plain": [
       "0.0"
      ]
     },
     "execution_count": 17,
     "metadata": {},
     "output_type": "execute_result"
    }
   ],
   "source": [
    "expect(n,vac)"
   ]
  },
  {
   "cell_type": "code",
   "execution_count": 20,
   "metadata": {},
   "outputs": [
    {
     "data": {
      "text/plain": [
       "4.000000000000001"
      ]
     },
     "execution_count": 20,
     "metadata": {},
     "output_type": "execute_result"
    }
   ],
   "source": [
    "expect(n,adag*adag*vac)"
   ]
  },
  {
   "cell_type": "code",
   "execution_count": 23,
   "metadata": {},
   "outputs": [
    {
     "name": "stdout",
     "output_type": "stream",
     "text": [
      "[0. 1. 2. 3. 4.]\n"
     ]
    }
   ],
   "source": [
    "vac=basis(5,0)\n",
    "c=create(5)\n",
    "N=num(5)\n",
    "states=[(c**k * vac).unit() for k in range(5)]\n",
    "print(expect(N,states))"
   ]
  },
  {
   "cell_type": "markdown",
   "metadata": {},
   "source": [
    "# HO Hamiltonian\n",
    "\n",
    "$m=1$\n",
    "\n",
    "$H=0.5aa^{+} + 0.5a^{+}a$"
   ]
  },
  {
   "cell_type": "code",
   "execution_count": 29,
   "metadata": {},
   "outputs": [
    {
     "name": "stdout",
     "output_type": "stream",
     "text": [
      "Quantum object: dims = [[2], [2]], shape = (2, 2), type = oper, isherm = True\n",
      "Qobj data =\n",
      "[[0.5 0. ]\n",
      " [0.  0.5]]\n"
     ]
    }
   ],
   "source": [
    "adag=create(2)\n",
    "a=destroy(2)\n",
    "\n",
    "ham=0.5*(a*adag + adag*a)\n",
    "print(ham)"
   ]
  },
  {
   "cell_type": "code",
   "execution_count": 28,
   "metadata": {},
   "outputs": [
    {
     "name": "stdout",
     "output_type": "stream",
     "text": [
      "Quantum object: dims = [[4], [4]], shape = (4, 4), type = oper, isherm = True\n",
      "Qobj data =\n",
      "[[0.5 0.  0.  0. ]\n",
      " [0.  1.5 0.  0. ]\n",
      " [0.  0.  2.5 0. ]\n",
      " [0.  0.  0.  1.5]]\n"
     ]
    }
   ],
   "source": [
    "adag=create(4)\n",
    "a=destroy(4)\n",
    "\n",
    "ham=0.5*(a*adag + adag*a)\n",
    "print(ham)"
   ]
  },
  {
   "cell_type": "code",
   "execution_count": 30,
   "metadata": {},
   "outputs": [
    {
     "name": "stdout",
     "output_type": "stream",
     "text": [
      "Quantum object: dims = [[8], [8]], shape = (8, 8), type = oper, isherm = True\n",
      "Qobj data =\n",
      "[[0.5 0.  0.  0.  0.  0.  0.  0. ]\n",
      " [0.  1.5 0.  0.  0.  0.  0.  0. ]\n",
      " [0.  0.  2.5 0.  0.  0.  0.  0. ]\n",
      " [0.  0.  0.  3.5 0.  0.  0.  0. ]\n",
      " [0.  0.  0.  0.  4.5 0.  0.  0. ]\n",
      " [0.  0.  0.  0.  0.  5.5 0.  0. ]\n",
      " [0.  0.  0.  0.  0.  0.  6.5 0. ]\n",
      " [0.  0.  0.  0.  0.  0.  0.  3.5]]\n"
     ]
    }
   ],
   "source": [
    "adag=create(8)\n",
    "a=destroy(8)\n",
    "\n",
    "ham=0.5*(a*adag + adag*a)\n",
    "print(ham)"
   ]
  },
  {
   "cell_type": "code",
   "execution_count": null,
   "metadata": {},
   "outputs": [],
   "source": []
  }
 ],
 "metadata": {
  "kernelspec": {
   "display_name": "Python 3",
   "language": "python",
   "name": "python3"
  },
  "language_info": {
   "codemirror_mode": {
    "name": "ipython",
    "version": 3
   },
   "file_extension": ".py",
   "mimetype": "text/x-python",
   "name": "python",
   "nbconvert_exporter": "python",
   "pygments_lexer": "ipython3",
   "version": "3.9.1"
  }
 },
 "nbformat": 4,
 "nbformat_minor": 4
}
