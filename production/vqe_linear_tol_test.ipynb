{
 "cells": [
  {
   "cell_type": "code",
   "execution_count": 1,
   "metadata": {},
   "outputs": [],
   "source": [
    "%load_ext autoreload\n",
    "%autoreload 2\n",
    "\n",
    "import sys\n",
    "sys.path.append('..')"
   ]
  },
  {
   "cell_type": "code",
   "execution_count": 11,
   "metadata": {},
   "outputs": [],
   "source": [
    "from src.sympy_utilities import *\n",
    "from src.BinaryEncodings import *\n",
    "from src.MatrixToPauliString import *\n",
    "from src.qiskit_utilities import *\n",
    "\n",
    "from qiskit.algorithms.minimum_eigensolvers import VQE\n",
    "from qiskit.algorithms.optimizers import COBYLA\n",
    "from qiskit.circuit.library import RealAmplitudes\n",
    "from qiskit.primitives import Estimator\n",
    "\n",
    "from ipywidgets import IntProgress\n",
    "from IPython.display import display, clear_output \n",
    "\n",
    "import matplotlib.pyplot as plt\n",
    "import matplotlib.lines as mlines\n",
    "\n",
    "import scipy.sparse.linalg\n",
    "\n",
    "import os\n",
    "import json\n",
    "import math"
   ]
  },
  {
   "cell_type": "code",
   "execution_count": 3,
   "metadata": {},
   "outputs": [],
   "source": [
    "h_b_HO = 0.5*(p*p + m*m*q*q)\n",
    "h_f_HO = -0.5*m#[bdag,b]\n",
    "\n",
    "ham=Hamiltonian(h_b_HO,h_f_HO,{m:1, g:1}, 8, standard_encode)\n"
   ]
  },
  {
   "cell_type": "code",
   "execution_count": 4,
   "metadata": {},
   "outputs": [],
   "source": [
    "hamOP = pauli_string_to_op(ham.pauliStrings)\n",
    "nq=math.floor(math.log2(ham.hamMatrix.shape[0]))\n",
    "if not math.log2(ham.hamMatrix.shape[0]).is_integer():\n",
    "    nq+=1"
   ]
  },
  {
   "cell_type": "code",
   "execution_count": 5,
   "metadata": {},
   "outputs": [],
   "source": [
    "estimator=Estimator()"
   ]
  },
  {
   "cell_type": "code",
   "execution_count": 15,
   "metadata": {},
   "outputs": [],
   "source": [
    "results = {}\n",
    "\n",
    "vqeRuns=10\n",
    "\n",
    "style = {'description_width': 'initial'}\n",
    "layout = {'width':'600px'}\n",
    "\n",
    "entanglement = 'linear'\n",
    "reps = 1\n",
    "\n",
    "for i,tol in enumerate([10**(-n) for n in range(1,16)]):\n",
    "\n",
    "    ansatz = RealAmplitudes(nq, entanglement=entanglement, reps=reps)\n",
    "    vqe = VQE(estimator=estimator, ansatz=ansatz, optimizer=COBYLA(maxiter=10000, tol=tol))\n",
    "\n",
    "    values=[]\n",
    "    iters=[]\n",
    "    progress = IntProgress(min=0, max=vqeRuns, description=\"Running VQE with {} tol\".format(tol), style=style, layout=layout)\n",
    "    display(progress)\n",
    "\n",
    "    for run in range(vqeRuns):\n",
    "        result=vqe.compute_minimum_eigenvalue(hamOP)\n",
    "        values.append(result.eigenvalue.real)\n",
    "        iters.append(result.cost_function_evals)\n",
    "        progress.value += 1\n",
    "\n",
    "    if str(tol) in results:\n",
    "        for value in values:\n",
    "            results[tol][\"eigenvalues\"].append(value)\n",
    "        for iter in iters:\n",
    "            results[tol][\"iters\"].append(iter)\n",
    "\n",
    "    else:\n",
    "        results[tol]={\"eigenvalues\": values, \"iters\": iters}\n",
    "\n",
    "    clear_output()\n"
   ]
  },
  {
   "cell_type": "code",
   "execution_count": 17,
   "metadata": {},
   "outputs": [
    {
     "name": "stdout",
     "output_type": "stream",
     "text": [
      "Min energy = -4.4409e-16\n"
     ]
    },
    {
     "data": {
      "image/png": "[encoded data removed]",
      "text/plain": [
       "<Figure size 432x288 with 1 Axes>"
      ]
     },
     "metadata": {
      "needs_background": "light"
     },
     "output_type": "display_data"
    }
   ],
   "source": [
    "data=results\n",
    "\n",
    "amp='RealAmplitudes'\n",
    "\n",
    "\n",
    "markersize=8\n",
    "\n",
    "\n",
    "#CLASSICAL COMPUTATION OF GROUND STATE ENERGY\n",
    "ens=scipy.sparse.linalg.eigs(getMatrix(ham.pauliStrings),k=7,sigma=0.0)[0]\n",
    "#print(\"Lowest 7 energies = {}\".format(ens))\n",
    "minE=np.array([x.real for x in ens]).min()\n",
    "print(\"Min energy = {:.4e}\".format(minE))\n",
    "\n",
    "\n",
    "entanglement = 'linear'\n",
    "eMin = []\n",
    "iters = []\n",
    "\n",
    "rep=1\n",
    "\n",
    "for i,tol in enumerate([10**(-n) for n in range(1,16)]):\n",
    "    res=data[tol]\n",
    "    minIdx = np.argmin(np.array(res['eigenvalues']))\n",
    "    eval=res['eigenvalues'][minIdx]\n",
    "    iter=res['iters'][minIdx]\n",
    "\n",
    "    if iter==10000:\n",
    "        plt.plot(tol, eval, marker='o', markerfacecolor='none')\n",
    "    else:\n",
    "        plt.plot(tol, eval, marker='o')\n",
    "\n",
    "plt.axhline(minE)\n",
    "\n",
    "plt.yscale('log')\n",
    "plt.xscale('log')\n",
    "plt.xlabel('Tol')\n",
    "plt.ylabel(r'$E_0$')\n",
    "\n",
    "plt.title(amp)\n",
    "plt.show()\n",
    "\n",
    "\n"
   ]
  },
  {
   "cell_type": "code",
   "execution_count": 21,
   "metadata": {},
   "outputs": [
    {
     "data": {
      "image/png": "[encoded data removed]",
      "text/plain": [
       "<Figure size 432x288 with 1 Axes>"
      ]
     },
     "metadata": {
      "needs_background": "light"
     },
     "output_type": "display_data"
    }
   ],
   "source": [
    "for i,tol in enumerate([10**(-n) for n in range(1,16)]):\n",
    "    res=data[tol]\n",
    "    minIdx = np.argmin(np.array(res['eigenvalues']))\n",
    "    eval=res['eigenvalues'][minIdx]\n",
    "    iter=res['iters'][minIdx]\n",
    "\n",
    "    plt.plot(tol, iter, marker='o')\n",
    "\n",
    "\n",
    "plt.axhline(10000)\n",
    "\n",
    "plt.xscale('log')\n",
    "plt.xlabel('Tol')\n",
    "plt.ylabel(r'Iterations')\n",
    "\n",
    "plt.title(amp)\n",
    "\n",
    "plt.ylim(0,600)\n",
    "\n",
    "plt.show()"
   ]
  },
  {
   "cell_type": "code",
   "execution_count": null,
   "metadata": {},
   "outputs": [],
   "source": []
  }
 ],
 "metadata": {
  "kernelspec": {
   "display_name": "SUSYQM",
   "language": "python",
   "name": "python3"
  },
  "language_info": {
   "codemirror_mode": {
    "name": "ipython",
    "version": 3
   },
   "file_extension": ".py",
   "mimetype": "text/x-python",
   "name": "python",
   "nbconvert_exporter": "python",
   "pygments_lexer": "ipython3",
   "version": "3.9.7"
  },
  "orig_nbformat": 4
 },
 "nbformat": 4,
 "nbformat_minor": 2
}
