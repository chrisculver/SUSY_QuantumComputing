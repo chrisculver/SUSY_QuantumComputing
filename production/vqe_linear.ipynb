{
 "cells": [
  {
   "cell_type": "code",
   "execution_count": 1,
   "metadata": {},
   "outputs": [],
   "source": [
    "%load_ext autoreload\n",
    "%autoreload 2\n",
    "\n",
    "import sys\n",
    "sys.path.append('..')"
   ]
  },
  {
   "cell_type": "code",
   "execution_count": 11,
   "metadata": {},
   "outputs": [],
   "source": [
    "from src.sympy_utilities import *\n",
    "from src.BinaryEncodings import *\n",
    "from src.MatrixToPauliString import *\n",
    "from src.qiskit_utilities import *\n",
    "\n",
    "from qiskit.algorithms.minimum_eigensolvers import VQE\n",
    "from qiskit.algorithms.optimizers import COBYLA\n",
    "from qiskit.circuit.library import RealAmplitudes\n",
    "from qiskit.primitives import Estimator\n",
    "\n",
    "from ipywidgets import IntProgress\n",
    "from IPython.display import display, clear_output \n",
    "\n",
    "import matplotlib.pyplot as plt\n",
    "import matplotlib.lines as mlines\n",
    "\n",
    "import os\n",
    "import json\n",
    "import math"
   ]
  },
  {
   "cell_type": "code",
   "execution_count": 3,
   "metadata": {},
   "outputs": [],
   "source": [
    "h_b_HO = 0.5*(p*p + m*m*q*q)\n",
    "h_f_HO = -0.5*m#[bdag,b]\n",
    "\n",
    "ham=Hamiltonian(h_b_HO,h_f_HO,{m:1, g:1}, 8, standard_encode)\n"
   ]
  },
  {
   "cell_type": "code",
   "execution_count": 4,
   "metadata": {},
   "outputs": [],
   "source": [
    "hamOP = pauli_string_to_op(ham.pauliStrings)\n",
    "nq=math.floor(math.log2(ham.hamMatrix.shape[0]))\n",
    "if not math.log2(ham.hamMatrix.shape[0]).is_integer():\n",
    "    nq+=1"
   ]
  },
  {
   "cell_type": "code",
   "execution_count": 5,
   "metadata": {},
   "outputs": [],
   "source": [
    "estimator=Estimator()"
   ]
  },
  {
   "cell_type": "code",
   "execution_count": 7,
   "metadata": {},
   "outputs": [],
   "source": [
    "if os.path.exists('Data/vqe_linear_real_amplitudes.json'):\n",
    "    raFile=open('Data/vqe_linear_real_amplitudes.json')\n",
    "    results=json.load(raFile)\n",
    "else:\n",
    "    results = {}    \n",
    "\n",
    "vqeRuns=10\n",
    "\n",
    "style = {'description_width': 'initial'}\n",
    "layout = {'width':'600px'}\n",
    "\n",
    "for entanglement in ['linear','reverse_linear','circular','sca']: #full and reverse linear are same, reverse has less gates\n",
    "    if entanglement not in results:\n",
    "        results[entanglement]={}\n",
    "\n",
    "    for reps in [1,2,3,4]:\n",
    "        ansatz = RealAmplitudes(nq, entanglement=entanglement, reps=reps)\n",
    "        vqe = VQE(estimator=estimator, ansatz=ansatz, optimizer=COBYLA(maxiter=5000*reps, tol=1e-4))\n",
    "        \n",
    "        values=[]\n",
    "        iters=[]\n",
    "        progress = IntProgress(min=0, max=vqeRuns, description=\"Running VQE with {} entanglement and {} reps\".format(entanglement,reps), style=style, layout=layout)\n",
    "        display(progress)\n",
    "\n",
    "        for run in range(vqeRuns):\n",
    "            result=vqe.compute_minimum_eigenvalue(hamOP)\n",
    "            values.append(result.eigenvalue.real)\n",
    "            iters.append(result.cost_function_evals)\n",
    "            progress.value += 1\n",
    "        \n",
    "        if str(reps) in results[entanglement]:\n",
    "            for value in values:\n",
    "                results[entanglement][str(reps)][\"eigenvalues\"].append(value)\n",
    "            for iter in iters:\n",
    "                results[entanglement][str(reps)][\"iters\"].append(iter)\n",
    "\n",
    "        else:\n",
    "            results[entanglement][reps]={\"eigenvalues\": values, \"iters\": iters}\n",
    "    \n",
    "        with open('Data/vqe_linear_real_amplitudes.json','w') as file:\n",
    "            json.dump(results, file)\n",
    "        \n",
    "        clear_output()"
   ]
  },
  {
   "cell_type": "code",
   "execution_count": 14,
   "metadata": {},
   "outputs": [
    {
     "name": "stdout",
     "output_type": "stream",
     "text": [
      "1.0 4.50262838125326e-09 188\n",
      "2.0 1.389205284141326e-08 321\n",
      "3.0 3.1372062836432235e-08 430\n",
      "4.0 1.834992853222417e-07 1242\n",
      "1.05 7.409597713170513e-09 171\n",
      "2.05 1.3315088365217775e-08 239\n",
      "3.05 8.59641867689831e-08 542\n",
      "4.05 6.87931561715871e-08 793\n",
      "1.1 3.9882773750221645e-09 206\n",
      "2.1 6.556379994471229e-09 352\n",
      "3.1 2.5901768840874695e-08 569\n",
      "4.1 6.84005299067536e-08 619\n",
      "1.15 9.421034952161733e-09 192\n",
      "2.15 2.6348222492700302e-08 371\n",
      "3.15 1.9669416206902213e-08 385\n",
      "4.15 6.291676435399296e-08 950\n"
     ]
    },
    {
     "data": {
      "text/plain": [
       "Text(0.5, 1.0, 'RealAmplitudes')"
      ]
     },
     "execution_count": 14,
     "metadata": {},
     "output_type": "execute_result"
    },
    {
     "data": {
      "image/png": "[encoded data removed]",
      "text/plain": [
       "<Figure size 432x288 with 1 Axes>"
      ]
     },
     "metadata": {
      "needs_background": "light"
     },
     "output_type": "display_data"
    }
   ],
   "source": [
    "data={}\n",
    "raFile=open('Data/vqe_linear_real_amplitudes.json')\n",
    "#raFile=open('Data/vqe_linear_real_amplitudes_2kreps_1pm8.json')\n",
    "data['RealAmplitudes']=json.load(raFile)\n",
    "raFile.close()\n",
    "\n",
    "amp='RealAmplitudes'\n",
    "entanglements=data[amp].keys()\n",
    "\n",
    "markersize=8\n",
    "markers=['o','s','P','*']\n",
    "colors=['tab:blue','tab:orange','tab:green','tab:red']\n",
    "\n",
    "for i,entanglement in enumerate(entanglements):\n",
    "    eMin = []\n",
    "    iters = []\n",
    "    reps=data[amp][entanglement].keys()\n",
    "\n",
    "    for rep in reps:\n",
    "        results=data[amp][entanglement][str(rep)]\n",
    "        minIdx = np.argmin(np.array(results['eigenvalues']))\n",
    "        eMin.append(results['eigenvalues'][minIdx])\n",
    "        iters.append(results['iters'][minIdx])\n",
    "\n",
    "    for rS, e, iter in zip(reps,eMin,iters):\n",
    "        r=int(rS)\n",
    "        print(r+0.05*i,e,iter)\n",
    "        if iter==5000*r:\n",
    "            plt.plot(r+0.05*i,e,marker=markers[i],markerfacecolor='none',markersize=markersize, color=colors[i])\n",
    "        else:\n",
    "            plt.plot(r+0.05*i,e,marker=markers[i],markersize=markersize, color=colors[i])\n",
    "\n",
    "#    plt.scatter([int(r) for r in reps], eMin, marker=markers[i] ,label=entanglement)\n",
    "\n",
    "plt.yscale('log')\n",
    "plt.xlabel('Ansatz Repititions')\n",
    "plt.ylabel(r'$E_0$')\n",
    "\n",
    "lines = [mlines.Line2D([],[],color=colors[i], marker=markers[i], markersize=markersize, linestyle='None', label=ent) for i,ent in enumerate(entanglements)]\n",
    "\n",
    "plt.legend(loc='upper left', handles=lines)\n",
    "plt.title(amp)"
   ]
  },
  {
   "cell_type": "code",
   "execution_count": null,
   "metadata": {},
   "outputs": [],
   "source": []
  }
 ],
 "metadata": {
  "kernelspec": {
   "display_name": "SUSYQM",
   "language": "python",
   "name": "python3"
  },
  "language_info": {
   "codemirror_mode": {
    "name": "ipython",
    "version": 3
   },
   "file_extension": ".py",
   "mimetype": "text/x-python",
   "name": "python",
   "nbconvert_exporter": "python",
   "pygments_lexer": "ipython3",
   "version": "3.9.7"
  },
  "orig_nbformat": 4
 },
 "nbformat": 4,
 "nbformat_minor": 2
}
