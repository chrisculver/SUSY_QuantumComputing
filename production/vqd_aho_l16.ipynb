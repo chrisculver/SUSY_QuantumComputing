{
 "cells": [
  {
   "cell_type": "code",
   "execution_count": 1,
   "metadata": {},
   "outputs": [],
   "source": [
    "%load_ext autoreload\n",
    "%autoreload 2\n",
    "\n",
    "import sys\n",
    "sys.path.append('..')"
   ]
  },
  {
   "cell_type": "code",
   "execution_count": 2,
   "metadata": {},
   "outputs": [],
   "source": [
    "from src.sympy_utilities import *\n",
    "from src.BinaryEncodings import *\n",
    "from src.MatrixToPauliString import *\n",
    "from src.qiskit_utilities import *\n",
    "\n",
    "from qiskit.algorithms.minimum_eigensolvers import VQE\n",
    "from qiskit.algorithms.eigensolvers import VQD\n",
    "from qiskit.algorithms.optimizers import COBYLA\n",
    "from qiskit.circuit.library import RealAmplitudes, ExcitationPreserving, TwoLocal, EfficientSU2\n",
    "from qiskit.primitives import Estimator, Sampler\n",
    "from qiskit.algorithms.state_fidelities import ComputeUncompute\n",
    "\n",
    "from ipywidgets import IntProgress\n",
    "from IPython.display import display, clear_output \n",
    "\n",
    "import scipy.sparse.linalg\n",
    "\n",
    "import matplotlib.pyplot as plt\n",
    "import matplotlib.lines as mlines\n",
    "\n",
    "import os\n",
    "import json\n",
    "import math\n",
    "\n",
    "import matplotlib \n",
    "#matplotlib.use(\"Agg\")\n",
    "plt.style.use(\"paper.mplstyle\")"
   ]
  },
  {
   "cell_type": "code",
   "execution_count": 3,
   "metadata": {},
   "outputs": [],
   "source": [
    "h_b_AHO = 0.5*(p*p) + 0.5*(m*q+g*q**3)**2\n",
    "h_f_AHO = -0.5*(m+3*g*q*q)#[bdag,b]\n",
    "\n",
    "cutoff=16\n",
    "\n",
    "ham=Hamiltonian(h_b_AHO,h_f_AHO,{m:1, g:1}, cutoff, standard_encode)\n"
   ]
  },
  {
   "cell_type": "code",
   "execution_count": 4,
   "metadata": {},
   "outputs": [],
   "source": [
    "hamOP = pauli_string_to_op(ham.pauliStrings)\n",
    "nq=math.floor(math.log2(ham.hamMatrix.shape[0]))\n",
    "if not math.log2(ham.hamMatrix.shape[0]).is_integer():\n",
    "    nq+=1"
   ]
  },
  {
   "cell_type": "code",
   "execution_count": 5,
   "metadata": {},
   "outputs": [],
   "source": [
    "estimator = Estimator()\n",
    "sampler=Sampler()\n",
    "fidelity=ComputeUncompute(sampler)\n",
    "\n",
    "ansatz = RealAmplitudes(nq, entanglement='linear', reps=2)"
   ]
  },
  {
   "cell_type": "code",
   "execution_count": 6,
   "metadata": {},
   "outputs": [],
   "source": [
    "k=3\n",
    "betas=[2,2,2]\n",
    "\n",
    "counts=[]\n",
    "values=[]\n",
    "steps=[]\n",
    "\n",
    "def callback(eval_count, params, value, meta, step):\n",
    "    counts.append(eval_count)\n",
    "    values.append(value)\n",
    "    steps.append(step)"
   ]
  },
  {
   "cell_type": "code",
   "execution_count": 28,
   "metadata": {},
   "outputs": [
    {
     "name": "stdout",
     "output_type": "stream",
     "text": [
      "------ cutoff = 16 ------\n",
      "Lowest 7 energies = [1.83029849e-03+4.13140806e-19j 1.68720122e+00-7.79151408e-16j\n",
      " 1.70732190e+00-1.29824948e-15j 4.37401524e+00+2.05900454e-16j\n",
      " 4.41418952e+00-1.61637118e-14j 7.76596507e+00+3.90650581e-15j\n",
      " 7.94769938e+00-5.96188529e-15j]\n",
      "Min energy = 1.8303e-03\n"
     ]
    }
   ],
   "source": [
    "print(\"------ cutoff = {} ------\".format(cutoff))\n",
    "#CLASSICAL COMPUTATION OF GROUND STATE ENERGY\n",
    "ens=scipy.sparse.linalg.eigs(getMatrix(ham.pauliStrings),k=7,sigma=0.0)[0]\n",
    "print(\"Lowest 7 energies = {}\".format(ens))\n",
    "print(\"Min energy = {:.4e}\".format(np.array([x.real for x in ens]).min()))"
   ]
  },
  {
   "cell_type": "code",
   "execution_count": 34,
   "metadata": {},
   "outputs": [],
   "source": [
    "counts=[]\n",
    "values=[]\n",
    "steps=[]\n",
    "\n",
    "k=5\n",
    "betas=[2 for i in range(k)]\n",
    "\n",
    "vqd=VQD(estimator, fidelity, ansatz, optimizer=COBYLA(maxiter=10000, tol=1e-4), k=k, betas=betas, callback=callback)\n",
    "result=vqd.compute_eigenvalues(operator=hamOP)"
   ]
  },
  {
   "cell_type": "code",
   "execution_count": null,
   "metadata": {},
   "outputs": [],
   "source": []
  },
  {
   "cell_type": "code",
   "execution_count": 37,
   "metadata": {},
   "outputs": [
    {
     "name": "stderr",
     "output_type": "stream",
     "text": [
      "c:\\Users\\chris\\anaconda3\\envs\\SUSYQM\\lib\\site-packages\\matplotlib\\cbook\\__init__.py:1298: ComplexWarning: Casting complex values to real discards the imaginary part\n",
      "  return np.asarray(x, float)\n",
      "c:\\Users\\chris\\anaconda3\\envs\\SUSYQM\\lib\\site-packages\\matplotlib\\text.py:831: ComplexWarning: Casting complex values to real discards the imaginary part\n",
      "  y = float(self.convert_yunits(self._y))\n",
      "c:\\Users\\chris\\anaconda3\\envs\\SUSYQM\\lib\\site-packages\\matplotlib\\text.py:691: ComplexWarning: Casting complex values to real discards the imaginary part\n",
      "  posy = float(self.convert_yunits(self._y))\n"
     ]
    },
    {
     "data": {
      "image/png": "[encoded data removed]",
      "text/plain": [
       "<Figure size 576x432 with 2 Axes>"
      ]
     },
     "metadata": {
      "needs_background": "light"
     },
     "output_type": "display_data"
    }
   ],
   "source": [
    "counts1=copy.deepcopy(counts)\n",
    "values1=copy.deepcopy(values)\n",
    "steps1=copy.deepcopy(steps)\n",
    "k1=copy.deepcopy(k)\n",
    "betas1=copy.deepcopy(betas)\n",
    "result1=copy.deepcopy(result)\n",
    "\n",
    "\n",
    "fig = plt.figure() \n",
    "fig.set_figheight(6)\n",
    "fig.set_figwidth(8)\n",
    "gs = fig.add_gridspec(1,2,wspace=0,width_ratios=[5,1])\n",
    "\n",
    "(ax1, ax2) = gs.subplots(sharey=False)\n",
    "\n",
    "counts1=np.asarray(counts1)\n",
    "steps1=np.asarray(steps1)\n",
    "values1=np.asarray(values1)\n",
    "for i in range(1,k+1):\n",
    "    _counts1=counts1[np.where(steps1==i)]\n",
    "    _values1=values1[np.where(steps1==i)]\n",
    "    ax1.plot(_counts1,_values1,label=r'$E_{{{}}}$'.format(i))\n",
    "ax1.set_xlabel(r'Iteration')\n",
    "ax1.set_ylabel(r'$E$')\n",
    "ax1.set_ylim(3.2*1E-3,13.8)\n",
    "ax1.set_yscale('log')\n",
    "#plt.legend(loc='upper right')\n",
    "\n",
    "colors = plt.rcParams['axes.prop_cycle'].by_key()['color']\n",
    "for i,e in enumerate(ens):\n",
    "    ax2.axhline(e, color=colors[i%len(colors)])\n",
    "ax2.set_xticks([])\n",
    "ax2.set_yscale('log')\n",
    "ax2.yaxis.tick_right()\n",
    "ax2.yaxis.set_ticks_position(\"right\")\n",
    "ax2.yaxis.set_ticks([ens[0],ens[1],ens[3],ens[5]], labels=[r\"$1$\",r\"$2$\",r\"$2$\",r\"$2$\"])\n",
    "ax2.set_ylim(3.2*1E-4,13.8)\n",
    "\n",
    "plt.savefig('Plots/aho_vqd.pdf')"
   ]
  },
  {
   "cell_type": "code",
   "execution_count": null,
   "metadata": {},
   "outputs": [],
   "source": []
  }
 ],
 "metadata": {
  "kernelspec": {
   "display_name": "SUSYQM",
   "language": "python",
   "name": "python3"
  },
  "language_info": {
   "codemirror_mode": {
    "name": "ipython",
    "version": 3
   },
   "file_extension": ".py",
   "mimetype": "text/x-python",
   "name": "python",
   "nbconvert_exporter": "python",
   "pygments_lexer": "ipython3",
   "version": "3.9.7"
  },
  "orig_nbformat": 4
 },
 "nbformat": 4,
 "nbformat_minor": 2
}
