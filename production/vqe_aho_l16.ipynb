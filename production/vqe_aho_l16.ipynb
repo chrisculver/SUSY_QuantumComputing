{
 "cells": [
  {
   "cell_type": "code",
   "execution_count": 1,
   "metadata": {},
   "outputs": [],
   "source": [
    "%load_ext autoreload\n",
    "%autoreload 2\n",
    "\n",
    "import sys\n",
    "sys.path.append('..')"
   ]
  },
  {
   "cell_type": "code",
   "execution_count": 2,
   "metadata": {},
   "outputs": [],
   "source": [
    "from src.sympy_utilities import *\n",
    "from src.BinaryEncodings import *\n",
    "from src.MatrixToPauliString import *\n",
    "from src.qiskit_utilities import *\n",
    "\n",
    "from qiskit.algorithms.minimum_eigensolvers import VQE\n",
    "from qiskit.algorithms.optimizers import COBYLA\n",
    "from qiskit.circuit.library import RealAmplitudes\n",
    "from qiskit.primitives import Estimator\n",
    "\n",
    "from ipywidgets import IntProgress\n",
    "from IPython.display import display, clear_output \n",
    "\n",
    "import scipy.sparse.linalg\n",
    "\n",
    "import matplotlib.pyplot as plt\n",
    "import matplotlib.lines as mlines\n",
    "\n",
    "import os\n",
    "import json\n",
    "import math"
   ]
  },
  {
   "cell_type": "code",
   "execution_count": 12,
   "metadata": {},
   "outputs": [],
   "source": [
    "h_b_AHO = 0.5*(p*p) + 0.5*(m*q+g*q**3)**2\n",
    "h_f_AHO = -0.5*(m+3*g*q*q)#[bdag,b]\n",
    "\n",
    "cutoff=16\n",
    "\n",
    "ham=Hamiltonian(h_b_AHO,h_f_AHO,{m:1, g:1}, cutoff, standard_encode)\n"
   ]
  },
  {
   "cell_type": "code",
   "execution_count": 4,
   "metadata": {},
   "outputs": [],
   "source": [
    "hamOP = pauli_string_to_op(ham.pauliStrings)\n",
    "nq=math.floor(math.log2(ham.hamMatrix.shape[0]))\n",
    "if not math.log2(ham.hamMatrix.shape[0]).is_integer():\n",
    "    nq+=1"
   ]
  },
  {
   "cell_type": "code",
   "execution_count": 5,
   "metadata": {},
   "outputs": [],
   "source": [
    "estimator=Estimator()"
   ]
  },
  {
   "cell_type": "code",
   "execution_count": 9,
   "metadata": {},
   "outputs": [],
   "source": [
    "if os.path.exists('Data/vqe_aho_real_amplitudes_l{}.json'.format(cutoff)):\n",
    "    raFile=open('Data/vqe_aho_real_amplitudes_l{}.json'.format(cutoff))\n",
    "    results=json.load(raFile)\n",
    "else:\n",
    "    results = {}    \n",
    "\n",
    "vqeRuns=5\n",
    "\n",
    "style = {'description_width': 'initial'}\n",
    "layout = {'width':'600px'}\n",
    "\n",
    "#for entanglement in ['linear','reverse_linear','circular','sca']: #full and reverse linear are same, reverse has less gates\n",
    "for entanglement in ['linear','reverse_linear']:\n",
    "    if entanglement not in results:\n",
    "        results[entanglement]={}\n",
    "\n",
    "    #for reps in [1,2,3,4]:  \n",
    "    for reps in [1,2]:\n",
    "        ansatz = RealAmplitudes(nq, entanglement=entanglement, reps=reps)\n",
    "        vqe = VQE(estimator=estimator, ansatz=ansatz, optimizer=COBYLA(maxiter=5000*reps, tol=1e-4))\n",
    "        \n",
    "        values=[]\n",
    "        iters=[]\n",
    "        progress = IntProgress(min=0, max=vqeRuns, description=\"Running VQE with {} entanglement and {} reps\".format(entanglement,reps), style=style, layout=layout)\n",
    "        display(progress)\n",
    "\n",
    "        for run in range(vqeRuns):\n",
    "            result=vqe.compute_minimum_eigenvalue(hamOP)\n",
    "            values.append(result.eigenvalue.real)\n",
    "            iters.append(result.cost_function_evals)\n",
    "            progress.value += 1\n",
    "        \n",
    "        if str(reps) in results[entanglement]:\n",
    "            for value in values:\n",
    "                results[entanglement][str(reps)][\"eigenvalues\"].append(value)\n",
    "            for iter in iters:\n",
    "                results[entanglement][str(reps)][\"iters\"].append(iter)\n",
    "\n",
    "        else:\n",
    "            results[entanglement][reps]={\"eigenvalues\": values, \"iters\": iters}\n",
    "    \n",
    "        with open('Data/vqe_aho_real_amplitudes_l{}.json'.format(cutoff),'w') as file:\n",
    "            json.dump(results, file)\n",
    "        \n",
    "        clear_output()"
   ]
  },
  {
   "cell_type": "code",
   "execution_count": 15,
   "metadata": {},
   "outputs": [
    {
     "name": "stdout",
     "output_type": "stream",
     "text": [
      "1.0 0.018113235853476795 4199\n",
      "2.0 0.007010898183423819 10000\n",
      "1.05 0.01865337218269758 3455\n",
      "2.05 0.04328705024053647 10000\n"
     ]
    },
    {
     "data": {
      "text/plain": [
       "Text(0.5, 1.0, 'RealAmplitudes')"
      ]
     },
     "execution_count": 15,
     "metadata": {},
     "output_type": "execute_result"
    },
    {
     "data": {
      "image/png": "[encoded data removed]",
      "text/plain": [
       "<Figure size 640x480 with 1 Axes>"
      ]
     },
     "metadata": {},
     "output_type": "display_data"
    }
   ],
   "source": [
    "data={}\n",
    "raFile=open('Data/vqe_aho_real_amplitudes_l{}.json'.format(cutoff))\n",
    "#raFile=open('Data/vqe_linear_real_amplitudes_2kreps_1pm8.json')\n",
    "data['RealAmplitudes']=json.load(raFile)\n",
    "raFile.close()\n",
    "\n",
    "amp='RealAmplitudes'\n",
    "entanglements=data[amp].keys()\n",
    "\n",
    "markersize=8\n",
    "markers=['o','s','P','*']\n",
    "colors=['tab:blue','tab:orange','tab:green','tab:red']\n",
    "\n",
    "for i,entanglement in enumerate(entanglements):\n",
    "    eMin = []\n",
    "    iters = []\n",
    "    reps=data[amp][entanglement].keys()\n",
    "\n",
    "    for rep in reps:\n",
    "        results=data[amp][entanglement][str(rep)]\n",
    "        minIdx = np.argmin(np.array(results['eigenvalues']))\n",
    "        eMin.append(results['eigenvalues'][minIdx])\n",
    "        iters.append(results['iters'][minIdx])\n",
    "\n",
    "    for rS, e, iter in zip(reps,eMin,iters):\n",
    "        r=int(rS)\n",
    "        print(r+0.05*i,e,iter)\n",
    "        if iter==5000*r:\n",
    "            plt.plot(r+0.05*i,e,marker=markers[i],markerfacecolor='none',markersize=markersize, color=colors[i])\n",
    "        else:\n",
    "            plt.plot(r+0.05*i,e,marker=markers[i],markersize=markersize, color=colors[i])\n",
    "\n",
    "#    plt.scatter([int(r) for r in reps], eMin, marker=markers[i] ,label=entanglement)\n",
    "\n",
    "plt.yscale('log')\n",
    "plt.xlabel('Ansatz Repititions')\n",
    "plt.ylabel(r'$E_0$')\n",
    "\n",
    "lines = [mlines.Line2D([],[],color=colors[i], marker=markers[i], markersize=markersize, linestyle='None', label=ent) for i,ent in enumerate(entanglements)]\n",
    "\n",
    "plt.legend(loc='upper left', handles=lines)\n",
    "plt.title(amp)"
   ]
  },
  {
   "cell_type": "code",
   "execution_count": 16,
   "metadata": {},
   "outputs": [
    {
     "name": "stdout",
     "output_type": "stream",
     "text": [
      "------ cutoff = 16 ------\n",
      "Lowest 7 energies = [1.83029849e-03-1.16375405e-18j 1.70732190e+00-6.42696091e-16j\n",
      " 1.68720122e+00-3.30152421e-16j 4.41418952e+00-1.87450417e-14j\n",
      " 4.37401524e+00-3.06784322e-16j 7.76596507e+00+2.08595202e-16j\n",
      " 7.94769938e+00-6.74458509e-15j]\n",
      "Min energy = 1.8303e-03\n"
     ]
    }
   ],
   "source": [
    "print(\"------ cutoff = {} ------\".format(cutoff))\n",
    "#CLASSICAL COMPUTATION OF GROUND STATE ENERGY\n",
    "ens=scipy.sparse.linalg.eigs(getMatrix(ham.pauliStrings),k=7,sigma=0.0)[0]\n",
    "print(\"Lowest 7 energies = {}\".format(ens))\n",
    "print(\"Min energy = {:.4e}\".format(np.array([x.real for x in ens]).min()))"
   ]
  },
  {
   "cell_type": "code",
   "execution_count": null,
   "metadata": {},
   "outputs": [],
   "source": []
  }
 ],
 "metadata": {
  "kernelspec": {
   "display_name": "SUSYQM",
   "language": "python",
   "name": "python3"
  },
  "language_info": {
   "codemirror_mode": {
    "name": "ipython",
    "version": 3
   },
   "file_extension": ".py",
   "mimetype": "text/x-python",
   "name": "python",
   "nbconvert_exporter": "python",
   "pygments_lexer": "ipython3",
   "version": "3.10.8"
  },
  "orig_nbformat": 4
 },
 "nbformat": 4,
 "nbformat_minor": 2
}
