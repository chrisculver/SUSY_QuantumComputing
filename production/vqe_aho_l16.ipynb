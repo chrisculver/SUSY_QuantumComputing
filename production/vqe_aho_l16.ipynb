{
 "cells": [
  {
   "cell_type": "code",
   "execution_count": 1,
   "metadata": {},
   "outputs": [],
   "source": [
    "%load_ext autoreload\n",
    "%autoreload 2\n",
    "\n",
    "import sys\n",
    "sys.path.append('..')"
   ]
  },
  {
   "cell_type": "code",
   "execution_count": 2,
   "metadata": {},
   "outputs": [],
   "source": [
    "from src.sympy_utilities import *\n",
    "from src.BinaryEncodings import *\n",
    "from src.MatrixToPauliString import *\n",
    "from src.qiskit_utilities import *\n",
    "\n",
    "from qiskit.algorithms.minimum_eigensolvers import VQE\n",
    "from qiskit.algorithms.optimizers import COBYLA\n",
    "from qiskit.circuit.library import RealAmplitudes\n",
    "from qiskit.primitives import Estimator\n",
    "\n",
    "from ipywidgets import IntProgress\n",
    "from IPython.display import display, clear_output \n",
    "\n",
    "import scipy.sparse.linalg\n",
    "\n",
    "import matplotlib.pyplot as plt\n",
    "import matplotlib.lines as mlines\n",
    "\n",
    "import os\n",
    "import json\n",
    "import math"
   ]
  },
  {
   "cell_type": "code",
   "execution_count": 3,
   "metadata": {},
   "outputs": [],
   "source": [
    "h_b_AHO = 0.5*(p*p) + 0.5*(m*q+g*q**3)**2\n",
    "h_f_AHO = -0.5*(m+3*g*q*q)#[bdag,b]\n",
    "\n",
    "cutoff=16\n",
    "\n",
    "ham=Hamiltonian(h_b_AHO,h_f_AHO,{m:1, g:1}, cutoff, standard_encode)\n"
   ]
  },
  {
   "cell_type": "code",
   "execution_count": 4,
   "metadata": {},
   "outputs": [],
   "source": [
    "hamOP = pauli_string_to_op(ham.pauliStrings)\n",
    "nq=math.floor(math.log2(ham.hamMatrix.shape[0]))\n",
    "if not math.log2(ham.hamMatrix.shape[0]).is_integer():\n",
    "    nq+=1"
   ]
  },
  {
   "cell_type": "code",
   "execution_count": 5,
   "metadata": {},
   "outputs": [],
   "source": [
    "estimator=Estimator()"
   ]
  },
  {
   "cell_type": "code",
   "execution_count": 6,
   "metadata": {},
   "outputs": [],
   "source": [
    "if os.path.exists('Data/vqe_aho_real_amplitudes_l{}.json'.format(cutoff)):\n",
    "    raFile=open('Data/vqe_aho_real_amplitudes_l{}.json'.format(cutoff))\n",
    "    results=json.load(raFile)\n",
    "else:\n",
    "    results = {}    \n",
    "\n",
    "vqeRuns=10\n",
    "\n",
    "style = {'description_width': 'initial'}\n",
    "layout = {'width':'600px'}\n",
    "\n",
    "for entanglement in ['linear','reverse_linear','circular','sca']: #full and reverse linear are same, reverse has less gates\n",
    "    if entanglement not in results:\n",
    "        results[entanglement]={}\n",
    "\n",
    "    for reps in [1,2,3,4]:  \n",
    "        ansatz = RealAmplitudes(nq, entanglement=entanglement, reps=reps)\n",
    "        vqe = VQE(estimator=estimator, ansatz=ansatz, optimizer=COBYLA(maxiter=10000*reps, tol=1e-4))\n",
    "        \n",
    "        values=[]\n",
    "        iters=[]\n",
    "        progress = IntProgress(min=0, max=vqeRuns, description=\"Running VQE with {} entanglement and {} reps\".format(entanglement,reps), style=style, layout=layout)\n",
    "        display(progress)\n",
    "\n",
    "        for run in range(vqeRuns):\n",
    "            result=vqe.compute_minimum_eigenvalue(hamOP)\n",
    "            values.append(result.eigenvalue.real)\n",
    "            iters.append(result.cost_function_evals)\n",
    "            progress.value += 1\n",
    "        \n",
    "        if str(reps) in results[entanglement]:\n",
    "            for value in values:\n",
    "                results[entanglement][str(reps)][\"eigenvalues\"].append(value)\n",
    "            for iter in iters:\n",
    "                results[entanglement][str(reps)][\"iters\"].append(iter)\n",
    "\n",
    "        else:\n",
    "            results[entanglement][reps]={\"eigenvalues\": values, \"iters\": iters}\n",
    "    \n",
    "        with open('Data/vqe_aho_real_amplitudes_l{}.json'.format(cutoff),'w') as file:\n",
    "            json.dump(results, file)\n",
    "        \n",
    "        clear_output()"
   ]
  },
  {
   "cell_type": "code",
   "execution_count": 10,
   "metadata": {},
   "outputs": [
    {
     "name": "stdout",
     "output_type": "stream",
     "text": [
      "------ cutoff = 16 ------\n",
      "Lowest 7 energies = [1.83029849e-03+7.36784500e-19j 1.68720122e+00+2.53676917e-16j\n",
      " 1.70732190e+00+8.51301623e-16j 4.37401524e+00+1.98238116e-15j\n",
      " 4.41418952e+00+2.71138262e-15j 7.94769938e+00-4.13732007e-15j\n",
      " 7.76596507e+00+1.87344751e-15j]\n",
      "Min energy = 1.8303e-03\n",
      "1.0 0.017527389315560526 8971\n",
      "2.0 0.0022818158135891053 10501\n",
      "3.0 0.009642021600022588 17514\n",
      "4.0 0.01010765647199463 31027\n",
      "1.05 0.01772616527219384 7079\n",
      "2.05 0.01041973645706662 16110\n",
      "3.05 0.008442618991097106 28198\n",
      "4.05 0.007743839047812173 39398\n",
      "1.1 0.01858531309292033 5274\n",
      "2.1 0.022360661562885298 10940\n",
      "3.1 0.02381960494320623 22871\n",
      "4.1 0.032652414937643925 35191\n",
      "1.15 0.018493556304839842 8850\n",
      "2.15 0.017705816298906996 12099\n",
      "3.15 0.010905526010503763 24256\n",
      "4.15 0.0507828478309591 40000\n"
     ]
    },
    {
     "data": {
      "text/plain": [
       "Text(0.5, 1.0, 'RealAmplitudes')"
      ]
     },
     "execution_count": 10,
     "metadata": {},
     "output_type": "execute_result"
    },
    {
     "data": {
      "image/png": "[encoded data removed]",
      "text/plain": [
       "<Figure size 432x288 with 1 Axes>"
      ]
     },
     "metadata": {
      "needs_background": "light"
     },
     "output_type": "display_data"
    }
   ],
   "source": [
    "print(\"------ cutoff = {} ------\".format(cutoff))\n",
    "#CLASSICAL COMPUTATION OF GROUND STATE ENERGY\n",
    "ens=scipy.sparse.linalg.eigs(getMatrix(ham.pauliStrings),k=7,sigma=0.0)[0]\n",
    "print(\"Lowest 7 energies = {}\".format(ens))\n",
    "minE=np.array([x.real for x in ens]).min()\n",
    "print(\"Min energy = {:.4e}\".format(minE))\n",
    "\n",
    "data={}\n",
    "raFile=open('Data/vqe_aho_real_amplitudes_l{}.json'.format(cutoff))\n",
    "#raFile=open('Data/vqe_linear_real_amplitudes_2kreps_1pm8.json')\n",
    "data['RealAmplitudes']=json.load(raFile)\n",
    "raFile.close()\n",
    "\n",
    "amp='RealAmplitudes'\n",
    "entanglements=data[amp].keys()\n",
    "\n",
    "markersize=8\n",
    "markers=['o','s','P','*']\n",
    "colors=['tab:blue','tab:orange','tab:green','tab:red']\n",
    "\n",
    "for i,entanglement in enumerate(entanglements):\n",
    "    eMin = []\n",
    "    iters = []\n",
    "    reps=data[amp][entanglement].keys()\n",
    "\n",
    "    for rep in reps:\n",
    "        results=data[amp][entanglement][str(rep)]\n",
    "        minIdx = np.argmin(np.array(results['eigenvalues']))\n",
    "        eMin.append(results['eigenvalues'][minIdx])\n",
    "        iters.append(results['iters'][minIdx])\n",
    "\n",
    "    for rS, e, iter in zip(reps,eMin,iters):\n",
    "        r=int(rS)\n",
    "        print(r+0.05*i,e,iter)\n",
    "        if iter==10000*r:\n",
    "            plt.plot(r+0.05*i,e,marker=markers[i],markerfacecolor='none',markersize=markersize, color=colors[i])\n",
    "        else:\n",
    "            plt.plot(r+0.05*i,e,marker=markers[i],markersize=markersize, color=colors[i])\n",
    "\n",
    "#    plt.scatter([int(r) for r in reps], eMin, marker=markers[i] ,label=entanglement)\n",
    "plt.axhline(minE)\n",
    "plt.yscale('log')\n",
    "plt.xlabel('Ansatz Repititions')\n",
    "plt.ylabel(r'$E_0$')\n",
    "\n",
    "lines = [mlines.Line2D([],[],color=colors[i], marker=markers[i], markersize=markersize, linestyle='None', label=ent) for i,ent in enumerate(entanglements)]\n",
    "\n",
    "plt.legend(loc='upper left', handles=lines)\n",
    "plt.title(amp)"
   ]
  },
  {
   "cell_type": "code",
   "execution_count": 8,
   "metadata": {},
   "outputs": [
    {
     "name": "stdout",
     "output_type": "stream",
     "text": [
      "------ cutoff = 16 ------\n",
      "Lowest 7 energies = [1.83029849e-03+5.14299722e-20j 1.70732190e+00-2.62562428e-16j\n",
      " 1.68720122e+00+1.43018838e-16j 4.37401524e+00+4.11346790e-16j\n",
      " 4.41418952e+00+2.20660021e-14j 7.76596507e+00-1.61509567e-15j\n",
      " 7.94769938e+00-4.71082506e-15j]\n",
      "Min energy = 1.8303e-03\n"
     ]
    }
   ],
   "source": [
    "print(\"------ cutoff = {} ------\".format(cutoff))\n",
    "#CLASSICAL COMPUTATION OF GROUND STATE ENERGY\n",
    "ens=scipy.sparse.linalg.eigs(getMatrix(ham.pauliStrings),k=7,sigma=0.0)[0]\n",
    "print(\"Lowest 7 energies = {}\".format(ens))\n",
    "print(\"Min energy = {:.4e}\".format(np.array([x.real for x in ens]).min()))"
   ]
  },
  {
   "cell_type": "code",
   "execution_count": null,
   "metadata": {},
   "outputs": [],
   "source": []
  }
 ],
 "metadata": {
  "kernelspec": {
   "display_name": "SUSYQM",
   "language": "python",
   "name": "python3"
  },
  "language_info": {
   "codemirror_mode": {
    "name": "ipython",
    "version": 3
   },
   "file_extension": ".py",
   "mimetype": "text/x-python",
   "name": "python",
   "nbconvert_exporter": "python",
   "pygments_lexer": "ipython3",
   "version": "3.10.8"
  },
  "orig_nbformat": 4
 },
 "nbformat": 4,
 "nbformat_minor": 2
}
