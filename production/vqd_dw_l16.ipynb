{
 "cells": [
  {
   "cell_type": "code",
   "execution_count": 1,
   "metadata": {},
   "outputs": [],
   "source": [
    "%load_ext autoreload\n",
    "%autoreload 2\n",
    "\n",
    "import sys\n",
    "sys.path.append('..')"
   ]
  },
  {
   "cell_type": "code",
   "execution_count": 2,
   "metadata": {},
   "outputs": [],
   "source": [
    "from src.sympy_utilities import *\n",
    "from src.BinaryEncodings import *\n",
    "from src.MatrixToPauliString import *\n",
    "from src.qiskit_utilities import *\n",
    "\n",
    "from qiskit.algorithms.minimum_eigensolvers import VQE\n",
    "from qiskit.algorithms.eigensolvers import VQD\n",
    "from qiskit.algorithms.optimizers import COBYLA\n",
    "from qiskit.circuit.library import RealAmplitudes\n",
    "from qiskit.primitives import Estimator, Sampler\n",
    "from qiskit.algorithms.state_fidelities import ComputeUncompute\n",
    "\n",
    "from ipywidgets import IntProgress\n",
    "from IPython.display import display, clear_output \n",
    "\n",
    "import scipy.sparse.linalg\n",
    "\n",
    "import matplotlib.pyplot as plt\n",
    "import matplotlib.lines as mlines\n",
    "\n",
    "import os\n",
    "import json\n",
    "import math"
   ]
  },
  {
   "cell_type": "code",
   "execution_count": 3,
   "metadata": {},
   "outputs": [],
   "source": [
    "h_b_DW = 0.5*(p*p + (m*q + g*(q*q + mu*mu))**2)\n",
    "h_f_DW = -0.5*(m+2*g*q)#[bdag,b]\n",
    "\n",
    "cutoff=16\n",
    "\n",
    "ham=Hamiltonian(h_b_DW,h_f_DW,{m:1, g:1, mu:1}, cutoff, standard_encode)\n"
   ]
  },
  {
   "cell_type": "code",
   "execution_count": 4,
   "metadata": {},
   "outputs": [],
   "source": [
    "hamOP = pauli_string_to_op(ham.pauliStrings)\n",
    "nq=math.floor(math.log2(ham.hamMatrix.shape[0]))\n",
    "if not math.log2(ham.hamMatrix.shape[0]).is_integer():\n",
    "    nq+=1"
   ]
  },
  {
   "cell_type": "code",
   "execution_count": 5,
   "metadata": {},
   "outputs": [],
   "source": [
    "estimator = Estimator()\n",
    "sampler=Sampler()\n",
    "fidelity=ComputeUncompute(sampler)\n",
    "\n",
    "ansatz = RealAmplitudes(nq, entanglement='linear', reps=1)"
   ]
  },
  {
   "cell_type": "code",
   "execution_count": 6,
   "metadata": {},
   "outputs": [],
   "source": [
    "k=7\n",
    "betas=[1 for i in range(k)]\n",
    "\n",
    "counts=[]\n",
    "values=[]\n",
    "steps=[]\n",
    "\n",
    "def callback(eval_count, params, value, meta, step):\n",
    "    counts.append(eval_count)\n",
    "    values.append(value)\n",
    "    steps.append(step)"
   ]
  },
  {
   "cell_type": "code",
   "execution_count": 7,
   "metadata": {},
   "outputs": [
    {
     "name": "stdout",
     "output_type": "stream",
     "text": [
      "------ cutoff = 16 ------\n",
      "Lowest 7 energies = [ 0.8916501 -4.69898903e-17j  0.89163849-3.28142405e-18j\n",
      "  2.73421059-2.31298768e-17j  2.73432506-8.59627985e-17j\n",
      "  4.84645895+1.65135277e-16j  4.84793798-6.27220490e-17j\n",
      "  7.19586103+2.17336500e-16j  7.18775479-4.26125302e-16j\n",
      "  9.75001443+2.72759949e-16j  9.77982411-1.02194535e-16j\n",
      " 12.84455165+3.81500011e-16j 12.8329317 +3.60360003e-16j\n",
      " 17.07570042+1.52156413e-16j 17.53407955+7.68569470e-16j\n",
      " 22.84419743+2.60406448e-16j]\n",
      "Min energy = 8.9164e-01\n"
     ]
    }
   ],
   "source": [
    "print(\"------ cutoff = {} ------\".format(cutoff))\n",
    "#CLASSICAL COMPUTATION OF GROUND STATE ENERGY\n",
    "ens=scipy.sparse.linalg.eigs(getMatrix(ham.pauliStrings),k=15,sigma=0.0)[0]\n",
    "print(\"Lowest 7 energies = {}\".format(ens))\n",
    "print(\"Min energy = {:.4e}\".format(np.array([x.real for x in ens]).min()))"
   ]
  },
  {
   "cell_type": "code",
   "execution_count": 14,
   "metadata": {},
   "outputs": [],
   "source": [
    "\n",
    "import matplotlib \n",
    "#matplotlib.use(\"Agg\")\n",
    "plt.style.use(\"paper.mplstyle\")"
   ]
  },
  {
   "cell_type": "code",
   "execution_count": 8,
   "metadata": {},
   "outputs": [
    {
     "name": "stderr",
     "output_type": "stream",
     "text": [
      "c:\\Users\\chris\\anaconda3\\envs\\SUSYQM\\lib\\site-packages\\matplotlib\\cbook\\__init__.py:1298: ComplexWarning: Casting complex values to real discards the imaginary part\n",
      "  return np.asarray(x, float)\n"
     ]
    },
    {
     "data": {
      "text/plain": [
       "[]"
      ]
     },
     "execution_count": 8,
     "metadata": {},
     "output_type": "execute_result"
    },
    {
     "data": {
      "image/png": "[encoded data removed]",
      "text/plain": [
       "<Figure size 576x432 with 2 Axes>"
      ]
     },
     "metadata": {
      "needs_background": "light"
     },
     "output_type": "display_data"
    }
   ],
   "source": [
    "k=5\n",
    "betas=[2,2,2,2,2]\n",
    "\n",
    "counts=[]\n",
    "values=[]\n",
    "steps=[]\n",
    "\n",
    "def callback(eval_count, params, value, meta, step):\n",
    "    counts.append(eval_count)\n",
    "    values.append(value)\n",
    "    steps.append(step)\n",
    "\n",
    "counts=[]\n",
    "values=[]\n",
    "steps=[]\n",
    "\n",
    "vqd=VQD(estimator, fidelity, ansatz, optimizer=COBYLA(maxiter=10000, tol=1e-6), k=k, betas=betas, callback=callback)\n",
    "result=vqd.compute_eigenvalues(operator=hamOP)\n",
    "\n",
    "fig = plt.figure() \n",
    "fig.set_figheight(6)\n",
    "fig.set_figwidth(8)\n",
    "gs = fig.add_gridspec(1,2,wspace=0,width_ratios=[5,1])\n",
    "\n",
    "(ax1, ax2) = gs.subplots(sharey=True)\n",
    "\n",
    "counts=np.asarray(counts)\n",
    "steps=np.asarray(steps)\n",
    "values=np.asarray(values)\n",
    "for i in range(1,k+1):\n",
    "    _counts=counts[np.where(steps==i)]\n",
    "    _values=values[np.where(steps==i)]\n",
    "    ax1.plot(_counts,_values,label=r'$E_{{{}}}$'.format(i))\n",
    "ax1.set_xlabel(r'Iteration')\n",
    "ax1.set_ylabel(r'$E$')\n",
    "ax1.set_ylim(0.65,11)\n",
    "ax1.set_yscale('log')\n",
    "#plt.legend(loc='upper right')\n",
    "\n",
    "colors = plt.rcParams['axes.prop_cycle'].by_key()['color']\n",
    "for i,e in enumerate(result.eigenvalues):\n",
    "    ax2.axhline(e, color=colors[i%len(colors)])\n",
    "ax2.set_xticks([])"
   ]
  },
  {
   "cell_type": "code",
   "execution_count": 17,
   "metadata": {},
   "outputs": [],
   "source": [
    "k=6\n",
    "betas=[3 for i in range(k)]\n",
    "\n",
    "counts=[]\n",
    "values=[]\n",
    "steps=[]\n",
    "\n",
    "def callback(eval_count, params, value, meta, step):\n",
    "    counts.append(eval_count)\n",
    "    values.append(value)\n",
    "    steps.append(step)\n",
    "\n",
    "counts=[]\n",
    "values=[]\n",
    "steps=[]\n",
    "\n",
    "vqd=VQD(estimator, fidelity, ansatz, optimizer=COBYLA(maxiter=5000, tol=1e-4), k=k, betas=betas, callback=callback)\n",
    "result=vqd.compute_eigenvalues(operator=hamOP)"
   ]
  },
  {
   "cell_type": "code",
   "execution_count": 61,
   "metadata": {},
   "outputs": [
    {
     "name": "stderr",
     "output_type": "stream",
     "text": [
      "c:\\Users\\chris\\anaconda3\\envs\\SUSYQM\\lib\\site-packages\\matplotlib\\cbook\\__init__.py:1298: ComplexWarning: Casting complex values to real discards the imaginary part\n",
      "  return np.asarray(x, float)\n"
     ]
    },
    {
     "name": "stdout",
     "output_type": "stream",
     "text": [
      "[0.8916501  2.73421059 4.84645895 7.19586103 9.75001443]\n",
      "[Text(1, 0.891650104498901, '$2$'), Text(1, 2.7342105924970843, '$2$'), Text(1, 4.8464589514801055, '$2$'), Text(1, 7.195861034669861, '$2$'), Text(1, 9.750014431554414, '$2$')]\n"
     ]
    },
    {
     "data": {
      "image/png": "[encoded data removed]",
      "text/plain": [
       "<Figure size 576x432 with 2 Axes>"
      ]
     },
     "metadata": {
      "needs_background": "light"
     },
     "output_type": "display_data"
    }
   ],
   "source": [
    "fig = plt.figure() \n",
    "fig.set_figheight(6)\n",
    "fig.set_figwidth(8)\n",
    "gs = fig.add_gridspec(1,2,wspace=0,width_ratios=[8,1])\n",
    "\n",
    "(ax1, ax2) = gs.subplots(sharey=False)\n",
    "\n",
    "counts=np.asarray(counts)\n",
    "steps=np.asarray(steps)\n",
    "values=np.asarray(values)\n",
    "for i in range(1,k+1):\n",
    "    _counts=counts[np.where(steps==i)]\n",
    "    _values=values[np.where(steps==i)]\n",
    "    ax1.plot(_counts,_values,label=r'$E_{{{}}}$'.format(i))\n",
    "ax1.set_xlabel('Iteration')\n",
    "ax1.set_ylabel(r'$E$')\n",
    "ax1.set_ylim(0.65,11)\n",
    "ax1.set_yscale('log')\n",
    "#plt.legend(loc='upper right')\n",
    "\n",
    "colors = plt.rcParams['axes.prop_cycle'].by_key()['color']\n",
    "for i,e in enumerate(ens):\n",
    "    ax2.axhline(e, color=colors[i%len(colors)])\n",
    "\n",
    "ax2.set_xticks([])\n",
    "ax2.set_yscale('log')\n",
    "ax2.yaxis.tick_right()\n",
    "ax2.yaxis.set_ticks_position(\"right\")\n",
    "ax2.yaxis.set_ticks([ens[i].real for i in range(0,10,2)], labels=[r\"$2$\" for i in range(0,10,2)])\n",
    "ax2.set_ylim(0.65,11)\n",
    "\n",
    "print(ax2.get_yticks())\n",
    "print(ax2.get_yticklabels())\n",
    "\n",
    "plt.savefig(\"Plots/dw_vqd.pdf\")"
   ]
  },
  {
   "cell_type": "code",
   "execution_count": null,
   "metadata": {},
   "outputs": [],
   "source": []
  }
 ],
 "metadata": {
  "kernelspec": {
   "display_name": "SUSYQM",
   "language": "python",
   "name": "python3"
  },
  "language_info": {
   "codemirror_mode": {
    "name": "ipython",
    "version": 3
   },
   "file_extension": ".py",
   "mimetype": "text/x-python",
   "name": "python",
   "nbconvert_exporter": "python",
   "pygments_lexer": "ipython3",
   "version": "3.9.7"
  },
  "orig_nbformat": 4
 },
 "nbformat": 4,
 "nbformat_minor": 2
}
