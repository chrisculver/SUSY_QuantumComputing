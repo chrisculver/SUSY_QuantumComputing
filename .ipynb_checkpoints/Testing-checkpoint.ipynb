{
 "cells": [
  {
   "cell_type": "markdown",
   "metadata": {},
   "source": [
    "## Matrix to pauli string\n",
    "\n",
    "Here we summarize how a $d$-level matrix can be written as a sum of pauli strings. \n",
    "\n",
    "A matrix A with elements $a_{ij}$ can be written as, \n",
    "\\begin{equation}\n",
    "    A=\\sum_{i,j} a_{ij} \\mid i \\rangle \\langle j \\mid\n",
    "\\end{equation}\n",
    "where $i,j$ are integers labelling the basis elements.  To map this to qubits, we first translate the integers from base 10 to binary, using some encoding $\\mathcal{R}$.  which transforms basis elements as\n",
    "\\begin{equation}\n",
    "    \\mid i \\rangle \\rightarrow\\mid\\mathcal{R}(i) \\rangle\n",
    "        =\\mid i_{n-1} \\rangle \\cdots \\mid i_0 \\rangle,\n",
    "\\end{equation}\n",
    "where the $x_i\\in\\{0,1\\}$. Which maps our matrix $A$ to a tensor product over local qubit terms\n",
    "\\begin{equation}\n",
    "    A=\\sum_{i,j}a_{ij}\\otimes_n \\mid i_{n}\\rangle\\langle j_n \\mid.\n",
    "\\end{equation}\n",
    "Each qubit local term can be written as a pauli string using the formulas\n",
    "\\begin{align}\n",
    "    \\mid 0 \\rangle \\langle 1 \\mid &= \\frac{1}{2}\\left( X + i Y \\right) \\\\\n",
    "    \\mid 1 \\rangle \\langle 0 \\mid &= \\frac{1}{2}\\left( X - i Y \\right) \\\\\n",
    "    \\mid 0 \\rangle \\langle 0 \\mid &= \\frac{1}{2}\\left( 1 + Z \\right)   \\\\\n",
    "    \\mid 1 \\rangle \\langle 1 \\mid &= \\frac{1}{2}\\left( 1 - Z \\right).\n",
    "\\end{align}"
   ]
  },
  {
   "cell_type": "code",
   "execution_count": 2,
   "metadata": {},
   "outputs": [],
   "source": [
    "# Set-up matrices to compute circuits of\n",
    "def diagonal_matrix(n):\n",
    "    matrix = []\n",
    "    for i in range(0,n):\n",
    "        col=[]\n",
    "        for j in range(0,n):\n",
    "            if(i==j):\n",
    "                col.append(i)\n",
    "            else:\n",
    "                col.append(0)\n",
    "        matrix.append(col)\n",
    "    return matrix\n",
    "\n",
    "matrices=[]\n",
    "for i in range(2,17):\n",
    "    matrices.append(diagonal_matrix(i))\n"
   ]
  },
  {
   "cell_type": "code",
   "execution_count": 3,
   "metadata": {},
   "outputs": [
    {
     "data": {
      "image/png": "[encoded data removed]",
      "text/plain": [
       "<Figure size 432x288 with 1 Axes>"
      ]
     },
     "metadata": {
      "needs_background": "light"
     },
     "output_type": "display_data"
    }
   ],
   "source": [
    "\n",
    "from MatrixToQISKITCircuit import *\n",
    "from BinaryEncodings import *\n",
    "\n",
    "def add_cx_count(lst, circuit):\n",
    "    if('cx' in circuit.count_ops()):\n",
    "        lst.append(circuit.count_ops()['cx'])\n",
    "    else:\n",
    "        lst.append(0)\n",
    "\n",
    "n=[]\n",
    "ncxStandard=[]\n",
    "ncxGray=[]\n",
    "# loop through all the matrices, converting to a circuit\n",
    "for m in matrices:\n",
    "    mtoS = MatrixToQISKITCircuit(m)\n",
    "    mtoG = mtoS\n",
    "    mtoS.convert(standard_encode)\n",
    "    mtoG.convert(gray_code)\n",
    "\n",
    "    n.append(len(m)) \n",
    "    # is this a situation where we want lambdas?\n",
    "    add_cx_count(ncxStandard, mtoS.circuit)\n",
    "    add_cx_count(ncxGray, mtoG.circuit)\n",
    "    \n",
    "        \n",
    "import matplotlib.pyplot as plt\n",
    "\n",
    "plt.plot(n,ncxStandard,'o')\n",
    "plt.plot([i+0.2 for i in n],ncxGray,'*')\n",
    "plt.xlabel('\\# Oscillator Modes')\n",
    "plt.ylabel('CX Gates')\n",
    "plt.xticks([2,3,4,5,6,7,8,9,10,11,12,13,14,15,16])\n",
    "plt.title('Diagonal Matrix')\n",
    "plt.savefig('first_cost_scaling.pdf')"
   ]
  },
  {
   "cell_type": "code",
   "execution_count": 4,
   "metadata": {},
   "outputs": [
    {
     "name": "stdout",
     "output_type": "stream",
     "text": [
      "0.5*X^0 + 0.5*I*Z^0\n"
     ]
    }
   ],
   "source": [
    "matrix = [[0,1],[0,0]]\n",
    "\n",
    "mtops=MatrixToPauliString(matrix)\n",
    "mtops.convert(standard_encode)\n",
    "from sympy import expand\n",
    "print(expand(mtops.sum_of_paulis))"
   ]
  },
  {
   "cell_type": "code",
   "execution_count": null,
   "metadata": {},
   "outputs": [],
   "source": []
  }
 ],
 "metadata": {
  "kernelspec": {
   "display_name": "Python 3",
   "language": "python",
   "name": "python3"
  },
  "language_info": {
   "codemirror_mode": {
    "name": "ipython",
    "version": 3
   },
   "file_extension": ".py",
   "mimetype": "text/x-python",
   "name": "python",
   "nbconvert_exporter": "python",
   "pygments_lexer": "ipython3",
   "version": "3.9.1"
  }
 },
 "nbformat": 4,
 "nbformat_minor": 4
}
